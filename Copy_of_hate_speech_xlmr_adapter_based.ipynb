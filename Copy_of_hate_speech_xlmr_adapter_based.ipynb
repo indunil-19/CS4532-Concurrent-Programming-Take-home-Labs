{
  "metadata": {
    "kernelspec": {
      "display_name": "Python 3",
      "name": "python3"
    },
    "language_info": {
      "pygments_lexer": "ipython3",
      "nbconvert_exporter": "python",
      "version": "3.6.4",
      "file_extension": ".py",
      "codemirror_mode": {
        "name": "ipython",
        "version": 3
      },
      "name": "python",
      "mimetype": "text/x-python"
    },
    "colab": {
      "provenance": [],
      "gpuType": "T4",
      "include_colab_link": true
    },
    "accelerator": "GPU",
    "widgets": {
      "application/vnd.jupyter.widget-state+json": {
        "ffaacd0b2d624b459be8cc0eee6c96a0": {
          "model_module": "@jupyter-widgets/controls",
          "model_name": "HBoxModel",
          "model_module_version": "1.5.0",
          "state": {
            "_dom_classes": [],
            "_model_module": "@jupyter-widgets/controls",
            "_model_module_version": "1.5.0",
            "_model_name": "HBoxModel",
            "_view_count": null,
            "_view_module": "@jupyter-widgets/controls",
            "_view_module_version": "1.5.0",
            "_view_name": "HBoxView",
            "box_style": "",
            "children": [
              "IPY_MODEL_a67dd6e1f3764c8d80eae3b2057c3d23",
              "IPY_MODEL_b752257a44ff439696cb1bb40f1f9c9a",
              "IPY_MODEL_7145f396d201415e8aad3f04f06cb0be"
            ],
            "layout": "IPY_MODEL_66023e7b64564163bd05e5a80437e5db"
          }
        },
        "a67dd6e1f3764c8d80eae3b2057c3d23": {
          "model_module": "@jupyter-widgets/controls",
          "model_name": "HTMLModel",
          "model_module_version": "1.5.0",
          "state": {
            "_dom_classes": [],
            "_model_module": "@jupyter-widgets/controls",
            "_model_module_version": "1.5.0",
            "_model_name": "HTMLModel",
            "_view_count": null,
            "_view_module": "@jupyter-widgets/controls",
            "_view_module_version": "1.5.0",
            "_view_name": "HTMLView",
            "description": "",
            "description_tooltip": null,
            "layout": "IPY_MODEL_2c4ddc3f19df439b9e89eb5781882324",
            "placeholder": "​",
            "style": "IPY_MODEL_09e3ef5946b94818ba03e07fd145a844",
            "value": "Downloading builder script: "
          }
        },
        "b752257a44ff439696cb1bb40f1f9c9a": {
          "model_module": "@jupyter-widgets/controls",
          "model_name": "FloatProgressModel",
          "model_module_version": "1.5.0",
          "state": {
            "_dom_classes": [],
            "_model_module": "@jupyter-widgets/controls",
            "_model_module_version": "1.5.0",
            "_model_name": "FloatProgressModel",
            "_view_count": null,
            "_view_module": "@jupyter-widgets/controls",
            "_view_module_version": "1.5.0",
            "_view_name": "ProgressView",
            "bar_style": "success",
            "description": "",
            "description_tooltip": null,
            "layout": "IPY_MODEL_9fe7bce10d8942fabc07c23899746dec",
            "max": 2318,
            "min": 0,
            "orientation": "horizontal",
            "style": "IPY_MODEL_77792193dabf4c0ea5d7f8180df59ce7",
            "value": 2318
          }
        },
        "7145f396d201415e8aad3f04f06cb0be": {
          "model_module": "@jupyter-widgets/controls",
          "model_name": "HTMLModel",
          "model_module_version": "1.5.0",
          "state": {
            "_dom_classes": [],
            "_model_module": "@jupyter-widgets/controls",
            "_model_module_version": "1.5.0",
            "_model_name": "HTMLModel",
            "_view_count": null,
            "_view_module": "@jupyter-widgets/controls",
            "_view_module_version": "1.5.0",
            "_view_name": "HTMLView",
            "description": "",
            "description_tooltip": null,
            "layout": "IPY_MODEL_6754c07bde664abd88824e2390189936",
            "placeholder": "​",
            "style": "IPY_MODEL_79adcf930fdb4882ac1869da790a6fbc",
            "value": " 6.50k/? [00:00&lt;00:00, 325kB/s]"
          }
        },
        "66023e7b64564163bd05e5a80437e5db": {
          "model_module": "@jupyter-widgets/base",
          "model_name": "LayoutModel",
          "model_module_version": "1.2.0",
          "state": {
            "_model_module": "@jupyter-widgets/base",
            "_model_module_version": "1.2.0",
            "_model_name": "LayoutModel",
            "_view_count": null,
            "_view_module": "@jupyter-widgets/base",
            "_view_module_version": "1.2.0",
            "_view_name": "LayoutView",
            "align_content": null,
            "align_items": null,
            "align_self": null,
            "border": null,
            "bottom": null,
            "display": null,
            "flex": null,
            "flex_flow": null,
            "grid_area": null,
            "grid_auto_columns": null,
            "grid_auto_flow": null,
            "grid_auto_rows": null,
            "grid_column": null,
            "grid_gap": null,
            "grid_row": null,
            "grid_template_areas": null,
            "grid_template_columns": null,
            "grid_template_rows": null,
            "height": null,
            "justify_content": null,
            "justify_items": null,
            "left": null,
            "margin": null,
            "max_height": null,
            "max_width": null,
            "min_height": null,
            "min_width": null,
            "object_fit": null,
            "object_position": null,
            "order": null,
            "overflow": null,
            "overflow_x": null,
            "overflow_y": null,
            "padding": null,
            "right": null,
            "top": null,
            "visibility": null,
            "width": null
          }
        },
        "2c4ddc3f19df439b9e89eb5781882324": {
          "model_module": "@jupyter-widgets/base",
          "model_name": "LayoutModel",
          "model_module_version": "1.2.0",
          "state": {
            "_model_module": "@jupyter-widgets/base",
            "_model_module_version": "1.2.0",
            "_model_name": "LayoutModel",
            "_view_count": null,
            "_view_module": "@jupyter-widgets/base",
            "_view_module_version": "1.2.0",
            "_view_name": "LayoutView",
            "align_content": null,
            "align_items": null,
            "align_self": null,
            "border": null,
            "bottom": null,
            "display": null,
            "flex": null,
            "flex_flow": null,
            "grid_area": null,
            "grid_auto_columns": null,
            "grid_auto_flow": null,
            "grid_auto_rows": null,
            "grid_column": null,
            "grid_gap": null,
            "grid_row": null,
            "grid_template_areas": null,
            "grid_template_columns": null,
            "grid_template_rows": null,
            "height": null,
            "justify_content": null,
            "justify_items": null,
            "left": null,
            "margin": null,
            "max_height": null,
            "max_width": null,
            "min_height": null,
            "min_width": null,
            "object_fit": null,
            "object_position": null,
            "order": null,
            "overflow": null,
            "overflow_x": null,
            "overflow_y": null,
            "padding": null,
            "right": null,
            "top": null,
            "visibility": null,
            "width": null
          }
        },
        "09e3ef5946b94818ba03e07fd145a844": {
          "model_module": "@jupyter-widgets/controls",
          "model_name": "DescriptionStyleModel",
          "model_module_version": "1.5.0",
          "state": {
            "_model_module": "@jupyter-widgets/controls",
            "_model_module_version": "1.5.0",
            "_model_name": "DescriptionStyleModel",
            "_view_count": null,
            "_view_module": "@jupyter-widgets/base",
            "_view_module_version": "1.2.0",
            "_view_name": "StyleView",
            "description_width": ""
          }
        },
        "9fe7bce10d8942fabc07c23899746dec": {
          "model_module": "@jupyter-widgets/base",
          "model_name": "LayoutModel",
          "model_module_version": "1.2.0",
          "state": {
            "_model_module": "@jupyter-widgets/base",
            "_model_module_version": "1.2.0",
            "_model_name": "LayoutModel",
            "_view_count": null,
            "_view_module": "@jupyter-widgets/base",
            "_view_module_version": "1.2.0",
            "_view_name": "LayoutView",
            "align_content": null,
            "align_items": null,
            "align_self": null,
            "border": null,
            "bottom": null,
            "display": null,
            "flex": null,
            "flex_flow": null,
            "grid_area": null,
            "grid_auto_columns": null,
            "grid_auto_flow": null,
            "grid_auto_rows": null,
            "grid_column": null,
            "grid_gap": null,
            "grid_row": null,
            "grid_template_areas": null,
            "grid_template_columns": null,
            "grid_template_rows": null,
            "height": null,
            "justify_content": null,
            "justify_items": null,
            "left": null,
            "margin": null,
            "max_height": null,
            "max_width": null,
            "min_height": null,
            "min_width": null,
            "object_fit": null,
            "object_position": null,
            "order": null,
            "overflow": null,
            "overflow_x": null,
            "overflow_y": null,
            "padding": null,
            "right": null,
            "top": null,
            "visibility": null,
            "width": null
          }
        },
        "77792193dabf4c0ea5d7f8180df59ce7": {
          "model_module": "@jupyter-widgets/controls",
          "model_name": "ProgressStyleModel",
          "model_module_version": "1.5.0",
          "state": {
            "_model_module": "@jupyter-widgets/controls",
            "_model_module_version": "1.5.0",
            "_model_name": "ProgressStyleModel",
            "_view_count": null,
            "_view_module": "@jupyter-widgets/base",
            "_view_module_version": "1.2.0",
            "_view_name": "StyleView",
            "bar_color": null,
            "description_width": ""
          }
        },
        "6754c07bde664abd88824e2390189936": {
          "model_module": "@jupyter-widgets/base",
          "model_name": "LayoutModel",
          "model_module_version": "1.2.0",
          "state": {
            "_model_module": "@jupyter-widgets/base",
            "_model_module_version": "1.2.0",
            "_model_name": "LayoutModel",
            "_view_count": null,
            "_view_module": "@jupyter-widgets/base",
            "_view_module_version": "1.2.0",
            "_view_name": "LayoutView",
            "align_content": null,
            "align_items": null,
            "align_self": null,
            "border": null,
            "bottom": null,
            "display": null,
            "flex": null,
            "flex_flow": null,
            "grid_area": null,
            "grid_auto_columns": null,
            "grid_auto_flow": null,
            "grid_auto_rows": null,
            "grid_column": null,
            "grid_gap": null,
            "grid_row": null,
            "grid_template_areas": null,
            "grid_template_columns": null,
            "grid_template_rows": null,
            "height": null,
            "justify_content": null,
            "justify_items": null,
            "left": null,
            "margin": null,
            "max_height": null,
            "max_width": null,
            "min_height": null,
            "min_width": null,
            "object_fit": null,
            "object_position": null,
            "order": null,
            "overflow": null,
            "overflow_x": null,
            "overflow_y": null,
            "padding": null,
            "right": null,
            "top": null,
            "visibility": null,
            "width": null
          }
        },
        "79adcf930fdb4882ac1869da790a6fbc": {
          "model_module": "@jupyter-widgets/controls",
          "model_name": "DescriptionStyleModel",
          "model_module_version": "1.5.0",
          "state": {
            "_model_module": "@jupyter-widgets/controls",
            "_model_module_version": "1.5.0",
            "_model_name": "DescriptionStyleModel",
            "_view_count": null,
            "_view_module": "@jupyter-widgets/base",
            "_view_module_version": "1.2.0",
            "_view_name": "StyleView",
            "description_width": ""
          }
        },
        "15f119defd3d4858850b87e31fe12345": {
          "model_module": "@jupyter-widgets/controls",
          "model_name": "HBoxModel",
          "model_module_version": "1.5.0",
          "state": {
            "_dom_classes": [],
            "_model_module": "@jupyter-widgets/controls",
            "_model_module_version": "1.5.0",
            "_model_name": "HBoxModel",
            "_view_count": null,
            "_view_module": "@jupyter-widgets/controls",
            "_view_module_version": "1.5.0",
            "_view_name": "HBoxView",
            "box_style": "",
            "children": [
              "IPY_MODEL_a13230ae261f4bc39559ba885cbe09a9",
              "IPY_MODEL_32a53788230149b9a3f7baf029fa84b3",
              "IPY_MODEL_92447c3877894a6e9f314118fdf36339"
            ],
            "layout": "IPY_MODEL_4f664914c8e44126a1d79154addcf405"
          }
        },
        "a13230ae261f4bc39559ba885cbe09a9": {
          "model_module": "@jupyter-widgets/controls",
          "model_name": "HTMLModel",
          "model_module_version": "1.5.0",
          "state": {
            "_dom_classes": [],
            "_model_module": "@jupyter-widgets/controls",
            "_model_module_version": "1.5.0",
            "_model_name": "HTMLModel",
            "_view_count": null,
            "_view_module": "@jupyter-widgets/controls",
            "_view_module_version": "1.5.0",
            "_view_name": "HTMLView",
            "description": "",
            "description_tooltip": null,
            "layout": "IPY_MODEL_95da65fc16194dfb979f7efb8c07d755",
            "placeholder": "​",
            "style": "IPY_MODEL_fc5c51a6cc0f46c2af86f51ba3ff366b",
            "value": "Downloading builder script: "
          }
        },
        "32a53788230149b9a3f7baf029fa84b3": {
          "model_module": "@jupyter-widgets/controls",
          "model_name": "FloatProgressModel",
          "model_module_version": "1.5.0",
          "state": {
            "_dom_classes": [],
            "_model_module": "@jupyter-widgets/controls",
            "_model_module_version": "1.5.0",
            "_model_name": "FloatProgressModel",
            "_view_count": null,
            "_view_module": "@jupyter-widgets/controls",
            "_view_module_version": "1.5.0",
            "_view_name": "ProgressView",
            "bar_style": "success",
            "description": "",
            "description_tooltip": null,
            "layout": "IPY_MODEL_32bc0eae066d448292bc79667fb4cba0",
            "max": 2575,
            "min": 0,
            "orientation": "horizontal",
            "style": "IPY_MODEL_228aa93e71974939a05be0da5179fccb",
            "value": 2575
          }
        },
        "92447c3877894a6e9f314118fdf36339": {
          "model_module": "@jupyter-widgets/controls",
          "model_name": "HTMLModel",
          "model_module_version": "1.5.0",
          "state": {
            "_dom_classes": [],
            "_model_module": "@jupyter-widgets/controls",
            "_model_module_version": "1.5.0",
            "_model_name": "HTMLModel",
            "_view_count": null,
            "_view_module": "@jupyter-widgets/controls",
            "_view_module_version": "1.5.0",
            "_view_name": "HTMLView",
            "description": "",
            "description_tooltip": null,
            "layout": "IPY_MODEL_0c48f07a43074001a85e9b8642f1721f",
            "placeholder": "​",
            "style": "IPY_MODEL_2ce8cf13f3894cf0801ab3ce52beca73",
            "value": " 7.55k/? [00:00&lt;00:00, 399kB/s]"
          }
        },
        "4f664914c8e44126a1d79154addcf405": {
          "model_module": "@jupyter-widgets/base",
          "model_name": "LayoutModel",
          "model_module_version": "1.2.0",
          "state": {
            "_model_module": "@jupyter-widgets/base",
            "_model_module_version": "1.2.0",
            "_model_name": "LayoutModel",
            "_view_count": null,
            "_view_module": "@jupyter-widgets/base",
            "_view_module_version": "1.2.0",
            "_view_name": "LayoutView",
            "align_content": null,
            "align_items": null,
            "align_self": null,
            "border": null,
            "bottom": null,
            "display": null,
            "flex": null,
            "flex_flow": null,
            "grid_area": null,
            "grid_auto_columns": null,
            "grid_auto_flow": null,
            "grid_auto_rows": null,
            "grid_column": null,
            "grid_gap": null,
            "grid_row": null,
            "grid_template_areas": null,
            "grid_template_columns": null,
            "grid_template_rows": null,
            "height": null,
            "justify_content": null,
            "justify_items": null,
            "left": null,
            "margin": null,
            "max_height": null,
            "max_width": null,
            "min_height": null,
            "min_width": null,
            "object_fit": null,
            "object_position": null,
            "order": null,
            "overflow": null,
            "overflow_x": null,
            "overflow_y": null,
            "padding": null,
            "right": null,
            "top": null,
            "visibility": null,
            "width": null
          }
        },
        "95da65fc16194dfb979f7efb8c07d755": {
          "model_module": "@jupyter-widgets/base",
          "model_name": "LayoutModel",
          "model_module_version": "1.2.0",
          "state": {
            "_model_module": "@jupyter-widgets/base",
            "_model_module_version": "1.2.0",
            "_model_name": "LayoutModel",
            "_view_count": null,
            "_view_module": "@jupyter-widgets/base",
            "_view_module_version": "1.2.0",
            "_view_name": "LayoutView",
            "align_content": null,
            "align_items": null,
            "align_self": null,
            "border": null,
            "bottom": null,
            "display": null,
            "flex": null,
            "flex_flow": null,
            "grid_area": null,
            "grid_auto_columns": null,
            "grid_auto_flow": null,
            "grid_auto_rows": null,
            "grid_column": null,
            "grid_gap": null,
            "grid_row": null,
            "grid_template_areas": null,
            "grid_template_columns": null,
            "grid_template_rows": null,
            "height": null,
            "justify_content": null,
            "justify_items": null,
            "left": null,
            "margin": null,
            "max_height": null,
            "max_width": null,
            "min_height": null,
            "min_width": null,
            "object_fit": null,
            "object_position": null,
            "order": null,
            "overflow": null,
            "overflow_x": null,
            "overflow_y": null,
            "padding": null,
            "right": null,
            "top": null,
            "visibility": null,
            "width": null
          }
        },
        "fc5c51a6cc0f46c2af86f51ba3ff366b": {
          "model_module": "@jupyter-widgets/controls",
          "model_name": "DescriptionStyleModel",
          "model_module_version": "1.5.0",
          "state": {
            "_model_module": "@jupyter-widgets/controls",
            "_model_module_version": "1.5.0",
            "_model_name": "DescriptionStyleModel",
            "_view_count": null,
            "_view_module": "@jupyter-widgets/base",
            "_view_module_version": "1.2.0",
            "_view_name": "StyleView",
            "description_width": ""
          }
        },
        "32bc0eae066d448292bc79667fb4cba0": {
          "model_module": "@jupyter-widgets/base",
          "model_name": "LayoutModel",
          "model_module_version": "1.2.0",
          "state": {
            "_model_module": "@jupyter-widgets/base",
            "_model_module_version": "1.2.0",
            "_model_name": "LayoutModel",
            "_view_count": null,
            "_view_module": "@jupyter-widgets/base",
            "_view_module_version": "1.2.0",
            "_view_name": "LayoutView",
            "align_content": null,
            "align_items": null,
            "align_self": null,
            "border": null,
            "bottom": null,
            "display": null,
            "flex": null,
            "flex_flow": null,
            "grid_area": null,
            "grid_auto_columns": null,
            "grid_auto_flow": null,
            "grid_auto_rows": null,
            "grid_column": null,
            "grid_gap": null,
            "grid_row": null,
            "grid_template_areas": null,
            "grid_template_columns": null,
            "grid_template_rows": null,
            "height": null,
            "justify_content": null,
            "justify_items": null,
            "left": null,
            "margin": null,
            "max_height": null,
            "max_width": null,
            "min_height": null,
            "min_width": null,
            "object_fit": null,
            "object_position": null,
            "order": null,
            "overflow": null,
            "overflow_x": null,
            "overflow_y": null,
            "padding": null,
            "right": null,
            "top": null,
            "visibility": null,
            "width": null
          }
        },
        "228aa93e71974939a05be0da5179fccb": {
          "model_module": "@jupyter-widgets/controls",
          "model_name": "ProgressStyleModel",
          "model_module_version": "1.5.0",
          "state": {
            "_model_module": "@jupyter-widgets/controls",
            "_model_module_version": "1.5.0",
            "_model_name": "ProgressStyleModel",
            "_view_count": null,
            "_view_module": "@jupyter-widgets/base",
            "_view_module_version": "1.2.0",
            "_view_name": "StyleView",
            "bar_color": null,
            "description_width": ""
          }
        },
        "0c48f07a43074001a85e9b8642f1721f": {
          "model_module": "@jupyter-widgets/base",
          "model_name": "LayoutModel",
          "model_module_version": "1.2.0",
          "state": {
            "_model_module": "@jupyter-widgets/base",
            "_model_module_version": "1.2.0",
            "_model_name": "LayoutModel",
            "_view_count": null,
            "_view_module": "@jupyter-widgets/base",
            "_view_module_version": "1.2.0",
            "_view_name": "LayoutView",
            "align_content": null,
            "align_items": null,
            "align_self": null,
            "border": null,
            "bottom": null,
            "display": null,
            "flex": null,
            "flex_flow": null,
            "grid_area": null,
            "grid_auto_columns": null,
            "grid_auto_flow": null,
            "grid_auto_rows": null,
            "grid_column": null,
            "grid_gap": null,
            "grid_row": null,
            "grid_template_areas": null,
            "grid_template_columns": null,
            "grid_template_rows": null,
            "height": null,
            "justify_content": null,
            "justify_items": null,
            "left": null,
            "margin": null,
            "max_height": null,
            "max_width": null,
            "min_height": null,
            "min_width": null,
            "object_fit": null,
            "object_position": null,
            "order": null,
            "overflow": null,
            "overflow_x": null,
            "overflow_y": null,
            "padding": null,
            "right": null,
            "top": null,
            "visibility": null,
            "width": null
          }
        },
        "2ce8cf13f3894cf0801ab3ce52beca73": {
          "model_module": "@jupyter-widgets/controls",
          "model_name": "DescriptionStyleModel",
          "model_module_version": "1.5.0",
          "state": {
            "_model_module": "@jupyter-widgets/controls",
            "_model_module_version": "1.5.0",
            "_model_name": "DescriptionStyleModel",
            "_view_count": null,
            "_view_module": "@jupyter-widgets/base",
            "_view_module_version": "1.2.0",
            "_view_name": "StyleView",
            "description_width": ""
          }
        },
        "f70be9ceedb54a14a5ac57e3584cae54": {
          "model_module": "@jupyter-widgets/controls",
          "model_name": "HBoxModel",
          "model_module_version": "1.5.0",
          "state": {
            "_dom_classes": [],
            "_model_module": "@jupyter-widgets/controls",
            "_model_module_version": "1.5.0",
            "_model_name": "HBoxModel",
            "_view_count": null,
            "_view_module": "@jupyter-widgets/controls",
            "_view_module_version": "1.5.0",
            "_view_name": "HBoxView",
            "box_style": "",
            "children": [
              "IPY_MODEL_51d5e7d9b0674ffb8aff4e74dfe77038",
              "IPY_MODEL_b5afe0be4ea74cabbb817a919ee4d01f",
              "IPY_MODEL_5e68cc73c7f143cfb9a677332e362e7d"
            ],
            "layout": "IPY_MODEL_6a117f646f7d4887b4d51268dc7ce0fd"
          }
        },
        "51d5e7d9b0674ffb8aff4e74dfe77038": {
          "model_module": "@jupyter-widgets/controls",
          "model_name": "HTMLModel",
          "model_module_version": "1.5.0",
          "state": {
            "_dom_classes": [],
            "_model_module": "@jupyter-widgets/controls",
            "_model_module_version": "1.5.0",
            "_model_name": "HTMLModel",
            "_view_count": null,
            "_view_module": "@jupyter-widgets/controls",
            "_view_module_version": "1.5.0",
            "_view_name": "HTMLView",
            "description": "",
            "description_tooltip": null,
            "layout": "IPY_MODEL_243080caa00743b0b177e468199ec14c",
            "placeholder": "​",
            "style": "IPY_MODEL_ac9c2d19c2764c06bffc0040c6c5d4e0",
            "value": "Downloading builder script: "
          }
        },
        "b5afe0be4ea74cabbb817a919ee4d01f": {
          "model_module": "@jupyter-widgets/controls",
          "model_name": "FloatProgressModel",
          "model_module_version": "1.5.0",
          "state": {
            "_dom_classes": [],
            "_model_module": "@jupyter-widgets/controls",
            "_model_module_version": "1.5.0",
            "_model_name": "FloatProgressModel",
            "_view_count": null,
            "_view_module": "@jupyter-widgets/controls",
            "_view_module_version": "1.5.0",
            "_view_name": "ProgressView",
            "bar_style": "success",
            "description": "",
            "description_tooltip": null,
            "layout": "IPY_MODEL_41d51ff391a64e5f91a9286da21f21c3",
            "max": 2524,
            "min": 0,
            "orientation": "horizontal",
            "style": "IPY_MODEL_1e3f80a6de1842f7afd3a05ac91f18f6",
            "value": 2524
          }
        },
        "5e68cc73c7f143cfb9a677332e362e7d": {
          "model_module": "@jupyter-widgets/controls",
          "model_name": "HTMLModel",
          "model_module_version": "1.5.0",
          "state": {
            "_dom_classes": [],
            "_model_module": "@jupyter-widgets/controls",
            "_model_module_version": "1.5.0",
            "_model_name": "HTMLModel",
            "_view_count": null,
            "_view_module": "@jupyter-widgets/controls",
            "_view_module_version": "1.5.0",
            "_view_name": "HTMLView",
            "description": "",
            "description_tooltip": null,
            "layout": "IPY_MODEL_424e78ae510841159f3ad78e22c5f538",
            "placeholder": "​",
            "style": "IPY_MODEL_aeeb936c27c84e96a0ac2bdfca69db2c",
            "value": " 7.38k/? [00:00&lt;00:00, 281kB/s]"
          }
        },
        "6a117f646f7d4887b4d51268dc7ce0fd": {
          "model_module": "@jupyter-widgets/base",
          "model_name": "LayoutModel",
          "model_module_version": "1.2.0",
          "state": {
            "_model_module": "@jupyter-widgets/base",
            "_model_module_version": "1.2.0",
            "_model_name": "LayoutModel",
            "_view_count": null,
            "_view_module": "@jupyter-widgets/base",
            "_view_module_version": "1.2.0",
            "_view_name": "LayoutView",
            "align_content": null,
            "align_items": null,
            "align_self": null,
            "border": null,
            "bottom": null,
            "display": null,
            "flex": null,
            "flex_flow": null,
            "grid_area": null,
            "grid_auto_columns": null,
            "grid_auto_flow": null,
            "grid_auto_rows": null,
            "grid_column": null,
            "grid_gap": null,
            "grid_row": null,
            "grid_template_areas": null,
            "grid_template_columns": null,
            "grid_template_rows": null,
            "height": null,
            "justify_content": null,
            "justify_items": null,
            "left": null,
            "margin": null,
            "max_height": null,
            "max_width": null,
            "min_height": null,
            "min_width": null,
            "object_fit": null,
            "object_position": null,
            "order": null,
            "overflow": null,
            "overflow_x": null,
            "overflow_y": null,
            "padding": null,
            "right": null,
            "top": null,
            "visibility": null,
            "width": null
          }
        },
        "243080caa00743b0b177e468199ec14c": {
          "model_module": "@jupyter-widgets/base",
          "model_name": "LayoutModel",
          "model_module_version": "1.2.0",
          "state": {
            "_model_module": "@jupyter-widgets/base",
            "_model_module_version": "1.2.0",
            "_model_name": "LayoutModel",
            "_view_count": null,
            "_view_module": "@jupyter-widgets/base",
            "_view_module_version": "1.2.0",
            "_view_name": "LayoutView",
            "align_content": null,
            "align_items": null,
            "align_self": null,
            "border": null,
            "bottom": null,
            "display": null,
            "flex": null,
            "flex_flow": null,
            "grid_area": null,
            "grid_auto_columns": null,
            "grid_auto_flow": null,
            "grid_auto_rows": null,
            "grid_column": null,
            "grid_gap": null,
            "grid_row": null,
            "grid_template_areas": null,
            "grid_template_columns": null,
            "grid_template_rows": null,
            "height": null,
            "justify_content": null,
            "justify_items": null,
            "left": null,
            "margin": null,
            "max_height": null,
            "max_width": null,
            "min_height": null,
            "min_width": null,
            "object_fit": null,
            "object_position": null,
            "order": null,
            "overflow": null,
            "overflow_x": null,
            "overflow_y": null,
            "padding": null,
            "right": null,
            "top": null,
            "visibility": null,
            "width": null
          }
        },
        "ac9c2d19c2764c06bffc0040c6c5d4e0": {
          "model_module": "@jupyter-widgets/controls",
          "model_name": "DescriptionStyleModel",
          "model_module_version": "1.5.0",
          "state": {
            "_model_module": "@jupyter-widgets/controls",
            "_model_module_version": "1.5.0",
            "_model_name": "DescriptionStyleModel",
            "_view_count": null,
            "_view_module": "@jupyter-widgets/base",
            "_view_module_version": "1.2.0",
            "_view_name": "StyleView",
            "description_width": ""
          }
        },
        "41d51ff391a64e5f91a9286da21f21c3": {
          "model_module": "@jupyter-widgets/base",
          "model_name": "LayoutModel",
          "model_module_version": "1.2.0",
          "state": {
            "_model_module": "@jupyter-widgets/base",
            "_model_module_version": "1.2.0",
            "_model_name": "LayoutModel",
            "_view_count": null,
            "_view_module": "@jupyter-widgets/base",
            "_view_module_version": "1.2.0",
            "_view_name": "LayoutView",
            "align_content": null,
            "align_items": null,
            "align_self": null,
            "border": null,
            "bottom": null,
            "display": null,
            "flex": null,
            "flex_flow": null,
            "grid_area": null,
            "grid_auto_columns": null,
            "grid_auto_flow": null,
            "grid_auto_rows": null,
            "grid_column": null,
            "grid_gap": null,
            "grid_row": null,
            "grid_template_areas": null,
            "grid_template_columns": null,
            "grid_template_rows": null,
            "height": null,
            "justify_content": null,
            "justify_items": null,
            "left": null,
            "margin": null,
            "max_height": null,
            "max_width": null,
            "min_height": null,
            "min_width": null,
            "object_fit": null,
            "object_position": null,
            "order": null,
            "overflow": null,
            "overflow_x": null,
            "overflow_y": null,
            "padding": null,
            "right": null,
            "top": null,
            "visibility": null,
            "width": null
          }
        },
        "1e3f80a6de1842f7afd3a05ac91f18f6": {
          "model_module": "@jupyter-widgets/controls",
          "model_name": "ProgressStyleModel",
          "model_module_version": "1.5.0",
          "state": {
            "_model_module": "@jupyter-widgets/controls",
            "_model_module_version": "1.5.0",
            "_model_name": "ProgressStyleModel",
            "_view_count": null,
            "_view_module": "@jupyter-widgets/base",
            "_view_module_version": "1.2.0",
            "_view_name": "StyleView",
            "bar_color": null,
            "description_width": ""
          }
        },
        "424e78ae510841159f3ad78e22c5f538": {
          "model_module": "@jupyter-widgets/base",
          "model_name": "LayoutModel",
          "model_module_version": "1.2.0",
          "state": {
            "_model_module": "@jupyter-widgets/base",
            "_model_module_version": "1.2.0",
            "_model_name": "LayoutModel",
            "_view_count": null,
            "_view_module": "@jupyter-widgets/base",
            "_view_module_version": "1.2.0",
            "_view_name": "LayoutView",
            "align_content": null,
            "align_items": null,
            "align_self": null,
            "border": null,
            "bottom": null,
            "display": null,
            "flex": null,
            "flex_flow": null,
            "grid_area": null,
            "grid_auto_columns": null,
            "grid_auto_flow": null,
            "grid_auto_rows": null,
            "grid_column": null,
            "grid_gap": null,
            "grid_row": null,
            "grid_template_areas": null,
            "grid_template_columns": null,
            "grid_template_rows": null,
            "height": null,
            "justify_content": null,
            "justify_items": null,
            "left": null,
            "margin": null,
            "max_height": null,
            "max_width": null,
            "min_height": null,
            "min_width": null,
            "object_fit": null,
            "object_position": null,
            "order": null,
            "overflow": null,
            "overflow_x": null,
            "overflow_y": null,
            "padding": null,
            "right": null,
            "top": null,
            "visibility": null,
            "width": null
          }
        },
        "aeeb936c27c84e96a0ac2bdfca69db2c": {
          "model_module": "@jupyter-widgets/controls",
          "model_name": "DescriptionStyleModel",
          "model_module_version": "1.5.0",
          "state": {
            "_model_module": "@jupyter-widgets/controls",
            "_model_module_version": "1.5.0",
            "_model_name": "DescriptionStyleModel",
            "_view_count": null,
            "_view_module": "@jupyter-widgets/base",
            "_view_module_version": "1.2.0",
            "_view_name": "StyleView",
            "description_width": ""
          }
        },
        "4420ba6da41f436d81b0247c0bd01f73": {
          "model_module": "@jupyter-widgets/controls",
          "model_name": "HBoxModel",
          "model_module_version": "1.5.0",
          "state": {
            "_dom_classes": [],
            "_model_module": "@jupyter-widgets/controls",
            "_model_module_version": "1.5.0",
            "_model_name": "HBoxModel",
            "_view_count": null,
            "_view_module": "@jupyter-widgets/controls",
            "_view_module_version": "1.5.0",
            "_view_name": "HBoxView",
            "box_style": "",
            "children": [
              "IPY_MODEL_5b48105446014a0f968be255f600f707",
              "IPY_MODEL_ca823c3070a640238180bcba4f9795d7",
              "IPY_MODEL_620f39f069c64e30a6b2025d68f6aaa0"
            ],
            "layout": "IPY_MODEL_1bac867711d941189ce75f3babb6e74a"
          }
        },
        "5b48105446014a0f968be255f600f707": {
          "model_module": "@jupyter-widgets/controls",
          "model_name": "HTMLModel",
          "model_module_version": "1.5.0",
          "state": {
            "_dom_classes": [],
            "_model_module": "@jupyter-widgets/controls",
            "_model_module_version": "1.5.0",
            "_model_name": "HTMLModel",
            "_view_count": null,
            "_view_module": "@jupyter-widgets/controls",
            "_view_module_version": "1.5.0",
            "_view_name": "HTMLView",
            "description": "",
            "description_tooltip": null,
            "layout": "IPY_MODEL_c7e4bf84518a485aabc28cd661f1ebb9",
            "placeholder": "​",
            "style": "IPY_MODEL_96c40028c9e44c35bdc4d957d2e30bf4",
            "value": "Downloading builder script: "
          }
        },
        "ca823c3070a640238180bcba4f9795d7": {
          "model_module": "@jupyter-widgets/controls",
          "model_name": "FloatProgressModel",
          "model_module_version": "1.5.0",
          "state": {
            "_dom_classes": [],
            "_model_module": "@jupyter-widgets/controls",
            "_model_module_version": "1.5.0",
            "_model_name": "FloatProgressModel",
            "_view_count": null,
            "_view_module": "@jupyter-widgets/controls",
            "_view_module_version": "1.5.0",
            "_view_name": "ProgressView",
            "bar_style": "success",
            "description": "",
            "description_tooltip": null,
            "layout": "IPY_MODEL_a8491e3c47e44cabade818a7bc5feef0",
            "max": 1652,
            "min": 0,
            "orientation": "horizontal",
            "style": "IPY_MODEL_e02efa2f6e0744b68a35c6c2309f64cd",
            "value": 1652
          }
        },
        "620f39f069c64e30a6b2025d68f6aaa0": {
          "model_module": "@jupyter-widgets/controls",
          "model_name": "HTMLModel",
          "model_module_version": "1.5.0",
          "state": {
            "_dom_classes": [],
            "_model_module": "@jupyter-widgets/controls",
            "_model_module_version": "1.5.0",
            "_model_name": "HTMLModel",
            "_view_count": null,
            "_view_module": "@jupyter-widgets/controls",
            "_view_module_version": "1.5.0",
            "_view_name": "HTMLView",
            "description": "",
            "description_tooltip": null,
            "layout": "IPY_MODEL_a8e940f9805b4ede8ea38d19abcc89aa",
            "placeholder": "​",
            "style": "IPY_MODEL_0b9c4720c0d940a2ad42d06da7749ac3",
            "value": " 4.21k/? [00:00&lt;00:00, 226kB/s]"
          }
        },
        "1bac867711d941189ce75f3babb6e74a": {
          "model_module": "@jupyter-widgets/base",
          "model_name": "LayoutModel",
          "model_module_version": "1.2.0",
          "state": {
            "_model_module": "@jupyter-widgets/base",
            "_model_module_version": "1.2.0",
            "_model_name": "LayoutModel",
            "_view_count": null,
            "_view_module": "@jupyter-widgets/base",
            "_view_module_version": "1.2.0",
            "_view_name": "LayoutView",
            "align_content": null,
            "align_items": null,
            "align_self": null,
            "border": null,
            "bottom": null,
            "display": null,
            "flex": null,
            "flex_flow": null,
            "grid_area": null,
            "grid_auto_columns": null,
            "grid_auto_flow": null,
            "grid_auto_rows": null,
            "grid_column": null,
            "grid_gap": null,
            "grid_row": null,
            "grid_template_areas": null,
            "grid_template_columns": null,
            "grid_template_rows": null,
            "height": null,
            "justify_content": null,
            "justify_items": null,
            "left": null,
            "margin": null,
            "max_height": null,
            "max_width": null,
            "min_height": null,
            "min_width": null,
            "object_fit": null,
            "object_position": null,
            "order": null,
            "overflow": null,
            "overflow_x": null,
            "overflow_y": null,
            "padding": null,
            "right": null,
            "top": null,
            "visibility": null,
            "width": null
          }
        },
        "c7e4bf84518a485aabc28cd661f1ebb9": {
          "model_module": "@jupyter-widgets/base",
          "model_name": "LayoutModel",
          "model_module_version": "1.2.0",
          "state": {
            "_model_module": "@jupyter-widgets/base",
            "_model_module_version": "1.2.0",
            "_model_name": "LayoutModel",
            "_view_count": null,
            "_view_module": "@jupyter-widgets/base",
            "_view_module_version": "1.2.0",
            "_view_name": "LayoutView",
            "align_content": null,
            "align_items": null,
            "align_self": null,
            "border": null,
            "bottom": null,
            "display": null,
            "flex": null,
            "flex_flow": null,
            "grid_area": null,
            "grid_auto_columns": null,
            "grid_auto_flow": null,
            "grid_auto_rows": null,
            "grid_column": null,
            "grid_gap": null,
            "grid_row": null,
            "grid_template_areas": null,
            "grid_template_columns": null,
            "grid_template_rows": null,
            "height": null,
            "justify_content": null,
            "justify_items": null,
            "left": null,
            "margin": null,
            "max_height": null,
            "max_width": null,
            "min_height": null,
            "min_width": null,
            "object_fit": null,
            "object_position": null,
            "order": null,
            "overflow": null,
            "overflow_x": null,
            "overflow_y": null,
            "padding": null,
            "right": null,
            "top": null,
            "visibility": null,
            "width": null
          }
        },
        "96c40028c9e44c35bdc4d957d2e30bf4": {
          "model_module": "@jupyter-widgets/controls",
          "model_name": "DescriptionStyleModel",
          "model_module_version": "1.5.0",
          "state": {
            "_model_module": "@jupyter-widgets/controls",
            "_model_module_version": "1.5.0",
            "_model_name": "DescriptionStyleModel",
            "_view_count": null,
            "_view_module": "@jupyter-widgets/base",
            "_view_module_version": "1.2.0",
            "_view_name": "StyleView",
            "description_width": ""
          }
        },
        "a8491e3c47e44cabade818a7bc5feef0": {
          "model_module": "@jupyter-widgets/base",
          "model_name": "LayoutModel",
          "model_module_version": "1.2.0",
          "state": {
            "_model_module": "@jupyter-widgets/base",
            "_model_module_version": "1.2.0",
            "_model_name": "LayoutModel",
            "_view_count": null,
            "_view_module": "@jupyter-widgets/base",
            "_view_module_version": "1.2.0",
            "_view_name": "LayoutView",
            "align_content": null,
            "align_items": null,
            "align_self": null,
            "border": null,
            "bottom": null,
            "display": null,
            "flex": null,
            "flex_flow": null,
            "grid_area": null,
            "grid_auto_columns": null,
            "grid_auto_flow": null,
            "grid_auto_rows": null,
            "grid_column": null,
            "grid_gap": null,
            "grid_row": null,
            "grid_template_areas": null,
            "grid_template_columns": null,
            "grid_template_rows": null,
            "height": null,
            "justify_content": null,
            "justify_items": null,
            "left": null,
            "margin": null,
            "max_height": null,
            "max_width": null,
            "min_height": null,
            "min_width": null,
            "object_fit": null,
            "object_position": null,
            "order": null,
            "overflow": null,
            "overflow_x": null,
            "overflow_y": null,
            "padding": null,
            "right": null,
            "top": null,
            "visibility": null,
            "width": null
          }
        },
        "e02efa2f6e0744b68a35c6c2309f64cd": {
          "model_module": "@jupyter-widgets/controls",
          "model_name": "ProgressStyleModel",
          "model_module_version": "1.5.0",
          "state": {
            "_model_module": "@jupyter-widgets/controls",
            "_model_module_version": "1.5.0",
            "_model_name": "ProgressStyleModel",
            "_view_count": null,
            "_view_module": "@jupyter-widgets/base",
            "_view_module_version": "1.2.0",
            "_view_name": "StyleView",
            "bar_color": null,
            "description_width": ""
          }
        },
        "a8e940f9805b4ede8ea38d19abcc89aa": {
          "model_module": "@jupyter-widgets/base",
          "model_name": "LayoutModel",
          "model_module_version": "1.2.0",
          "state": {
            "_model_module": "@jupyter-widgets/base",
            "_model_module_version": "1.2.0",
            "_model_name": "LayoutModel",
            "_view_count": null,
            "_view_module": "@jupyter-widgets/base",
            "_view_module_version": "1.2.0",
            "_view_name": "LayoutView",
            "align_content": null,
            "align_items": null,
            "align_self": null,
            "border": null,
            "bottom": null,
            "display": null,
            "flex": null,
            "flex_flow": null,
            "grid_area": null,
            "grid_auto_columns": null,
            "grid_auto_flow": null,
            "grid_auto_rows": null,
            "grid_column": null,
            "grid_gap": null,
            "grid_row": null,
            "grid_template_areas": null,
            "grid_template_columns": null,
            "grid_template_rows": null,
            "height": null,
            "justify_content": null,
            "justify_items": null,
            "left": null,
            "margin": null,
            "max_height": null,
            "max_width": null,
            "min_height": null,
            "min_width": null,
            "object_fit": null,
            "object_position": null,
            "order": null,
            "overflow": null,
            "overflow_x": null,
            "overflow_y": null,
            "padding": null,
            "right": null,
            "top": null,
            "visibility": null,
            "width": null
          }
        },
        "0b9c4720c0d940a2ad42d06da7749ac3": {
          "model_module": "@jupyter-widgets/controls",
          "model_name": "DescriptionStyleModel",
          "model_module_version": "1.5.0",
          "state": {
            "_model_module": "@jupyter-widgets/controls",
            "_model_module_version": "1.5.0",
            "_model_name": "DescriptionStyleModel",
            "_view_count": null,
            "_view_module": "@jupyter-widgets/base",
            "_view_module_version": "1.2.0",
            "_view_name": "StyleView",
            "description_width": ""
          }
        }
      }
    }
  },
  "nbformat_minor": 0,
  "nbformat": 4,
  "cells": [
    {
      "cell_type": "markdown",
      "metadata": {
        "id": "view-in-github",
        "colab_type": "text"
      },
      "source": [
        "<a href=\"https://colab.research.google.com/github/indunil-19/CS4532-Concurrent-Programming-Take-home-Labs/blob/master/Copy_of_hate_speech_xlmr_adapter_based.ipynb\" target=\"_parent\"><img src=\"https://colab.research.google.com/assets/colab-badge.svg\" alt=\"Open In Colab\"/></a>"
      ]
    },
    {
      "cell_type": "markdown",
      "source": [
        "## Training Single Task Adapters\n",
        "For Bert SinBert and XLM-R Models"
      ],
      "metadata": {
        "id": "eoL8-pXx9z7c"
      }
    },
    {
      "cell_type": "code",
      "source": [
        "import torch\n",
        "print(\"GPU Device name\")\n",
        "torch.cuda.get_device_name(0)"
      ],
      "metadata": {
        "id": "KSLx_mnliOvH",
        "outputId": "2aea2680-58b8-49b8-cbb7-ba4a76c37cc8",
        "execution": {
          "iopub.status.busy": "2023-06-12T05:17:54.112412Z",
          "iopub.execute_input": "2023-06-12T05:17:54.112986Z",
          "iopub.status.idle": "2023-06-12T05:17:57.771877Z",
          "shell.execute_reply.started": "2023-06-12T05:17:54.112951Z",
          "shell.execute_reply": "2023-06-12T05:17:57.770812Z"
        },
        "trusted": true,
        "colab": {
          "base_uri": "https://localhost:8080/",
          "height": 52
        }
      },
      "execution_count": 1,
      "outputs": [
        {
          "output_type": "stream",
          "name": "stdout",
          "text": [
            "GPU Device name\n"
          ]
        },
        {
          "output_type": "execute_result",
          "data": {
            "text/plain": [
              "'Tesla T4'"
            ],
            "application/vnd.google.colaboratory.intrinsic+json": {
              "type": "string"
            }
          },
          "metadata": {},
          "execution_count": 1
        }
      ]
    },
    {
      "cell_type": "code",
      "source": [
        "from google.colab import drive\n",
        "drive.mount('/content/drive')"
      ],
      "metadata": {
        "colab": {
          "base_uri": "https://localhost:8080/"
        },
        "id": "uEtgD8WdnRJg",
        "outputId": "7774d233-445c-46b2-84b7-98245cc891e9"
      },
      "execution_count": 3,
      "outputs": [
        {
          "output_type": "stream",
          "name": "stdout",
          "text": [
            "Mounted at /content/drive\n"
          ]
        }
      ]
    },
    {
      "cell_type": "markdown",
      "source": [
        "### **Parameters**"
      ],
      "metadata": {
        "id": "CCdvw5JNlygg"
      }
    },
    {
      "cell_type": "code",
      "source": [
        "technique = \"Hate-Speech\"\n",
        "experiment_no = \"1\"\n",
        "oversample_dataset = True\n",
        "over_sampling_technique = \"ROS\"\n",
        "sampling_strategy = \"1:0.25:0.25\"\n",
        "validation_size = (1/9)\n",
        "test_size = 0.1\n",
        "split_random_state = 42\n",
        "training_seed = 77 #@param [ 8, 42, 77]\n",
        "NO_OUTPUT_LAYERS = 4\n",
        "id2label={ 0: \"Not offensive\", 1: \"Hate-Inducin\", 2: \"Abusive\"}\n",
        "tag_set = [\"Not offensive\", \"Hate-Inducing\", \"Abusive\"]\n",
        "script=\"Char-Script-1.0\"\n",
        "\n",
        "\n",
        "load_adapter = False #@param {type:\"boolean\"}\n",
        "unfreeze_model = False #@param {type:\"boolean\"}\n",
        "save_adapter = False #@param {type:\"boolean\"}\n",
        "lang_adapter_setting = \"none\" #@param [\"none\", \"stack\", \"parallel\"]\n",
        "adapter_config = \"houlsby\" #@param [\"houlsby\", \"pfeiffer\"]"
      ],
      "metadata": {
        "id": "6LjxhVXklun6",
        "execution": {
          "iopub.status.busy": "2023-06-12T05:17:57.776948Z",
          "iopub.execute_input": "2023-06-12T05:17:57.779660Z",
          "iopub.status.idle": "2023-06-12T05:17:57.789859Z",
          "shell.execute_reply.started": "2023-06-12T05:17:57.779621Z",
          "shell.execute_reply": "2023-06-12T05:17:57.788902Z"
        },
        "trusted": true
      },
      "execution_count": 39,
      "outputs": []
    },
    {
      "cell_type": "code",
      "source": [
        "MAX_LEN = 128\n",
        "BATCH_SIZE = 32\n",
        "LEARNING_RATE = 5e-4\n",
        "EPOCHS = 20"
      ],
      "metadata": {
        "id": "Z5zzz0_5IxVc",
        "execution": {
          "iopub.status.busy": "2023-06-12T05:17:57.794821Z",
          "iopub.execute_input": "2023-06-12T05:17:57.797499Z",
          "iopub.status.idle": "2023-06-12T05:17:57.804477Z",
          "shell.execute_reply.started": "2023-06-12T05:17:57.797465Z",
          "shell.execute_reply": "2023-06-12T05:17:57.803402Z"
        },
        "trusted": true
      },
      "execution_count": 40,
      "outputs": []
    },
    {
      "cell_type": "code",
      "source": [
        "# technique=\"hate\"\n",
        "pretrained_adapter_path = \"/content/drive/Shareddrives/Lingua/Final/\"+technique #+ \"_\" + str(random_state)"
      ],
      "metadata": {
        "id": "KanOOHjzWI7b",
        "execution": {
          "iopub.status.busy": "2023-06-12T05:17:57.810836Z",
          "iopub.execute_input": "2023-06-12T05:17:57.813454Z",
          "iopub.status.idle": "2023-06-12T05:17:57.819791Z",
          "shell.execute_reply.started": "2023-06-12T05:17:57.813422Z",
          "shell.execute_reply": "2023-06-12T05:17:57.818706Z"
        },
        "trusted": true
      },
      "execution_count": 41,
      "outputs": []
    },
    {
      "cell_type": "markdown",
      "source": [
        "### Installation"
      ],
      "metadata": {
        "id": "3L9gYpCV28OA"
      }
    },
    {
      "cell_type": "code",
      "source": [
        "!pip install -U adapter-transformers==3.1.0\n",
        "!pip install datasets\n",
        "!pip install sentencepiece"
      ],
      "metadata": {
        "id": "qL3Sq1HQynCq",
        "outputId": "7a881f5e-ebd1-4b49-cfb6-b45180cfd4e9",
        "execution": {
          "iopub.status.busy": "2023-06-12T05:17:57.821554Z",
          "iopub.execute_input": "2023-06-12T05:17:57.822946Z",
          "iopub.status.idle": "2023-06-12T05:18:39.343169Z",
          "shell.execute_reply.started": "2023-06-12T05:17:57.822910Z",
          "shell.execute_reply": "2023-06-12T05:18:39.341908Z"
        },
        "trusted": true,
        "colab": {
          "base_uri": "https://localhost:8080/"
        }
      },
      "execution_count": 42,
      "outputs": [
        {
          "output_type": "stream",
          "name": "stdout",
          "text": [
            "Requirement already satisfied: adapter-transformers==3.1.0 in /usr/local/lib/python3.10/dist-packages (3.1.0)\n",
            "Requirement already satisfied: filelock in /usr/local/lib/python3.10/dist-packages (from adapter-transformers==3.1.0) (3.12.2)\n",
            "Requirement already satisfied: huggingface-hub<1.0,>=0.1.0 in /usr/local/lib/python3.10/dist-packages (from adapter-transformers==3.1.0) (0.16.4)\n",
            "Requirement already satisfied: numpy>=1.17 in /usr/local/lib/python3.10/dist-packages (from adapter-transformers==3.1.0) (1.22.4)\n",
            "Requirement already satisfied: packaging>=20.0 in /usr/local/lib/python3.10/dist-packages (from adapter-transformers==3.1.0) (23.1)\n",
            "Requirement already satisfied: pyyaml>=5.1 in /usr/local/lib/python3.10/dist-packages (from adapter-transformers==3.1.0) (6.0.1)\n",
            "Requirement already satisfied: regex!=2019.12.17 in /usr/local/lib/python3.10/dist-packages (from adapter-transformers==3.1.0) (2022.10.31)\n",
            "Requirement already satisfied: requests in /usr/local/lib/python3.10/dist-packages (from adapter-transformers==3.1.0) (2.27.1)\n",
            "Requirement already satisfied: tokenizers!=0.11.3,<0.13,>=0.11.1 in /usr/local/lib/python3.10/dist-packages (from adapter-transformers==3.1.0) (0.12.1)\n",
            "Requirement already satisfied: tqdm>=4.27 in /usr/local/lib/python3.10/dist-packages (from adapter-transformers==3.1.0) (4.65.0)\n",
            "Requirement already satisfied: fsspec in /usr/local/lib/python3.10/dist-packages (from huggingface-hub<1.0,>=0.1.0->adapter-transformers==3.1.0) (2023.6.0)\n",
            "Requirement already satisfied: typing-extensions>=3.7.4.3 in /usr/local/lib/python3.10/dist-packages (from huggingface-hub<1.0,>=0.1.0->adapter-transformers==3.1.0) (4.7.1)\n",
            "Requirement already satisfied: urllib3<1.27,>=1.21.1 in /usr/local/lib/python3.10/dist-packages (from requests->adapter-transformers==3.1.0) (1.26.16)\n",
            "Requirement already satisfied: certifi>=2017.4.17 in /usr/local/lib/python3.10/dist-packages (from requests->adapter-transformers==3.1.0) (2023.7.22)\n",
            "Requirement already satisfied: charset-normalizer~=2.0.0 in /usr/local/lib/python3.10/dist-packages (from requests->adapter-transformers==3.1.0) (2.0.12)\n",
            "Requirement already satisfied: idna<4,>=2.5 in /usr/local/lib/python3.10/dist-packages (from requests->adapter-transformers==3.1.0) (3.4)\n",
            "Requirement already satisfied: datasets in /usr/local/lib/python3.10/dist-packages (2.14.3)\n",
            "Requirement already satisfied: numpy>=1.17 in /usr/local/lib/python3.10/dist-packages (from datasets) (1.22.4)\n",
            "Requirement already satisfied: pyarrow>=8.0.0 in /usr/local/lib/python3.10/dist-packages (from datasets) (9.0.0)\n",
            "Requirement already satisfied: dill<0.3.8,>=0.3.0 in /usr/local/lib/python3.10/dist-packages (from datasets) (0.3.7)\n",
            "Requirement already satisfied: pandas in /usr/local/lib/python3.10/dist-packages (from datasets) (1.5.3)\n",
            "Requirement already satisfied: requests>=2.19.0 in /usr/local/lib/python3.10/dist-packages (from datasets) (2.27.1)\n",
            "Requirement already satisfied: tqdm>=4.62.1 in /usr/local/lib/python3.10/dist-packages (from datasets) (4.65.0)\n",
            "Requirement already satisfied: xxhash in /usr/local/lib/python3.10/dist-packages (from datasets) (3.3.0)\n",
            "Requirement already satisfied: multiprocess in /usr/local/lib/python3.10/dist-packages (from datasets) (0.70.15)\n",
            "Requirement already satisfied: fsspec[http]>=2021.11.1 in /usr/local/lib/python3.10/dist-packages (from datasets) (2023.6.0)\n",
            "Requirement already satisfied: aiohttp in /usr/local/lib/python3.10/dist-packages (from datasets) (3.8.5)\n",
            "Requirement already satisfied: huggingface-hub<1.0.0,>=0.14.0 in /usr/local/lib/python3.10/dist-packages (from datasets) (0.16.4)\n",
            "Requirement already satisfied: packaging in /usr/local/lib/python3.10/dist-packages (from datasets) (23.1)\n",
            "Requirement already satisfied: pyyaml>=5.1 in /usr/local/lib/python3.10/dist-packages (from datasets) (6.0.1)\n",
            "Requirement already satisfied: attrs>=17.3.0 in /usr/local/lib/python3.10/dist-packages (from aiohttp->datasets) (23.1.0)\n",
            "Requirement already satisfied: charset-normalizer<4.0,>=2.0 in /usr/local/lib/python3.10/dist-packages (from aiohttp->datasets) (2.0.12)\n",
            "Requirement already satisfied: multidict<7.0,>=4.5 in /usr/local/lib/python3.10/dist-packages (from aiohttp->datasets) (6.0.4)\n",
            "Requirement already satisfied: async-timeout<5.0,>=4.0.0a3 in /usr/local/lib/python3.10/dist-packages (from aiohttp->datasets) (4.0.2)\n",
            "Requirement already satisfied: yarl<2.0,>=1.0 in /usr/local/lib/python3.10/dist-packages (from aiohttp->datasets) (1.9.2)\n",
            "Requirement already satisfied: frozenlist>=1.1.1 in /usr/local/lib/python3.10/dist-packages (from aiohttp->datasets) (1.4.0)\n",
            "Requirement already satisfied: aiosignal>=1.1.2 in /usr/local/lib/python3.10/dist-packages (from aiohttp->datasets) (1.3.1)\n",
            "Requirement already satisfied: filelock in /usr/local/lib/python3.10/dist-packages (from huggingface-hub<1.0.0,>=0.14.0->datasets) (3.12.2)\n",
            "Requirement already satisfied: typing-extensions>=3.7.4.3 in /usr/local/lib/python3.10/dist-packages (from huggingface-hub<1.0.0,>=0.14.0->datasets) (4.7.1)\n",
            "Requirement already satisfied: urllib3<1.27,>=1.21.1 in /usr/local/lib/python3.10/dist-packages (from requests>=2.19.0->datasets) (1.26.16)\n",
            "Requirement already satisfied: certifi>=2017.4.17 in /usr/local/lib/python3.10/dist-packages (from requests>=2.19.0->datasets) (2023.7.22)\n",
            "Requirement already satisfied: idna<4,>=2.5 in /usr/local/lib/python3.10/dist-packages (from requests>=2.19.0->datasets) (3.4)\n",
            "Requirement already satisfied: python-dateutil>=2.8.1 in /usr/local/lib/python3.10/dist-packages (from pandas->datasets) (2.8.2)\n",
            "Requirement already satisfied: pytz>=2020.1 in /usr/local/lib/python3.10/dist-packages (from pandas->datasets) (2022.7.1)\n",
            "Requirement already satisfied: six>=1.5 in /usr/local/lib/python3.10/dist-packages (from python-dateutil>=2.8.1->pandas->datasets) (1.16.0)\n",
            "Requirement already satisfied: sentencepiece in /usr/local/lib/python3.10/dist-packages (0.1.99)\n"
          ]
        }
      ]
    },
    {
      "cell_type": "markdown",
      "source": [
        "### Dependencies"
      ],
      "metadata": {
        "id": "LUHpDE_Gtyen"
      }
    },
    {
      "cell_type": "code",
      "source": [],
      "metadata": {
        "id": "mUcFdH0HIxVe"
      },
      "execution_count": 42,
      "outputs": []
    },
    {
      "cell_type": "code",
      "source": [
        "import re\n",
        "import time\n",
        "import torch\n",
        "from torch.utils.data import TensorDataset, DataLoader, RandomSampler, SequentialSampler\n",
        "from tqdm import tqdm\n",
        "from sklearn.metrics import classification_report\n",
        "from google.colab import drive\n",
        "import io\n",
        "import seaborn as sns\n",
        "from sklearn.model_selection import train_test_split\n",
        "import numpy as np\n",
        "import pandas as pd\n",
        "from transformers import AutoAdapterModel ,AutoTokenizer, AdapterConfig,AutoConfig, AutoModelWithHeads, TrainingArguments, AdapterTrainer, EvalPrediction, AdamW, get_scheduler, TextClassificationPipeline, EarlyStoppingCallback, Trainer,set_seed\n",
        "from transformers import  AdamW, get_linear_schedule_with_warmup,set_seed\n",
        "from transformers.adapters.composition import Fuse, Stack, Parallel\n",
        "from datasets import load_metric\n",
        "from collections import Counter\n",
        "from imblearn.over_sampling import RandomOverSampler, SMOTE, ADASYN, BorderlineSMOTE\n",
        "import matplotlib.pyplot as plt\n",
        "%matplotlib inline\n"
      ],
      "metadata": {
        "id": "xJZ6z8bJl25l",
        "execution": {
          "iopub.status.busy": "2023-06-12T05:18:39.345281Z",
          "iopub.execute_input": "2023-06-12T05:18:39.345675Z",
          "iopub.status.idle": "2023-06-12T05:18:51.037244Z",
          "shell.execute_reply.started": "2023-06-12T05:18:39.345637Z",
          "shell.execute_reply": "2023-06-12T05:18:51.036320Z"
        },
        "trusted": true
      },
      "execution_count": 43,
      "outputs": []
    },
    {
      "cell_type": "markdown",
      "source": [
        "### Dataset Preprocessing"
      ],
      "metadata": {
        "id": "EzrDM6Ua-jo_"
      }
    },
    {
      "cell_type": "code",
      "source": [
        "def apply_oversampling(x, y):\n",
        "  (unique, counts) = np.unique(y, axis=0, return_counts=True)\n",
        "  print(\"Class Distribution Without Oversampling\", counts)\n",
        "\n",
        "  # define oversampling strategy\n",
        "  if (over_sampling_technique == \"\"):\n",
        "    return x, y\n",
        "  elif (over_sampling_technique == \"ROS\"):\n",
        "    if (technique==\"Humor\"):\n",
        "      oversample = RandomOverSampler(sampling_strategy = float(sampling_strategy))\n",
        "    elif (technique==\"Hate-Speech\"):\n",
        "      sampling_ratio = sampling_strategy.split(\":\")\n",
        "      oversample = RandomOverSampler(sampling_strategy = {\n",
        "          0:int(counts[0]*float(sampling_ratio[0])),\n",
        "          1:int(counts[0]*float(sampling_ratio[1])),\n",
        "          2:int(counts[0]*float(sampling_ratio[2]))\n",
        "          })\n",
        "    elif (technique==\"Sentiment\"):\n",
        "      sampling_ratio = sampling_strategy.split(\":\")\n",
        "      oversample = RandomOverSampler(sampling_strategy = {\n",
        "          0:int(counts[1]*float(sampling_ratio[0])),\n",
        "          1:int(counts[1]*float(sampling_ratio[1])),\n",
        "          2:int(counts[1]*float(sampling_ratio[2])),\n",
        "          3:int(counts[1]*float(sampling_ratio[3]))\n",
        "          })\n",
        "  elif (over_sampling_technique == \"ADASYN\"):\n",
        "    oversample = ADASYN(sampling_strategy=\"minority\")\n",
        "  elif (over_sampling_technique == \"SMOTE\"):\n",
        "    oversample = SMOTE()\n",
        "  elif (over_sampling_technique == \"BorderlineSMOTE\"):\n",
        "    oversample = BorderlineSMOTE()\n",
        "\n",
        "  # fit and apply the transform\n",
        "  X_over, y_over = oversample.fit_resample(x, y)\n",
        "\n",
        "  (unique, counts) = np.unique(y_over, axis=0, return_counts=True)\n",
        "  print(\"Class Distribution After Oversampling\", counts)\n",
        "\n",
        "  return X_over, y_over"
      ],
      "metadata": {
        "id": "BB8pw1RDuDaA",
        "execution": {
          "iopub.status.busy": "2023-06-12T05:18:51.038788Z",
          "iopub.execute_input": "2023-06-12T05:18:51.039692Z",
          "iopub.status.idle": "2023-06-12T05:18:51.051653Z",
          "shell.execute_reply.started": "2023-06-12T05:18:51.039655Z",
          "shell.execute_reply": "2023-06-12T05:18:51.050779Z"
        },
        "trusted": true
      },
      "execution_count": 44,
      "outputs": []
    },
    {
      "cell_type": "code",
      "source": [
        "dataset_path = \"/content/drive/Shareddrives/Lingua/Sinhala-English CMCS Dataset/annotated-script(all).csv\"\n",
        "model_save_path = \"/kaggle/working/\"+technique+\"/\"+experiment_no"
      ],
      "metadata": {
        "id": "0MUpioPlmvMh",
        "execution": {
          "iopub.status.busy": "2023-06-12T05:18:51.056329Z",
          "iopub.execute_input": "2023-06-12T05:18:51.058159Z",
          "iopub.status.idle": "2023-06-12T05:18:51.258329Z",
          "shell.execute_reply.started": "2023-06-12T05:18:51.058117Z",
          "shell.execute_reply": "2023-06-12T05:18:51.257255Z"
        },
        "trusted": true
      },
      "execution_count": 45,
      "outputs": []
    },
    {
      "cell_type": "code",
      "source": [
        "df = pd.read_csv(dataset_path)\n",
        "df = df[['Sentence', technique, script]]\n",
        "df.columns = ['Sentence', 'Label', script]\n",
        "\n",
        "df['Label'], uniq = pd.factorize(df['Label'])\n",
        "\n",
        "X, y = df[['Sentence', script]], df[['Label']]\n",
        "stratifying_col = y[\"Label\"]\n",
        "X_rem, X_test, y_rem, y_test = train_test_split(X, y, test_size=test_size, stratify=stratifying_col, random_state=split_random_state)\n",
        "stratifying_col = y_rem[\"Label\"]\n",
        "X_train, X_validation, y_train, y_validation = train_test_split(X_rem, y_rem, test_size=validation_size, stratify=stratifying_col, random_state=split_random_state)"
      ],
      "metadata": {
        "id": "yq5AMmjelqlj",
        "execution": {
          "iopub.status.busy": "2023-06-12T05:18:51.259689Z",
          "iopub.execute_input": "2023-06-12T05:18:51.260749Z",
          "iopub.status.idle": "2023-06-12T05:18:51.387836Z",
          "shell.execute_reply.started": "2023-06-12T05:18:51.260698Z",
          "shell.execute_reply": "2023-06-12T05:18:51.386928Z"
        },
        "trusted": true
      },
      "execution_count": 46,
      "outputs": []
    },
    {
      "cell_type": "code",
      "source": [
        "del df, X, y, stratifying_col, X_rem, y_rem"
      ],
      "metadata": {
        "id": "Ppy0Sj5NIxVg",
        "execution": {
          "iopub.status.busy": "2023-06-12T05:18:51.392170Z",
          "iopub.execute_input": "2023-06-12T05:18:51.392455Z",
          "iopub.status.idle": "2023-06-12T05:18:51.397228Z",
          "shell.execute_reply.started": "2023-06-12T05:18:51.392431Z",
          "shell.execute_reply": "2023-06-12T05:18:51.396150Z"
        },
        "trusted": true
      },
      "execution_count": 47,
      "outputs": []
    },
    {
      "cell_type": "code",
      "source": [
        "uniq"
      ],
      "metadata": {
        "id": "oHELisZ0ufPM",
        "outputId": "913b1bd2-545c-403a-b9c1-9b75043412fc",
        "execution": {
          "iopub.status.busy": "2023-06-12T05:18:51.398556Z",
          "iopub.execute_input": "2023-06-12T05:18:51.399147Z",
          "iopub.status.idle": "2023-06-12T05:18:51.411611Z",
          "shell.execute_reply.started": "2023-06-12T05:18:51.399114Z",
          "shell.execute_reply": "2023-06-12T05:18:51.410683Z"
        },
        "trusted": true,
        "colab": {
          "base_uri": "https://localhost:8080/"
        }
      },
      "execution_count": 48,
      "outputs": [
        {
          "output_type": "execute_result",
          "data": {
            "text/plain": [
              "Index(['Not offensive', 'Hate-Inducing', 'Abusive'], dtype='object')"
            ]
          },
          "metadata": {},
          "execution_count": 48
        }
      ]
    },
    {
      "cell_type": "code",
      "source": [
        "print(\"X_train : Rows =\", X_train.shape[0], \", Columns = \", X_train.shape[1])\n",
        "print(\"y_train : Rows =\", y_train.shape[0], \", Columns = \", y_train.shape[1])\n",
        "print(\"X_validation : Rows =\", X_validation.shape[0], \", Columns = \", X_validation.shape[1])\n",
        "print(\"y_validation : Rows =\", y_validation.shape[0], \", Columns = \", y_validation.shape[1])\n",
        "print(\"X_test : Rows =\", X_test.shape[0], \", Columns = \", X_test.shape[1])\n",
        "print(\"y_test : Rows =\", y_test.shape[0], \", Columns = \", y_test.shape[1])"
      ],
      "metadata": {
        "id": "dkRs6oJvIxVh",
        "outputId": "a21bac69-97a9-4252-ff56-b908a7907bd0",
        "execution": {
          "iopub.status.busy": "2023-06-12T05:18:51.413132Z",
          "iopub.execute_input": "2023-06-12T05:18:51.413499Z",
          "iopub.status.idle": "2023-06-12T05:18:51.423507Z",
          "shell.execute_reply.started": "2023-06-12T05:18:51.413465Z",
          "shell.execute_reply": "2023-06-12T05:18:51.422518Z"
        },
        "trusted": true,
        "colab": {
          "base_uri": "https://localhost:8080/"
        }
      },
      "execution_count": 49,
      "outputs": [
        {
          "output_type": "stream",
          "name": "stdout",
          "text": [
            "X_train : Rows = 10814 , Columns =  2\n",
            "y_train : Rows = 10814 , Columns =  1\n",
            "X_validation : Rows = 1352 , Columns =  2\n",
            "y_validation : Rows = 1352 , Columns =  1\n",
            "X_test : Rows = 1352 , Columns =  2\n",
            "y_test : Rows = 1352 , Columns =  1\n"
          ]
        }
      ]
    },
    {
      "cell_type": "code",
      "source": [
        "print(\"Labels :\",[\"Not offensive\", \"Hate-Inducing\", \"Abusive\"])\n",
        "print(\"Train :\", y_train.groupby('Label').size().tolist())\n",
        "print(\"Validation :\", y_validation.groupby('Label').size().tolist())\n",
        "print(\"Test :\", y_test.groupby('Label').size().tolist())"
      ],
      "metadata": {
        "id": "UaUlvhRwIxVh",
        "outputId": "12afdf62-940d-4b2b-8617-42aea38ab484",
        "execution": {
          "iopub.status.busy": "2023-06-12T05:18:51.424835Z",
          "iopub.execute_input": "2023-06-12T05:18:51.425385Z",
          "iopub.status.idle": "2023-06-12T05:18:51.443127Z",
          "shell.execute_reply.started": "2023-06-12T05:18:51.425324Z",
          "shell.execute_reply": "2023-06-12T05:18:51.441765Z"
        },
        "trusted": true,
        "colab": {
          "base_uri": "https://localhost:8080/"
        }
      },
      "execution_count": 50,
      "outputs": [
        {
          "output_type": "stream",
          "name": "stdout",
          "text": [
            "Labels : ['Not offensive', 'Hate-Inducing', 'Abusive']\n",
            "Train : [9810, 278, 726]\n",
            "Validation : [1226, 35, 91]\n",
            "Test : [1226, 35, 91]\n"
          ]
        }
      ]
    },
    {
      "cell_type": "code",
      "source": [
        "def  oversampling(X_train,y_train):\n",
        "  X_train = np.array(X_train).reshape(-1, 1)\n",
        "  X_train, y_train = apply_oversampling(X_train, y_train)\n",
        "  X_train = [x[0] for x in X_train.tolist()]\n",
        "  return X_train,y_train"
      ],
      "metadata": {
        "id": "7tCiiAeuIxVi",
        "execution": {
          "iopub.status.busy": "2023-06-12T05:18:51.445242Z",
          "iopub.execute_input": "2023-06-12T05:18:51.445907Z",
          "iopub.status.idle": "2023-06-12T05:18:51.451797Z",
          "shell.execute_reply.started": "2023-06-12T05:18:51.445876Z",
          "shell.execute_reply": "2023-06-12T05:18:51.450778Z"
        },
        "trusted": true
      },
      "execution_count": 51,
      "outputs": []
    },
    {
      "cell_type": "markdown",
      "source": [
        "##### **Preprocess Data**"
      ],
      "metadata": {
        "id": "Xw-aKg9RIxVi"
      }
    },
    {
      "cell_type": "code",
      "source": [
        "set_seed(training_seed)"
      ],
      "metadata": {
        "id": "T_2iifBVIxVi",
        "execution": {
          "iopub.status.busy": "2023-06-12T05:18:51.453261Z",
          "iopub.execute_input": "2023-06-12T05:18:51.453626Z",
          "iopub.status.idle": "2023-06-12T05:18:51.465558Z",
          "shell.execute_reply.started": "2023-06-12T05:18:51.453595Z",
          "shell.execute_reply": "2023-06-12T05:18:51.464640Z"
        },
        "trusted": true
      },
      "execution_count": 52,
      "outputs": []
    },
    {
      "cell_type": "code",
      "source": [
        "X_train, y_train = X_train.values.tolist(), y_train.values.tolist()\n",
        "X_validation, y_validation = X_validation.values.tolist(), y_validation.values.tolist()\n",
        "X_test, y_test = X_test.values.tolist(), y_test.values.tolist()"
      ],
      "metadata": {
        "id": "SxzzTXwZIxVj",
        "execution": {
          "iopub.status.busy": "2023-06-12T05:18:51.468494Z",
          "iopub.execute_input": "2023-06-12T05:18:51.468760Z",
          "iopub.status.idle": "2023-06-12T05:18:51.483094Z",
          "shell.execute_reply.started": "2023-06-12T05:18:51.468714Z",
          "shell.execute_reply": "2023-06-12T05:18:51.482186Z"
        },
        "trusted": true
      },
      "execution_count": 53,
      "outputs": []
    },
    {
      "cell_type": "code",
      "source": [
        "X_train_arr=[]\n",
        "y_train_arr=[]\n",
        "\n",
        "for i in range(len(X_train)):\n",
        "    X_train_arr.append(X_train[i][0])\n",
        "    y_train_arr.append(y_train[i][0])\n",
        "\n",
        "\n",
        "X_validation_arr=[]\n",
        "y_validation_arr=[]\n",
        "for i in range(len(X_validation)):\n",
        "    X_validation_arr.append(X_validation[i][0])\n",
        "    y_validation_arr.append(y_validation[i][0])\n",
        "\n",
        "\n",
        "X_test_arr=[]\n",
        "y_test_arr=[]\n",
        "X_test_latin=[]\n",
        "y_test_latin=[]\n",
        "\n",
        "X_test_Sinhala=[]\n",
        "y_test_Sinhala=[]\n",
        "\n",
        "X_test_Mixed=[]\n",
        "y_test_Mixed=[]\n",
        "for i in range(len(X_test)):\n",
        "    X_test_arr.append(X_test[i][0])\n",
        "    y_test_arr.append(y_test[i][0])\n",
        "\n",
        "    if X_test[i][1]==\"Latin\":\n",
        "        X_test_latin.append(X_test[i][0])\n",
        "        y_test_latin.append(y_test[i][0])\n",
        "\n",
        "    elif X_test[i][1]==\"Sinhala\":\n",
        "        X_test_Sinhala.append(X_test[i][0])\n",
        "        y_test_Sinhala.append(y_test[i][0])\n",
        "\n",
        "    elif X_test[i][1]==\"Mixed\":\n",
        "        X_test_Mixed.append(X_test[i][0])\n",
        "        y_test_Mixed.append(y_test[i][0])"
      ],
      "metadata": {
        "id": "oQbG0JmQIxVj",
        "execution": {
          "iopub.status.busy": "2023-06-12T05:18:51.485567Z",
          "iopub.execute_input": "2023-06-12T05:18:51.486413Z",
          "iopub.status.idle": "2023-06-12T05:18:51.506201Z",
          "shell.execute_reply.started": "2023-06-12T05:18:51.486389Z",
          "shell.execute_reply": "2023-06-12T05:18:51.505267Z"
        },
        "trusted": true
      },
      "execution_count": 54,
      "outputs": []
    },
    {
      "cell_type": "code",
      "source": [
        "X_train_arr,y_train_arr=oversampling(X_train_arr,y_train_arr)"
      ],
      "metadata": {
        "colab": {
          "base_uri": "https://localhost:8080/"
        },
        "id": "x_4k3WAxZdiJ",
        "outputId": "c437d909-525f-44c0-9f83-41feaecfcb95"
      },
      "execution_count": 55,
      "outputs": [
        {
          "output_type": "stream",
          "name": "stdout",
          "text": [
            "Class Distribution Without Oversampling [9810  278  726]\n",
            "Class Distribution After Oversampling [9810 2452 2452]\n"
          ]
        }
      ]
    },
    {
      "cell_type": "code",
      "source": [
        "tokenizer = AutoTokenizer.from_pretrained(\"xlm-roberta-base\", do_lower_case=True)"
      ],
      "metadata": {
        "id": "lCUWfe8-n0i8",
        "execution": {
          "iopub.status.busy": "2023-06-12T05:18:51.507889Z",
          "iopub.execute_input": "2023-06-12T05:18:51.508176Z",
          "iopub.status.idle": "2023-06-12T05:18:55.335122Z",
          "shell.execute_reply.started": "2023-06-12T05:18:51.508152Z",
          "shell.execute_reply": "2023-06-12T05:18:55.334108Z"
        },
        "trusted": true
      },
      "execution_count": 56,
      "outputs": []
    },
    {
      "cell_type": "code",
      "source": [
        "encoded_X_train = tokenizer(X_train_arr, truncation=True, padding=True, max_length=MAX_LEN)\n",
        "encoded_X_validation = tokenizer(X_validation_arr, truncation=True, padding=True, max_length=MAX_LEN)\n",
        "encoded_X_test = tokenizer(X_test_arr, truncation=True, padding=True, max_length=MAX_LEN)\n",
        "encoded_X_test_latin = tokenizer(X_test_latin, truncation=True, padding=True, max_length=MAX_LEN)\n",
        "encoded_X_test_Sinhala = tokenizer(X_test_Sinhala, truncation=True, padding=True, max_length=MAX_LEN)\n",
        "encoded_X_test_Mixed = tokenizer(X_test_Mixed, truncation=True, padding=True, max_length=MAX_LEN)\n",
        "\n"
      ],
      "metadata": {
        "id": "TqXJtJe8oObQ",
        "execution": {
          "iopub.status.busy": "2023-06-12T05:18:55.336709Z",
          "iopub.execute_input": "2023-06-12T05:18:55.337332Z",
          "iopub.status.idle": "2023-06-12T05:18:56.345656Z",
          "shell.execute_reply.started": "2023-06-12T05:18:55.337296Z",
          "shell.execute_reply": "2023-06-12T05:18:56.344773Z"
        },
        "trusted": true
      },
      "execution_count": 57,
      "outputs": []
    },
    {
      "cell_type": "code",
      "source": [
        "class DatasetObject(torch.utils.data.Dataset):\n",
        "    def __init__(self, encodings, labels):\n",
        "        self.encodings = encodings\n",
        "        self.labels = labels\n",
        "\n",
        "    def __getitem__(self, idx):\n",
        "        item = {key: torch.tensor(val[idx]) for key, val in self.encodings.items()}\n",
        "        item['labels'] = torch.tensor(self.labels[idx])\n",
        "        return item\n",
        "\n",
        "    def __len__(self):\n",
        "        return len(self.labels)\n",
        "\n",
        "train_dataset = DatasetObject(encoded_X_train, y_train_arr)\n",
        "validation_dataset = DatasetObject(encoded_X_validation, y_validation_arr)\n",
        "test_dataset = DatasetObject(encoded_X_test, y_test_arr)\n",
        "test_dataset_latin = DatasetObject(encoded_X_test_latin, y_test_latin)\n",
        "test_dataset_Sinhala = DatasetObject(encoded_X_test_Sinhala, y_test_Sinhala)\n",
        "test_dataset_Mixed = DatasetObject(encoded_X_test_Mixed, y_test_Mixed)\n"
      ],
      "metadata": {
        "id": "6581Al-K_Nyf",
        "execution": {
          "iopub.status.busy": "2023-06-12T05:18:56.347302Z",
          "iopub.execute_input": "2023-06-12T05:18:56.347660Z",
          "iopub.status.idle": "2023-06-12T05:18:56.357584Z",
          "shell.execute_reply.started": "2023-06-12T05:18:56.347627Z",
          "shell.execute_reply": "2023-06-12T05:18:56.356762Z"
        },
        "trusted": true
      },
      "execution_count": 58,
      "outputs": []
    },
    {
      "cell_type": "code",
      "source": [
        "train_sampler = RandomSampler(train_dataset)\n",
        "# train_sampler = SequentialSampler(train_dataset)\n",
        "validation_sampler = SequentialSampler(validation_dataset)\n",
        "test_sampler = SequentialSampler(test_dataset)\n",
        "validation_sampler_latin = SequentialSampler(test_dataset_latin)\n",
        "validation_sampler_sinhala= SequentialSampler(test_dataset_Sinhala)\n",
        "validation_sampler_mixed = SequentialSampler(test_dataset_Mixed)\n",
        "\n",
        "train_loader = DataLoader(train_dataset, sampler=train_sampler , batch_size=BATCH_SIZE)\n",
        "validation_loader = DataLoader(validation_dataset, sampler=validation_sampler , batch_size=BATCH_SIZE)\n",
        "test_loader = DataLoader(test_dataset, sampler=test_sampler , batch_size=BATCH_SIZE)\n",
        "test_loader_latin = DataLoader(test_dataset_latin, sampler=validation_sampler_latin , batch_size=BATCH_SIZE)\n",
        "test_loader_Sinhala = DataLoader(test_dataset_Sinhala, sampler=validation_sampler_sinhala , batch_size=BATCH_SIZE)\n",
        "test_loader_Mixed = DataLoader(test_dataset_Mixed, sampler=validation_sampler_mixed , batch_size=BATCH_SIZE)"
      ],
      "metadata": {
        "id": "Mol-S8fDIxVk",
        "execution": {
          "iopub.status.busy": "2023-06-12T05:18:56.359968Z",
          "iopub.execute_input": "2023-06-12T05:18:56.360673Z",
          "iopub.status.idle": "2023-06-12T05:18:56.371374Z",
          "shell.execute_reply.started": "2023-06-12T05:18:56.360636Z",
          "shell.execute_reply": "2023-06-12T05:18:56.370404Z"
        },
        "trusted": true
      },
      "execution_count": 59,
      "outputs": []
    },
    {
      "cell_type": "markdown",
      "source": [
        "### Training"
      ],
      "metadata": {
        "id": "cCwk6iQE_XZb"
      }
    },
    {
      "cell_type": "code",
      "source": [
        "config = AutoConfig.from_pretrained(\"xlm-roberta-base\", num_labels=NO_OUTPUT_LAYERS)\n",
        "model = AutoModelWithHeads.from_pretrained(\"xlm-roberta-base\", config=config)"
      ],
      "metadata": {
        "id": "KNyi1nFH_TOS",
        "outputId": "5d8233ba-e38c-49bf-c70c-66702612ca17",
        "execution": {
          "iopub.status.busy": "2023-06-12T05:18:56.372928Z",
          "iopub.execute_input": "2023-06-12T05:18:56.373282Z",
          "iopub.status.idle": "2023-06-12T05:19:19.007030Z",
          "shell.execute_reply.started": "2023-06-12T05:18:56.373214Z",
          "shell.execute_reply": "2023-06-12T05:19:19.006114Z"
        },
        "trusted": true,
        "colab": {
          "base_uri": "https://localhost:8080/"
        }
      },
      "execution_count": 60,
      "outputs": [
        {
          "output_type": "stream",
          "name": "stderr",
          "text": [
            "/usr/local/lib/python3.10/dist-packages/transformers/adapters/models/roberta/adapter_model.py:255: FutureWarning: This class has been renamed to `RobertaModelWithHeads` in v3. Please use the new class instead as this class might be removed in a future version.\n",
            "  warnings.warn(\n",
            "/usr/local/lib/python3.10/dist-packages/transformers/adapters/models/roberta/adapter_model.py:233: FutureWarning: This class has been renamed to `RobertaModelWithHeads` in v3. Please use the new class instead as this class might be removed in a future version.\n",
            "  warnings.warn(\n",
            "Some weights of the model checkpoint at xlm-roberta-base were not used when initializing XLMRobertaModelWithHeads: ['lm_head.layer_norm.bias', 'lm_head.bias', 'lm_head.dense.bias', 'lm_head.decoder.weight', 'lm_head.layer_norm.weight', 'lm_head.dense.weight']\n",
            "- This IS expected if you are initializing XLMRobertaModelWithHeads from the checkpoint of a model trained on another task or with another architecture (e.g. initializing a BertForSequenceClassification model from a BertForPreTraining model).\n",
            "- This IS NOT expected if you are initializing XLMRobertaModelWithHeads from the checkpoint of a model that you expect to be exactly identical (initializing a BertForSequenceClassification model from a BertForSequenceClassification model).\n",
            "Some weights of XLMRobertaModelWithHeads were not initialized from the model checkpoint at xlm-roberta-base and are newly initialized: ['roberta.embeddings.position_ids']\n",
            "You should probably TRAIN this model on a down-stream task to be able to use it for predictions and inference.\n"
          ]
        }
      ]
    },
    {
      "cell_type": "code",
      "source": [
        "# Load an adapter\n",
        "if load_adapter:\n",
        "  print(\"loading adapter from\", pretrained_adapter_path)\n",
        "  model.load_adapter(pretrained_adapter_path, with_head=False)\n",
        "\n",
        "# Add a new adapter\n",
        "else:\n",
        "  print(\"adding new adapter\", adapter_config)\n",
        "  if adapter_config == \"pfeiffer\":\n",
        "    config = AdapterConfig.load(\"pfeiffer\", reduction_factor=12)\n",
        "  else:\n",
        "    config = AdapterConfig.load(\"houlsby\")\n",
        "  model.add_adapter(\"task_\"+technique, config=config)"
      ],
      "metadata": {
        "id": "7RPhSipb_diC",
        "outputId": "7a7f936d-2f65-4e8b-a0bb-e78eed1ca80f",
        "execution": {
          "iopub.status.busy": "2023-06-12T05:19:19.008362Z",
          "iopub.execute_input": "2023-06-12T05:19:19.008957Z",
          "iopub.status.idle": "2023-06-12T05:19:19.108838Z",
          "shell.execute_reply.started": "2023-06-12T05:19:19.008921Z",
          "shell.execute_reply": "2023-06-12T05:19:19.107856Z"
        },
        "trusted": true,
        "colab": {
          "base_uri": "https://localhost:8080/"
        }
      },
      "execution_count": 61,
      "outputs": [
        {
          "output_type": "stream",
          "name": "stdout",
          "text": [
            "adding new adapter houlsby\n"
          ]
        }
      ]
    },
    {
      "cell_type": "code",
      "source": [
        "# Add a classification head\n",
        "model.add_classification_head(\n",
        "  \"task_\"+technique,\n",
        "  num_labels=NO_OUTPUT_LAYERS,\n",
        "  id2label=id2label\n",
        ")\n",
        "\n",
        "# Without Language Adapters\n",
        "if lang_adapter_setting == \"none\":\n",
        "  model.set_active_adapters(\"task_\"+technique)\n",
        "\n",
        "else:\n",
        "  # Load language adapters\n",
        "  lang_adapter_config = AdapterConfig.load(\"pfeiffer+inv\")\n",
        "  model.load_adapter(\"/kaggle/input/language-adapters/mlm\", config=lang_adapter_config, load_as=\"si-en\", with_head=False)\n",
        "  # model.load_adapter(\"/content/drive/Shareddrives/FYP/TrainedAdapters/si_mlm\", config=lang_adapter_config, load_as=\"si\", with_head=False)\n",
        "  model.load_adapter(\"/kaggle/input/language-adapters/si_mlm\", config=lang_adapter_config, load_as=\"si\", with_head=False)\n",
        "  config = AdapterConfig.load(\"pfeiffer\", non_linearity=\"relu\", reduction_factor=2)\n",
        "  model.load_adapter(\"en/wiki@ukp\", config=config)\n",
        "\n",
        "  # Stack Language Adapters\n",
        "  if lang_adapter_setting == \"stack\":\n",
        "    print(\"stacking language adapters\")\n",
        "    model.set_active_adapters(Stack(\"en\", \"si\", \"si-en\", \"task_\"+technique))\n",
        "\n",
        "  # Parallel Language Adapters\n",
        "  else:\n",
        "    print(\"stacking parallel language adapters set\")\n",
        "    model.set_active_adapters(Stack(Parallel(\"en\", \"si\", \"si-en\"), \"task_\"+technique))\n",
        "\n",
        "# Train Adapter\n",
        "model.train_adapter(\"task_\"+technique)"
      ],
      "metadata": {
        "id": "Zq1dG4sVcDX5",
        "execution": {
          "iopub.status.busy": "2023-06-12T05:19:19.110195Z",
          "iopub.execute_input": "2023-06-12T05:19:19.110621Z",
          "iopub.status.idle": "2023-06-12T05:19:24.752611Z",
          "shell.execute_reply.started": "2023-06-12T05:19:19.110587Z",
          "shell.execute_reply": "2023-06-12T05:19:24.751474Z"
        },
        "trusted": true
      },
      "execution_count": 62,
      "outputs": []
    },
    {
      "cell_type": "code",
      "source": [
        "# Unfreeze the model to train both the model and adapter\n",
        "if unfreeze_model:\n",
        "  model.freeze_model(False)"
      ],
      "metadata": {
        "id": "iVTWkQaiiuhZ",
        "execution": {
          "iopub.status.busy": "2023-06-12T05:19:24.757838Z",
          "iopub.execute_input": "2023-06-12T05:19:24.761084Z",
          "iopub.status.idle": "2023-06-12T05:19:24.770550Z",
          "shell.execute_reply.started": "2023-06-12T05:19:24.761040Z",
          "shell.execute_reply": "2023-06-12T05:19:24.767543Z"
        },
        "trusted": true
      },
      "execution_count": 63,
      "outputs": []
    },
    {
      "cell_type": "code",
      "source": [
        "# for n, p in model.named_parameters():\n",
        "#     print(n, p.requires_grad)"
      ],
      "metadata": {
        "execution": {
          "iopub.status.busy": "2023-06-12T05:24:31.394251Z",
          "iopub.execute_input": "2023-06-12T05:24:31.394604Z",
          "iopub.status.idle": "2023-06-12T05:24:31.408818Z",
          "shell.execute_reply.started": "2023-06-12T05:24:31.394576Z",
          "shell.execute_reply": "2023-06-12T05:24:31.407915Z"
        },
        "trusted": true,
        "id": "X_M81DDclDDE"
      },
      "execution_count": 64,
      "outputs": []
    },
    {
      "cell_type": "code",
      "source": [
        "model.cuda()\n",
        "print(\"Done\")"
      ],
      "metadata": {
        "id": "SBMtmX77IMlZ",
        "outputId": "a9a22860-5928-4482-da8a-a81fda92d0a8",
        "execution": {
          "iopub.status.busy": "2023-06-12T05:19:24.777193Z",
          "iopub.execute_input": "2023-06-12T05:19:24.778982Z",
          "iopub.status.idle": "2023-06-12T05:19:30.426981Z",
          "shell.execute_reply.started": "2023-06-12T05:19:24.778942Z",
          "shell.execute_reply": "2023-06-12T05:19:30.425887Z"
        },
        "trusted": true,
        "colab": {
          "base_uri": "https://localhost:8080/"
        }
      },
      "execution_count": 65,
      "outputs": [
        {
          "output_type": "stream",
          "name": "stdout",
          "text": [
            "Done\n"
          ]
        }
      ]
    },
    {
      "cell_type": "code",
      "source": [
        "device = torch.device(\"cuda\" if torch.cuda.is_available() else \"cpu\")\n",
        "n_gpu = torch.cuda.device_count()\n",
        "torch.cuda.get_device_name(0)"
      ],
      "metadata": {
        "id": "bny18Y2qHvf0",
        "outputId": "e115957b-e70a-4ebf-bde5-706a334e9647",
        "execution": {
          "iopub.status.busy": "2023-06-12T05:19:30.428321Z",
          "iopub.execute_input": "2023-06-12T05:19:30.428779Z",
          "iopub.status.idle": "2023-06-12T05:19:30.439256Z",
          "shell.execute_reply.started": "2023-06-12T05:19:30.428744Z",
          "shell.execute_reply": "2023-06-12T05:19:30.438332Z"
        },
        "trusted": true,
        "colab": {
          "base_uri": "https://localhost:8080/",
          "height": 35
        }
      },
      "execution_count": 66,
      "outputs": [
        {
          "output_type": "execute_result",
          "data": {
            "text/plain": [
              "'Tesla T4'"
            ],
            "application/vnd.google.colaboratory.intrinsic+json": {
              "type": "string"
            }
          },
          "metadata": {},
          "execution_count": 66
        }
      ]
    },
    {
      "cell_type": "code",
      "source": [
        "set_seed(training_seed)"
      ],
      "metadata": {
        "id": "Iu1hV1g3jAvS",
        "execution": {
          "iopub.status.busy": "2023-06-12T05:19:30.445588Z",
          "iopub.execute_input": "2023-06-12T05:19:30.445879Z",
          "iopub.status.idle": "2023-06-12T05:19:30.886819Z",
          "shell.execute_reply.started": "2023-06-12T05:19:30.445855Z",
          "shell.execute_reply": "2023-06-12T05:19:30.885752Z"
        },
        "trusted": true
      },
      "execution_count": 67,
      "outputs": []
    },
    {
      "cell_type": "code",
      "source": [
        "def compute_metrics(allpreds,alllabels):\n",
        "    metric1 = load_metric(\"precision\")\n",
        "    metric2 = load_metric(\"recall\")\n",
        "    metric3 = load_metric(\"f1\")\n",
        "    metric4 = load_metric(\"accuracy\")\n",
        "\n",
        "    predictions, labels = allpreds,alllabels\n",
        "    precision = metric1.compute(predictions=predictions, references=labels, average=\"weighted\")[\"precision\"]\n",
        "    recall = metric2.compute(predictions=predictions, references=labels, average=\"weighted\")[\"recall\"]\n",
        "    f1 = metric3.compute(predictions=predictions, references=labels, average=\"weighted\")[\"f1\"]\n",
        "    accuracy = metric4.compute(predictions=predictions, references=labels)[\"accuracy\"]\n",
        "    macro_precision = metric1.compute(predictions=predictions, references=labels, average=\"macro\")[\"precision\"]\n",
        "    macro_recall = metric2.compute(predictions=predictions, references=labels, average=\"macro\")[\"recall\"]\n",
        "    macro_f1 = metric3.compute(predictions=predictions, references=labels, average=\"macro\")[\"f1\"]\n",
        "    return {\"accuracy\":accuracy, \"precision\": precision, \"recall\": recall, \"f1\": f1, \"macro_precision\": macro_precision, \"macro_recall\": macro_recall, \"macro_f1\": macro_f1}\n"
      ],
      "metadata": {
        "id": "ZDiEfZumNwYA",
        "execution": {
          "iopub.status.busy": "2023-06-12T05:19:30.888648Z",
          "iopub.execute_input": "2023-06-12T05:19:30.889485Z",
          "iopub.status.idle": "2023-06-12T05:19:30.900689Z",
          "shell.execute_reply.started": "2023-06-12T05:19:30.889451Z",
          "shell.execute_reply": "2023-06-12T05:19:30.899797Z"
        },
        "trusted": true
      },
      "execution_count": 68,
      "outputs": []
    },
    {
      "cell_type": "code",
      "source": [
        "def evaluate(model, dataloader):\n",
        "    model.eval()\n",
        "    allpreds = []\n",
        "    alllabels = []\n",
        "\n",
        "    for step, batch in enumerate(dataloader):\n",
        "        batch = {k: v.to(device) for k, v in batch.items()}\n",
        "        with torch.no_grad():\n",
        "            outputs = model(**batch)\n",
        "        logits = outputs.logits\n",
        "        allpreds.extend(torch.argmax(logits, dim=-1))\n",
        "        alllabels.extend(batch[\"labels\"])\n",
        "    return compute_metrics(allpreds,alllabels)"
      ],
      "metadata": {
        "id": "ErqMNvyEGL07",
        "execution": {
          "iopub.status.busy": "2023-06-12T05:19:30.902227Z",
          "iopub.execute_input": "2023-06-12T05:19:30.902832Z",
          "iopub.status.idle": "2023-06-12T05:19:30.921300Z",
          "shell.execute_reply.started": "2023-06-12T05:19:30.902798Z",
          "shell.execute_reply": "2023-06-12T05:19:30.920364Z"
        },
        "trusted": true
      },
      "execution_count": 69,
      "outputs": []
    },
    {
      "cell_type": "code",
      "source": [
        "def calculate_loss_and_f1(model, dataloader):\n",
        "    model.eval()\n",
        "    allpreds = []\n",
        "    alllabels = []\n",
        "    total_loss = 0\n",
        "\n",
        "    for step, batch in enumerate(dataloader):\n",
        "        batch = {k: v.to(device) for k, v in batch.items()}\n",
        "        with torch.no_grad():\n",
        "            outputs = model(**batch)\n",
        "        logits = outputs.logits\n",
        "        loss = outputs.loss\n",
        "        total_loss += loss.item()\n",
        "        allpreds.extend(torch.argmax(logits, dim=-1))\n",
        "        alllabels.extend(batch[\"labels\"])\n",
        "\n",
        "    macro_f1 = load_metric(\"f1\").compute(predictions=allpreds, references=alllabels, average=\"macro\")[\"f1\"]\n",
        "    return macro_f1, (total_loss/len(dataloader))"
      ],
      "metadata": {
        "id": "_oEcPkiDGOjQ",
        "execution": {
          "iopub.status.busy": "2023-06-12T05:19:30.922766Z",
          "iopub.execute_input": "2023-06-12T05:19:30.923213Z",
          "iopub.status.idle": "2023-06-12T05:19:30.936779Z",
          "shell.execute_reply.started": "2023-06-12T05:19:30.923181Z",
          "shell.execute_reply": "2023-06-12T05:19:30.935943Z"
        },
        "trusted": true
      },
      "execution_count": 70,
      "outputs": []
    },
    {
      "cell_type": "code",
      "source": [
        "no_decay = ['bias', 'LayerNorm.weight']\n",
        "num_training_steps = EPOCHS * len(train_loader)\n",
        "betas = (0.9, 0.999)\n",
        "eps = 1e-08\n",
        "num_warmup_steps = 0\n",
        "param_optimizer = list(model.named_parameters())\n",
        "\n",
        "optimizer_grouped_parameters = [\n",
        "    {'params': [p for n, p in param_optimizer if not any(nd in n for nd in no_decay)],\n",
        "     'weight_decay_rate': 0.01},\n",
        "    {'params': [p for n, p in param_optimizer if any(nd in n for nd in no_decay)],\n",
        "     'weight_decay_rate': 0.0}\n",
        "]\n",
        "optimizer = AdamW(optimizer_grouped_parameters, lr=LEARNING_RATE,betas=betas,eps=eps)\n",
        "scheduler = get_linear_schedule_with_warmup(optimizer, num_warmup_steps=0, num_training_steps=num_training_steps)"
      ],
      "metadata": {
        "id": "oesjvk80GQZW",
        "outputId": "01e074e1-59d9-47a8-96aa-78bcf53805de",
        "execution": {
          "iopub.status.busy": "2023-06-12T05:19:30.938187Z",
          "iopub.execute_input": "2023-06-12T05:19:30.939110Z",
          "iopub.status.idle": "2023-06-12T05:19:30.961933Z",
          "shell.execute_reply.started": "2023-06-12T05:19:30.939078Z",
          "shell.execute_reply": "2023-06-12T05:19:30.961024Z"
        },
        "trusted": true,
        "colab": {
          "base_uri": "https://localhost:8080/"
        }
      },
      "execution_count": 71,
      "outputs": [
        {
          "output_type": "stream",
          "name": "stderr",
          "text": [
            "/usr/local/lib/python3.10/dist-packages/transformers/optimization.py:306: FutureWarning: This implementation of AdamW is deprecated and will be removed in a future version. Use the PyTorch implementation torch.optim.AdamW instead, or set `no_deprecation_warning=True` to disable this warning\n",
            "  warnings.warn(\n"
          ]
        }
      ]
    },
    {
      "cell_type": "code",
      "source": [
        "tot_loss = 0\n",
        "log_loss = 0\n",
        "best_val_acc = 0\n",
        "\n",
        "tot_train_time = 0\n",
        "pbar_update_freq = 10\n",
        "\n",
        "glb_step = 0\n",
        "actual_step = 0\n",
        "max_grad_norm = 1.0\n",
        "eval_every_steps = 100\n",
        "gradient_accumulation_steps = 1\n",
        "\n",
        "leave_training = False\n",
        "val_metric = \"macro_f1\"\n",
        "\n",
        "best_epoch = -1\n",
        "early_stop_epoch_thresh = 5\n",
        "\n",
        "epoch_traces = []\n",
        "acc_traces = []\n",
        "validation_loss_traces = []"
      ],
      "metadata": {
        "id": "5l6csY77GS8F",
        "execution": {
          "iopub.status.busy": "2023-06-12T05:19:30.963142Z",
          "iopub.execute_input": "2023-06-12T05:19:30.963858Z",
          "iopub.status.idle": "2023-06-12T05:19:30.973548Z",
          "shell.execute_reply.started": "2023-06-12T05:19:30.963817Z",
          "shell.execute_reply": "2023-06-12T05:19:30.972538Z"
        },
        "trusted": true
      },
      "execution_count": 72,
      "outputs": []
    },
    {
      "cell_type": "code",
      "source": [
        "pbar = tqdm(total=num_training_steps, desc=\"Train\")\n",
        "for epoch in range(EPOCHS):\n",
        "    print(f\"Begin Epoch {epoch}\")\n",
        "    epoch_start_time = time.time()\n",
        "    for step, batch in enumerate(train_loader):\n",
        "        batch = {k: v.to(device) for k, v in batch.items()}\n",
        "        outputs = model(**batch)\n",
        "        loss = outputs.loss\n",
        "        loss = loss / gradient_accumulation_steps\n",
        "        loss.backward()\n",
        "        tot_loss += loss.item()\n",
        "        actual_step += 1\n",
        "\n",
        "        if actual_step % gradient_accumulation_steps == 0:\n",
        "            torch.nn.utils.clip_grad_norm_(model.parameters(), max_grad_norm)\n",
        "            glb_step += 1\n",
        "\n",
        "            if glb_step % pbar_update_freq == 0:\n",
        "                aveloss = (tot_loss - log_loss)/pbar_update_freq\n",
        "                pbar.update(pbar_update_freq)\n",
        "                pbar.set_postfix({'Average Loss': aveloss, \"Epoch\": epoch})\n",
        "                log_loss = tot_loss\n",
        "\n",
        "            if optimizer is not None:\n",
        "                optimizer.step()\n",
        "                optimizer.zero_grad()\n",
        "            if scheduler is not None:\n",
        "                scheduler.step()\n",
        "\n",
        "        if glb_step > num_training_steps:\n",
        "            leave_training = True\n",
        "            break\n",
        "\n",
        "    val_acc, val_loss = calculate_loss_and_f1(model, validation_loader)\n",
        "    epoch_traces.append(epoch)\n",
        "    acc_traces.append(val_acc)\n",
        "    validation_loss_traces.append(val_loss)\n",
        "    print(\"Validation: [Epoch: {}, Macro F1: {}, Validation Loss: {}, Time per Epoch: {}]\".format(epoch, val_acc, val_loss, time.time()-epoch_start_time), flush=True)\n",
        "\n",
        "    if val_acc > best_val_acc:\n",
        "        torch.save(model.state_dict(),f\"best_model.ckpt\")\n",
        "        best_val_acc = val_acc\n",
        "        best_epoch = epoch\n",
        "\n",
        "    elif (epoch - best_epoch) >= early_stop_epoch_thresh:\n",
        "        print(\"Training stopped early at Epoch: %d\" % epoch)\n",
        "        break  # Terminate the training loop\n",
        "\n",
        "    if leave_training:\n",
        "        break"
      ],
      "metadata": {
        "id": "dkv8HsFgGVGY",
        "outputId": "47bde8de-51ef-4dc2-9767-464f82d6e0fb",
        "execution": {
          "iopub.status.busy": "2023-06-12T05:19:30.975003Z",
          "iopub.execute_input": "2023-06-12T05:19:30.975544Z",
          "iopub.status.idle": "2023-06-12T05:19:39.534607Z",
          "shell.execute_reply.started": "2023-06-12T05:19:30.975512Z",
          "shell.execute_reply": "2023-06-12T05:19:39.533123Z"
        },
        "trusted": true,
        "colab": {
          "base_uri": "https://localhost:8080/",
          "height": 1000,
          "referenced_widgets": [
            "ffaacd0b2d624b459be8cc0eee6c96a0",
            "a67dd6e1f3764c8d80eae3b2057c3d23",
            "b752257a44ff439696cb1bb40f1f9c9a",
            "7145f396d201415e8aad3f04f06cb0be",
            "66023e7b64564163bd05e5a80437e5db",
            "2c4ddc3f19df439b9e89eb5781882324",
            "09e3ef5946b94818ba03e07fd145a844",
            "9fe7bce10d8942fabc07c23899746dec",
            "77792193dabf4c0ea5d7f8180df59ce7",
            "6754c07bde664abd88824e2390189936",
            "79adcf930fdb4882ac1869da790a6fbc"
          ]
        }
      },
      "execution_count": 73,
      "outputs": [
        {
          "output_type": "stream",
          "name": "stderr",
          "text": [
            "\n",
            "Train:   2%|▏         | 140/9200 [01:33<1:41:00,  1.50it/s, Average Loss=0.731, Epoch=0]\n"
          ]
        },
        {
          "output_type": "stream",
          "name": "stdout",
          "text": [
            "Begin Epoch 0\n"
          ]
        },
        {
          "output_type": "stream",
          "name": "stderr",
          "text": [
            "\n",
            "Train:   0%|          | 10/9200 [00:04<1:10:26,  2.17it/s]\u001b[A\n",
            "Train:   0%|          | 10/9200 [00:04<1:10:26,  2.17it/s, Average Loss=1.04, Epoch=0]\u001b[A\n",
            "Train:   0%|          | 20/9200 [00:08<1:07:50,  2.26it/s, Average Loss=1.04, Epoch=0]\u001b[A\n",
            "Train:   0%|          | 20/9200 [00:08<1:07:50,  2.26it/s, Average Loss=0.959, Epoch=0]\u001b[A\n",
            "Train:   0%|          | 30/9200 [00:13<1:08:02,  2.25it/s, Average Loss=0.959, Epoch=0]\u001b[A\n",
            "Train:   0%|          | 30/9200 [00:13<1:08:02,  2.25it/s, Average Loss=0.824, Epoch=0]\u001b[A\n",
            "Train:   0%|          | 40/9200 [00:17<1:08:48,  2.22it/s, Average Loss=0.824, Epoch=0]\u001b[A\n",
            "Train:   0%|          | 40/9200 [00:17<1:08:48,  2.22it/s, Average Loss=0.884, Epoch=0]\u001b[A\n",
            "Train:   1%|          | 50/9200 [00:22<1:08:31,  2.23it/s, Average Loss=0.884, Epoch=0]\u001b[A\n",
            "Train:   1%|          | 50/9200 [00:22<1:08:31,  2.23it/s, Average Loss=0.956, Epoch=0]\u001b[A\n",
            "Train:   1%|          | 60/9200 [00:26<1:08:27,  2.23it/s, Average Loss=0.956, Epoch=0]\u001b[A\n",
            "Train:   1%|          | 60/9200 [00:26<1:08:27,  2.23it/s, Average Loss=0.791, Epoch=0]\u001b[A\n",
            "Train:   1%|          | 70/9200 [00:31<1:07:33,  2.25it/s, Average Loss=0.791, Epoch=0]\u001b[A\n",
            "Train:   1%|          | 70/9200 [00:31<1:07:33,  2.25it/s, Average Loss=0.833, Epoch=0]\u001b[A\n",
            "Train:   1%|          | 80/9200 [00:35<1:07:05,  2.27it/s, Average Loss=0.833, Epoch=0]\u001b[A\n",
            "Train:   1%|          | 80/9200 [00:35<1:07:05,  2.27it/s, Average Loss=0.817, Epoch=0]\u001b[A\n",
            "Train:   1%|          | 90/9200 [00:39<1:06:39,  2.28it/s, Average Loss=0.817, Epoch=0]\u001b[A\n",
            "Train:   1%|          | 90/9200 [00:39<1:06:39,  2.28it/s, Average Loss=0.774, Epoch=0]\u001b[A\n",
            "Train:   1%|          | 100/9200 [00:44<1:06:37,  2.28it/s, Average Loss=0.774, Epoch=0]\u001b[A\n",
            "Train:   1%|          | 100/9200 [00:44<1:06:37,  2.28it/s, Average Loss=0.687, Epoch=0]\u001b[A\n",
            "Train:   1%|          | 110/9200 [00:48<1:06:47,  2.27it/s, Average Loss=0.687, Epoch=0]\u001b[A\n",
            "Train:   1%|          | 110/9200 [00:48<1:06:47,  2.27it/s, Average Loss=0.805, Epoch=0]\u001b[A\n",
            "Train:   1%|▏         | 120/9200 [00:53<1:06:37,  2.27it/s, Average Loss=0.805, Epoch=0]\u001b[A\n",
            "Train:   1%|▏         | 120/9200 [00:53<1:06:37,  2.27it/s, Average Loss=0.672, Epoch=0]\u001b[A\n",
            "Train:   1%|▏         | 130/9200 [00:57<1:06:31,  2.27it/s, Average Loss=0.672, Epoch=0]\u001b[A\n",
            "Train:   1%|▏         | 130/9200 [00:57<1:06:31,  2.27it/s, Average Loss=0.749, Epoch=0]\u001b[A\n",
            "Train:   2%|▏         | 140/9200 [01:02<1:06:36,  2.27it/s, Average Loss=0.749, Epoch=0]\u001b[A\n",
            "Train:   2%|▏         | 140/9200 [01:02<1:06:36,  2.27it/s, Average Loss=0.666, Epoch=0]\u001b[A\n",
            "Train:   2%|▏         | 150/9200 [01:06<1:06:45,  2.26it/s, Average Loss=0.666, Epoch=0]\u001b[A\n",
            "Train:   2%|▏         | 150/9200 [01:06<1:06:45,  2.26it/s, Average Loss=0.716, Epoch=0]\u001b[A\n",
            "Train:   2%|▏         | 160/9200 [01:10<1:06:45,  2.26it/s, Average Loss=0.716, Epoch=0]\u001b[A\n",
            "Train:   2%|▏         | 160/9200 [01:10<1:06:45,  2.26it/s, Average Loss=0.751, Epoch=0]\u001b[A\n",
            "Train:   2%|▏         | 170/9200 [01:15<1:06:49,  2.25it/s, Average Loss=0.751, Epoch=0]\u001b[A\n",
            "Train:   2%|▏         | 170/9200 [01:15<1:06:49,  2.25it/s, Average Loss=0.715, Epoch=0]\u001b[A\n",
            "Train:   2%|▏         | 180/9200 [01:19<1:06:56,  2.25it/s, Average Loss=0.715, Epoch=0]\u001b[A\n",
            "Train:   2%|▏         | 180/9200 [01:19<1:06:56,  2.25it/s, Average Loss=0.643, Epoch=0]\u001b[A\n",
            "Train:   2%|▏         | 190/9200 [01:24<1:06:51,  2.25it/s, Average Loss=0.643, Epoch=0]\u001b[A\n",
            "Train:   2%|▏         | 190/9200 [01:24<1:06:51,  2.25it/s, Average Loss=0.61, Epoch=0] \u001b[A\n",
            "Train:   2%|▏         | 200/9200 [01:28<1:06:49,  2.24it/s, Average Loss=0.61, Epoch=0]\u001b[A\n",
            "Train:   2%|▏         | 200/9200 [01:28<1:06:49,  2.24it/s, Average Loss=0.542, Epoch=0]\u001b[A\n",
            "Train:   2%|▏         | 210/9200 [01:33<1:06:57,  2.24it/s, Average Loss=0.542, Epoch=0]\u001b[A\n",
            "Train:   2%|▏         | 210/9200 [01:33<1:06:57,  2.24it/s, Average Loss=0.641, Epoch=0]\u001b[A\n",
            "Train:   2%|▏         | 220/9200 [01:37<1:06:53,  2.24it/s, Average Loss=0.641, Epoch=0]\u001b[A\n",
            "Train:   2%|▏         | 220/9200 [01:37<1:06:53,  2.24it/s, Average Loss=0.646, Epoch=0]\u001b[A\n",
            "Train:   2%|▎         | 230/9200 [01:42<1:07:26,  2.22it/s, Average Loss=0.646, Epoch=0]\u001b[A\n",
            "Train:   2%|▎         | 230/9200 [01:42<1:07:26,  2.22it/s, Average Loss=0.659, Epoch=0]\u001b[A\n",
            "Train:   3%|▎         | 240/9200 [01:47<1:09:04,  2.16it/s, Average Loss=0.659, Epoch=0]\u001b[A\n",
            "Train:   3%|▎         | 240/9200 [01:47<1:09:04,  2.16it/s, Average Loss=0.632, Epoch=0]\u001b[A\n",
            "Train:   3%|▎         | 250/9200 [01:51<1:08:35,  2.17it/s, Average Loss=0.632, Epoch=0]\u001b[A\n",
            "Train:   3%|▎         | 250/9200 [01:51<1:08:35,  2.17it/s, Average Loss=0.589, Epoch=0]\u001b[A\n",
            "Train:   3%|▎         | 260/9200 [01:56<1:08:09,  2.19it/s, Average Loss=0.589, Epoch=0]\u001b[A\n",
            "Train:   3%|▎         | 260/9200 [01:56<1:08:09,  2.19it/s, Average Loss=0.561, Epoch=0]\u001b[A\n",
            "Train:   3%|▎         | 270/9200 [02:00<1:07:59,  2.19it/s, Average Loss=0.561, Epoch=0]\u001b[A\n",
            "Train:   3%|▎         | 270/9200 [02:00<1:07:59,  2.19it/s, Average Loss=0.608, Epoch=0]\u001b[A\n",
            "Train:   3%|▎         | 280/9200 [02:05<1:08:00,  2.19it/s, Average Loss=0.608, Epoch=0]\u001b[A\n",
            "Train:   3%|▎         | 280/9200 [02:05<1:08:00,  2.19it/s, Average Loss=0.529, Epoch=0]\u001b[A\n",
            "Train:   3%|▎         | 290/9200 [02:10<1:07:58,  2.18it/s, Average Loss=0.529, Epoch=0]\u001b[A\n",
            "Train:   3%|▎         | 290/9200 [02:10<1:07:58,  2.18it/s, Average Loss=0.489, Epoch=0]\u001b[A\n",
            "Train:   3%|▎         | 300/9200 [02:14<1:08:13,  2.17it/s, Average Loss=0.489, Epoch=0]\u001b[A\n",
            "Train:   3%|▎         | 300/9200 [02:14<1:08:13,  2.17it/s, Average Loss=0.621, Epoch=0]\u001b[A\n",
            "Train:   3%|▎         | 310/9200 [02:19<1:08:40,  2.16it/s, Average Loss=0.621, Epoch=0]\u001b[A\n",
            "Train:   3%|▎         | 310/9200 [02:19<1:08:40,  2.16it/s, Average Loss=0.552, Epoch=0]\u001b[A\n",
            "Train:   3%|▎         | 320/9200 [02:24<1:08:51,  2.15it/s, Average Loss=0.552, Epoch=0]\u001b[A\n",
            "Train:   3%|▎         | 320/9200 [02:24<1:08:51,  2.15it/s, Average Loss=0.587, Epoch=0]\u001b[A\n",
            "Train:   4%|▎         | 330/9200 [02:28<1:09:02,  2.14it/s, Average Loss=0.587, Epoch=0]\u001b[A\n",
            "Train:   4%|▎         | 330/9200 [02:28<1:09:02,  2.14it/s, Average Loss=0.553, Epoch=0]\u001b[A\n",
            "Train:   4%|▎         | 340/9200 [02:33<1:09:29,  2.12it/s, Average Loss=0.553, Epoch=0]\u001b[A\n",
            "Train:   4%|▎         | 340/9200 [02:33<1:09:29,  2.12it/s, Average Loss=0.519, Epoch=0]\u001b[A\n",
            "Train:   4%|▍         | 350/9200 [02:38<1:09:34,  2.12it/s, Average Loss=0.519, Epoch=0]\u001b[A\n",
            "Train:   4%|▍         | 350/9200 [02:38<1:09:34,  2.12it/s, Average Loss=0.598, Epoch=0]\u001b[A\n",
            "Train:   4%|▍         | 360/9200 [02:43<1:09:37,  2.12it/s, Average Loss=0.598, Epoch=0]\u001b[A\n",
            "Train:   4%|▍         | 360/9200 [02:43<1:09:37,  2.12it/s, Average Loss=0.566, Epoch=0]\u001b[A\n",
            "Train:   4%|▍         | 370/9200 [02:47<1:09:48,  2.11it/s, Average Loss=0.566, Epoch=0]\u001b[A\n",
            "Train:   4%|▍         | 370/9200 [02:47<1:09:48,  2.11it/s, Average Loss=0.573, Epoch=0]\u001b[A\n",
            "Train:   4%|▍         | 380/9200 [02:52<1:09:42,  2.11it/s, Average Loss=0.573, Epoch=0]\u001b[A\n",
            "Train:   4%|▍         | 380/9200 [02:52<1:09:42,  2.11it/s, Average Loss=0.518, Epoch=0]\u001b[A\n",
            "Train:   4%|▍         | 390/9200 [02:57<1:09:26,  2.11it/s, Average Loss=0.518, Epoch=0]\u001b[A\n",
            "Train:   4%|▍         | 390/9200 [02:57<1:09:26,  2.11it/s, Average Loss=0.539, Epoch=0]\u001b[A\n",
            "Train:   4%|▍         | 400/9200 [03:02<1:09:23,  2.11it/s, Average Loss=0.539, Epoch=0]\u001b[A\n",
            "Train:   4%|▍         | 400/9200 [03:02<1:09:23,  2.11it/s, Average Loss=0.54, Epoch=0] \u001b[A\n",
            "Train:   4%|▍         | 410/9200 [03:06<1:09:04,  2.12it/s, Average Loss=0.54, Epoch=0]\u001b[A\n",
            "Train:   4%|▍         | 410/9200 [03:06<1:09:04,  2.12it/s, Average Loss=0.494, Epoch=0]\u001b[A\n",
            "Train:   5%|▍         | 420/9200 [03:11<1:08:49,  2.13it/s, Average Loss=0.494, Epoch=0]\u001b[A\n",
            "Train:   5%|▍         | 420/9200 [03:11<1:08:49,  2.13it/s, Average Loss=0.514, Epoch=0]\u001b[A\n",
            "Train:   5%|▍         | 430/9200 [03:16<1:08:36,  2.13it/s, Average Loss=0.514, Epoch=0]\u001b[A\n",
            "Train:   5%|▍         | 430/9200 [03:16<1:08:36,  2.13it/s, Average Loss=0.393, Epoch=0]\u001b[A\n",
            "Train:   5%|▍         | 440/9200 [03:20<1:08:27,  2.13it/s, Average Loss=0.393, Epoch=0]\u001b[A\n",
            "Train:   5%|▍         | 440/9200 [03:20<1:08:27,  2.13it/s, Average Loss=0.457, Epoch=0]\u001b[A\n",
            "Train:   5%|▍         | 450/9200 [03:25<1:08:14,  2.14it/s, Average Loss=0.457, Epoch=0]\u001b[A\n",
            "Train:   5%|▍         | 450/9200 [03:25<1:08:14,  2.14it/s, Average Loss=0.443, Epoch=0]\u001b[A\n",
            "Train:   5%|▌         | 460/9200 [03:30<1:07:47,  2.15it/s, Average Loss=0.443, Epoch=0]\u001b[A\n",
            "Train:   5%|▌         | 460/9200 [03:30<1:07:47,  2.15it/s, Average Loss=0.505, Epoch=0]\u001b[A<ipython-input-70-0d8824a99c2b>:17: FutureWarning: load_metric is deprecated and will be removed in the next major version of datasets. Use 'evaluate.load' instead, from the new library 🤗 Evaluate: https://huggingface.co/docs/evaluate\n",
            "  macro_f1 = load_metric(\"f1\").compute(predictions=allpreds, references=alllabels, average=\"macro\")[\"f1\"]\n"
          ]
        },
        {
          "output_type": "display_data",
          "data": {
            "text/plain": [
              "Downloading builder script:   0%|          | 0.00/2.32k [00:00<?, ?B/s]"
            ],
            "application/vnd.jupyter.widget-view+json": {
              "version_major": 2,
              "version_minor": 0,
              "model_id": "ffaacd0b2d624b459be8cc0eee6c96a0"
            }
          },
          "metadata": {}
        },
        {
          "output_type": "stream",
          "name": "stdout",
          "text": [
            "Validation: [Epoch: 0, Macro F1: 0.6100702377541667, Validation Loss: 0.299778810074163, Time per Epoch: 220.0757350921631]\n",
            "Begin Epoch 1\n"
          ]
        },
        {
          "output_type": "stream",
          "name": "stderr",
          "text": [
            "\n",
            "Train:   5%|▌         | 470/9200 [03:49<2:10:18,  1.12it/s, Average Loss=0.505, Epoch=0]\u001b[A\n",
            "Train:   5%|▌         | 470/9200 [03:49<2:10:18,  1.12it/s, Average Loss=0.358, Epoch=1]\u001b[A\n",
            "Train:   5%|▌         | 480/9200 [03:53<1:49:46,  1.32it/s, Average Loss=0.358, Epoch=1]\u001b[A\n",
            "Train:   5%|▌         | 480/9200 [03:53<1:49:46,  1.32it/s, Average Loss=0.427, Epoch=1]\u001b[A\n",
            "Train:   5%|▌         | 490/9200 [03:57<1:35:30,  1.52it/s, Average Loss=0.427, Epoch=1]\u001b[A\n",
            "Train:   5%|▌         | 490/9200 [03:57<1:35:30,  1.52it/s, Average Loss=0.33, Epoch=1] \u001b[A\n",
            "Train:   5%|▌         | 500/9200 [04:01<1:25:49,  1.69it/s, Average Loss=0.33, Epoch=1]\u001b[A\n",
            "Train:   5%|▌         | 500/9200 [04:01<1:25:49,  1.69it/s, Average Loss=0.342, Epoch=1]\u001b[A\n",
            "Train:   6%|▌         | 510/9200 [04:06<1:19:03,  1.83it/s, Average Loss=0.342, Epoch=1]\u001b[A\n",
            "Train:   6%|▌         | 510/9200 [04:06<1:19:03,  1.83it/s, Average Loss=0.35, Epoch=1] \u001b[A\n",
            "Train:   6%|▌         | 520/9200 [04:10<1:14:22,  1.95it/s, Average Loss=0.35, Epoch=1]\u001b[A\n",
            "Train:   6%|▌         | 520/9200 [04:10<1:14:22,  1.95it/s, Average Loss=0.359, Epoch=1]\u001b[A\n",
            "Train:   6%|▌         | 530/9200 [04:15<1:11:07,  2.03it/s, Average Loss=0.359, Epoch=1]\u001b[A\n",
            "Train:   6%|▌         | 530/9200 [04:15<1:11:07,  2.03it/s, Average Loss=0.304, Epoch=1]\u001b[A\n",
            "Train:   6%|▌         | 540/9200 [04:19<1:08:47,  2.10it/s, Average Loss=0.304, Epoch=1]\u001b[A\n",
            "Train:   6%|▌         | 540/9200 [04:19<1:08:47,  2.10it/s, Average Loss=0.292, Epoch=1]\u001b[A\n",
            "Train:   6%|▌         | 550/9200 [04:23<1:06:51,  2.16it/s, Average Loss=0.292, Epoch=1]\u001b[A\n",
            "Train:   6%|▌         | 550/9200 [04:23<1:06:51,  2.16it/s, Average Loss=0.297, Epoch=1]\u001b[A\n",
            "Train:   6%|▌         | 560/9200 [04:28<1:05:28,  2.20it/s, Average Loss=0.297, Epoch=1]\u001b[A\n",
            "Train:   6%|▌         | 560/9200 [04:28<1:05:28,  2.20it/s, Average Loss=0.221, Epoch=1]\u001b[A\n",
            "Train:   6%|▌         | 570/9200 [04:32<1:04:36,  2.23it/s, Average Loss=0.221, Epoch=1]\u001b[A\n",
            "Train:   6%|▌         | 570/9200 [04:32<1:04:36,  2.23it/s, Average Loss=0.251, Epoch=1]\u001b[A\n",
            "Train:   6%|▋         | 580/9200 [04:36<1:03:43,  2.25it/s, Average Loss=0.251, Epoch=1]\u001b[A\n",
            "Train:   6%|▋         | 580/9200 [04:36<1:03:43,  2.25it/s, Average Loss=0.254, Epoch=1]\u001b[A\n",
            "Train:   6%|▋         | 590/9200 [04:41<1:03:05,  2.27it/s, Average Loss=0.254, Epoch=1]\u001b[A\n",
            "Train:   6%|▋         | 590/9200 [04:41<1:03:05,  2.27it/s, Average Loss=0.202, Epoch=1]\u001b[A\n",
            "Train:   7%|▋         | 600/9200 [04:45<1:02:43,  2.29it/s, Average Loss=0.202, Epoch=1]\u001b[A\n",
            "Train:   7%|▋         | 600/9200 [04:45<1:02:43,  2.29it/s, Average Loss=0.333, Epoch=1]\u001b[A\n",
            "Train:   7%|▋         | 610/9200 [04:49<1:02:23,  2.29it/s, Average Loss=0.333, Epoch=1]\u001b[A\n",
            "Train:   7%|▋         | 610/9200 [04:49<1:02:23,  2.29it/s, Average Loss=0.195, Epoch=1]\u001b[A\n",
            "Train:   7%|▋         | 620/9200 [04:54<1:02:02,  2.30it/s, Average Loss=0.195, Epoch=1]\u001b[A\n",
            "Train:   7%|▋         | 620/9200 [04:54<1:02:02,  2.30it/s, Average Loss=0.343, Epoch=1]\u001b[A\n",
            "Train:   7%|▋         | 630/9200 [04:58<1:01:51,  2.31it/s, Average Loss=0.343, Epoch=1]\u001b[A\n",
            "Train:   7%|▋         | 630/9200 [04:58<1:01:51,  2.31it/s, Average Loss=0.227, Epoch=1]\u001b[A\n",
            "Train:   7%|▋         | 640/9200 [05:02<1:01:51,  2.31it/s, Average Loss=0.227, Epoch=1]\u001b[A\n",
            "Train:   7%|▋         | 640/9200 [05:02<1:01:51,  2.31it/s, Average Loss=0.238, Epoch=1]\u001b[A\n",
            "Train:   7%|▋         | 650/9200 [05:07<1:01:40,  2.31it/s, Average Loss=0.238, Epoch=1]\u001b[A\n",
            "Train:   7%|▋         | 650/9200 [05:07<1:01:40,  2.31it/s, Average Loss=0.241, Epoch=1]\u001b[A\n",
            "Train:   7%|▋         | 660/9200 [05:11<1:01:31,  2.31it/s, Average Loss=0.241, Epoch=1]\u001b[A\n",
            "Train:   7%|▋         | 660/9200 [05:11<1:01:31,  2.31it/s, Average Loss=0.278, Epoch=1]\u001b[A\n",
            "Train:   7%|▋         | 670/9200 [05:15<1:01:34,  2.31it/s, Average Loss=0.278, Epoch=1]\u001b[A\n",
            "Train:   7%|▋         | 670/9200 [05:15<1:01:34,  2.31it/s, Average Loss=0.237, Epoch=1]\u001b[A\n",
            "Train:   7%|▋         | 680/9200 [05:20<1:01:33,  2.31it/s, Average Loss=0.237, Epoch=1]\u001b[A\n",
            "Train:   7%|▋         | 680/9200 [05:20<1:01:33,  2.31it/s, Average Loss=0.204, Epoch=1]\u001b[A\n",
            "Train:   8%|▊         | 690/9200 [05:24<1:01:23,  2.31it/s, Average Loss=0.204, Epoch=1]\u001b[A\n",
            "Train:   8%|▊         | 690/9200 [05:24<1:01:23,  2.31it/s, Average Loss=0.18, Epoch=1] \u001b[A\n",
            "Train:   8%|▊         | 700/9200 [05:28<1:01:22,  2.31it/s, Average Loss=0.18, Epoch=1]\u001b[A\n",
            "Train:   8%|▊         | 700/9200 [05:28<1:01:22,  2.31it/s, Average Loss=0.23, Epoch=1]\u001b[A\n",
            "Train:   8%|▊         | 710/9200 [05:33<1:01:24,  2.30it/s, Average Loss=0.23, Epoch=1]\u001b[A\n",
            "Train:   8%|▊         | 710/9200 [05:33<1:01:24,  2.30it/s, Average Loss=0.213, Epoch=1]\u001b[A\n",
            "Train:   8%|▊         | 720/9200 [05:37<1:01:14,  2.31it/s, Average Loss=0.213, Epoch=1]\u001b[A\n",
            "Train:   8%|▊         | 720/9200 [05:37<1:01:14,  2.31it/s, Average Loss=0.279, Epoch=1]\u001b[A\n",
            "Train:   8%|▊         | 730/9200 [05:41<1:01:05,  2.31it/s, Average Loss=0.279, Epoch=1]\u001b[A\n",
            "Train:   8%|▊         | 730/9200 [05:41<1:01:05,  2.31it/s, Average Loss=0.231, Epoch=1]\u001b[A\n",
            "Train:   8%|▊         | 740/9200 [05:46<1:01:10,  2.31it/s, Average Loss=0.231, Epoch=1]\u001b[A\n",
            "Train:   8%|▊         | 740/9200 [05:46<1:01:10,  2.31it/s, Average Loss=0.16, Epoch=1] \u001b[A\n",
            "Train:   8%|▊         | 750/9200 [05:50<1:01:04,  2.31it/s, Average Loss=0.16, Epoch=1]\u001b[A\n",
            "Train:   8%|▊         | 750/9200 [05:50<1:01:04,  2.31it/s, Average Loss=0.218, Epoch=1]\u001b[A\n",
            "Train:   8%|▊         | 760/9200 [05:54<1:00:57,  2.31it/s, Average Loss=0.218, Epoch=1]\u001b[A\n",
            "Train:   8%|▊         | 760/9200 [05:54<1:00:57,  2.31it/s, Average Loss=0.193, Epoch=1]\u001b[A\n",
            "Train:   8%|▊         | 770/9200 [05:59<1:00:57,  2.30it/s, Average Loss=0.193, Epoch=1]\u001b[A\n",
            "Train:   8%|▊         | 770/9200 [05:59<1:00:57,  2.30it/s, Average Loss=0.197, Epoch=1]\u001b[A\n",
            "Train:   8%|▊         | 780/9200 [06:03<1:00:59,  2.30it/s, Average Loss=0.197, Epoch=1]\u001b[A\n",
            "Train:   8%|▊         | 780/9200 [06:03<1:00:59,  2.30it/s, Average Loss=0.166, Epoch=1]\u001b[A\n",
            "Train:   9%|▊         | 790/9200 [06:07<1:00:51,  2.30it/s, Average Loss=0.166, Epoch=1]\u001b[A\n",
            "Train:   9%|▊         | 790/9200 [06:07<1:00:51,  2.30it/s, Average Loss=0.213, Epoch=1]\u001b[A\n",
            "Train:   9%|▊         | 800/9200 [06:12<1:00:49,  2.30it/s, Average Loss=0.213, Epoch=1]\u001b[A\n",
            "Train:   9%|▊         | 800/9200 [06:12<1:00:49,  2.30it/s, Average Loss=0.2, Epoch=1]  \u001b[A\n",
            "Train:   9%|▉         | 810/9200 [06:16<1:00:54,  2.30it/s, Average Loss=0.2, Epoch=1]\u001b[A\n",
            "Train:   9%|▉         | 810/9200 [06:16<1:00:54,  2.30it/s, Average Loss=0.185, Epoch=1]\u001b[A\n",
            "Train:   9%|▉         | 820/9200 [06:20<1:00:44,  2.30it/s, Average Loss=0.185, Epoch=1]\u001b[A\n",
            "Train:   9%|▉         | 820/9200 [06:20<1:00:44,  2.30it/s, Average Loss=0.178, Epoch=1]\u001b[A\n",
            "Train:   9%|▉         | 830/9200 [06:25<1:00:35,  2.30it/s, Average Loss=0.178, Epoch=1]\u001b[A\n",
            "Train:   9%|▉         | 830/9200 [06:25<1:00:35,  2.30it/s, Average Loss=0.15, Epoch=1] \u001b[A\n",
            "Train:   9%|▉         | 840/9200 [06:29<1:00:36,  2.30it/s, Average Loss=0.15, Epoch=1]\u001b[A\n",
            "Train:   9%|▉         | 840/9200 [06:29<1:00:36,  2.30it/s, Average Loss=0.183, Epoch=1]\u001b[A\n",
            "Train:   9%|▉         | 850/9200 [06:33<1:00:34,  2.30it/s, Average Loss=0.183, Epoch=1]\u001b[A\n",
            "Train:   9%|▉         | 850/9200 [06:33<1:00:34,  2.30it/s, Average Loss=0.183, Epoch=1]\u001b[A\n",
            "Train:   9%|▉         | 860/9200 [06:38<1:00:22,  2.30it/s, Average Loss=0.183, Epoch=1]\u001b[A\n",
            "Train:   9%|▉         | 860/9200 [06:38<1:00:22,  2.30it/s, Average Loss=0.126, Epoch=1]\u001b[A\n",
            "Train:   9%|▉         | 870/9200 [06:42<1:00:17,  2.30it/s, Average Loss=0.126, Epoch=1]\u001b[A\n",
            "Train:   9%|▉         | 870/9200 [06:42<1:00:17,  2.30it/s, Average Loss=0.209, Epoch=1]\u001b[A\n",
            "Train:  10%|▉         | 880/9200 [06:47<1:00:21,  2.30it/s, Average Loss=0.209, Epoch=1]\u001b[A\n",
            "Train:  10%|▉         | 880/9200 [06:47<1:00:21,  2.30it/s, Average Loss=0.173, Epoch=1]\u001b[A\n",
            "Train:  10%|▉         | 890/9200 [06:51<1:00:13,  2.30it/s, Average Loss=0.173, Epoch=1]\u001b[A\n",
            "Train:  10%|▉         | 890/9200 [06:51<1:00:13,  2.30it/s, Average Loss=0.168, Epoch=1]\u001b[A\n",
            "Train:  10%|▉         | 900/9200 [06:55<1:00:01,  2.30it/s, Average Loss=0.168, Epoch=1]\u001b[A\n",
            "Train:  10%|▉         | 900/9200 [06:55<1:00:01,  2.30it/s, Average Loss=0.154, Epoch=1]\u001b[A\n",
            "Train:  10%|▉         | 910/9200 [07:00<1:00:04,  2.30it/s, Average Loss=0.154, Epoch=1]\u001b[A\n",
            "Train:  10%|▉         | 910/9200 [07:00<1:00:04,  2.30it/s, Average Loss=0.127, Epoch=1]\u001b[A\n",
            "Train:  10%|█         | 920/9200 [07:04<59:36,  2.32it/s, Average Loss=0.127, Epoch=1]  \u001b[A\n",
            "Train:  10%|█         | 920/9200 [07:04<59:36,  2.32it/s, Average Loss=0.162, Epoch=1]\u001b[A"
          ]
        },
        {
          "output_type": "stream",
          "name": "stdout",
          "text": [
            "Validation: [Epoch: 1, Macro F1: 0.6615828502845387, Validation Loss: 0.30524056816343653, Time per Epoch: 209.48405933380127]\n",
            "Begin Epoch 2\n"
          ]
        },
        {
          "output_type": "stream",
          "name": "stderr",
          "text": [
            "\n",
            "Train:  10%|█         | 930/9200 [07:24<2:04:05,  1.11it/s, Average Loss=0.162, Epoch=1]\u001b[A\n",
            "Train:  10%|█         | 930/9200 [07:24<2:04:05,  1.11it/s, Average Loss=0.0825, Epoch=2]\u001b[A\n",
            "Train:  10%|█         | 940/9200 [07:28<1:44:32,  1.32it/s, Average Loss=0.0825, Epoch=2]\u001b[A\n",
            "Train:  10%|█         | 940/9200 [07:28<1:44:32,  1.32it/s, Average Loss=0.122, Epoch=2] \u001b[A\n",
            "Train:  10%|█         | 950/9200 [07:32<1:31:03,  1.51it/s, Average Loss=0.122, Epoch=2]\u001b[A\n",
            "Train:  10%|█         | 950/9200 [07:32<1:31:03,  1.51it/s, Average Loss=0.0761, Epoch=2]\u001b[A\n",
            "Train:  10%|█         | 960/9200 [07:37<1:21:34,  1.68it/s, Average Loss=0.0761, Epoch=2]\u001b[A\n",
            "Train:  10%|█         | 960/9200 [07:37<1:21:34,  1.68it/s, Average Loss=0.135, Epoch=2] \u001b[A\n",
            "Train:  11%|█         | 970/9200 [07:41<1:15:05,  1.83it/s, Average Loss=0.135, Epoch=2]\u001b[A\n",
            "Train:  11%|█         | 970/9200 [07:41<1:15:05,  1.83it/s, Average Loss=0.0914, Epoch=2]\u001b[A\n",
            "Train:  11%|█         | 980/9200 [07:46<1:10:47,  1.94it/s, Average Loss=0.0914, Epoch=2]\u001b[A\n",
            "Train:  11%|█         | 980/9200 [07:46<1:10:47,  1.94it/s, Average Loss=0.0851, Epoch=2]\u001b[A\n",
            "Train:  11%|█         | 990/9200 [07:50<1:07:32,  2.03it/s, Average Loss=0.0851, Epoch=2]\u001b[A\n",
            "Train:  11%|█         | 990/9200 [07:50<1:07:32,  2.03it/s, Average Loss=0.14, Epoch=2]  \u001b[A\n",
            "Train:  11%|█         | 1000/9200 [07:54<1:05:12,  2.10it/s, Average Loss=0.14, Epoch=2]\u001b[A\n",
            "Train:  11%|█         | 1000/9200 [07:54<1:05:12,  2.10it/s, Average Loss=0.12, Epoch=2]\u001b[A\n",
            "Train:  11%|█         | 1010/9200 [07:59<1:03:29,  2.15it/s, Average Loss=0.12, Epoch=2]\u001b[A\n",
            "Train:  11%|█         | 1010/9200 [07:59<1:03:29,  2.15it/s, Average Loss=0.111, Epoch=2]\u001b[A\n",
            "Train:  11%|█         | 1020/9200 [08:03<1:02:12,  2.19it/s, Average Loss=0.111, Epoch=2]\u001b[A\n",
            "Train:  11%|█         | 1020/9200 [08:03<1:02:12,  2.19it/s, Average Loss=0.104, Epoch=2]\u001b[A\n",
            "Train:  11%|█         | 1030/9200 [08:07<1:01:08,  2.23it/s, Average Loss=0.104, Epoch=2]\u001b[A\n",
            "Train:  11%|█         | 1030/9200 [08:07<1:01:08,  2.23it/s, Average Loss=0.0608, Epoch=2]\u001b[A\n",
            "Train:  11%|█▏        | 1040/9200 [08:12<1:00:22,  2.25it/s, Average Loss=0.0608, Epoch=2]\u001b[A\n",
            "Train:  11%|█▏        | 1040/9200 [08:12<1:00:22,  2.25it/s, Average Loss=0.125, Epoch=2] \u001b[A\n",
            "Train:  11%|█▏        | 1050/9200 [08:16<59:54,  2.27it/s, Average Loss=0.125, Epoch=2]  \u001b[A\n",
            "Train:  11%|█▏        | 1050/9200 [08:16<59:54,  2.27it/s, Average Loss=0.0813, Epoch=2]\u001b[A\n",
            "Train:  12%|█▏        | 1060/9200 [08:20<59:23,  2.28it/s, Average Loss=0.0813, Epoch=2]\u001b[A\n",
            "Train:  12%|█▏        | 1060/9200 [08:20<59:23,  2.28it/s, Average Loss=0.0601, Epoch=2]\u001b[A\n",
            "Train:  12%|█▏        | 1070/9200 [08:25<58:56,  2.30it/s, Average Loss=0.0601, Epoch=2]\u001b[A\n",
            "Train:  12%|█▏        | 1070/9200 [08:25<58:56,  2.30it/s, Average Loss=0.107, Epoch=2] \u001b[A\n",
            "Train:  12%|█▏        | 1080/9200 [08:29<58:49,  2.30it/s, Average Loss=0.107, Epoch=2]\u001b[A\n",
            "Train:  12%|█▏        | 1080/9200 [08:29<58:49,  2.30it/s, Average Loss=0.109, Epoch=2]\u001b[A\n",
            "Train:  12%|█▏        | 1090/9200 [08:33<58:39,  2.30it/s, Average Loss=0.109, Epoch=2]\u001b[A\n",
            "Train:  12%|█▏        | 1090/9200 [08:33<58:39,  2.30it/s, Average Loss=0.0545, Epoch=2]\u001b[A\n",
            "Train:  12%|█▏        | 1100/9200 [08:38<58:27,  2.31it/s, Average Loss=0.0545, Epoch=2]\u001b[A\n",
            "Train:  12%|█▏        | 1100/9200 [08:38<58:27,  2.31it/s, Average Loss=0.0775, Epoch=2]\u001b[A\n",
            "Train:  12%|█▏        | 1110/9200 [08:42<58:23,  2.31it/s, Average Loss=0.0775, Epoch=2]\u001b[A\n",
            "Train:  12%|█▏        | 1110/9200 [08:42<58:23,  2.31it/s, Average Loss=0.0814, Epoch=2]\u001b[A\n",
            "Train:  12%|█▏        | 1120/9200 [08:46<58:25,  2.30it/s, Average Loss=0.0814, Epoch=2]\u001b[A\n",
            "Train:  12%|█▏        | 1120/9200 [08:46<58:25,  2.30it/s, Average Loss=0.0653, Epoch=2]\u001b[A\n",
            "Train:  12%|█▏        | 1130/9200 [08:51<58:22,  2.30it/s, Average Loss=0.0653, Epoch=2]\u001b[A\n",
            "Train:  12%|█▏        | 1130/9200 [08:51<58:22,  2.30it/s, Average Loss=0.0486, Epoch=2]\u001b[A\n",
            "Train:  12%|█▏        | 1140/9200 [08:55<58:19,  2.30it/s, Average Loss=0.0486, Epoch=2]\u001b[A\n",
            "Train:  12%|█▏        | 1140/9200 [08:55<58:19,  2.30it/s, Average Loss=0.0609, Epoch=2]\u001b[A\n",
            "Train:  12%|█▎        | 1150/9200 [08:59<58:28,  2.29it/s, Average Loss=0.0609, Epoch=2]\u001b[A\n",
            "Train:  12%|█▎        | 1150/9200 [08:59<58:28,  2.29it/s, Average Loss=0.0821, Epoch=2]\u001b[A\n",
            "Train:  13%|█▎        | 1160/9200 [09:04<58:21,  2.30it/s, Average Loss=0.0821, Epoch=2]\u001b[A\n",
            "Train:  13%|█▎        | 1160/9200 [09:04<58:21,  2.30it/s, Average Loss=0.106, Epoch=2] \u001b[A\n",
            "Train:  13%|█▎        | 1170/9200 [09:08<58:11,  2.30it/s, Average Loss=0.106, Epoch=2]\u001b[A\n",
            "Train:  13%|█▎        | 1170/9200 [09:08<58:11,  2.30it/s, Average Loss=0.03, Epoch=2] \u001b[A\n",
            "Train:  13%|█▎        | 1180/9200 [09:12<58:08,  2.30it/s, Average Loss=0.03, Epoch=2]\u001b[A\n",
            "Train:  13%|█▎        | 1180/9200 [09:12<58:08,  2.30it/s, Average Loss=0.0618, Epoch=2]\u001b[A\n",
            "Train:  13%|█▎        | 1190/9200 [09:17<58:04,  2.30it/s, Average Loss=0.0618, Epoch=2]\u001b[A\n",
            "Train:  13%|█▎        | 1190/9200 [09:17<58:04,  2.30it/s, Average Loss=0.143, Epoch=2] \u001b[A\n",
            "Train:  13%|█▎        | 1200/9200 [09:21<57:49,  2.31it/s, Average Loss=0.143, Epoch=2]\u001b[A\n",
            "Train:  13%|█▎        | 1200/9200 [09:21<57:49,  2.31it/s, Average Loss=0.0768, Epoch=2]\u001b[A\n",
            "Train:  13%|█▎        | 1210/9200 [09:25<57:35,  2.31it/s, Average Loss=0.0768, Epoch=2]\u001b[A\n",
            "Train:  13%|█▎        | 1210/9200 [09:25<57:35,  2.31it/s, Average Loss=0.0815, Epoch=2]\u001b[A\n",
            "Train:  13%|█▎        | 1220/9200 [09:30<57:39,  2.31it/s, Average Loss=0.0815, Epoch=2]\u001b[A\n",
            "Train:  13%|█▎        | 1220/9200 [09:30<57:39,  2.31it/s, Average Loss=0.0803, Epoch=2]\u001b[A\n",
            "Train:  13%|█▎        | 1230/9200 [09:34<57:30,  2.31it/s, Average Loss=0.0803, Epoch=2]\u001b[A\n",
            "Train:  13%|█▎        | 1230/9200 [09:34<57:30,  2.31it/s, Average Loss=0.175, Epoch=2] \u001b[A\n",
            "Train:  13%|█▎        | 1240/9200 [09:38<57:22,  2.31it/s, Average Loss=0.175, Epoch=2]\u001b[A\n",
            "Train:  13%|█▎        | 1240/9200 [09:38<57:22,  2.31it/s, Average Loss=0.133, Epoch=2]\u001b[A\n",
            "Train:  14%|█▎        | 1250/9200 [09:43<57:21,  2.31it/s, Average Loss=0.133, Epoch=2]\u001b[A\n",
            "Train:  14%|█▎        | 1250/9200 [09:43<57:21,  2.31it/s, Average Loss=0.0778, Epoch=2]\u001b[A\n",
            "Train:  14%|█▎        | 1260/9200 [09:47<57:21,  2.31it/s, Average Loss=0.0778, Epoch=2]\u001b[A\n",
            "Train:  14%|█▎        | 1260/9200 [09:47<57:21,  2.31it/s, Average Loss=0.0631, Epoch=2]\u001b[A\n",
            "Train:  14%|█▍        | 1270/9200 [09:51<57:19,  2.31it/s, Average Loss=0.0631, Epoch=2]\u001b[A\n",
            "Train:  14%|█▍        | 1270/9200 [09:51<57:19,  2.31it/s, Average Loss=0.122, Epoch=2] \u001b[A\n",
            "Train:  14%|█▍        | 1280/9200 [09:56<57:17,  2.30it/s, Average Loss=0.122, Epoch=2]\u001b[A\n",
            "Train:  14%|█▍        | 1280/9200 [09:56<57:17,  2.30it/s, Average Loss=0.0963, Epoch=2]\u001b[A\n",
            "Train:  14%|█▍        | 1290/9200 [10:00<57:22,  2.30it/s, Average Loss=0.0963, Epoch=2]\u001b[A\n",
            "Train:  14%|█▍        | 1290/9200 [10:00<57:22,  2.30it/s, Average Loss=0.065, Epoch=2] \u001b[A\n",
            "Train:  14%|█▍        | 1300/9200 [10:04<57:17,  2.30it/s, Average Loss=0.065, Epoch=2]\u001b[A\n",
            "Train:  14%|█▍        | 1300/9200 [10:04<57:17,  2.30it/s, Average Loss=0.0465, Epoch=2]\u001b[A\n",
            "Train:  14%|█▍        | 1310/9200 [10:09<57:08,  2.30it/s, Average Loss=0.0465, Epoch=2]\u001b[A\n",
            "Train:  14%|█▍        | 1310/9200 [10:09<57:08,  2.30it/s, Average Loss=0.0587, Epoch=2]\u001b[A\n",
            "Train:  14%|█▍        | 1320/9200 [10:13<57:08,  2.30it/s, Average Loss=0.0587, Epoch=2]\u001b[A\n",
            "Train:  14%|█▍        | 1320/9200 [10:13<57:08,  2.30it/s, Average Loss=0.0919, Epoch=2]\u001b[A\n",
            "Train:  14%|█▍        | 1330/9200 [10:18<57:00,  2.30it/s, Average Loss=0.0919, Epoch=2]\u001b[A\n",
            "Train:  14%|█▍        | 1330/9200 [10:18<57:00,  2.30it/s, Average Loss=0.0516, Epoch=2]\u001b[A\n",
            "Train:  15%|█▍        | 1340/9200 [10:22<56:47,  2.31it/s, Average Loss=0.0516, Epoch=2]\u001b[A\n",
            "Train:  15%|█▍        | 1340/9200 [10:22<56:47,  2.31it/s, Average Loss=0.0687, Epoch=2]\u001b[A\n",
            "Train:  15%|█▍        | 1350/9200 [10:26<56:40,  2.31it/s, Average Loss=0.0687, Epoch=2]\u001b[A\n",
            "Train:  15%|█▍        | 1350/9200 [10:26<56:40,  2.31it/s, Average Loss=0.0624, Epoch=2]\u001b[A\n",
            "Train:  15%|█▍        | 1360/9200 [10:30<56:36,  2.31it/s, Average Loss=0.0624, Epoch=2]\u001b[A\n",
            "Train:  15%|█▍        | 1360/9200 [10:30<56:36,  2.31it/s, Average Loss=0.064, Epoch=2] \u001b[A\n",
            "Train:  15%|█▍        | 1370/9200 [10:35<56:23,  2.31it/s, Average Loss=0.064, Epoch=2]\u001b[A\n",
            "Train:  15%|█▍        | 1370/9200 [10:35<56:23,  2.31it/s, Average Loss=0.0478, Epoch=2]\u001b[A\n",
            "Train:  15%|█▌        | 1380/9200 [10:39<55:55,  2.33it/s, Average Loss=0.0478, Epoch=2]\u001b[A\n",
            "Train:  15%|█▌        | 1380/9200 [10:39<55:55,  2.33it/s, Average Loss=0.063, Epoch=2] \u001b[A"
          ]
        },
        {
          "output_type": "stream",
          "name": "stdout",
          "text": [
            "Validation: [Epoch: 2, Macro F1: 0.6514829005250461, Validation Loss: 0.31473432296648796, Time per Epoch: 209.44222259521484]\n",
            "Begin Epoch 3\n"
          ]
        },
        {
          "output_type": "stream",
          "name": "stderr",
          "text": [
            "\n",
            "Train:  15%|█▌        | 1390/9200 [10:53<1:34:19,  1.38it/s, Average Loss=0.063, Epoch=2]\u001b[A\n",
            "Train:  15%|█▌        | 1390/9200 [10:53<1:34:19,  1.38it/s, Average Loss=0.0333, Epoch=3]\u001b[A\n",
            "Train:  15%|█▌        | 1400/9200 [10:57<1:22:56,  1.57it/s, Average Loss=0.0333, Epoch=3]\u001b[A\n",
            "Train:  15%|█▌        | 1400/9200 [10:58<1:22:56,  1.57it/s, Average Loss=0.00626, Epoch=3]\u001b[A\n",
            "Train:  15%|█▌        | 1410/9200 [11:02<1:14:58,  1.73it/s, Average Loss=0.00626, Epoch=3]\u001b[A\n",
            "Train:  15%|█▌        | 1410/9200 [11:02<1:14:58,  1.73it/s, Average Loss=0.0104, Epoch=3] \u001b[A\n",
            "Train:  15%|█▌        | 1420/9200 [11:06<1:09:16,  1.87it/s, Average Loss=0.0104, Epoch=3]\u001b[A\n",
            "Train:  15%|█▌        | 1420/9200 [11:06<1:09:16,  1.87it/s, Average Loss=0.0367, Epoch=3]\u001b[A\n",
            "Train:  16%|█▌        | 1430/9200 [11:11<1:05:16,  1.98it/s, Average Loss=0.0367, Epoch=3]\u001b[A\n",
            "Train:  16%|█▌        | 1430/9200 [11:11<1:05:16,  1.98it/s, Average Loss=0.0134, Epoch=3]\u001b[A\n",
            "Train:  16%|█▌        | 1440/9200 [11:15<1:02:32,  2.07it/s, Average Loss=0.0134, Epoch=3]\u001b[A\n",
            "Train:  16%|█▌        | 1440/9200 [11:15<1:02:32,  2.07it/s, Average Loss=0.0495, Epoch=3]\u001b[A\n",
            "Train:  16%|█▌        | 1450/9200 [11:19<1:00:27,  2.14it/s, Average Loss=0.0495, Epoch=3]\u001b[A\n",
            "Train:  16%|█▌        | 1450/9200 [11:19<1:00:27,  2.14it/s, Average Loss=0.034, Epoch=3] \u001b[A\n",
            "Train:  16%|█▌        | 1460/9200 [11:24<58:57,  2.19it/s, Average Loss=0.034, Epoch=3]  \u001b[A\n",
            "Train:  16%|█▌        | 1460/9200 [11:24<58:57,  2.19it/s, Average Loss=0.00733, Epoch=3]\u001b[A\n",
            "Train:  16%|█▌        | 1470/9200 [11:28<58:02,  2.22it/s, Average Loss=0.00733, Epoch=3]\u001b[A\n",
            "Train:  16%|█▌        | 1470/9200 [11:28<58:02,  2.22it/s, Average Loss=0.0454, Epoch=3] \u001b[A\n",
            "Train:  16%|█▌        | 1480/9200 [11:32<57:18,  2.25it/s, Average Loss=0.0454, Epoch=3]\u001b[A\n",
            "Train:  16%|█▌        | 1480/9200 [11:32<57:18,  2.25it/s, Average Loss=0.00263, Epoch=3]\u001b[A\n",
            "Train:  16%|█▌        | 1490/9200 [11:37<56:42,  2.27it/s, Average Loss=0.00263, Epoch=3]\u001b[A\n",
            "Train:  16%|█▌        | 1490/9200 [11:37<56:42,  2.27it/s, Average Loss=0.0258, Epoch=3] \u001b[A\n",
            "Train:  16%|█▋        | 1500/9200 [11:41<56:21,  2.28it/s, Average Loss=0.0258, Epoch=3]\u001b[A\n",
            "Train:  16%|█▋        | 1500/9200 [11:41<56:21,  2.28it/s, Average Loss=0.0148, Epoch=3]\u001b[A\n",
            "Train:  16%|█▋        | 1510/9200 [11:45<56:09,  2.28it/s, Average Loss=0.0148, Epoch=3]\u001b[A\n",
            "Train:  16%|█▋        | 1510/9200 [11:45<56:09,  2.28it/s, Average Loss=0.0233, Epoch=3]\u001b[A\n",
            "Train:  17%|█▋        | 1520/9200 [11:50<55:49,  2.29it/s, Average Loss=0.0233, Epoch=3]\u001b[A\n",
            "Train:  17%|█▋        | 1520/9200 [11:50<55:49,  2.29it/s, Average Loss=0.016, Epoch=3] \u001b[A\n",
            "Train:  17%|█▋        | 1530/9200 [11:54<55:31,  2.30it/s, Average Loss=0.016, Epoch=3]\u001b[A\n",
            "Train:  17%|█▋        | 1530/9200 [11:54<55:31,  2.30it/s, Average Loss=0.0184, Epoch=3]\u001b[A\n",
            "Train:  17%|█▋        | 1540/9200 [11:58<55:29,  2.30it/s, Average Loss=0.0184, Epoch=3]\u001b[A\n",
            "Train:  17%|█▋        | 1540/9200 [11:58<55:29,  2.30it/s, Average Loss=0.0461, Epoch=3]\u001b[A\n",
            "Train:  17%|█▋        | 1550/9200 [12:03<55:22,  2.30it/s, Average Loss=0.0461, Epoch=3]\u001b[A\n",
            "Train:  17%|█▋        | 1550/9200 [12:03<55:22,  2.30it/s, Average Loss=0.0194, Epoch=3]\u001b[A\n",
            "Train:  17%|█▋        | 1560/9200 [12:07<55:08,  2.31it/s, Average Loss=0.0194, Epoch=3]\u001b[A\n",
            "Train:  17%|█▋        | 1560/9200 [12:07<55:08,  2.31it/s, Average Loss=0.0296, Epoch=3]\u001b[A\n",
            "Train:  17%|█▋        | 1570/9200 [12:11<55:01,  2.31it/s, Average Loss=0.0296, Epoch=3]\u001b[A\n",
            "Train:  17%|█▋        | 1570/9200 [12:11<55:01,  2.31it/s, Average Loss=0.0145, Epoch=3]\u001b[A\n",
            "Train:  17%|█▋        | 1580/9200 [12:15<54:59,  2.31it/s, Average Loss=0.0145, Epoch=3]\u001b[A\n",
            "Train:  17%|█▋        | 1580/9200 [12:15<54:59,  2.31it/s, Average Loss=0.0418, Epoch=3]\u001b[A\n",
            "Train:  17%|█▋        | 1590/9200 [12:20<54:49,  2.31it/s, Average Loss=0.0418, Epoch=3]\u001b[A\n",
            "Train:  17%|█▋        | 1590/9200 [12:20<54:49,  2.31it/s, Average Loss=0.0661, Epoch=3]\u001b[A\n",
            "Train:  17%|█▋        | 1600/9200 [12:24<54:42,  2.32it/s, Average Loss=0.0661, Epoch=3]\u001b[A\n",
            "Train:  17%|█▋        | 1600/9200 [12:24<54:42,  2.32it/s, Average Loss=0.0492, Epoch=3]\u001b[A\n",
            "Train:  18%|█▊        | 1610/9200 [12:28<54:48,  2.31it/s, Average Loss=0.0492, Epoch=3]\u001b[A\n",
            "Train:  18%|█▊        | 1610/9200 [12:28<54:48,  2.31it/s, Average Loss=0.00666, Epoch=3]\u001b[A\n",
            "Train:  18%|█▊        | 1620/9200 [12:33<54:40,  2.31it/s, Average Loss=0.00666, Epoch=3]\u001b[A\n",
            "Train:  18%|█▊        | 1620/9200 [12:33<54:40,  2.31it/s, Average Loss=0.0412, Epoch=3] \u001b[A\n",
            "Train:  18%|█▊        | 1630/9200 [12:37<54:33,  2.31it/s, Average Loss=0.0412, Epoch=3]\u001b[A\n",
            "Train:  18%|█▊        | 1630/9200 [12:37<54:33,  2.31it/s, Average Loss=0.016, Epoch=3] \u001b[A\n",
            "Train:  18%|█▊        | 1640/9200 [12:41<54:31,  2.31it/s, Average Loss=0.016, Epoch=3]\u001b[A\n",
            "Train:  18%|█▊        | 1640/9200 [12:41<54:31,  2.31it/s, Average Loss=0.125, Epoch=3]\u001b[A\n",
            "Train:  18%|█▊        | 1650/9200 [12:46<54:33,  2.31it/s, Average Loss=0.125, Epoch=3]\u001b[A\n",
            "Train:  18%|█▊        | 1650/9200 [12:46<54:33,  2.31it/s, Average Loss=0.0478, Epoch=3]\u001b[A\n",
            "Train:  18%|█▊        | 1660/9200 [12:50<54:22,  2.31it/s, Average Loss=0.0478, Epoch=3]\u001b[A\n",
            "Train:  18%|█▊        | 1660/9200 [12:50<54:22,  2.31it/s, Average Loss=0.0282, Epoch=3]\u001b[A\n",
            "Train:  18%|█▊        | 1670/9200 [12:54<54:16,  2.31it/s, Average Loss=0.0282, Epoch=3]\u001b[A\n",
            "Train:  18%|█▊        | 1670/9200 [12:54<54:16,  2.31it/s, Average Loss=0.049, Epoch=3] \u001b[A\n",
            "Train:  18%|█▊        | 1680/9200 [12:59<54:19,  2.31it/s, Average Loss=0.049, Epoch=3]\u001b[A\n",
            "Train:  18%|█▊        | 1680/9200 [12:59<54:19,  2.31it/s, Average Loss=0.0228, Epoch=3]\u001b[A\n",
            "Train:  18%|█▊        | 1690/9200 [13:03<54:16,  2.31it/s, Average Loss=0.0228, Epoch=3]\u001b[A\n",
            "Train:  18%|█▊        | 1690/9200 [13:03<54:16,  2.31it/s, Average Loss=0.028, Epoch=3] \u001b[A\n",
            "Train:  18%|█▊        | 1700/9200 [13:07<54:10,  2.31it/s, Average Loss=0.028, Epoch=3]\u001b[A\n",
            "Train:  18%|█▊        | 1700/9200 [13:07<54:10,  2.31it/s, Average Loss=0.0752, Epoch=3]\u001b[A\n",
            "Train:  19%|█▊        | 1710/9200 [13:12<54:10,  2.30it/s, Average Loss=0.0752, Epoch=3]\u001b[A\n",
            "Train:  19%|█▊        | 1710/9200 [13:12<54:10,  2.30it/s, Average Loss=0.0491, Epoch=3]\u001b[A\n",
            "Train:  19%|█▊        | 1720/9200 [13:16<54:11,  2.30it/s, Average Loss=0.0491, Epoch=3]\u001b[A\n",
            "Train:  19%|█▊        | 1720/9200 [13:16<54:11,  2.30it/s, Average Loss=0.0188, Epoch=3]\u001b[A\n",
            "Train:  19%|█▉        | 1730/9200 [13:20<54:04,  2.30it/s, Average Loss=0.0188, Epoch=3]\u001b[A\n",
            "Train:  19%|█▉        | 1730/9200 [13:21<54:04,  2.30it/s, Average Loss=0.0586, Epoch=3]\u001b[A\n",
            "Train:  19%|█▉        | 1740/9200 [13:25<53:59,  2.30it/s, Average Loss=0.0586, Epoch=3]\u001b[A\n",
            "Train:  19%|█▉        | 1740/9200 [13:25<53:59,  2.30it/s, Average Loss=0.0154, Epoch=3]\u001b[A\n",
            "Train:  19%|█▉        | 1750/9200 [13:29<54:05,  2.30it/s, Average Loss=0.0154, Epoch=3]\u001b[A\n",
            "Train:  19%|█▉        | 1750/9200 [13:29<54:05,  2.30it/s, Average Loss=0.0413, Epoch=3]\u001b[A\n",
            "Train:  19%|█▉        | 1760/9200 [13:34<53:52,  2.30it/s, Average Loss=0.0413, Epoch=3]\u001b[A\n",
            "Train:  19%|█▉        | 1760/9200 [13:34<53:52,  2.30it/s, Average Loss=0.0236, Epoch=3]\u001b[A\n",
            "Train:  19%|█▉        | 1770/9200 [13:38<53:43,  2.31it/s, Average Loss=0.0236, Epoch=3]\u001b[A\n",
            "Train:  19%|█▉        | 1770/9200 [13:38<53:43,  2.31it/s, Average Loss=0.0338, Epoch=3]\u001b[A\n",
            "Train:  19%|█▉        | 1780/9200 [13:42<53:38,  2.31it/s, Average Loss=0.0338, Epoch=3]\u001b[A\n",
            "Train:  19%|█▉        | 1780/9200 [13:42<53:38,  2.31it/s, Average Loss=0.0209, Epoch=3]\u001b[A\n",
            "Train:  19%|█▉        | 1790/9200 [13:47<53:33,  2.31it/s, Average Loss=0.0209, Epoch=3]\u001b[A\n",
            "Train:  19%|█▉        | 1790/9200 [13:47<53:33,  2.31it/s, Average Loss=0.024, Epoch=3] \u001b[A\n",
            "Train:  20%|█▉        | 1800/9200 [13:51<53:22,  2.31it/s, Average Loss=0.024, Epoch=3]\u001b[A\n",
            "Train:  20%|█▉        | 1800/9200 [13:51<53:22,  2.31it/s, Average Loss=0.0357, Epoch=3]\u001b[A\n",
            "Train:  20%|█▉        | 1810/9200 [13:55<53:15,  2.31it/s, Average Loss=0.0357, Epoch=3]\u001b[A\n",
            "Train:  20%|█▉        | 1810/9200 [13:55<53:15,  2.31it/s, Average Loss=0.024, Epoch=3] \u001b[A\n",
            "Train:  20%|█▉        | 1820/9200 [13:59<53:14,  2.31it/s, Average Loss=0.024, Epoch=3]\u001b[A\n",
            "Train:  20%|█▉        | 1820/9200 [13:59<53:14,  2.31it/s, Average Loss=0.0594, Epoch=3]\u001b[A\n",
            "Train:  20%|█▉        | 1830/9200 [14:04<53:05,  2.31it/s, Average Loss=0.0594, Epoch=3]\u001b[A\n",
            "Train:  20%|█▉        | 1830/9200 [14:04<53:05,  2.31it/s, Average Loss=0.0563, Epoch=3]\u001b[A\n",
            "Train:  20%|██        | 1840/9200 [14:08<52:39,  2.33it/s, Average Loss=0.0563, Epoch=3]\u001b[A\n",
            "Train:  20%|██        | 1840/9200 [14:08<52:39,  2.33it/s, Average Loss=0.0262, Epoch=3]\u001b[A"
          ]
        },
        {
          "output_type": "stream",
          "name": "stdout",
          "text": [
            "Validation: [Epoch: 3, Macro F1: 0.6123677634469001, Validation Loss: 0.3948726678256292, Time per Epoch: 208.8299698829651]\n",
            "Begin Epoch 4\n"
          ]
        },
        {
          "output_type": "stream",
          "name": "stderr",
          "text": [
            "\n",
            "Train:  20%|██        | 1850/9200 [14:22<1:28:02,  1.39it/s, Average Loss=0.0262, Epoch=3]\u001b[A\n",
            "Train:  20%|██        | 1850/9200 [14:22<1:28:02,  1.39it/s, Average Loss=0.0471, Epoch=4]\u001b[A\n",
            "Train:  20%|██        | 1860/9200 [14:26<1:17:29,  1.58it/s, Average Loss=0.0471, Epoch=4]\u001b[A\n",
            "Train:  20%|██        | 1860/9200 [14:26<1:17:29,  1.58it/s, Average Loss=0.0233, Epoch=4]\u001b[A\n",
            "Train:  20%|██        | 1870/9200 [14:31<1:10:03,  1.74it/s, Average Loss=0.0233, Epoch=4]\u001b[A\n",
            "Train:  20%|██        | 1870/9200 [14:31<1:10:03,  1.74it/s, Average Loss=0.0751, Epoch=4]\u001b[A\n",
            "Train:  20%|██        | 1880/9200 [14:35<1:04:45,  1.88it/s, Average Loss=0.0751, Epoch=4]\u001b[A\n",
            "Train:  20%|██        | 1880/9200 [14:35<1:04:45,  1.88it/s, Average Loss=0.0475, Epoch=4]\u001b[A\n",
            "Train:  21%|██        | 1890/9200 [14:39<1:01:07,  1.99it/s, Average Loss=0.0475, Epoch=4]\u001b[A\n",
            "Train:  21%|██        | 1890/9200 [14:39<1:01:07,  1.99it/s, Average Loss=0.0141, Epoch=4]\u001b[A\n",
            "Train:  21%|██        | 1900/9200 [14:44<58:42,  2.07it/s, Average Loss=0.0141, Epoch=4]  \u001b[A\n",
            "Train:  21%|██        | 1900/9200 [14:44<58:42,  2.07it/s, Average Loss=0.0355, Epoch=4]\u001b[A\n",
            "Train:  21%|██        | 1910/9200 [14:48<56:49,  2.14it/s, Average Loss=0.0355, Epoch=4]\u001b[A\n",
            "Train:  21%|██        | 1910/9200 [14:48<56:49,  2.14it/s, Average Loss=0.00407, Epoch=4]\u001b[A\n",
            "Train:  21%|██        | 1920/9200 [14:52<55:29,  2.19it/s, Average Loss=0.00407, Epoch=4]\u001b[A\n",
            "Train:  21%|██        | 1920/9200 [14:52<55:29,  2.19it/s, Average Loss=0.00744, Epoch=4]\u001b[A\n",
            "Train:  21%|██        | 1930/9200 [14:57<54:40,  2.22it/s, Average Loss=0.00744, Epoch=4]\u001b[A\n",
            "Train:  21%|██        | 1930/9200 [14:57<54:40,  2.22it/s, Average Loss=0.0177, Epoch=4] \u001b[A\n",
            "Train:  21%|██        | 1940/9200 [15:01<54:02,  2.24it/s, Average Loss=0.0177, Epoch=4]\u001b[A\n",
            "Train:  21%|██        | 1940/9200 [15:01<54:02,  2.24it/s, Average Loss=0.0355, Epoch=4]\u001b[A\n",
            "Train:  21%|██        | 1950/9200 [15:05<53:28,  2.26it/s, Average Loss=0.0355, Epoch=4]\u001b[A\n",
            "Train:  21%|██        | 1950/9200 [15:05<53:28,  2.26it/s, Average Loss=0.0305, Epoch=4]\u001b[A\n",
            "Train:  21%|██▏       | 1960/9200 [15:10<53:03,  2.27it/s, Average Loss=0.0305, Epoch=4]\u001b[A\n",
            "Train:  21%|██▏       | 1960/9200 [15:10<53:03,  2.27it/s, Average Loss=0.0161, Epoch=4]\u001b[A\n",
            "Train:  21%|██▏       | 1970/9200 [15:14<52:51,  2.28it/s, Average Loss=0.0161, Epoch=4]\u001b[A\n",
            "Train:  21%|██▏       | 1970/9200 [15:14<52:51,  2.28it/s, Average Loss=0.00175, Epoch=4]\u001b[A\n",
            "Train:  22%|██▏       | 1980/9200 [15:18<52:31,  2.29it/s, Average Loss=0.00175, Epoch=4]\u001b[A\n",
            "Train:  22%|██▏       | 1980/9200 [15:18<52:31,  2.29it/s, Average Loss=0.0266, Epoch=4] \u001b[A\n",
            "Train:  22%|██▏       | 1990/9200 [15:23<52:12,  2.30it/s, Average Loss=0.0266, Epoch=4]\u001b[A\n",
            "Train:  22%|██▏       | 1990/9200 [15:23<52:12,  2.30it/s, Average Loss=0.0195, Epoch=4]\u001b[A\n",
            "Train:  22%|██▏       | 2000/9200 [15:27<52:07,  2.30it/s, Average Loss=0.0195, Epoch=4]\u001b[A\n",
            "Train:  22%|██▏       | 2000/9200 [15:27<52:07,  2.30it/s, Average Loss=0.00783, Epoch=4]\u001b[A\n",
            "Train:  22%|██▏       | 2010/9200 [15:31<51:56,  2.31it/s, Average Loss=0.00783, Epoch=4]\u001b[A\n",
            "Train:  22%|██▏       | 2010/9200 [15:31<51:56,  2.31it/s, Average Loss=0.0184, Epoch=4] \u001b[A\n",
            "Train:  22%|██▏       | 2020/9200 [15:36<51:46,  2.31it/s, Average Loss=0.0184, Epoch=4]\u001b[A\n",
            "Train:  22%|██▏       | 2020/9200 [15:36<51:46,  2.31it/s, Average Loss=0.0143, Epoch=4]\u001b[A\n",
            "Train:  22%|██▏       | 2030/9200 [15:40<51:44,  2.31it/s, Average Loss=0.0143, Epoch=4]\u001b[A\n",
            "Train:  22%|██▏       | 2030/9200 [15:40<51:44,  2.31it/s, Average Loss=0.00924, Epoch=4]\u001b[A\n",
            "Train:  22%|██▏       | 2040/9200 [15:44<51:45,  2.31it/s, Average Loss=0.00924, Epoch=4]\u001b[A\n",
            "Train:  22%|██▏       | 2040/9200 [15:44<51:45,  2.31it/s, Average Loss=0.0582, Epoch=4] \u001b[A\n",
            "Train:  22%|██▏       | 2050/9200 [15:49<51:38,  2.31it/s, Average Loss=0.0582, Epoch=4]\u001b[A\n",
            "Train:  22%|██▏       | 2050/9200 [15:49<51:38,  2.31it/s, Average Loss=0.0201, Epoch=4]\u001b[A\n",
            "Train:  22%|██▏       | 2060/9200 [15:53<51:33,  2.31it/s, Average Loss=0.0201, Epoch=4]\u001b[A\n",
            "Train:  22%|██▏       | 2060/9200 [15:53<51:33,  2.31it/s, Average Loss=0.0207, Epoch=4]\u001b[A\n",
            "Train:  22%|██▎       | 2070/9200 [15:57<51:40,  2.30it/s, Average Loss=0.0207, Epoch=4]\u001b[A\n",
            "Train:  22%|██▎       | 2070/9200 [15:57<51:40,  2.30it/s, Average Loss=0.0222, Epoch=4]\u001b[A\n",
            "Train:  23%|██▎       | 2080/9200 [16:02<51:31,  2.30it/s, Average Loss=0.0222, Epoch=4]\u001b[A\n",
            "Train:  23%|██▎       | 2080/9200 [16:02<51:31,  2.30it/s, Average Loss=0.0317, Epoch=4]\u001b[A\n",
            "Train:  23%|██▎       | 2090/9200 [16:06<51:25,  2.30it/s, Average Loss=0.0317, Epoch=4]\u001b[A\n",
            "Train:  23%|██▎       | 2090/9200 [16:06<51:25,  2.30it/s, Average Loss=0.00574, Epoch=4]\u001b[A\n",
            "Train:  23%|██▎       | 2100/9200 [16:10<51:25,  2.30it/s, Average Loss=0.00574, Epoch=4]\u001b[A\n",
            "Train:  23%|██▎       | 2100/9200 [16:10<51:25,  2.30it/s, Average Loss=0.00184, Epoch=4]\u001b[A\n",
            "Train:  23%|██▎       | 2110/9200 [16:15<51:24,  2.30it/s, Average Loss=0.00184, Epoch=4]\u001b[A\n",
            "Train:  23%|██▎       | 2110/9200 [16:15<51:24,  2.30it/s, Average Loss=0.0138, Epoch=4] \u001b[A\n",
            "Train:  23%|██▎       | 2120/9200 [16:19<51:14,  2.30it/s, Average Loss=0.0138, Epoch=4]\u001b[A\n",
            "Train:  23%|██▎       | 2120/9200 [16:19<51:14,  2.30it/s, Average Loss=0.0264, Epoch=4]\u001b[A\n",
            "Train:  23%|██▎       | 2130/9200 [16:23<51:09,  2.30it/s, Average Loss=0.0264, Epoch=4]\u001b[A\n",
            "Train:  23%|██▎       | 2130/9200 [16:23<51:09,  2.30it/s, Average Loss=0.0532, Epoch=4]\u001b[A\n",
            "Train:  23%|██▎       | 2140/9200 [16:28<51:11,  2.30it/s, Average Loss=0.0532, Epoch=4]\u001b[A\n",
            "Train:  23%|██▎       | 2140/9200 [16:28<51:11,  2.30it/s, Average Loss=0.0553, Epoch=4]\u001b[A\n",
            "Train:  23%|██▎       | 2150/9200 [16:32<51:00,  2.30it/s, Average Loss=0.0553, Epoch=4]\u001b[A\n",
            "Train:  23%|██▎       | 2150/9200 [16:32<51:00,  2.30it/s, Average Loss=0.0315, Epoch=4]\u001b[A\n",
            "Train:  23%|██▎       | 2160/9200 [16:36<50:50,  2.31it/s, Average Loss=0.0315, Epoch=4]\u001b[A\n",
            "Train:  23%|██▎       | 2160/9200 [16:36<50:50,  2.31it/s, Average Loss=0.00816, Epoch=4]\u001b[A\n",
            "Train:  24%|██▎       | 2170/9200 [16:41<50:49,  2.31it/s, Average Loss=0.00816, Epoch=4]\u001b[A\n",
            "Train:  24%|██▎       | 2170/9200 [16:41<50:49,  2.31it/s, Average Loss=0.00573, Epoch=4]\u001b[A\n",
            "Train:  24%|██▎       | 2180/9200 [16:45<50:42,  2.31it/s, Average Loss=0.00573, Epoch=4]\u001b[A\n",
            "Train:  24%|██▎       | 2180/9200 [16:45<50:42,  2.31it/s, Average Loss=0.0196, Epoch=4] \u001b[A\n",
            "Train:  24%|██▍       | 2190/9200 [16:49<50:32,  2.31it/s, Average Loss=0.0196, Epoch=4]\u001b[A\n",
            "Train:  24%|██▍       | 2190/9200 [16:49<50:32,  2.31it/s, Average Loss=0.0104, Epoch=4]\u001b[A\n",
            "Train:  24%|██▍       | 2200/9200 [16:54<50:27,  2.31it/s, Average Loss=0.0104, Epoch=4]\u001b[A\n",
            "Train:  24%|██▍       | 2200/9200 [16:54<50:27,  2.31it/s, Average Loss=0.0171, Epoch=4]\u001b[A\n",
            "Train:  24%|██▍       | 2210/9200 [16:58<50:27,  2.31it/s, Average Loss=0.0171, Epoch=4]\u001b[A\n",
            "Train:  24%|██▍       | 2210/9200 [16:58<50:27,  2.31it/s, Average Loss=0.0663, Epoch=4]\u001b[A\n",
            "Train:  24%|██▍       | 2220/9200 [17:02<50:19,  2.31it/s, Average Loss=0.0663, Epoch=4]\u001b[A\n",
            "Train:  24%|██▍       | 2220/9200 [17:02<50:19,  2.31it/s, Average Loss=0.0128, Epoch=4]\u001b[A\n",
            "Train:  24%|██▍       | 2230/9200 [17:07<50:08,  2.32it/s, Average Loss=0.0128, Epoch=4]\u001b[A\n",
            "Train:  24%|██▍       | 2230/9200 [17:07<50:08,  2.32it/s, Average Loss=0.0875, Epoch=4]\u001b[A\n",
            "Train:  24%|██▍       | 2240/9200 [17:11<50:10,  2.31it/s, Average Loss=0.0875, Epoch=4]\u001b[A\n",
            "Train:  24%|██▍       | 2240/9200 [17:11<50:10,  2.31it/s, Average Loss=0.0487, Epoch=4]\u001b[A\n",
            "Train:  24%|██▍       | 2250/9200 [17:15<50:06,  2.31it/s, Average Loss=0.0487, Epoch=4]\u001b[A\n",
            "Train:  24%|██▍       | 2250/9200 [17:15<50:06,  2.31it/s, Average Loss=0.0511, Epoch=4]\u001b[A\n",
            "Train:  25%|██▍       | 2260/9200 [17:20<49:56,  2.32it/s, Average Loss=0.0511, Epoch=4]\u001b[A\n",
            "Train:  25%|██▍       | 2260/9200 [17:20<49:56,  2.32it/s, Average Loss=0.0345, Epoch=4]\u001b[A\n",
            "Train:  25%|██▍       | 2270/9200 [17:24<49:53,  2.32it/s, Average Loss=0.0345, Epoch=4]\u001b[A\n",
            "Train:  25%|██▍       | 2270/9200 [17:24<49:53,  2.32it/s, Average Loss=0.00921, Epoch=4]\u001b[A\n",
            "Train:  25%|██▍       | 2280/9200 [17:28<49:56,  2.31it/s, Average Loss=0.00921, Epoch=4]\u001b[A\n",
            "Train:  25%|██▍       | 2280/9200 [17:28<49:56,  2.31it/s, Average Loss=0.0016, Epoch=4] \u001b[A\n",
            "Train:  25%|██▍       | 2290/9200 [17:33<49:45,  2.31it/s, Average Loss=0.0016, Epoch=4]\u001b[A\n",
            "Train:  25%|██▍       | 2290/9200 [17:33<49:45,  2.31it/s, Average Loss=0.0215, Epoch=4]\u001b[A\n",
            "Train:  25%|██▌       | 2300/9200 [17:37<49:21,  2.33it/s, Average Loss=0.0215, Epoch=4]\u001b[A\n",
            "Train:  25%|██▌       | 2300/9200 [17:37<49:21,  2.33it/s, Average Loss=0.00251, Epoch=4]\u001b[A"
          ]
        },
        {
          "output_type": "stream",
          "name": "stdout",
          "text": [
            "Validation: [Epoch: 4, Macro F1: 0.6637367799391855, Validation Loss: 0.45434845664787515, Time per Epoch: 208.9179356098175]\n",
            "Begin Epoch 5\n"
          ]
        },
        {
          "output_type": "stream",
          "name": "stderr",
          "text": [
            "\n",
            "Train:  25%|██▌       | 2310/9200 [17:56<1:39:06,  1.16it/s, Average Loss=0.00251, Epoch=4]\u001b[A\n",
            "Train:  25%|██▌       | 2310/9200 [17:56<1:39:06,  1.16it/s, Average Loss=0.00377, Epoch=5]\u001b[A\n",
            "Train:  25%|██▌       | 2320/9200 [18:00<1:24:03,  1.36it/s, Average Loss=0.00377, Epoch=5]\u001b[A\n",
            "Train:  25%|██▌       | 2320/9200 [18:00<1:24:03,  1.36it/s, Average Loss=0.000928, Epoch=5]\u001b[A\n",
            "Train:  25%|██▌       | 2330/9200 [18:04<1:13:31,  1.56it/s, Average Loss=0.000928, Epoch=5]\u001b[A\n",
            "Train:  25%|██▌       | 2330/9200 [18:04<1:13:31,  1.56it/s, Average Loss=0.00966, Epoch=5] \u001b[A\n",
            "Train:  25%|██▌       | 2340/9200 [18:09<1:06:17,  1.72it/s, Average Loss=0.00966, Epoch=5]\u001b[A\n",
            "Train:  25%|██▌       | 2340/9200 [18:09<1:06:17,  1.72it/s, Average Loss=0.00132, Epoch=5]\u001b[A\n",
            "Train:  26%|██▌       | 2350/9200 [18:13<1:01:28,  1.86it/s, Average Loss=0.00132, Epoch=5]\u001b[A\n",
            "Train:  26%|██▌       | 2350/9200 [18:13<1:01:28,  1.86it/s, Average Loss=0.0105, Epoch=5] \u001b[A\n",
            "Train:  26%|██▌       | 2360/9200 [18:17<58:03,  1.96it/s, Average Loss=0.0105, Epoch=5]  \u001b[A\n",
            "Train:  26%|██▌       | 2360/9200 [18:17<58:03,  1.96it/s, Average Loss=0.0434, Epoch=5]\u001b[A\n",
            "Train:  26%|██▌       | 2370/9200 [18:22<55:37,  2.05it/s, Average Loss=0.0434, Epoch=5]\u001b[A\n",
            "Train:  26%|██▌       | 2370/9200 [18:22<55:37,  2.05it/s, Average Loss=0.0247, Epoch=5]\u001b[A\n",
            "Train:  26%|██▌       | 2380/9200 [18:26<53:57,  2.11it/s, Average Loss=0.0247, Epoch=5]\u001b[A\n",
            "Train:  26%|██▌       | 2380/9200 [18:26<53:57,  2.11it/s, Average Loss=0.0141, Epoch=5]\u001b[A\n",
            "Train:  26%|██▌       | 2390/9200 [18:31<52:36,  2.16it/s, Average Loss=0.0141, Epoch=5]\u001b[A\n",
            "Train:  26%|██▌       | 2390/9200 [18:31<52:36,  2.16it/s, Average Loss=0.029, Epoch=5] \u001b[A\n",
            "Train:  26%|██▌       | 2400/9200 [18:35<51:34,  2.20it/s, Average Loss=0.029, Epoch=5]\u001b[A\n",
            "Train:  26%|██▌       | 2400/9200 [18:35<51:34,  2.20it/s, Average Loss=0.033, Epoch=5]\u001b[A\n",
            "Train:  26%|██▌       | 2410/9200 [18:39<50:53,  2.22it/s, Average Loss=0.033, Epoch=5]\u001b[A\n",
            "Train:  26%|██▌       | 2410/9200 [18:39<50:53,  2.22it/s, Average Loss=0.0447, Epoch=5]\u001b[A\n",
            "Train:  26%|██▋       | 2420/9200 [18:44<50:21,  2.24it/s, Average Loss=0.0447, Epoch=5]\u001b[A\n",
            "Train:  26%|██▋       | 2420/9200 [18:44<50:21,  2.24it/s, Average Loss=0.00509, Epoch=5]\u001b[A\n",
            "Train:  26%|██▋       | 2430/9200 [18:48<49:41,  2.27it/s, Average Loss=0.00509, Epoch=5]\u001b[A\n",
            "Train:  26%|██▋       | 2430/9200 [18:48<49:41,  2.27it/s, Average Loss=0.0278, Epoch=5] \u001b[A\n",
            "Train:  27%|██▋       | 2440/9200 [18:52<49:13,  2.29it/s, Average Loss=0.0278, Epoch=5]\u001b[A\n",
            "Train:  27%|██▋       | 2440/9200 [18:52<49:13,  2.29it/s, Average Loss=0.0145, Epoch=5]\u001b[A\n",
            "Train:  27%|██▋       | 2450/9200 [18:57<49:00,  2.30it/s, Average Loss=0.0145, Epoch=5]\u001b[A\n",
            "Train:  27%|██▋       | 2450/9200 [18:57<49:00,  2.30it/s, Average Loss=0.0354, Epoch=5]\u001b[A\n",
            "Train:  27%|██▋       | 2460/9200 [19:01<48:39,  2.31it/s, Average Loss=0.0354, Epoch=5]\u001b[A\n",
            "Train:  27%|██▋       | 2460/9200 [19:01<48:39,  2.31it/s, Average Loss=0.0259, Epoch=5]\u001b[A\n",
            "Train:  27%|██▋       | 2470/9200 [19:05<48:24,  2.32it/s, Average Loss=0.0259, Epoch=5]\u001b[A\n",
            "Train:  27%|██▋       | 2470/9200 [19:05<48:24,  2.32it/s, Average Loss=0.0147, Epoch=5]\u001b[A\n",
            "Train:  27%|██▋       | 2480/9200 [19:09<48:18,  2.32it/s, Average Loss=0.0147, Epoch=5]\u001b[A\n",
            "Train:  27%|██▋       | 2480/9200 [19:09<48:18,  2.32it/s, Average Loss=0.0153, Epoch=5]\u001b[A\n",
            "Train:  27%|██▋       | 2490/9200 [19:14<48:15,  2.32it/s, Average Loss=0.0153, Epoch=5]\u001b[A\n",
            "Train:  27%|██▋       | 2490/9200 [19:14<48:15,  2.32it/s, Average Loss=0.0109, Epoch=5]\u001b[A\n",
            "Train:  27%|██▋       | 2500/9200 [19:18<48:07,  2.32it/s, Average Loss=0.0109, Epoch=5]\u001b[A\n",
            "Train:  27%|██▋       | 2500/9200 [19:18<48:07,  2.32it/s, Average Loss=0.00356, Epoch=5]\u001b[A\n",
            "Train:  27%|██▋       | 2510/9200 [19:22<48:06,  2.32it/s, Average Loss=0.00356, Epoch=5]\u001b[A\n",
            "Train:  27%|██▋       | 2510/9200 [19:22<48:06,  2.32it/s, Average Loss=0.000814, Epoch=5]\u001b[A\n",
            "Train:  27%|██▋       | 2520/9200 [19:27<48:15,  2.31it/s, Average Loss=0.000814, Epoch=5]\u001b[A\n",
            "Train:  27%|██▋       | 2520/9200 [19:27<48:15,  2.31it/s, Average Loss=0.00947, Epoch=5] \u001b[A\n",
            "Train:  28%|██▊       | 2530/9200 [19:31<48:11,  2.31it/s, Average Loss=0.00947, Epoch=5]\u001b[A\n",
            "Train:  28%|██▊       | 2530/9200 [19:31<48:11,  2.31it/s, Average Loss=0.00278, Epoch=5]\u001b[A\n",
            "Train:  28%|██▊       | 2540/9200 [19:35<48:12,  2.30it/s, Average Loss=0.00278, Epoch=5]\u001b[A\n",
            "Train:  28%|██▊       | 2540/9200 [19:35<48:12,  2.30it/s, Average Loss=0.00107, Epoch=5]\u001b[A\n",
            "Train:  28%|██▊       | 2550/9200 [19:40<48:15,  2.30it/s, Average Loss=0.00107, Epoch=5]\u001b[A\n",
            "Train:  28%|██▊       | 2550/9200 [19:40<48:15,  2.30it/s, Average Loss=0.00089, Epoch=5]\u001b[A\n",
            "Train:  28%|██▊       | 2560/9200 [19:44<48:11,  2.30it/s, Average Loss=0.00089, Epoch=5]\u001b[A\n",
            "Train:  28%|██▊       | 2560/9200 [19:44<48:11,  2.30it/s, Average Loss=0.0229, Epoch=5] \u001b[A\n",
            "Train:  28%|██▊       | 2570/9200 [19:49<48:01,  2.30it/s, Average Loss=0.0229, Epoch=5]\u001b[A\n",
            "Train:  28%|██▊       | 2570/9200 [19:49<48:01,  2.30it/s, Average Loss=0.00115, Epoch=5]\u001b[A\n",
            "Train:  28%|██▊       | 2580/9200 [19:53<47:52,  2.30it/s, Average Loss=0.00115, Epoch=5]\u001b[A\n",
            "Train:  28%|██▊       | 2580/9200 [19:53<47:52,  2.30it/s, Average Loss=0.0129, Epoch=5] \u001b[A\n",
            "Train:  28%|██▊       | 2590/9200 [19:57<47:53,  2.30it/s, Average Loss=0.0129, Epoch=5]\u001b[A\n",
            "Train:  28%|██▊       | 2590/9200 [19:57<47:53,  2.30it/s, Average Loss=0.0348, Epoch=5]\u001b[A\n",
            "Train:  28%|██▊       | 2600/9200 [20:02<47:43,  2.30it/s, Average Loss=0.0348, Epoch=5]\u001b[A\n",
            "Train:  28%|██▊       | 2600/9200 [20:02<47:43,  2.30it/s, Average Loss=0.00287, Epoch=5]\u001b[A\n",
            "Train:  28%|██▊       | 2610/9200 [20:06<47:32,  2.31it/s, Average Loss=0.00287, Epoch=5]\u001b[A\n",
            "Train:  28%|██▊       | 2610/9200 [20:06<47:32,  2.31it/s, Average Loss=0.00776, Epoch=5]\u001b[A\n",
            "Train:  28%|██▊       | 2620/9200 [20:10<47:30,  2.31it/s, Average Loss=0.00776, Epoch=5]\u001b[A\n",
            "Train:  28%|██▊       | 2620/9200 [20:10<47:30,  2.31it/s, Average Loss=0.0123, Epoch=5] \u001b[A\n",
            "Train:  29%|██▊       | 2630/9200 [20:14<47:22,  2.31it/s, Average Loss=0.0123, Epoch=5]\u001b[A\n",
            "Train:  29%|██▊       | 2630/9200 [20:15<47:22,  2.31it/s, Average Loss=0.00495, Epoch=5]\u001b[A\n",
            "Train:  29%|██▊       | 2640/9200 [20:19<47:12,  2.32it/s, Average Loss=0.00495, Epoch=5]\u001b[A\n",
            "Train:  29%|██▊       | 2640/9200 [20:19<47:12,  2.32it/s, Average Loss=0.00293, Epoch=5]\u001b[A\n",
            "Train:  29%|██▉       | 2650/9200 [20:23<47:08,  2.32it/s, Average Loss=0.00293, Epoch=5]\u001b[A\n",
            "Train:  29%|██▉       | 2650/9200 [20:23<47:08,  2.32it/s, Average Loss=0.0322, Epoch=5] \u001b[A\n",
            "Train:  29%|██▉       | 2660/9200 [20:27<47:09,  2.31it/s, Average Loss=0.0322, Epoch=5]\u001b[A\n",
            "Train:  29%|██▉       | 2660/9200 [20:27<47:09,  2.31it/s, Average Loss=0.00308, Epoch=5]\u001b[A\n",
            "Train:  29%|██▉       | 2670/9200 [20:32<47:00,  2.31it/s, Average Loss=0.00308, Epoch=5]\u001b[A\n",
            "Train:  29%|██▉       | 2670/9200 [20:32<47:00,  2.31it/s, Average Loss=0.000352, Epoch=5]\u001b[A\n",
            "Train:  29%|██▉       | 2680/9200 [20:36<46:53,  2.32it/s, Average Loss=0.000352, Epoch=5]\u001b[A\n",
            "Train:  29%|██▉       | 2680/9200 [20:36<46:53,  2.32it/s, Average Loss=0.00192, Epoch=5] \u001b[A\n",
            "Train:  29%|██▉       | 2690/9200 [20:40<46:58,  2.31it/s, Average Loss=0.00192, Epoch=5]\u001b[A\n",
            "Train:  29%|██▉       | 2690/9200 [20:40<46:58,  2.31it/s, Average Loss=0.0391, Epoch=5] \u001b[A\n",
            "Train:  29%|██▉       | 2700/9200 [20:45<46:53,  2.31it/s, Average Loss=0.0391, Epoch=5]\u001b[A\n",
            "Train:  29%|██▉       | 2700/9200 [20:45<46:53,  2.31it/s, Average Loss=0.0274, Epoch=5]\u001b[A\n",
            "Train:  29%|██▉       | 2710/9200 [20:49<46:49,  2.31it/s, Average Loss=0.0274, Epoch=5]\u001b[A\n",
            "Train:  29%|██▉       | 2710/9200 [20:49<46:49,  2.31it/s, Average Loss=0.0233, Epoch=5]\u001b[A\n",
            "Train:  30%|██▉       | 2720/9200 [20:53<46:47,  2.31it/s, Average Loss=0.0233, Epoch=5]\u001b[A\n",
            "Train:  30%|██▉       | 2720/9200 [20:53<46:47,  2.31it/s, Average Loss=0.0113, Epoch=5]\u001b[A\n",
            "Train:  30%|██▉       | 2730/9200 [20:58<46:47,  2.30it/s, Average Loss=0.0113, Epoch=5]\u001b[A\n",
            "Train:  30%|██▉       | 2730/9200 [20:58<46:47,  2.30it/s, Average Loss=0.00267, Epoch=5]\u001b[A\n",
            "Train:  30%|██▉       | 2740/9200 [21:02<46:43,  2.30it/s, Average Loss=0.00267, Epoch=5]\u001b[A\n",
            "Train:  30%|██▉       | 2740/9200 [21:02<46:43,  2.30it/s, Average Loss=0.0218, Epoch=5] \u001b[A\n",
            "Train:  30%|██▉       | 2750/9200 [21:06<46:38,  2.31it/s, Average Loss=0.0218, Epoch=5]\u001b[A\n",
            "Train:  30%|██▉       | 2750/9200 [21:06<46:38,  2.31it/s, Average Loss=0.00056, Epoch=5]\u001b[A\n",
            "Train:  30%|███       | 2760/9200 [21:11<46:30,  2.31it/s, Average Loss=0.00056, Epoch=5]\u001b[A\n",
            "Train:  30%|███       | 2760/9200 [21:11<46:30,  2.31it/s, Average Loss=0.00541, Epoch=5]\u001b[A"
          ]
        },
        {
          "output_type": "stream",
          "name": "stdout",
          "text": [
            "Validation: [Epoch: 5, Macro F1: 0.6411743773362683, Validation Loss: 0.4970171579858119, Time per Epoch: 209.2573435306549]\n",
            "Begin Epoch 6\n"
          ]
        },
        {
          "output_type": "stream",
          "name": "stderr",
          "text": [
            "\n",
            "Train:  30%|███       | 2770/9200 [21:25<1:17:48,  1.38it/s, Average Loss=0.00541, Epoch=5]\u001b[A\n",
            "Train:  30%|███       | 2770/9200 [21:25<1:17:48,  1.38it/s, Average Loss=0.000351, Epoch=6]\u001b[A\n",
            "Train:  30%|███       | 2780/9200 [21:29<1:08:20,  1.57it/s, Average Loss=0.000351, Epoch=6]\u001b[A\n",
            "Train:  30%|███       | 2780/9200 [21:29<1:08:20,  1.57it/s, Average Loss=0.00273, Epoch=6] \u001b[A\n",
            "Train:  30%|███       | 2790/9200 [21:34<1:01:38,  1.73it/s, Average Loss=0.00273, Epoch=6]\u001b[A\n",
            "Train:  30%|███       | 2790/9200 [21:34<1:01:38,  1.73it/s, Average Loss=0.0158, Epoch=6] \u001b[A\n",
            "Train:  30%|███       | 2800/9200 [21:38<57:01,  1.87it/s, Average Loss=0.0158, Epoch=6]  \u001b[A\n",
            "Train:  30%|███       | 2800/9200 [21:38<57:01,  1.87it/s, Average Loss=0.00634, Epoch=6]\u001b[A\n",
            "Train:  31%|███       | 2810/9200 [21:42<53:49,  1.98it/s, Average Loss=0.00634, Epoch=6]\u001b[A\n",
            "Train:  31%|███       | 2810/9200 [21:42<53:49,  1.98it/s, Average Loss=0.00277, Epoch=6]\u001b[A\n",
            "Train:  31%|███       | 2820/9200 [21:47<51:25,  2.07it/s, Average Loss=0.00277, Epoch=6]\u001b[A\n",
            "Train:  31%|███       | 2820/9200 [21:47<51:25,  2.07it/s, Average Loss=0.0181, Epoch=6] \u001b[A\n",
            "Train:  31%|███       | 2830/9200 [21:51<49:43,  2.13it/s, Average Loss=0.0181, Epoch=6]\u001b[A\n",
            "Train:  31%|███       | 2830/9200 [21:51<49:43,  2.13it/s, Average Loss=0.00196, Epoch=6]\u001b[A\n",
            "Train:  31%|███       | 2840/9200 [21:55<48:37,  2.18it/s, Average Loss=0.00196, Epoch=6]\u001b[A\n",
            "Train:  31%|███       | 2840/9200 [21:55<48:37,  2.18it/s, Average Loss=0.0151, Epoch=6] \u001b[A\n",
            "Train:  31%|███       | 2850/9200 [22:00<47:46,  2.22it/s, Average Loss=0.0151, Epoch=6]\u001b[A\n",
            "Train:  31%|███       | 2850/9200 [22:00<47:46,  2.22it/s, Average Loss=0.0151, Epoch=6]\u001b[A\n",
            "Train:  31%|███       | 2860/9200 [22:04<47:06,  2.24it/s, Average Loss=0.0151, Epoch=6]\u001b[A\n",
            "Train:  31%|███       | 2860/9200 [22:04<47:06,  2.24it/s, Average Loss=5.29e-5, Epoch=6]\u001b[A\n",
            "Train:  31%|███       | 2870/9200 [22:08<46:39,  2.26it/s, Average Loss=5.29e-5, Epoch=6]\u001b[A\n",
            "Train:  31%|███       | 2870/9200 [22:08<46:39,  2.26it/s, Average Loss=6.99e-5, Epoch=6]\u001b[A\n",
            "Train:  31%|███▏      | 2880/9200 [22:13<46:22,  2.27it/s, Average Loss=6.99e-5, Epoch=6]\u001b[A\n",
            "Train:  31%|███▏      | 2880/9200 [22:13<46:22,  2.27it/s, Average Loss=0.0048, Epoch=6] \u001b[A\n",
            "Train:  31%|███▏      | 2890/9200 [22:17<46:05,  2.28it/s, Average Loss=0.0048, Epoch=6]\u001b[A\n",
            "Train:  31%|███▏      | 2890/9200 [22:17<46:05,  2.28it/s, Average Loss=0.000989, Epoch=6]\u001b[A\n",
            "Train:  32%|███▏      | 2900/9200 [22:21<45:51,  2.29it/s, Average Loss=0.000989, Epoch=6]\u001b[A\n",
            "Train:  32%|███▏      | 2900/9200 [22:21<45:51,  2.29it/s, Average Loss=0.0249, Epoch=6]  \u001b[A\n",
            "Train:  32%|███▏      | 2910/9200 [22:26<45:50,  2.29it/s, Average Loss=0.0249, Epoch=6]\u001b[A\n",
            "Train:  32%|███▏      | 2910/9200 [22:26<45:50,  2.29it/s, Average Loss=0.00349, Epoch=6]\u001b[A\n",
            "Train:  32%|███▏      | 2920/9200 [22:30<45:39,  2.29it/s, Average Loss=0.00349, Epoch=6]\u001b[A\n",
            "Train:  32%|███▏      | 2920/9200 [22:30<45:39,  2.29it/s, Average Loss=0.00172, Epoch=6]\u001b[A\n",
            "Train:  32%|███▏      | 2930/9200 [22:34<45:27,  2.30it/s, Average Loss=0.00172, Epoch=6]\u001b[A\n",
            "Train:  32%|███▏      | 2930/9200 [22:34<45:27,  2.30it/s, Average Loss=0.000138, Epoch=6]\u001b[A\n",
            "Train:  32%|███▏      | 2940/9200 [22:39<45:25,  2.30it/s, Average Loss=0.000138, Epoch=6]\u001b[A\n",
            "Train:  32%|███▏      | 2940/9200 [22:39<45:25,  2.30it/s, Average Loss=0.036, Epoch=6]   \u001b[A\n",
            "Train:  32%|███▏      | 2950/9200 [22:43<45:19,  2.30it/s, Average Loss=0.036, Epoch=6]\u001b[A\n",
            "Train:  32%|███▏      | 2950/9200 [22:43<45:19,  2.30it/s, Average Loss=0.0212, Epoch=6]\u001b[A\n",
            "Train:  32%|███▏      | 2960/9200 [22:47<45:07,  2.30it/s, Average Loss=0.0212, Epoch=6]\u001b[A\n",
            "Train:  32%|███▏      | 2960/9200 [22:47<45:07,  2.30it/s, Average Loss=0.00304, Epoch=6]\u001b[A\n",
            "Train:  32%|███▏      | 2970/9200 [22:52<45:03,  2.30it/s, Average Loss=0.00304, Epoch=6]\u001b[A\n",
            "Train:  32%|███▏      | 2970/9200 [22:52<45:03,  2.30it/s, Average Loss=0.000289, Epoch=6]\u001b[A\n",
            "Train:  32%|███▏      | 2980/9200 [22:56<45:03,  2.30it/s, Average Loss=0.000289, Epoch=6]\u001b[A\n",
            "Train:  32%|███▏      | 2980/9200 [22:56<45:03,  2.30it/s, Average Loss=0.000148, Epoch=6]\u001b[A\n",
            "Train:  32%|███▎      | 2990/9200 [23:00<44:55,  2.30it/s, Average Loss=0.000148, Epoch=6]\u001b[A\n",
            "Train:  32%|███▎      | 2990/9200 [23:00<44:55,  2.30it/s, Average Loss=0.000409, Epoch=6]\u001b[A\n",
            "Train:  33%|███▎      | 3000/9200 [23:05<44:46,  2.31it/s, Average Loss=0.000409, Epoch=6]\u001b[A\n",
            "Train:  33%|███▎      | 3000/9200 [23:05<44:46,  2.31it/s, Average Loss=5.56e-5, Epoch=6] \u001b[A\n",
            "Train:  33%|███▎      | 3010/9200 [23:09<44:46,  2.30it/s, Average Loss=5.56e-5, Epoch=6]\u001b[A\n",
            "Train:  33%|███▎      | 3010/9200 [23:09<44:46,  2.30it/s, Average Loss=3.5e-5, Epoch=6] \u001b[A\n",
            "Train:  33%|███▎      | 3020/9200 [23:13<44:43,  2.30it/s, Average Loss=3.5e-5, Epoch=6]\u001b[A\n",
            "Train:  33%|███▎      | 3020/9200 [23:13<44:43,  2.30it/s, Average Loss=0.0138, Epoch=6]\u001b[A\n",
            "Train:  33%|███▎      | 3030/9200 [23:18<44:36,  2.31it/s, Average Loss=0.0138, Epoch=6]\u001b[A\n",
            "Train:  33%|███▎      | 3030/9200 [23:18<44:36,  2.31it/s, Average Loss=0.000283, Epoch=6]\u001b[A\n",
            "Train:  33%|███▎      | 3040/9200 [23:22<44:33,  2.30it/s, Average Loss=0.000283, Epoch=6]\u001b[A\n",
            "Train:  33%|███▎      | 3040/9200 [23:22<44:33,  2.30it/s, Average Loss=0.0208, Epoch=6]  \u001b[A\n",
            "Train:  33%|███▎      | 3050/9200 [23:26<44:33,  2.30it/s, Average Loss=0.0208, Epoch=6]\u001b[A\n",
            "Train:  33%|███▎      | 3050/9200 [23:26<44:33,  2.30it/s, Average Loss=0.00372, Epoch=6]\u001b[A\n",
            "Train:  33%|███▎      | 3060/9200 [23:31<44:24,  2.30it/s, Average Loss=0.00372, Epoch=6]\u001b[A\n",
            "Train:  33%|███▎      | 3060/9200 [23:31<44:24,  2.30it/s, Average Loss=0.0103, Epoch=6] \u001b[A\n",
            "Train:  33%|███▎      | 3070/9200 [23:35<44:13,  2.31it/s, Average Loss=0.0103, Epoch=6]\u001b[A\n",
            "Train:  33%|███▎      | 3070/9200 [23:35<44:13,  2.31it/s, Average Loss=0.0297, Epoch=6]\u001b[A\n",
            "Train:  33%|███▎      | 3080/9200 [23:39<44:12,  2.31it/s, Average Loss=0.0297, Epoch=6]\u001b[A\n",
            "Train:  33%|███▎      | 3080/9200 [23:39<44:12,  2.31it/s, Average Loss=0.000143, Epoch=6]\u001b[A\n",
            "Train:  34%|███▎      | 3090/9200 [23:44<44:06,  2.31it/s, Average Loss=0.000143, Epoch=6]\u001b[A\n",
            "Train:  34%|███▎      | 3090/9200 [23:44<44:06,  2.31it/s, Average Loss=0.0299, Epoch=6]  \u001b[A\n",
            "Train:  34%|███▎      | 3100/9200 [23:48<43:56,  2.31it/s, Average Loss=0.0299, Epoch=6]\u001b[A\n",
            "Train:  34%|███▎      | 3100/9200 [23:48<43:56,  2.31it/s, Average Loss=0.0197, Epoch=6]\u001b[A\n",
            "Train:  34%|███▍      | 3110/9200 [23:52<43:52,  2.31it/s, Average Loss=0.0197, Epoch=6]\u001b[A\n",
            "Train:  34%|███▍      | 3110/9200 [23:52<43:52,  2.31it/s, Average Loss=0.0174, Epoch=6]\u001b[A\n",
            "Train:  34%|███▍      | 3120/9200 [23:57<43:51,  2.31it/s, Average Loss=0.0174, Epoch=6]\u001b[A\n",
            "Train:  34%|███▍      | 3120/9200 [23:57<43:51,  2.31it/s, Average Loss=0.00922, Epoch=6]\u001b[A\n",
            "Train:  34%|███▍      | 3130/9200 [24:01<43:40,  2.32it/s, Average Loss=0.00922, Epoch=6]\u001b[A\n",
            "Train:  34%|███▍      | 3130/9200 [24:01<43:40,  2.32it/s, Average Loss=0.000403, Epoch=6]\u001b[A\n",
            "Train:  34%|███▍      | 3140/9200 [24:05<43:34,  2.32it/s, Average Loss=0.000403, Epoch=6]\u001b[A\n",
            "Train:  34%|███▍      | 3140/9200 [24:05<43:34,  2.32it/s, Average Loss=0.0203, Epoch=6]  \u001b[A\n",
            "Train:  34%|███▍      | 3150/9200 [24:10<43:38,  2.31it/s, Average Loss=0.0203, Epoch=6]\u001b[A\n",
            "Train:  34%|███▍      | 3150/9200 [24:10<43:38,  2.31it/s, Average Loss=0.00226, Epoch=6]\u001b[A\n",
            "Train:  34%|███▍      | 3160/9200 [24:14<43:31,  2.31it/s, Average Loss=0.00226, Epoch=6]\u001b[A\n",
            "Train:  34%|███▍      | 3160/9200 [24:14<43:31,  2.31it/s, Average Loss=0.0441, Epoch=6] \u001b[A\n",
            "Train:  34%|███▍      | 3170/9200 [24:18<43:23,  2.32it/s, Average Loss=0.0441, Epoch=6]\u001b[A\n",
            "Train:  34%|███▍      | 3170/9200 [24:18<43:23,  2.32it/s, Average Loss=0.0134, Epoch=6]\u001b[A\n",
            "Train:  35%|███▍      | 3180/9200 [24:23<43:22,  2.31it/s, Average Loss=0.0134, Epoch=6]\u001b[A\n",
            "Train:  35%|███▍      | 3180/9200 [24:23<43:22,  2.31it/s, Average Loss=0.000713, Epoch=6]\u001b[A\n",
            "Train:  35%|███▍      | 3190/9200 [24:27<43:22,  2.31it/s, Average Loss=0.000713, Epoch=6]\u001b[A\n",
            "Train:  35%|███▍      | 3190/9200 [24:27<43:22,  2.31it/s, Average Loss=0.00033, Epoch=6] \u001b[A\n",
            "Train:  35%|███▍      | 3200/9200 [24:31<43:15,  2.31it/s, Average Loss=0.00033, Epoch=6]\u001b[A\n",
            "Train:  35%|███▍      | 3200/9200 [24:31<43:15,  2.31it/s, Average Loss=0.0119, Epoch=6] \u001b[A\n",
            "Train:  35%|███▍      | 3210/9200 [24:36<43:10,  2.31it/s, Average Loss=0.0119, Epoch=6]\u001b[A\n",
            "Train:  35%|███▍      | 3210/9200 [24:36<43:10,  2.31it/s, Average Loss=0.00101, Epoch=6]\u001b[A\n",
            "Train:  35%|███▌      | 3220/9200 [24:40<43:00,  2.32it/s, Average Loss=0.00101, Epoch=6]\u001b[A\n",
            "Train:  35%|███▌      | 3220/9200 [24:40<43:00,  2.32it/s, Average Loss=9.96e-5, Epoch=6]\u001b[A"
          ]
        },
        {
          "output_type": "stream",
          "name": "stdout",
          "text": [
            "Validation: [Epoch: 6, Macro F1: 0.6577598792722436, Validation Loss: 0.5301715557166591, Time per Epoch: 209.13354229927063]\n",
            "Begin Epoch 7\n"
          ]
        },
        {
          "output_type": "stream",
          "name": "stderr",
          "text": [
            "\n",
            "Train:  35%|███▌      | 3230/9200 [24:54<1:12:02,  1.38it/s, Average Loss=9.96e-5, Epoch=6]\u001b[A\n",
            "Train:  35%|███▌      | 3230/9200 [24:54<1:12:02,  1.38it/s, Average Loss=0.018, Epoch=7]  \u001b[A\n",
            "Train:  35%|███▌      | 3240/9200 [24:58<1:03:13,  1.57it/s, Average Loss=0.018, Epoch=7]\u001b[A\n",
            "Train:  35%|███▌      | 3240/9200 [24:58<1:03:13,  1.57it/s, Average Loss=9.72e-5, Epoch=7]\u001b[A\n",
            "Train:  35%|███▌      | 3250/9200 [25:03<57:05,  1.74it/s, Average Loss=9.72e-5, Epoch=7]  \u001b[A\n",
            "Train:  35%|███▌      | 3250/9200 [25:03<57:05,  1.74it/s, Average Loss=0.00285, Epoch=7]\u001b[A\n",
            "Train:  35%|███▌      | 3260/9200 [25:07<52:47,  1.88it/s, Average Loss=0.00285, Epoch=7]\u001b[A\n",
            "Train:  35%|███▌      | 3260/9200 [25:07<52:47,  1.88it/s, Average Loss=0.000208, Epoch=7]\u001b[A\n",
            "Train:  36%|███▌      | 3270/9200 [25:11<49:48,  1.98it/s, Average Loss=0.000208, Epoch=7]\u001b[A\n",
            "Train:  36%|███▌      | 3270/9200 [25:11<49:48,  1.98it/s, Average Loss=0.000137, Epoch=7]\u001b[A\n",
            "Train:  36%|███▌      | 3280/9200 [25:16<47:35,  2.07it/s, Average Loss=0.000137, Epoch=7]\u001b[A\n",
            "Train:  36%|███▌      | 3280/9200 [25:16<47:35,  2.07it/s, Average Loss=0.00145, Epoch=7] \u001b[A\n",
            "Train:  36%|███▌      | 3290/9200 [25:20<46:02,  2.14it/s, Average Loss=0.00145, Epoch=7]\u001b[A\n",
            "Train:  36%|███▌      | 3290/9200 [25:20<46:02,  2.14it/s, Average Loss=0.0173, Epoch=7] \u001b[A\n",
            "Train:  36%|███▌      | 3300/9200 [25:24<45:04,  2.18it/s, Average Loss=0.0173, Epoch=7]\u001b[A\n",
            "Train:  36%|███▌      | 3300/9200 [25:24<45:04,  2.18it/s, Average Loss=0.0019, Epoch=7]\u001b[A\n",
            "Train:  36%|███▌      | 3310/9200 [25:29<44:16,  2.22it/s, Average Loss=0.0019, Epoch=7]\u001b[A\n",
            "Train:  36%|███▌      | 3310/9200 [25:29<44:16,  2.22it/s, Average Loss=0.00643, Epoch=7]\u001b[A\n",
            "Train:  36%|███▌      | 3320/9200 [25:33<43:39,  2.24it/s, Average Loss=0.00643, Epoch=7]\u001b[A\n",
            "Train:  36%|███▌      | 3320/9200 [25:33<43:39,  2.24it/s, Average Loss=0.0224, Epoch=7] \u001b[A\n",
            "Train:  36%|███▌      | 3330/9200 [25:37<43:18,  2.26it/s, Average Loss=0.0224, Epoch=7]\u001b[A\n",
            "Train:  36%|███▌      | 3330/9200 [25:37<43:18,  2.26it/s, Average Loss=0.0165, Epoch=7]\u001b[A\n",
            "Train:  36%|███▋      | 3340/9200 [25:42<43:01,  2.27it/s, Average Loss=0.0165, Epoch=7]\u001b[A\n",
            "Train:  36%|███▋      | 3340/9200 [25:42<43:01,  2.27it/s, Average Loss=0.00108, Epoch=7]\u001b[A\n",
            "Train:  36%|███▋      | 3350/9200 [25:46<42:43,  2.28it/s, Average Loss=0.00108, Epoch=7]\u001b[A\n",
            "Train:  36%|███▋      | 3350/9200 [25:46<42:43,  2.28it/s, Average Loss=0.000443, Epoch=7]\u001b[A\n",
            "Train:  37%|███▋      | 3360/9200 [25:50<42:28,  2.29it/s, Average Loss=0.000443, Epoch=7]\u001b[A\n",
            "Train:  37%|███▋      | 3360/9200 [25:50<42:28,  2.29it/s, Average Loss=0.00602, Epoch=7] \u001b[A\n",
            "Train:  37%|███▋      | 3370/9200 [25:55<42:28,  2.29it/s, Average Loss=0.00602, Epoch=7]\u001b[A\n",
            "Train:  37%|███▋      | 3370/9200 [25:55<42:28,  2.29it/s, Average Loss=0.0376, Epoch=7] \u001b[A\n",
            "Train:  37%|███▋      | 3380/9200 [25:59<42:15,  2.30it/s, Average Loss=0.0376, Epoch=7]\u001b[A\n",
            "Train:  37%|███▋      | 3380/9200 [25:59<42:15,  2.30it/s, Average Loss=0.0124, Epoch=7]\u001b[A\n",
            "Train:  37%|███▋      | 3390/9200 [26:03<42:06,  2.30it/s, Average Loss=0.0124, Epoch=7]\u001b[A\n",
            "Train:  37%|███▋      | 3390/9200 [26:03<42:06,  2.30it/s, Average Loss=0.000296, Epoch=7]\u001b[A\n",
            "Train:  37%|███▋      | 3400/9200 [26:08<42:06,  2.30it/s, Average Loss=0.000296, Epoch=7]\u001b[A\n",
            "Train:  37%|███▋      | 3400/9200 [26:08<42:06,  2.30it/s, Average Loss=0.00935, Epoch=7] \u001b[A\n",
            "Train:  37%|███▋      | 3410/9200 [26:12<42:02,  2.30it/s, Average Loss=0.00935, Epoch=7]\u001b[A\n",
            "Train:  37%|███▋      | 3410/9200 [26:12<42:02,  2.30it/s, Average Loss=0.0185, Epoch=7] \u001b[A\n",
            "Train:  37%|███▋      | 3420/9200 [26:17<41:55,  2.30it/s, Average Loss=0.0185, Epoch=7]\u001b[A\n",
            "Train:  37%|███▋      | 3420/9200 [26:17<41:55,  2.30it/s, Average Loss=0.00307, Epoch=7]\u001b[A\n",
            "Train:  37%|███▋      | 3430/9200 [26:21<41:48,  2.30it/s, Average Loss=0.00307, Epoch=7]\u001b[A\n",
            "Train:  37%|███▋      | 3430/9200 [26:21<41:48,  2.30it/s, Average Loss=0.000495, Epoch=7]\u001b[A\n",
            "Train:  37%|███▋      | 3440/9200 [26:25<41:47,  2.30it/s, Average Loss=0.000495, Epoch=7]\u001b[A\n",
            "Train:  37%|███▋      | 3440/9200 [26:25<41:47,  2.30it/s, Average Loss=7.89e-5, Epoch=7] \u001b[A\n",
            "Train:  38%|███▊      | 3450/9200 [26:30<41:40,  2.30it/s, Average Loss=7.89e-5, Epoch=7]\u001b[A\n",
            "Train:  38%|███▊      | 3450/9200 [26:30<41:40,  2.30it/s, Average Loss=0.000188, Epoch=7]\u001b[A\n",
            "Train:  38%|███▊      | 3460/9200 [26:34<41:33,  2.30it/s, Average Loss=0.000188, Epoch=7]\u001b[A\n",
            "Train:  38%|███▊      | 3460/9200 [26:34<41:33,  2.30it/s, Average Loss=0.00028, Epoch=7] \u001b[A\n",
            "Train:  38%|███▊      | 3470/9200 [26:38<41:34,  2.30it/s, Average Loss=0.00028, Epoch=7]\u001b[A\n",
            "Train:  38%|███▊      | 3470/9200 [26:38<41:34,  2.30it/s, Average Loss=3.44e-5, Epoch=7]\u001b[A\n",
            "Train:  38%|███▊      | 3480/9200 [26:43<41:29,  2.30it/s, Average Loss=3.44e-5, Epoch=7]\u001b[A\n",
            "Train:  38%|███▊      | 3480/9200 [26:43<41:29,  2.30it/s, Average Loss=0.00816, Epoch=7]\u001b[A\n",
            "Train:  38%|███▊      | 3490/9200 [26:47<41:21,  2.30it/s, Average Loss=0.00816, Epoch=7]\u001b[A\n",
            "Train:  38%|███▊      | 3490/9200 [26:47<41:21,  2.30it/s, Average Loss=0.0142, Epoch=7] \u001b[A\n",
            "Train:  38%|███▊      | 3500/9200 [26:51<41:18,  2.30it/s, Average Loss=0.0142, Epoch=7]\u001b[A\n",
            "Train:  38%|███▊      | 3500/9200 [26:51<41:18,  2.30it/s, Average Loss=0.0537, Epoch=7]\u001b[A\n",
            "Train:  38%|███▊      | 3510/9200 [26:56<41:14,  2.30it/s, Average Loss=0.0537, Epoch=7]\u001b[A\n",
            "Train:  38%|███▊      | 3510/9200 [26:56<41:14,  2.30it/s, Average Loss=0.000636, Epoch=7]\u001b[A\n",
            "Train:  38%|███▊      | 3520/9200 [27:00<41:05,  2.30it/s, Average Loss=0.000636, Epoch=7]\u001b[A\n",
            "Train:  38%|███▊      | 3520/9200 [27:00<41:05,  2.30it/s, Average Loss=0.0302, Epoch=7]  \u001b[A\n",
            "Train:  38%|███▊      | 3530/9200 [27:04<40:54,  2.31it/s, Average Loss=0.0302, Epoch=7]\u001b[A\n",
            "Train:  38%|███▊      | 3530/9200 [27:04<40:54,  2.31it/s, Average Loss=0.0106, Epoch=7]\u001b[A\n",
            "Train:  38%|███▊      | 3540/9200 [27:09<40:52,  2.31it/s, Average Loss=0.0106, Epoch=7]\u001b[A\n",
            "Train:  38%|███▊      | 3540/9200 [27:09<40:52,  2.31it/s, Average Loss=0.000176, Epoch=7]\u001b[A\n",
            "Train:  39%|███▊      | 3550/9200 [27:13<40:42,  2.31it/s, Average Loss=0.000176, Epoch=7]\u001b[A\n",
            "Train:  39%|███▊      | 3550/9200 [27:13<40:42,  2.31it/s, Average Loss=0.00215, Epoch=7] \u001b[A\n",
            "Train:  39%|███▊      | 3560/9200 [27:17<40:32,  2.32it/s, Average Loss=0.00215, Epoch=7]\u001b[A\n",
            "Train:  39%|███▊      | 3560/9200 [27:17<40:32,  2.32it/s, Average Loss=0.0135, Epoch=7] \u001b[A\n",
            "Train:  39%|███▉      | 3570/9200 [27:22<40:31,  2.32it/s, Average Loss=0.0135, Epoch=7]\u001b[A\n",
            "Train:  39%|███▉      | 3570/9200 [27:22<40:31,  2.32it/s, Average Loss=0.0147, Epoch=7]\u001b[A\n",
            "Train:  39%|███▉      | 3580/9200 [27:26<40:28,  2.31it/s, Average Loss=0.0147, Epoch=7]\u001b[A\n",
            "Train:  39%|███▉      | 3580/9200 [27:26<40:28,  2.31it/s, Average Loss=0.017, Epoch=7] \u001b[A\n",
            "Train:  39%|███▉      | 3590/9200 [27:30<40:24,  2.31it/s, Average Loss=0.017, Epoch=7]\u001b[A\n",
            "Train:  39%|███▉      | 3590/9200 [27:30<40:24,  2.31it/s, Average Loss=0.00584, Epoch=7]\u001b[A\n",
            "Train:  39%|███▉      | 3600/9200 [27:35<40:20,  2.31it/s, Average Loss=0.00584, Epoch=7]\u001b[A\n",
            "Train:  39%|███▉      | 3600/9200 [27:35<40:20,  2.31it/s, Average Loss=0.0151, Epoch=7] \u001b[A\n",
            "Train:  39%|███▉      | 3610/9200 [27:39<40:25,  2.31it/s, Average Loss=0.0151, Epoch=7]\u001b[A\n",
            "Train:  39%|███▉      | 3610/9200 [27:39<40:25,  2.31it/s, Average Loss=0.000486, Epoch=7]\u001b[A\n",
            "Train:  39%|███▉      | 3620/9200 [27:43<40:20,  2.31it/s, Average Loss=0.000486, Epoch=7]\u001b[A\n",
            "Train:  39%|███▉      | 3620/9200 [27:43<40:20,  2.31it/s, Average Loss=0.000503, Epoch=7]\u001b[A\n",
            "Train:  39%|███▉      | 3630/9200 [27:48<40:13,  2.31it/s, Average Loss=0.000503, Epoch=7]\u001b[A\n",
            "Train:  39%|███▉      | 3630/9200 [27:48<40:13,  2.31it/s, Average Loss=0.000435, Epoch=7]\u001b[A\n",
            "Train:  40%|███▉      | 3640/9200 [27:52<40:14,  2.30it/s, Average Loss=0.000435, Epoch=7]\u001b[A\n",
            "Train:  40%|███▉      | 3640/9200 [27:52<40:14,  2.30it/s, Average Loss=0.00606, Epoch=7] \u001b[A\n",
            "Train:  40%|███▉      | 3650/9200 [27:56<40:13,  2.30it/s, Average Loss=0.00606, Epoch=7]\u001b[A\n",
            "Train:  40%|███▉      | 3650/9200 [27:56<40:13,  2.30it/s, Average Loss=0.0446, Epoch=7] \u001b[A\n",
            "Train:  40%|███▉      | 3660/9200 [28:01<40:07,  2.30it/s, Average Loss=0.0446, Epoch=7]\u001b[A\n",
            "Train:  40%|███▉      | 3660/9200 [28:01<40:07,  2.30it/s, Average Loss=0.0071, Epoch=7]\u001b[A\n",
            "Train:  40%|███▉      | 3670/9200 [28:05<40:02,  2.30it/s, Average Loss=0.0071, Epoch=7]\u001b[A\n",
            "Train:  40%|███▉      | 3670/9200 [28:05<40:02,  2.30it/s, Average Loss=0.0467, Epoch=7]\u001b[A\n",
            "Train:  40%|████      | 3680/9200 [28:09<39:50,  2.31it/s, Average Loss=0.0467, Epoch=7]\u001b[A\n",
            "Train:  40%|████      | 3680/9200 [28:09<39:50,  2.31it/s, Average Loss=0.000692, Epoch=7]\u001b[A"
          ]
        },
        {
          "output_type": "stream",
          "name": "stdout",
          "text": [
            "Validation: [Epoch: 7, Macro F1: 0.6186207809278986, Validation Loss: 0.5065682915154084, Time per Epoch: 209.25683689117432]\n",
            "Begin Epoch 8\n"
          ]
        },
        {
          "output_type": "stream",
          "name": "stderr",
          "text": [
            "\n",
            "Train:  40%|████      | 3690/9200 [28:23<1:06:22,  1.38it/s, Average Loss=0.000692, Epoch=7]\u001b[A\n",
            "Train:  40%|████      | 3690/9200 [28:23<1:06:22,  1.38it/s, Average Loss=0.00109, Epoch=8] \u001b[A\n",
            "Train:  40%|████      | 3700/9200 [28:28<58:14,  1.57it/s, Average Loss=0.00109, Epoch=8]  \u001b[A\n",
            "Train:  40%|████      | 3700/9200 [28:28<58:14,  1.57it/s, Average Loss=0.000392, Epoch=8]\u001b[A\n",
            "Train:  40%|████      | 3710/9200 [28:32<52:30,  1.74it/s, Average Loss=0.000392, Epoch=8]\u001b[A\n",
            "Train:  40%|████      | 3710/9200 [28:32<52:30,  1.74it/s, Average Loss=0.0126, Epoch=8]  \u001b[A\n",
            "Train:  40%|████      | 3720/9200 [28:36<48:31,  1.88it/s, Average Loss=0.0126, Epoch=8]\u001b[A\n",
            "Train:  40%|████      | 3720/9200 [28:36<48:31,  1.88it/s, Average Loss=0.000394, Epoch=8]\u001b[A\n",
            "Train:  41%|████      | 3730/9200 [28:41<45:44,  1.99it/s, Average Loss=0.000394, Epoch=8]\u001b[A\n",
            "Train:  41%|████      | 3730/9200 [28:41<45:44,  1.99it/s, Average Loss=0.00576, Epoch=8] \u001b[A\n",
            "Train:  41%|████      | 3740/9200 [28:45<43:42,  2.08it/s, Average Loss=0.00576, Epoch=8]\u001b[A\n",
            "Train:  41%|████      | 3740/9200 [28:45<43:42,  2.08it/s, Average Loss=0.00118, Epoch=8]\u001b[A\n",
            "Train:  41%|████      | 3750/9200 [28:49<42:18,  2.15it/s, Average Loss=0.00118, Epoch=8]\u001b[A\n",
            "Train:  41%|████      | 3750/9200 [28:49<42:18,  2.15it/s, Average Loss=0.00553, Epoch=8]\u001b[A\n",
            "Train:  41%|████      | 3760/9200 [28:53<41:26,  2.19it/s, Average Loss=0.00553, Epoch=8]\u001b[A\n",
            "Train:  41%|████      | 3760/9200 [28:54<41:26,  2.19it/s, Average Loss=0.000799, Epoch=8]\u001b[A\n",
            "Train:  41%|████      | 3770/9200 [28:58<40:42,  2.22it/s, Average Loss=0.000799, Epoch=8]\u001b[A\n",
            "Train:  41%|████      | 3770/9200 [28:58<40:42,  2.22it/s, Average Loss=0.0564, Epoch=8]  \u001b[A\n",
            "Train:  41%|████      | 3780/9200 [29:02<40:09,  2.25it/s, Average Loss=0.0564, Epoch=8]\u001b[A\n",
            "Train:  41%|████      | 3780/9200 [29:02<40:09,  2.25it/s, Average Loss=0.000396, Epoch=8]\u001b[A\n",
            "Train:  41%|████      | 3790/9200 [29:07<39:51,  2.26it/s, Average Loss=0.000396, Epoch=8]\u001b[A\n",
            "Train:  41%|████      | 3790/9200 [29:07<39:51,  2.26it/s, Average Loss=0.000376, Epoch=8]\u001b[A\n",
            "Train:  41%|████▏     | 3800/9200 [29:11<39:39,  2.27it/s, Average Loss=0.000376, Epoch=8]\u001b[A\n",
            "Train:  41%|████▏     | 3800/9200 [29:11<39:39,  2.27it/s, Average Loss=0.021, Epoch=8]   \u001b[A\n",
            "Train:  41%|████▏     | 3810/9200 [29:15<39:23,  2.28it/s, Average Loss=0.021, Epoch=8]\u001b[A\n",
            "Train:  41%|████▏     | 3810/9200 [29:15<39:23,  2.28it/s, Average Loss=0.00902, Epoch=8]\u001b[A\n",
            "Train:  42%|████▏     | 3820/9200 [29:20<39:13,  2.29it/s, Average Loss=0.00902, Epoch=8]\u001b[A\n",
            "Train:  42%|████▏     | 3820/9200 [29:20<39:13,  2.29it/s, Average Loss=0.00437, Epoch=8]\u001b[A\n",
            "Train:  42%|████▏     | 3830/9200 [29:24<39:09,  2.29it/s, Average Loss=0.00437, Epoch=8]\u001b[A\n",
            "Train:  42%|████▏     | 3830/9200 [29:24<39:09,  2.29it/s, Average Loss=0.0883, Epoch=8] \u001b[A\n",
            "Train:  42%|████▏     | 3840/9200 [29:28<39:00,  2.29it/s, Average Loss=0.0883, Epoch=8]\u001b[A\n",
            "Train:  42%|████▏     | 3840/9200 [29:28<39:00,  2.29it/s, Average Loss=0.00255, Epoch=8]\u001b[A\n",
            "Train:  42%|████▏     | 3850/9200 [29:33<38:49,  2.30it/s, Average Loss=0.00255, Epoch=8]\u001b[A\n",
            "Train:  42%|████▏     | 3850/9200 [29:33<38:49,  2.30it/s, Average Loss=0.0206, Epoch=8] \u001b[A\n",
            "Train:  42%|████▏     | 3860/9200 [29:37<38:47,  2.29it/s, Average Loss=0.0206, Epoch=8]\u001b[A\n",
            "Train:  42%|████▏     | 3860/9200 [29:37<38:47,  2.29it/s, Average Loss=0.000571, Epoch=8]\u001b[A\n",
            "Train:  42%|████▏     | 3870/9200 [29:41<38:40,  2.30it/s, Average Loss=0.000571, Epoch=8]\u001b[A\n",
            "Train:  42%|████▏     | 3870/9200 [29:41<38:40,  2.30it/s, Average Loss=0.0216, Epoch=8]  \u001b[A\n",
            "Train:  42%|████▏     | 3880/9200 [29:46<38:33,  2.30it/s, Average Loss=0.0216, Epoch=8]\u001b[A\n",
            "Train:  42%|████▏     | 3880/9200 [29:46<38:33,  2.30it/s, Average Loss=0.000342, Epoch=8]\u001b[A\n",
            "Train:  42%|████▏     | 3890/9200 [29:50<38:29,  2.30it/s, Average Loss=0.000342, Epoch=8]\u001b[A\n",
            "Train:  42%|████▏     | 3890/9200 [29:50<38:29,  2.30it/s, Average Loss=0.000804, Epoch=8]\u001b[A\n",
            "Train:  42%|████▏     | 3900/9200 [29:54<38:28,  2.30it/s, Average Loss=0.000804, Epoch=8]\u001b[A\n",
            "Train:  42%|████▏     | 3900/9200 [29:54<38:28,  2.30it/s, Average Loss=0.0393, Epoch=8]  \u001b[A\n",
            "Train:  42%|████▎     | 3910/9200 [29:59<38:19,  2.30it/s, Average Loss=0.0393, Epoch=8]\u001b[A\n",
            "Train:  42%|████▎     | 3910/9200 [29:59<38:19,  2.30it/s, Average Loss=0.0167, Epoch=8]\u001b[A\n",
            "Train:  43%|████▎     | 3920/9200 [30:03<38:10,  2.30it/s, Average Loss=0.0167, Epoch=8]\u001b[A\n",
            "Train:  43%|████▎     | 3920/9200 [30:03<38:10,  2.30it/s, Average Loss=0.000599, Epoch=8]\u001b[A\n",
            "Train:  43%|████▎     | 3930/9200 [30:07<38:10,  2.30it/s, Average Loss=0.000599, Epoch=8]\u001b[A\n",
            "Train:  43%|████▎     | 3930/9200 [30:07<38:10,  2.30it/s, Average Loss=0.000522, Epoch=8]\u001b[A\n",
            "Train:  43%|████▎     | 3940/9200 [30:12<38:04,  2.30it/s, Average Loss=0.000522, Epoch=8]\u001b[A\n",
            "Train:  43%|████▎     | 3940/9200 [30:12<38:04,  2.30it/s, Average Loss=0.027, Epoch=8]   \u001b[A\n",
            "Train:  43%|████▎     | 3950/9200 [30:16<37:57,  2.31it/s, Average Loss=0.027, Epoch=8]\u001b[A\n",
            "Train:  43%|████▎     | 3950/9200 [30:16<37:57,  2.31it/s, Average Loss=0.000251, Epoch=8]\u001b[A\n",
            "Train:  43%|████▎     | 3960/9200 [30:20<37:54,  2.30it/s, Average Loss=0.000251, Epoch=8]\u001b[A\n",
            "Train:  43%|████▎     | 3960/9200 [30:20<37:54,  2.30it/s, Average Loss=0.0057, Epoch=8]  \u001b[A\n",
            "Train:  43%|████▎     | 3970/9200 [30:25<37:54,  2.30it/s, Average Loss=0.0057, Epoch=8]\u001b[A\n",
            "Train:  43%|████▎     | 3970/9200 [30:25<37:54,  2.30it/s, Average Loss=0.0109, Epoch=8]\u001b[A\n",
            "Train:  43%|████▎     | 3980/9200 [30:29<37:46,  2.30it/s, Average Loss=0.0109, Epoch=8]\u001b[A\n",
            "Train:  43%|████▎     | 3980/9200 [30:29<37:46,  2.30it/s, Average Loss=0.000885, Epoch=8]\u001b[A\n",
            "Train:  43%|████▎     | 3990/9200 [30:33<37:39,  2.31it/s, Average Loss=0.000885, Epoch=8]\u001b[A\n",
            "Train:  43%|████▎     | 3990/9200 [30:33<37:39,  2.31it/s, Average Loss=0.0121, Epoch=8]  \u001b[A\n",
            "Train:  43%|████▎     | 4000/9200 [30:38<37:39,  2.30it/s, Average Loss=0.0121, Epoch=8]\u001b[A\n",
            "Train:  43%|████▎     | 4000/9200 [30:38<37:39,  2.30it/s, Average Loss=0.000243, Epoch=8]\u001b[A\n",
            "Train:  44%|████▎     | 4010/9200 [30:42<37:33,  2.30it/s, Average Loss=0.000243, Epoch=8]\u001b[A\n",
            "Train:  44%|████▎     | 4010/9200 [30:42<37:33,  2.30it/s, Average Loss=0.000123, Epoch=8]\u001b[A\n",
            "Train:  44%|████▎     | 4020/9200 [30:46<37:27,  2.31it/s, Average Loss=0.000123, Epoch=8]\u001b[A\n",
            "Train:  44%|████▎     | 4020/9200 [30:46<37:27,  2.31it/s, Average Loss=0.000403, Epoch=8]\u001b[A\n",
            "Train:  44%|████▍     | 4030/9200 [30:51<37:24,  2.30it/s, Average Loss=0.000403, Epoch=8]\u001b[A\n",
            "Train:  44%|████▍     | 4030/9200 [30:51<37:24,  2.30it/s, Average Loss=0.00366, Epoch=8] \u001b[A\n",
            "Train:  44%|████▍     | 4040/9200 [30:55<37:23,  2.30it/s, Average Loss=0.00366, Epoch=8]\u001b[A\n",
            "Train:  44%|████▍     | 4040/9200 [30:55<37:23,  2.30it/s, Average Loss=0.0123, Epoch=8] \u001b[A\n",
            "Train:  44%|████▍     | 4050/9200 [30:59<37:15,  2.30it/s, Average Loss=0.0123, Epoch=8]\u001b[A\n",
            "Train:  44%|████▍     | 4050/9200 [30:59<37:15,  2.30it/s, Average Loss=0.004, Epoch=8] \u001b[A\n",
            "Train:  44%|████▍     | 4060/9200 [31:04<37:09,  2.31it/s, Average Loss=0.004, Epoch=8]\u001b[A\n",
            "Train:  44%|████▍     | 4060/9200 [31:04<37:09,  2.31it/s, Average Loss=0.0043, Epoch=8]\u001b[A\n",
            "Train:  44%|████▍     | 4070/9200 [31:08<37:10,  2.30it/s, Average Loss=0.0043, Epoch=8]\u001b[A\n",
            "Train:  44%|████▍     | 4070/9200 [31:08<37:10,  2.30it/s, Average Loss=0.00634, Epoch=8]\u001b[A\n",
            "Train:  44%|████▍     | 4080/9200 [31:13<37:02,  2.30it/s, Average Loss=0.00634, Epoch=8]\u001b[A\n",
            "Train:  44%|████▍     | 4080/9200 [31:13<37:02,  2.30it/s, Average Loss=0.0146, Epoch=8] \u001b[A\n",
            "Train:  44%|████▍     | 4090/9200 [31:17<36:55,  2.31it/s, Average Loss=0.0146, Epoch=8]\u001b[A\n",
            "Train:  44%|████▍     | 4090/9200 [31:17<36:55,  2.31it/s, Average Loss=0.0212, Epoch=8]\u001b[A\n",
            "Train:  45%|████▍     | 4100/9200 [31:21<36:56,  2.30it/s, Average Loss=0.0212, Epoch=8]\u001b[A\n",
            "Train:  45%|████▍     | 4100/9200 [31:21<36:56,  2.30it/s, Average Loss=0.0054, Epoch=8]\u001b[A\n",
            "Train:  45%|████▍     | 4110/9200 [31:26<36:52,  2.30it/s, Average Loss=0.0054, Epoch=8]\u001b[A\n",
            "Train:  45%|████▍     | 4110/9200 [31:26<36:52,  2.30it/s, Average Loss=0.000448, Epoch=8]\u001b[A\n",
            "Train:  45%|████▍     | 4120/9200 [31:30<36:42,  2.31it/s, Average Loss=0.000448, Epoch=8]\u001b[A\n",
            "Train:  45%|████▍     | 4120/9200 [31:30<36:42,  2.31it/s, Average Loss=0.000686, Epoch=8]\u001b[A\n",
            "Train:  45%|████▍     | 4130/9200 [31:34<36:36,  2.31it/s, Average Loss=0.000686, Epoch=8]\u001b[A\n",
            "Train:  45%|████▍     | 4130/9200 [31:34<36:36,  2.31it/s, Average Loss=0.00886, Epoch=8] \u001b[A\n",
            "Train:  45%|████▌     | 4140/9200 [31:38<36:24,  2.32it/s, Average Loss=0.00886, Epoch=8]\u001b[A\n",
            "Train:  45%|████▌     | 4140/9200 [31:38<36:24,  2.32it/s, Average Loss=0.000247, Epoch=8]\u001b[A"
          ]
        },
        {
          "output_type": "stream",
          "name": "stdout",
          "text": [
            "Validation: [Epoch: 8, Macro F1: 0.6307578402040943, Validation Loss: 0.6341031619793834, Time per Epoch: 209.5238013267517]\n",
            "Begin Epoch 9\n"
          ]
        },
        {
          "output_type": "stream",
          "name": "stderr",
          "text": [
            "\n",
            "Train:  45%|████▌     | 4150/9200 [31:53<1:01:34,  1.37it/s, Average Loss=0.000247, Epoch=8]\u001b[A\n",
            "Train:  45%|████▌     | 4150/9200 [31:53<1:01:34,  1.37it/s, Average Loss=5.14e-5, Epoch=9] \u001b[A\n",
            "Train:  45%|████▌     | 4160/9200 [31:57<53:52,  1.56it/s, Average Loss=5.14e-5, Epoch=9]  \u001b[A\n",
            "Train:  45%|████▌     | 4160/9200 [31:57<53:52,  1.56it/s, Average Loss=0.016, Epoch=9]  \u001b[A\n",
            "Train:  45%|████▌     | 4170/9200 [32:01<48:29,  1.73it/s, Average Loss=0.016, Epoch=9]\u001b[A\n",
            "Train:  45%|████▌     | 4170/9200 [32:01<48:29,  1.73it/s, Average Loss=0.0228, Epoch=9]\u001b[A\n",
            "Train:  45%|████▌     | 4180/9200 [32:06<44:49,  1.87it/s, Average Loss=0.0228, Epoch=9]\u001b[A\n",
            "Train:  45%|████▌     | 4180/9200 [32:06<44:49,  1.87it/s, Average Loss=0.0025, Epoch=9]\u001b[A\n",
            "Train:  46%|████▌     | 4190/9200 [32:10<42:11,  1.98it/s, Average Loss=0.0025, Epoch=9]\u001b[A\n",
            "Train:  46%|████▌     | 4190/9200 [32:10<42:11,  1.98it/s, Average Loss=0.001, Epoch=9] \u001b[A\n",
            "Train:  46%|████▌     | 4200/9200 [32:14<40:15,  2.07it/s, Average Loss=0.001, Epoch=9]\u001b[A\n",
            "Train:  46%|████▌     | 4200/9200 [32:14<40:15,  2.07it/s, Average Loss=0.00189, Epoch=9]\u001b[A\n",
            "Train:  46%|████▌     | 4210/9200 [32:19<38:57,  2.13it/s, Average Loss=0.00189, Epoch=9]\u001b[A\n",
            "Train:  46%|████▌     | 4210/9200 [32:19<38:57,  2.13it/s, Average Loss=0.0339, Epoch=9] \u001b[A\n",
            "Train:  46%|████▌     | 4220/9200 [32:23<38:04,  2.18it/s, Average Loss=0.0339, Epoch=9]\u001b[A\n",
            "Train:  46%|████▌     | 4220/9200 [32:23<38:04,  2.18it/s, Average Loss=0.000109, Epoch=9]\u001b[A\n",
            "Train:  46%|████▌     | 4230/9200 [32:27<37:20,  2.22it/s, Average Loss=0.000109, Epoch=9]\u001b[A\n",
            "Train:  46%|████▌     | 4230/9200 [32:27<37:20,  2.22it/s, Average Loss=0.0217, Epoch=9]  \u001b[A\n",
            "Train:  46%|████▌     | 4240/9200 [32:32<36:47,  2.25it/s, Average Loss=0.0217, Epoch=9]\u001b[A\n",
            "Train:  46%|████▌     | 4240/9200 [32:32<36:47,  2.25it/s, Average Loss=0.00288, Epoch=9]\u001b[A\n",
            "Train:  46%|████▌     | 4250/9200 [32:36<36:29,  2.26it/s, Average Loss=0.00288, Epoch=9]\u001b[A\n",
            "Train:  46%|████▌     | 4250/9200 [32:36<36:29,  2.26it/s, Average Loss=0.000665, Epoch=9]\u001b[A\n",
            "Train:  46%|████▋     | 4260/9200 [32:40<36:12,  2.27it/s, Average Loss=0.000665, Epoch=9]\u001b[A\n",
            "Train:  46%|████▋     | 4260/9200 [32:40<36:12,  2.27it/s, Average Loss=0.0063, Epoch=9]  \u001b[A\n",
            "Train:  46%|████▋     | 4270/9200 [32:45<35:57,  2.28it/s, Average Loss=0.0063, Epoch=9]\u001b[A\n",
            "Train:  46%|████▋     | 4270/9200 [32:45<35:57,  2.28it/s, Average Loss=0.0107, Epoch=9]\u001b[A\n",
            "Train:  47%|████▋     | 4280/9200 [32:49<35:51,  2.29it/s, Average Loss=0.0107, Epoch=9]\u001b[A\n",
            "Train:  47%|████▋     | 4280/9200 [32:49<35:51,  2.29it/s, Average Loss=0.0112, Epoch=9]\u001b[A\n",
            "Train:  47%|████▋     | 4290/9200 [32:54<35:45,  2.29it/s, Average Loss=0.0112, Epoch=9]\u001b[A\n",
            "Train:  47%|████▋     | 4290/9200 [32:54<35:45,  2.29it/s, Average Loss=0.00562, Epoch=9]\u001b[A\n",
            "Train:  47%|████▋     | 4300/9200 [32:58<35:36,  2.29it/s, Average Loss=0.00562, Epoch=9]\u001b[A\n",
            "Train:  47%|████▋     | 4300/9200 [32:58<35:36,  2.29it/s, Average Loss=0.00242, Epoch=9]\u001b[A\n",
            "Train:  47%|████▋     | 4310/9200 [33:02<35:26,  2.30it/s, Average Loss=0.00242, Epoch=9]\u001b[A\n",
            "Train:  47%|████▋     | 4310/9200 [33:02<35:26,  2.30it/s, Average Loss=4.62e-5, Epoch=9]\u001b[A\n",
            "Train:  47%|████▋     | 4320/9200 [33:07<35:26,  2.29it/s, Average Loss=4.62e-5, Epoch=9]\u001b[A\n",
            "Train:  47%|████▋     | 4320/9200 [33:07<35:26,  2.29it/s, Average Loss=0.0117, Epoch=9] \u001b[A\n",
            "Train:  47%|████▋     | 4330/9200 [33:11<35:34,  2.28it/s, Average Loss=0.0117, Epoch=9]\u001b[A\n",
            "Train:  47%|████▋     | 4330/9200 [33:11<35:34,  2.28it/s, Average Loss=0.002, Epoch=9] \u001b[A\n",
            "Train:  47%|████▋     | 4340/9200 [33:16<35:50,  2.26it/s, Average Loss=0.002, Epoch=9]\u001b[A\n",
            "Train:  47%|████▋     | 4340/9200 [33:16<35:50,  2.26it/s, Average Loss=0.00153, Epoch=9]\u001b[A\n",
            "Train:  47%|████▋     | 4350/9200 [33:20<36:21,  2.22it/s, Average Loss=0.00153, Epoch=9]\u001b[A\n",
            "Train:  47%|████▋     | 4350/9200 [33:20<36:21,  2.22it/s, Average Loss=0.0346, Epoch=9] \u001b[A\n",
            "Train:  47%|████▋     | 4360/9200 [33:25<36:23,  2.22it/s, Average Loss=0.0346, Epoch=9]\u001b[A\n",
            "Train:  47%|████▋     | 4360/9200 [33:25<36:23,  2.22it/s, Average Loss=0.000675, Epoch=9]\u001b[A\n",
            "Train:  48%|████▊     | 4370/9200 [33:29<35:52,  2.24it/s, Average Loss=0.000675, Epoch=9]\u001b[A\n",
            "Train:  48%|████▊     | 4370/9200 [33:29<35:52,  2.24it/s, Average Loss=5.47e-5, Epoch=9] \u001b[A\n",
            "Train:  48%|████▊     | 4380/9200 [33:33<35:28,  2.26it/s, Average Loss=5.47e-5, Epoch=9]\u001b[A\n",
            "Train:  48%|████▊     | 4380/9200 [33:33<35:28,  2.26it/s, Average Loss=0.00516, Epoch=9]\u001b[A\n",
            "Train:  48%|████▊     | 4390/9200 [33:38<35:16,  2.27it/s, Average Loss=0.00516, Epoch=9]\u001b[A\n",
            "Train:  48%|████▊     | 4390/9200 [33:38<35:16,  2.27it/s, Average Loss=0.0403, Epoch=9] \u001b[A\n",
            "Train:  48%|████▊     | 4400/9200 [33:42<34:57,  2.29it/s, Average Loss=0.0403, Epoch=9]\u001b[A\n",
            "Train:  48%|████▊     | 4400/9200 [33:42<34:57,  2.29it/s, Average Loss=0.00282, Epoch=9]\u001b[A\n",
            "Train:  48%|████▊     | 4410/9200 [33:46<34:42,  2.30it/s, Average Loss=0.00282, Epoch=9]\u001b[A\n",
            "Train:  48%|████▊     | 4410/9200 [33:46<34:42,  2.30it/s, Average Loss=0.025, Epoch=9]  \u001b[A\n",
            "Train:  48%|████▊     | 4420/9200 [33:51<34:35,  2.30it/s, Average Loss=0.025, Epoch=9]\u001b[A\n",
            "Train:  48%|████▊     | 4420/9200 [33:51<34:35,  2.30it/s, Average Loss=0.000214, Epoch=9]\u001b[A\n",
            "Train:  48%|████▊     | 4430/9200 [33:55<34:29,  2.31it/s, Average Loss=0.000214, Epoch=9]\u001b[A\n",
            "Train:  48%|████▊     | 4430/9200 [33:55<34:29,  2.31it/s, Average Loss=0.0214, Epoch=9]  \u001b[A\n",
            "Train:  48%|████▊     | 4440/9200 [33:59<34:20,  2.31it/s, Average Loss=0.0214, Epoch=9]\u001b[A\n",
            "Train:  48%|████▊     | 4440/9200 [33:59<34:20,  2.31it/s, Average Loss=0.017, Epoch=9] \u001b[A\n",
            "Train:  48%|████▊     | 4450/9200 [34:04<34:13,  2.31it/s, Average Loss=0.017, Epoch=9]\u001b[A\n",
            "Train:  48%|████▊     | 4450/9200 [34:04<34:13,  2.31it/s, Average Loss=0.0101, Epoch=9]\u001b[A\n",
            "Train:  48%|████▊     | 4460/9200 [34:08<34:13,  2.31it/s, Average Loss=0.0101, Epoch=9]\u001b[A\n",
            "Train:  48%|████▊     | 4460/9200 [34:08<34:13,  2.31it/s, Average Loss=0.0032, Epoch=9]\u001b[A\n",
            "Train:  49%|████▊     | 4470/9200 [34:12<34:03,  2.31it/s, Average Loss=0.0032, Epoch=9]\u001b[A\n",
            "Train:  49%|████▊     | 4470/9200 [34:12<34:03,  2.31it/s, Average Loss=0.0518, Epoch=9]\u001b[A\n",
            "Train:  49%|████▊     | 4480/9200 [34:17<33:57,  2.32it/s, Average Loss=0.0518, Epoch=9]\u001b[A\n",
            "Train:  49%|████▊     | 4480/9200 [34:17<33:57,  2.32it/s, Average Loss=0.0282, Epoch=9]\u001b[A\n",
            "Train:  49%|████▉     | 4490/9200 [34:21<33:56,  2.31it/s, Average Loss=0.0282, Epoch=9]\u001b[A\n",
            "Train:  49%|████▉     | 4490/9200 [34:21<33:56,  2.31it/s, Average Loss=0.00878, Epoch=9]\u001b[A\n",
            "Train:  49%|████▉     | 4500/9200 [34:25<33:54,  2.31it/s, Average Loss=0.00878, Epoch=9]\u001b[A\n",
            "Train:  49%|████▉     | 4500/9200 [34:25<33:54,  2.31it/s, Average Loss=0.0271, Epoch=9] \u001b[A\n",
            "Train:  49%|████▉     | 4510/9200 [34:30<33:53,  2.31it/s, Average Loss=0.0271, Epoch=9]\u001b[A\n",
            "Train:  49%|████▉     | 4510/9200 [34:30<33:53,  2.31it/s, Average Loss=0.00108, Epoch=9]\u001b[A\n",
            "Train:  49%|████▉     | 4520/9200 [34:34<33:55,  2.30it/s, Average Loss=0.00108, Epoch=9]\u001b[A\n",
            "Train:  49%|████▉     | 4520/9200 [34:34<33:55,  2.30it/s, Average Loss=5.29e-5, Epoch=9]\u001b[A\n",
            "Train:  49%|████▉     | 4530/9200 [34:38<33:52,  2.30it/s, Average Loss=5.29e-5, Epoch=9]\u001b[A\n",
            "Train:  49%|████▉     | 4530/9200 [34:38<33:52,  2.30it/s, Average Loss=0.00731, Epoch=9]\u001b[A\n",
            "Train:  49%|████▉     | 4540/9200 [34:43<33:42,  2.30it/s, Average Loss=0.00731, Epoch=9]\u001b[A\n",
            "Train:  49%|████▉     | 4540/9200 [34:43<33:42,  2.30it/s, Average Loss=0.0209, Epoch=9] \u001b[A\n",
            "Train:  49%|████▉     | 4550/9200 [34:47<33:35,  2.31it/s, Average Loss=0.0209, Epoch=9]\u001b[A\n",
            "Train:  49%|████▉     | 4550/9200 [34:47<33:35,  2.31it/s, Average Loss=0.0109, Epoch=9]\u001b[A\n",
            "Train:  50%|████▉     | 4560/9200 [34:51<33:35,  2.30it/s, Average Loss=0.0109, Epoch=9]\u001b[A\n",
            "Train:  50%|████▉     | 4560/9200 [34:51<33:35,  2.30it/s, Average Loss=0.0242, Epoch=9]\u001b[A\n",
            "Train:  50%|████▉     | 4570/9200 [34:56<33:29,  2.30it/s, Average Loss=0.0242, Epoch=9]\u001b[A\n",
            "Train:  50%|████▉     | 4570/9200 [34:56<33:29,  2.30it/s, Average Loss=0.00863, Epoch=9]\u001b[A\n",
            "Train:  50%|████▉     | 4580/9200 [35:00<33:21,  2.31it/s, Average Loss=0.00863, Epoch=9]\u001b[A\n",
            "Train:  50%|████▉     | 4580/9200 [35:00<33:21,  2.31it/s, Average Loss=0.0153, Epoch=9] \u001b[A\n",
            "Train:  50%|████▉     | 4590/9200 [35:04<33:19,  2.31it/s, Average Loss=0.0153, Epoch=9]\u001b[A\n",
            "Train:  50%|████▉     | 4590/9200 [35:04<33:19,  2.31it/s, Average Loss=0.023, Epoch=9] \u001b[A\n",
            "Train:  50%|█████     | 4600/9200 [35:09<33:07,  2.31it/s, Average Loss=0.023, Epoch=9]\u001b[A\n",
            "Train:  50%|█████     | 4600/9200 [35:09<33:07,  2.31it/s, Average Loss=0.00455, Epoch=9]\u001b[A"
          ]
        },
        {
          "output_type": "stream",
          "name": "stdout",
          "text": [
            "Validation: [Epoch: 9, Macro F1: 0.6261282471662503, Validation Loss: 0.5359554203605512, Time per Epoch: 210.06917881965637]\n",
            "Training stopped early at Epoch: 9\n"
          ]
        }
      ]
    },
    {
      "cell_type": "code",
      "source": [
        "model.load_state_dict(torch.load(f\"best_model.ckpt\"))\n",
        "model.cuda()\n",
        "print(\"Done\")"
      ],
      "metadata": {
        "id": "hzB2Rn4-GXSS",
        "execution": {
          "iopub.status.busy": "2023-06-12T05:19:39.535586Z",
          "iopub.status.idle": "2023-06-12T05:19:39.536182Z",
          "shell.execute_reply.started": "2023-06-12T05:19:39.535932Z",
          "shell.execute_reply": "2023-06-12T05:19:39.535959Z"
        },
        "trusted": true,
        "colab": {
          "base_uri": "https://localhost:8080/"
        },
        "outputId": "d096acb3-53d3-4067-e6c8-529e89fff9ed"
      },
      "execution_count": 74,
      "outputs": [
        {
          "output_type": "stream",
          "name": "stdout",
          "text": [
            "Done\n"
          ]
        }
      ]
    },
    {
      "cell_type": "code",
      "source": [
        "evaluate(model, validation_loader)"
      ],
      "metadata": {
        "id": "9U5FrKYZGZnZ",
        "execution": {
          "iopub.status.busy": "2023-06-12T05:19:39.538171Z",
          "iopub.status.idle": "2023-06-12T05:19:39.538634Z",
          "shell.execute_reply.started": "2023-06-12T05:19:39.538401Z",
          "shell.execute_reply": "2023-06-12T05:19:39.538423Z"
        },
        "trusted": true,
        "colab": {
          "base_uri": "https://localhost:8080/",
          "height": 234,
          "referenced_widgets": [
            "15f119defd3d4858850b87e31fe12345",
            "a13230ae261f4bc39559ba885cbe09a9",
            "32a53788230149b9a3f7baf029fa84b3",
            "92447c3877894a6e9f314118fdf36339",
            "4f664914c8e44126a1d79154addcf405",
            "95da65fc16194dfb979f7efb8c07d755",
            "fc5c51a6cc0f46c2af86f51ba3ff366b",
            "32bc0eae066d448292bc79667fb4cba0",
            "228aa93e71974939a05be0da5179fccb",
            "0c48f07a43074001a85e9b8642f1721f",
            "2ce8cf13f3894cf0801ab3ce52beca73",
            "f70be9ceedb54a14a5ac57e3584cae54",
            "51d5e7d9b0674ffb8aff4e74dfe77038",
            "b5afe0be4ea74cabbb817a919ee4d01f",
            "5e68cc73c7f143cfb9a677332e362e7d",
            "6a117f646f7d4887b4d51268dc7ce0fd",
            "243080caa00743b0b177e468199ec14c",
            "ac9c2d19c2764c06bffc0040c6c5d4e0",
            "41d51ff391a64e5f91a9286da21f21c3",
            "1e3f80a6de1842f7afd3a05ac91f18f6",
            "424e78ae510841159f3ad78e22c5f538",
            "aeeb936c27c84e96a0ac2bdfca69db2c",
            "4420ba6da41f436d81b0247c0bd01f73",
            "5b48105446014a0f968be255f600f707",
            "ca823c3070a640238180bcba4f9795d7",
            "620f39f069c64e30a6b2025d68f6aaa0",
            "1bac867711d941189ce75f3babb6e74a",
            "c7e4bf84518a485aabc28cd661f1ebb9",
            "96c40028c9e44c35bdc4d957d2e30bf4",
            "a8491e3c47e44cabade818a7bc5feef0",
            "e02efa2f6e0744b68a35c6c2309f64cd",
            "a8e940f9805b4ede8ea38d19abcc89aa",
            "0b9c4720c0d940a2ad42d06da7749ac3"
          ]
        },
        "outputId": "27cfef80-ee5d-41ca-d889-86ad3666d9db"
      },
      "execution_count": 75,
      "outputs": [
        {
          "output_type": "display_data",
          "data": {
            "text/plain": [
              "Downloading builder script:   0%|          | 0.00/2.58k [00:00<?, ?B/s]"
            ],
            "application/vnd.jupyter.widget-view+json": {
              "version_major": 2,
              "version_minor": 0,
              "model_id": "15f119defd3d4858850b87e31fe12345"
            }
          },
          "metadata": {}
        },
        {
          "output_type": "display_data",
          "data": {
            "text/plain": [
              "Downloading builder script:   0%|          | 0.00/2.52k [00:00<?, ?B/s]"
            ],
            "application/vnd.jupyter.widget-view+json": {
              "version_major": 2,
              "version_minor": 0,
              "model_id": "f70be9ceedb54a14a5ac57e3584cae54"
            }
          },
          "metadata": {}
        },
        {
          "output_type": "display_data",
          "data": {
            "text/plain": [
              "Downloading builder script:   0%|          | 0.00/1.65k [00:00<?, ?B/s]"
            ],
            "application/vnd.jupyter.widget-view+json": {
              "version_major": 2,
              "version_minor": 0,
              "model_id": "4420ba6da41f436d81b0247c0bd01f73"
            }
          },
          "metadata": {}
        },
        {
          "output_type": "execute_result",
          "data": {
            "text/plain": [
              "{'accuracy': 0.9245562130177515,\n",
              " 'precision': 0.9214034019586543,\n",
              " 'recall': 0.9245562130177515,\n",
              " 'f1': 0.9227626709294461,\n",
              " 'macro_precision': 0.6869056613429545,\n",
              " 'macro_recall': 0.6457236075506875,\n",
              " 'macro_f1': 0.6637367799391855}"
            ]
          },
          "metadata": {},
          "execution_count": 75
        }
      ]
    },
    {
      "cell_type": "code",
      "source": [
        "plt.plot(range(len(epoch_traces)), acc_traces)\n",
        "plt.xlabel('Epoch')\n",
        "plt.ylabel('Macro F1-Score')\n",
        "plt.title('Epoch vs Validation Macro F1-Score')\n",
        "plt.xticks(range(len(epoch_traces)), epoch_traces)\n",
        "plt.show()"
      ],
      "metadata": {
        "id": "zE3UzWNHGcnM",
        "execution": {
          "iopub.status.busy": "2023-06-12T05:19:39.540226Z",
          "iopub.status.idle": "2023-06-12T05:19:39.540707Z",
          "shell.execute_reply.started": "2023-06-12T05:19:39.540473Z",
          "shell.execute_reply": "2023-06-12T05:19:39.540497Z"
        },
        "trusted": true,
        "colab": {
          "base_uri": "https://localhost:8080/",
          "height": 472
        },
        "outputId": "57a7ace3-4dfe-4284-9b11-b8c15a0db7c5"
      },
      "execution_count": 76,
      "outputs": [
        {
          "output_type": "display_data",
          "data": {
            "text/plain": [
              "<Figure size 640x480 with 1 Axes>"
            ],
            "image/png": "[encoded data removed]"
          },
          "metadata": {}
        }
      ]
    },
    {
      "cell_type": "code",
      "source": [
        "plt.plot(range(len(epoch_traces)), validation_loss_traces)\n",
        "plt.xlabel('Epoch')\n",
        "plt.ylabel('Loss')\n",
        "plt.title('Epoch vs Validation Loss')\n",
        "plt.xticks(range(len(epoch_traces)), epoch_traces)\n",
        "plt.show()"
      ],
      "metadata": {
        "id": "y1y6enP6GewI",
        "execution": {
          "iopub.status.busy": "2023-06-12T05:19:39.541937Z",
          "iopub.status.idle": "2023-06-12T05:19:39.542938Z",
          "shell.execute_reply.started": "2023-06-12T05:19:39.542673Z",
          "shell.execute_reply": "2023-06-12T05:19:39.542700Z"
        },
        "trusted": true,
        "colab": {
          "base_uri": "https://localhost:8080/",
          "height": 472
        },
        "outputId": "48e7b6e0-47f0-4cf9-a203-99c2679dabde"
      },
      "execution_count": 77,
      "outputs": [
        {
          "output_type": "display_data",
          "data": {
            "text/plain": [
              "<Figure size 640x480 with 1 Axes>"
            ],
            "image/png": "[encoded data removed]"
          },
          "metadata": {}
        }
      ]
    },
    {
      "cell_type": "code",
      "source": [
        "evaluate(model, test_loader)"
      ],
      "metadata": {
        "id": "q9Aw8Z2vGgyh",
        "execution": {
          "iopub.status.busy": "2023-06-12T05:19:39.546187Z",
          "iopub.status.idle": "2023-06-12T05:19:39.546646Z",
          "shell.execute_reply.started": "2023-06-12T05:19:39.546414Z",
          "shell.execute_reply": "2023-06-12T05:19:39.546435Z"
        },
        "trusted": true,
        "colab": {
          "base_uri": "https://localhost:8080/"
        },
        "outputId": "c030e467-2c32-490a-a168-18f4fb35edc2"
      },
      "execution_count": 78,
      "outputs": [
        {
          "output_type": "execute_result",
          "data": {
            "text/plain": [
              "{'accuracy': 0.9275147928994083,\n",
              " 'precision': 0.9200324009896421,\n",
              " 'recall': 0.9275147928994083,\n",
              " 'f1': 0.922841636695193,\n",
              " 'macro_precision': 0.7004885245108708,\n",
              " 'macro_recall': 0.6122731537087166,\n",
              " 'macro_f1': 0.647895960150477}"
            ]
          },
          "metadata": {},
          "execution_count": 78
        }
      ]
    },
    {
      "cell_type": "code",
      "source": [
        "evaluate(model, test_loader_latin)"
      ],
      "metadata": {
        "id": "dNMicbCTGi7_",
        "execution": {
          "iopub.status.busy": "2023-06-12T05:19:39.548230Z",
          "iopub.status.idle": "2023-06-12T05:19:39.548692Z",
          "shell.execute_reply.started": "2023-06-12T05:19:39.548458Z",
          "shell.execute_reply": "2023-06-12T05:19:39.548479Z"
        },
        "trusted": true,
        "colab": {
          "base_uri": "https://localhost:8080/"
        },
        "outputId": "2a465944-7f21-4e8f-e914-719bef7461ad"
      },
      "execution_count": 79,
      "outputs": [
        {
          "output_type": "execute_result",
          "data": {
            "text/plain": [
              "{'accuracy': 0.9366420274551215,\n",
              " 'precision': 0.9302074555358965,\n",
              " 'recall': 0.9366420274551215,\n",
              " 'f1': 0.9329008059383596,\n",
              " 'macro_precision': 0.636537267822184,\n",
              " 'macro_recall': 0.5762211502080968,\n",
              " 'macro_f1': 0.6025593590490917}"
            ]
          },
          "metadata": {},
          "execution_count": 79
        }
      ]
    },
    {
      "cell_type": "code",
      "source": [
        "evaluate(model, test_loader_Sinhala)"
      ],
      "metadata": {
        "id": "C0_4LABCGk91",
        "execution": {
          "iopub.status.busy": "2023-06-12T05:19:39.550060Z",
          "iopub.status.idle": "2023-06-12T05:19:39.550917Z",
          "shell.execute_reply.started": "2023-06-12T05:19:39.550657Z",
          "shell.execute_reply": "2023-06-12T05:19:39.550679Z"
        },
        "trusted": true,
        "colab": {
          "base_uri": "https://localhost:8080/"
        },
        "outputId": "d2316874-ad2f-4411-eb7a-1109ec53b23c"
      },
      "execution_count": 80,
      "outputs": [
        {
          "output_type": "execute_result",
          "data": {
            "text/plain": [
              "{'accuracy': 0.8743718592964824,\n",
              " 'precision': 0.860999608822556,\n",
              " 'recall': 0.8743718592964824,\n",
              " 'f1': 0.8618087619502298,\n",
              " 'macro_precision': 0.7033932135728543,\n",
              " 'macro_recall': 0.5931161403425271,\n",
              " 'macro_f1': 0.6068372856301752}"
            ]
          },
          "metadata": {},
          "execution_count": 80
        }
      ]
    },
    {
      "cell_type": "code",
      "source": [
        "evaluate(model, test_loader_Mixed)"
      ],
      "metadata": {
        "id": "5xfCBwDKGm9M",
        "execution": {
          "iopub.status.busy": "2023-06-12T05:19:39.552385Z",
          "iopub.status.idle": "2023-06-12T05:19:39.552852Z",
          "shell.execute_reply.started": "2023-06-12T05:19:39.552603Z",
          "shell.execute_reply": "2023-06-12T05:19:39.552624Z"
        },
        "trusted": true,
        "colab": {
          "base_uri": "https://localhost:8080/"
        },
        "outputId": "f0a409b1-ba14-4c7c-bc17-bf97238422eb"
      },
      "execution_count": 81,
      "outputs": [
        {
          "output_type": "execute_result",
          "data": {
            "text/plain": [
              "{'accuracy': 0.9368932038834952,\n",
              " 'precision': 0.9320842198517183,\n",
              " 'recall': 0.9368932038834952,\n",
              " 'f1': 0.9315712925947077,\n",
              " 'macro_precision': 0.8456432311144354,\n",
              " 'macro_recall': 0.6890096618357489,\n",
              " 'macro_f1': 0.7511895424836602}"
            ]
          },
          "metadata": {},
          "execution_count": 81
        }
      ]
    },
    {
      "cell_type": "code",
      "source": [],
      "metadata": {
        "id": "FZjKnNRK_dDo"
      },
      "execution_count": 81,
      "outputs": []
    }
  ]
}