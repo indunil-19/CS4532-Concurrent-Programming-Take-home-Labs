{
  "metadata": {
    "kernelspec": {
      "display_name": "Python 3",
      "name": "python3"
    },
    "language_info": {
      "pygments_lexer": "ipython3",
      "nbconvert_exporter": "python",
      "version": "3.6.4",
      "file_extension": ".py",
      "codemirror_mode": {
        "name": "ipython",
        "version": 3
      },
      "name": "python",
      "mimetype": "text/x-python"
    },
    "colab": {
      "provenance": [],
      "gpuType": "T4",
      "include_colab_link": true
    },
    "accelerator": "GPU"
  },
  "nbformat_minor": 0,
  "nbformat": 4,
  "cells": [
    {
      "cell_type": "markdown",
      "metadata": {
        "id": "view-in-github",
        "colab_type": "text"
      },
      "source": [
        "<a href=\"https://colab.research.google.com/github/indunil-19/CS4532-Concurrent-Programming-Take-home-Labs/blob/master/hate_speech_xlmr_adapter_based.ipynb\" target=\"_parent\"><img src=\"https://colab.research.google.com/assets/colab-badge.svg\" alt=\"Open In Colab\"/></a>"
      ]
    },
    {
      "cell_type": "markdown",
      "source": [
        "## Training Single Task Adapters\n",
        "For Bert SinBert and XLM-R Models"
      ],
      "metadata": {
        "id": "eoL8-pXx9z7c"
      }
    },
    {
      "cell_type": "code",
      "source": [
        "import torch\n",
        "print(\"GPU Device name\")\n",
        "torch.cuda.get_device_name(0)"
      ],
      "metadata": {
        "id": "KSLx_mnliOvH",
        "outputId": "681b0627-75f6-4eb5-dd62-cccf2ddf63fb",
        "execution": {
          "iopub.status.busy": "2023-06-12T05:17:54.112412Z",
          "iopub.execute_input": "2023-06-12T05:17:54.112986Z",
          "iopub.status.idle": "2023-06-12T05:17:57.771877Z",
          "shell.execute_reply.started": "2023-06-12T05:17:54.112951Z",
          "shell.execute_reply": "2023-06-12T05:17:57.770812Z"
        },
        "trusted": true,
        "colab": {
          "base_uri": "https://localhost:8080/",
          "height": 52
        }
      },
      "execution_count": 49,
      "outputs": [
        {
          "output_type": "stream",
          "name": "stdout",
          "text": [
            "GPU Device name\n"
          ]
        },
        {
          "output_type": "execute_result",
          "data": {
            "text/plain": [
              "'Tesla T4'"
            ],
            "application/vnd.google.colaboratory.intrinsic+json": {
              "type": "string"
            }
          },
          "metadata": {},
          "execution_count": 49
        }
      ]
    },
    {
      "cell_type": "code",
      "source": [
        "from google.colab import drive\n",
        "drive.mount('/content/drive')"
      ],
      "metadata": {
        "colab": {
          "base_uri": "https://localhost:8080/"
        },
        "id": "uEtgD8WdnRJg",
        "outputId": "1518faca-d479-4a63-9ae3-f42dcf000949"
      },
      "execution_count": 50,
      "outputs": [
        {
          "output_type": "stream",
          "name": "stdout",
          "text": [
            "Drive already mounted at /content/drive; to attempt to forcibly remount, call drive.mount(\"/content/drive\", force_remount=True).\n"
          ]
        }
      ]
    },
    {
      "cell_type": "markdown",
      "source": [
        "### **Parameters**"
      ],
      "metadata": {
        "id": "CCdvw5JNlygg"
      }
    },
    {
      "cell_type": "code",
      "source": [
        "technique = \"Hate-Speech\"\n",
        "experiment_no = \"1\"\n",
        "oversample_dataset = True\n",
        "over_sampling_technique = \"ROS\"\n",
        "sampling_strategy = \"1:0.25:0.25\"\n",
        "validation_size = (1/9)\n",
        "test_size = 0.1\n",
        "split_random_state = 42\n",
        "training_seed = 42 #@param [ 8, 42, 77]\n",
        "NO_OUTPUT_LAYERS = 4\n",
        "id2label={ 0: \"Not offensive\", 1: \"Hate-Inducin\", 2: \"Abusive\"}\n",
        "tag_set = [\"Not offensive\", \"Hate-Inducing\", \"Abusive\"]\n",
        "script=\"Char-Script-1.0\"\n",
        "\n",
        "\n",
        "load_adapter = False #@param {type:\"boolean\"}\n",
        "unfreeze_model = False #@param {type:\"boolean\"}\n",
        "save_adapter = False #@param {type:\"boolean\"}\n",
        "lang_adapter_setting = \"none\" #@param [\"none\", \"stack\", \"parallel\"]\n",
        "adapter_config = \"houlsby\" #@param [\"houlsby\", \"pfeiffer\"]"
      ],
      "metadata": {
        "id": "6LjxhVXklun6",
        "execution": {
          "iopub.status.busy": "2023-06-12T05:17:57.776948Z",
          "iopub.execute_input": "2023-06-12T05:17:57.779660Z",
          "iopub.status.idle": "2023-06-12T05:17:57.789859Z",
          "shell.execute_reply.started": "2023-06-12T05:17:57.779621Z",
          "shell.execute_reply": "2023-06-12T05:17:57.788902Z"
        },
        "trusted": true
      },
      "execution_count": 51,
      "outputs": []
    },
    {
      "cell_type": "code",
      "source": [
        "MAX_LEN = 128\n",
        "BATCH_SIZE = 32\n",
        "LEARNING_RATE = 5e-4\n",
        "EPOCHS = 20"
      ],
      "metadata": {
        "id": "Z5zzz0_5IxVc",
        "execution": {
          "iopub.status.busy": "2023-06-12T05:17:57.794821Z",
          "iopub.execute_input": "2023-06-12T05:17:57.797499Z",
          "iopub.status.idle": "2023-06-12T05:17:57.804477Z",
          "shell.execute_reply.started": "2023-06-12T05:17:57.797465Z",
          "shell.execute_reply": "2023-06-12T05:17:57.803402Z"
        },
        "trusted": true
      },
      "execution_count": 52,
      "outputs": []
    },
    {
      "cell_type": "code",
      "source": [
        "# technique=\"hate\"\n",
        "pretrained_adapter_path = \"/content/drive/Shareddrives/Lingua/Final/\"+technique #+ \"_\" + str(random_state)"
      ],
      "metadata": {
        "id": "KanOOHjzWI7b",
        "execution": {
          "iopub.status.busy": "2023-06-12T05:17:57.810836Z",
          "iopub.execute_input": "2023-06-12T05:17:57.813454Z",
          "iopub.status.idle": "2023-06-12T05:17:57.819791Z",
          "shell.execute_reply.started": "2023-06-12T05:17:57.813422Z",
          "shell.execute_reply": "2023-06-12T05:17:57.818706Z"
        },
        "trusted": true
      },
      "execution_count": 53,
      "outputs": []
    },
    {
      "cell_type": "markdown",
      "source": [
        "### Installation"
      ],
      "metadata": {
        "id": "3L9gYpCV28OA"
      }
    },
    {
      "cell_type": "code",
      "source": [
        "!pip install -U adapter-transformers==3.1.0\n",
        "!pip install datasets\n",
        "!pip install sentencepiece"
      ],
      "metadata": {
        "id": "qL3Sq1HQynCq",
        "outputId": "d17e2dd5-c7cf-4d5d-e956-548f23e4f39f",
        "execution": {
          "iopub.status.busy": "2023-06-12T05:17:57.821554Z",
          "iopub.execute_input": "2023-06-12T05:17:57.822946Z",
          "iopub.status.idle": "2023-06-12T05:18:39.343169Z",
          "shell.execute_reply.started": "2023-06-12T05:17:57.822910Z",
          "shell.execute_reply": "2023-06-12T05:18:39.341908Z"
        },
        "trusted": true,
        "colab": {
          "base_uri": "https://localhost:8080/"
        }
      },
      "execution_count": 54,
      "outputs": [
        {
          "output_type": "stream",
          "name": "stdout",
          "text": [
            "Requirement already satisfied: adapter-transformers==3.1.0 in /usr/local/lib/python3.10/dist-packages (3.1.0)\n",
            "Requirement already satisfied: filelock in /usr/local/lib/python3.10/dist-packages (from adapter-transformers==3.1.0) (3.12.2)\n",
            "Requirement already satisfied: huggingface-hub<1.0,>=0.1.0 in /usr/local/lib/python3.10/dist-packages (from adapter-transformers==3.1.0) (0.16.4)\n",
            "Requirement already satisfied: numpy>=1.17 in /usr/local/lib/python3.10/dist-packages (from adapter-transformers==3.1.0) (1.22.4)\n",
            "Requirement already satisfied: packaging>=20.0 in /usr/local/lib/python3.10/dist-packages (from adapter-transformers==3.1.0) (23.1)\n",
            "Requirement already satisfied: pyyaml>=5.1 in /usr/local/lib/python3.10/dist-packages (from adapter-transformers==3.1.0) (6.0.1)\n",
            "Requirement already satisfied: regex!=2019.12.17 in /usr/local/lib/python3.10/dist-packages (from adapter-transformers==3.1.0) (2022.10.31)\n",
            "Requirement already satisfied: requests in /usr/local/lib/python3.10/dist-packages (from adapter-transformers==3.1.0) (2.27.1)\n",
            "Requirement already satisfied: tokenizers!=0.11.3,<0.13,>=0.11.1 in /usr/local/lib/python3.10/dist-packages (from adapter-transformers==3.1.0) (0.12.1)\n",
            "Requirement already satisfied: tqdm>=4.27 in /usr/local/lib/python3.10/dist-packages (from adapter-transformers==3.1.0) (4.65.0)\n",
            "Requirement already satisfied: fsspec in /usr/local/lib/python3.10/dist-packages (from huggingface-hub<1.0,>=0.1.0->adapter-transformers==3.1.0) (2023.6.0)\n",
            "Requirement already satisfied: typing-extensions>=3.7.4.3 in /usr/local/lib/python3.10/dist-packages (from huggingface-hub<1.0,>=0.1.0->adapter-transformers==3.1.0) (4.7.1)\n",
            "Requirement already satisfied: urllib3<1.27,>=1.21.1 in /usr/local/lib/python3.10/dist-packages (from requests->adapter-transformers==3.1.0) (1.26.16)\n",
            "Requirement already satisfied: certifi>=2017.4.17 in /usr/local/lib/python3.10/dist-packages (from requests->adapter-transformers==3.1.0) (2023.7.22)\n",
            "Requirement already satisfied: charset-normalizer~=2.0.0 in /usr/local/lib/python3.10/dist-packages (from requests->adapter-transformers==3.1.0) (2.0.12)\n",
            "Requirement already satisfied: idna<4,>=2.5 in /usr/local/lib/python3.10/dist-packages (from requests->adapter-transformers==3.1.0) (3.4)\n",
            "Requirement already satisfied: datasets in /usr/local/lib/python3.10/dist-packages (2.14.3)\n",
            "Requirement already satisfied: numpy>=1.17 in /usr/local/lib/python3.10/dist-packages (from datasets) (1.22.4)\n",
            "Requirement already satisfied: pyarrow>=8.0.0 in /usr/local/lib/python3.10/dist-packages (from datasets) (9.0.0)\n",
            "Requirement already satisfied: dill<0.3.8,>=0.3.0 in /usr/local/lib/python3.10/dist-packages (from datasets) (0.3.7)\n",
            "Requirement already satisfied: pandas in /usr/local/lib/python3.10/dist-packages (from datasets) (1.5.3)\n",
            "Requirement already satisfied: requests>=2.19.0 in /usr/local/lib/python3.10/dist-packages (from datasets) (2.27.1)\n",
            "Requirement already satisfied: tqdm>=4.62.1 in /usr/local/lib/python3.10/dist-packages (from datasets) (4.65.0)\n",
            "Requirement already satisfied: xxhash in /usr/local/lib/python3.10/dist-packages (from datasets) (3.3.0)\n",
            "Requirement already satisfied: multiprocess in /usr/local/lib/python3.10/dist-packages (from datasets) (0.70.15)\n",
            "Requirement already satisfied: fsspec[http]>=2021.11.1 in /usr/local/lib/python3.10/dist-packages (from datasets) (2023.6.0)\n",
            "Requirement already satisfied: aiohttp in /usr/local/lib/python3.10/dist-packages (from datasets) (3.8.5)\n",
            "Requirement already satisfied: huggingface-hub<1.0.0,>=0.14.0 in /usr/local/lib/python3.10/dist-packages (from datasets) (0.16.4)\n",
            "Requirement already satisfied: packaging in /usr/local/lib/python3.10/dist-packages (from datasets) (23.1)\n",
            "Requirement already satisfied: pyyaml>=5.1 in /usr/local/lib/python3.10/dist-packages (from datasets) (6.0.1)\n",
            "Requirement already satisfied: attrs>=17.3.0 in /usr/local/lib/python3.10/dist-packages (from aiohttp->datasets) (23.1.0)\n",
            "Requirement already satisfied: charset-normalizer<4.0,>=2.0 in /usr/local/lib/python3.10/dist-packages (from aiohttp->datasets) (2.0.12)\n",
            "Requirement already satisfied: multidict<7.0,>=4.5 in /usr/local/lib/python3.10/dist-packages (from aiohttp->datasets) (6.0.4)\n",
            "Requirement already satisfied: async-timeout<5.0,>=4.0.0a3 in /usr/local/lib/python3.10/dist-packages (from aiohttp->datasets) (4.0.2)\n",
            "Requirement already satisfied: yarl<2.0,>=1.0 in /usr/local/lib/python3.10/dist-packages (from aiohttp->datasets) (1.9.2)\n",
            "Requirement already satisfied: frozenlist>=1.1.1 in /usr/local/lib/python3.10/dist-packages (from aiohttp->datasets) (1.4.0)\n",
            "Requirement already satisfied: aiosignal>=1.1.2 in /usr/local/lib/python3.10/dist-packages (from aiohttp->datasets) (1.3.1)\n",
            "Requirement already satisfied: filelock in /usr/local/lib/python3.10/dist-packages (from huggingface-hub<1.0.0,>=0.14.0->datasets) (3.12.2)\n",
            "Requirement already satisfied: typing-extensions>=3.7.4.3 in /usr/local/lib/python3.10/dist-packages (from huggingface-hub<1.0.0,>=0.14.0->datasets) (4.7.1)\n",
            "Requirement already satisfied: urllib3<1.27,>=1.21.1 in /usr/local/lib/python3.10/dist-packages (from requests>=2.19.0->datasets) (1.26.16)\n",
            "Requirement already satisfied: certifi>=2017.4.17 in /usr/local/lib/python3.10/dist-packages (from requests>=2.19.0->datasets) (2023.7.22)\n",
            "Requirement already satisfied: idna<4,>=2.5 in /usr/local/lib/python3.10/dist-packages (from requests>=2.19.0->datasets) (3.4)\n",
            "Requirement already satisfied: python-dateutil>=2.8.1 in /usr/local/lib/python3.10/dist-packages (from pandas->datasets) (2.8.2)\n",
            "Requirement already satisfied: pytz>=2020.1 in /usr/local/lib/python3.10/dist-packages (from pandas->datasets) (2022.7.1)\n",
            "Requirement already satisfied: six>=1.5 in /usr/local/lib/python3.10/dist-packages (from python-dateutil>=2.8.1->pandas->datasets) (1.16.0)\n",
            "Requirement already satisfied: sentencepiece in /usr/local/lib/python3.10/dist-packages (0.1.99)\n"
          ]
        }
      ]
    },
    {
      "cell_type": "markdown",
      "source": [
        "### Dependencies"
      ],
      "metadata": {
        "id": "LUHpDE_Gtyen"
      }
    },
    {
      "cell_type": "code",
      "source": [],
      "metadata": {
        "id": "mUcFdH0HIxVe"
      },
      "execution_count": 54,
      "outputs": []
    },
    {
      "cell_type": "code",
      "source": [
        "import re\n",
        "import time\n",
        "import torch\n",
        "from torch.utils.data import TensorDataset, DataLoader, RandomSampler, SequentialSampler\n",
        "from tqdm import tqdm\n",
        "from sklearn.metrics import classification_report\n",
        "from google.colab import drive\n",
        "import io\n",
        "import seaborn as sns\n",
        "from sklearn.model_selection import train_test_split\n",
        "import numpy as np\n",
        "import pandas as pd\n",
        "from transformers import AutoAdapterModel ,AutoTokenizer, AdapterConfig,AutoConfig, AutoModelWithHeads, TrainingArguments, AdapterTrainer, EvalPrediction, AdamW, get_scheduler, TextClassificationPipeline, EarlyStoppingCallback, Trainer,set_seed\n",
        "from transformers import  AdamW, get_linear_schedule_with_warmup,set_seed\n",
        "from transformers.adapters.composition import Fuse, Stack, Parallel\n",
        "from datasets import load_metric\n",
        "from collections import Counter\n",
        "from imblearn.over_sampling import RandomOverSampler, SMOTE, ADASYN, BorderlineSMOTE\n",
        "import matplotlib.pyplot as plt\n",
        "%matplotlib inline\n"
      ],
      "metadata": {
        "id": "xJZ6z8bJl25l",
        "execution": {
          "iopub.status.busy": "2023-06-12T05:18:39.345281Z",
          "iopub.execute_input": "2023-06-12T05:18:39.345675Z",
          "iopub.status.idle": "2023-06-12T05:18:51.037244Z",
          "shell.execute_reply.started": "2023-06-12T05:18:39.345637Z",
          "shell.execute_reply": "2023-06-12T05:18:51.036320Z"
        },
        "trusted": true
      },
      "execution_count": 55,
      "outputs": []
    },
    {
      "cell_type": "markdown",
      "source": [
        "### Dataset Preprocessing"
      ],
      "metadata": {
        "id": "EzrDM6Ua-jo_"
      }
    },
    {
      "cell_type": "code",
      "source": [
        "def apply_oversampling(x, y):\n",
        "  (unique, counts) = np.unique(y, axis=0, return_counts=True)\n",
        "  print(\"Class Distribution Without Oversampling\", counts)\n",
        "\n",
        "  # define oversampling strategy\n",
        "  if (over_sampling_technique == \"\"):\n",
        "    return x, y\n",
        "  elif (over_sampling_technique == \"ROS\"):\n",
        "    if (technique==\"Humor\"):\n",
        "      oversample = RandomOverSampler(sampling_strategy = float(sampling_strategy))\n",
        "    elif (technique==\"Hate-Speech\"):\n",
        "      sampling_ratio = sampling_strategy.split(\":\")\n",
        "      oversample = RandomOverSampler(sampling_strategy = {\n",
        "          0:int(counts[0]*float(sampling_ratio[0])),\n",
        "          1:int(counts[0]*float(sampling_ratio[1])),\n",
        "          2:int(counts[0]*float(sampling_ratio[2]))\n",
        "          })\n",
        "    elif (technique==\"Sentiment\"):\n",
        "      sampling_ratio = sampling_strategy.split(\":\")\n",
        "      oversample = RandomOverSampler(sampling_strategy = {\n",
        "          0:int(counts[1]*float(sampling_ratio[0])),\n",
        "          1:int(counts[1]*float(sampling_ratio[1])),\n",
        "          2:int(counts[1]*float(sampling_ratio[2])),\n",
        "          3:int(counts[1]*float(sampling_ratio[3]))\n",
        "          })\n",
        "  elif (over_sampling_technique == \"ADASYN\"):\n",
        "    oversample = ADASYN(sampling_strategy=\"minority\")\n",
        "  elif (over_sampling_technique == \"SMOTE\"):\n",
        "    oversample = SMOTE()\n",
        "  elif (over_sampling_technique == \"BorderlineSMOTE\"):\n",
        "    oversample = BorderlineSMOTE()\n",
        "\n",
        "  # fit and apply the transform\n",
        "  X_over, y_over = oversample.fit_resample(x, y)\n",
        "\n",
        "  (unique, counts) = np.unique(y_over, axis=0, return_counts=True)\n",
        "  print(\"Class Distribution After Oversampling\", counts)\n",
        "\n",
        "  return X_over, y_over"
      ],
      "metadata": {
        "id": "BB8pw1RDuDaA",
        "execution": {
          "iopub.status.busy": "2023-06-12T05:18:51.038788Z",
          "iopub.execute_input": "2023-06-12T05:18:51.039692Z",
          "iopub.status.idle": "2023-06-12T05:18:51.051653Z",
          "shell.execute_reply.started": "2023-06-12T05:18:51.039655Z",
          "shell.execute_reply": "2023-06-12T05:18:51.050779Z"
        },
        "trusted": true
      },
      "execution_count": 56,
      "outputs": []
    },
    {
      "cell_type": "code",
      "source": [
        "dataset_path = \"/content/drive/Shareddrives/Lingua/Sinhala-English CMCS Dataset/annotated-script(all).csv\"\n",
        "model_save_path = \"/kaggle/working/\"+technique+\"/\"+experiment_no"
      ],
      "metadata": {
        "id": "0MUpioPlmvMh",
        "execution": {
          "iopub.status.busy": "2023-06-12T05:18:51.056329Z",
          "iopub.execute_input": "2023-06-12T05:18:51.058159Z",
          "iopub.status.idle": "2023-06-12T05:18:51.258329Z",
          "shell.execute_reply.started": "2023-06-12T05:18:51.058117Z",
          "shell.execute_reply": "2023-06-12T05:18:51.257255Z"
        },
        "trusted": true
      },
      "execution_count": 57,
      "outputs": []
    },
    {
      "cell_type": "code",
      "source": [
        "df = pd.read_csv(dataset_path)\n",
        "df = df[['Sentence', technique, script]]\n",
        "df.columns = ['Sentence', 'Label', script]\n",
        "\n",
        "df['Label'], uniq = pd.factorize(df['Label'])\n",
        "\n",
        "X, y = df[['Sentence', script]], df[['Label']]\n",
        "stratifying_col = y[\"Label\"]\n",
        "X_rem, X_test, y_rem, y_test = train_test_split(X, y, test_size=test_size, stratify=stratifying_col, random_state=split_random_state)\n",
        "stratifying_col = y_rem[\"Label\"]\n",
        "X_train, X_validation, y_train, y_validation = train_test_split(X_rem, y_rem, test_size=validation_size, stratify=stratifying_col, random_state=split_random_state)"
      ],
      "metadata": {
        "id": "yq5AMmjelqlj",
        "execution": {
          "iopub.status.busy": "2023-06-12T05:18:51.259689Z",
          "iopub.execute_input": "2023-06-12T05:18:51.260749Z",
          "iopub.status.idle": "2023-06-12T05:18:51.387836Z",
          "shell.execute_reply.started": "2023-06-12T05:18:51.260698Z",
          "shell.execute_reply": "2023-06-12T05:18:51.386928Z"
        },
        "trusted": true
      },
      "execution_count": 58,
      "outputs": []
    },
    {
      "cell_type": "code",
      "source": [
        "del df, X, y, stratifying_col, X_rem, y_rem"
      ],
      "metadata": {
        "id": "Ppy0Sj5NIxVg",
        "execution": {
          "iopub.status.busy": "2023-06-12T05:18:51.392170Z",
          "iopub.execute_input": "2023-06-12T05:18:51.392455Z",
          "iopub.status.idle": "2023-06-12T05:18:51.397228Z",
          "shell.execute_reply.started": "2023-06-12T05:18:51.392431Z",
          "shell.execute_reply": "2023-06-12T05:18:51.396150Z"
        },
        "trusted": true
      },
      "execution_count": 59,
      "outputs": []
    },
    {
      "cell_type": "code",
      "source": [
        "uniq"
      ],
      "metadata": {
        "id": "oHELisZ0ufPM",
        "outputId": "67bf6bb3-8243-4310-c4a9-2b2e3585e00b",
        "execution": {
          "iopub.status.busy": "2023-06-12T05:18:51.398556Z",
          "iopub.execute_input": "2023-06-12T05:18:51.399147Z",
          "iopub.status.idle": "2023-06-12T05:18:51.411611Z",
          "shell.execute_reply.started": "2023-06-12T05:18:51.399114Z",
          "shell.execute_reply": "2023-06-12T05:18:51.410683Z"
        },
        "trusted": true,
        "colab": {
          "base_uri": "https://localhost:8080/"
        }
      },
      "execution_count": 60,
      "outputs": [
        {
          "output_type": "execute_result",
          "data": {
            "text/plain": [
              "Index(['Not offensive', 'Hate-Inducing', 'Abusive'], dtype='object')"
            ]
          },
          "metadata": {},
          "execution_count": 60
        }
      ]
    },
    {
      "cell_type": "code",
      "source": [
        "print(\"X_train : Rows =\", X_train.shape[0], \", Columns = \", X_train.shape[1])\n",
        "print(\"y_train : Rows =\", y_train.shape[0], \", Columns = \", y_train.shape[1])\n",
        "print(\"X_validation : Rows =\", X_validation.shape[0], \", Columns = \", X_validation.shape[1])\n",
        "print(\"y_validation : Rows =\", y_validation.shape[0], \", Columns = \", y_validation.shape[1])\n",
        "print(\"X_test : Rows =\", X_test.shape[0], \", Columns = \", X_test.shape[1])\n",
        "print(\"y_test : Rows =\", y_test.shape[0], \", Columns = \", y_test.shape[1])"
      ],
      "metadata": {
        "id": "dkRs6oJvIxVh",
        "outputId": "31b4dac8-e4ef-4035-f039-5fa08ebf8e65",
        "execution": {
          "iopub.status.busy": "2023-06-12T05:18:51.413132Z",
          "iopub.execute_input": "2023-06-12T05:18:51.413499Z",
          "iopub.status.idle": "2023-06-12T05:18:51.423507Z",
          "shell.execute_reply.started": "2023-06-12T05:18:51.413465Z",
          "shell.execute_reply": "2023-06-12T05:18:51.422518Z"
        },
        "trusted": true,
        "colab": {
          "base_uri": "https://localhost:8080/"
        }
      },
      "execution_count": 61,
      "outputs": [
        {
          "output_type": "stream",
          "name": "stdout",
          "text": [
            "X_train : Rows = 10814 , Columns =  2\n",
            "y_train : Rows = 10814 , Columns =  1\n",
            "X_validation : Rows = 1352 , Columns =  2\n",
            "y_validation : Rows = 1352 , Columns =  1\n",
            "X_test : Rows = 1352 , Columns =  2\n",
            "y_test : Rows = 1352 , Columns =  1\n"
          ]
        }
      ]
    },
    {
      "cell_type": "code",
      "source": [
        "print(\"Labels :\",[\"Not offensive\", \"Hate-Inducing\", \"Abusive\"])\n",
        "print(\"Train :\", y_train.groupby('Label').size().tolist())\n",
        "print(\"Validation :\", y_validation.groupby('Label').size().tolist())\n",
        "print(\"Test :\", y_test.groupby('Label').size().tolist())"
      ],
      "metadata": {
        "id": "UaUlvhRwIxVh",
        "outputId": "3b71cf4e-babe-46d9-ebec-6c3cc7af6f2c",
        "execution": {
          "iopub.status.busy": "2023-06-12T05:18:51.424835Z",
          "iopub.execute_input": "2023-06-12T05:18:51.425385Z",
          "iopub.status.idle": "2023-06-12T05:18:51.443127Z",
          "shell.execute_reply.started": "2023-06-12T05:18:51.425324Z",
          "shell.execute_reply": "2023-06-12T05:18:51.441765Z"
        },
        "trusted": true,
        "colab": {
          "base_uri": "https://localhost:8080/"
        }
      },
      "execution_count": 62,
      "outputs": [
        {
          "output_type": "stream",
          "name": "stdout",
          "text": [
            "Labels : ['Not offensive', 'Hate-Inducing', 'Abusive']\n",
            "Train : [9810, 278, 726]\n",
            "Validation : [1226, 35, 91]\n",
            "Test : [1226, 35, 91]\n"
          ]
        }
      ]
    },
    {
      "cell_type": "code",
      "source": [
        "def  oversampling(X_train,y_train):\n",
        "  X_train = np.array(X_train).reshape(-1, 1)\n",
        "  X_train, y_train = apply_oversampling(X_train, y_train)\n",
        "  X_train = [x[0] for x in X_train.tolist()]\n",
        "  return X_train,y_train"
      ],
      "metadata": {
        "id": "7tCiiAeuIxVi",
        "execution": {
          "iopub.status.busy": "2023-06-12T05:18:51.445242Z",
          "iopub.execute_input": "2023-06-12T05:18:51.445907Z",
          "iopub.status.idle": "2023-06-12T05:18:51.451797Z",
          "shell.execute_reply.started": "2023-06-12T05:18:51.445876Z",
          "shell.execute_reply": "2023-06-12T05:18:51.450778Z"
        },
        "trusted": true
      },
      "execution_count": 63,
      "outputs": []
    },
    {
      "cell_type": "markdown",
      "source": [
        "##### **Preprocess Data**"
      ],
      "metadata": {
        "id": "Xw-aKg9RIxVi"
      }
    },
    {
      "cell_type": "code",
      "source": [
        "set_seed(training_seed)"
      ],
      "metadata": {
        "id": "T_2iifBVIxVi",
        "execution": {
          "iopub.status.busy": "2023-06-12T05:18:51.453261Z",
          "iopub.execute_input": "2023-06-12T05:18:51.453626Z",
          "iopub.status.idle": "2023-06-12T05:18:51.465558Z",
          "shell.execute_reply.started": "2023-06-12T05:18:51.453595Z",
          "shell.execute_reply": "2023-06-12T05:18:51.464640Z"
        },
        "trusted": true
      },
      "execution_count": 64,
      "outputs": []
    },
    {
      "cell_type": "code",
      "source": [
        "X_train, y_train = X_train.values.tolist(), y_train.values.tolist()\n",
        "X_validation, y_validation = X_validation.values.tolist(), y_validation.values.tolist()\n",
        "X_test, y_test = X_test.values.tolist(), y_test.values.tolist()"
      ],
      "metadata": {
        "id": "SxzzTXwZIxVj",
        "execution": {
          "iopub.status.busy": "2023-06-12T05:18:51.468494Z",
          "iopub.execute_input": "2023-06-12T05:18:51.468760Z",
          "iopub.status.idle": "2023-06-12T05:18:51.483094Z",
          "shell.execute_reply.started": "2023-06-12T05:18:51.468714Z",
          "shell.execute_reply": "2023-06-12T05:18:51.482186Z"
        },
        "trusted": true
      },
      "execution_count": 65,
      "outputs": []
    },
    {
      "cell_type": "code",
      "source": [
        "X_train_arr=[]\n",
        "y_train_arr=[]\n",
        "\n",
        "for i in range(len(X_train)):\n",
        "    X_train_arr.append(X_train[i][0])\n",
        "    y_train_arr.append(y_train[i][0])\n",
        "\n",
        "\n",
        "X_validation_arr=[]\n",
        "y_validation_arr=[]\n",
        "for i in range(len(X_validation)):\n",
        "    X_validation_arr.append(X_validation[i][0])\n",
        "    y_validation_arr.append(y_validation[i][0])\n",
        "\n",
        "\n",
        "X_test_arr=[]\n",
        "y_test_arr=[]\n",
        "X_test_latin=[]\n",
        "y_test_latin=[]\n",
        "\n",
        "X_test_Sinhala=[]\n",
        "y_test_Sinhala=[]\n",
        "\n",
        "X_test_Mixed=[]\n",
        "y_test_Mixed=[]\n",
        "for i in range(len(X_test)):\n",
        "    X_test_arr.append(X_test[i][0])\n",
        "    y_test_arr.append(y_test[i][0])\n",
        "\n",
        "    if X_test[i][1]==\"Latin\":\n",
        "        X_test_latin.append(X_test[i][0])\n",
        "        y_test_latin.append(y_test[i][0])\n",
        "\n",
        "    elif X_test[i][1]==\"Sinhala\":\n",
        "        X_test_Sinhala.append(X_test[i][0])\n",
        "        y_test_Sinhala.append(y_test[i][0])\n",
        "\n",
        "    elif X_test[i][1]==\"Mixed\":\n",
        "        X_test_Mixed.append(X_test[i][0])\n",
        "        y_test_Mixed.append(y_test[i][0])"
      ],
      "metadata": {
        "id": "oQbG0JmQIxVj",
        "execution": {
          "iopub.status.busy": "2023-06-12T05:18:51.485567Z",
          "iopub.execute_input": "2023-06-12T05:18:51.486413Z",
          "iopub.status.idle": "2023-06-12T05:18:51.506201Z",
          "shell.execute_reply.started": "2023-06-12T05:18:51.486389Z",
          "shell.execute_reply": "2023-06-12T05:18:51.505267Z"
        },
        "trusted": true
      },
      "execution_count": 66,
      "outputs": []
    },
    {
      "cell_type": "code",
      "source": [
        "X_train_arr,y_train_arr=oversampling(X_train_arr,y_train_arr)"
      ],
      "metadata": {
        "colab": {
          "base_uri": "https://localhost:8080/"
        },
        "id": "x_4k3WAxZdiJ",
        "outputId": "f6cc760e-cb08-420f-8f14-9a8e4afd389e"
      },
      "execution_count": 67,
      "outputs": [
        {
          "output_type": "stream",
          "name": "stdout",
          "text": [
            "Class Distribution Without Oversampling [9810  278  726]\n",
            "Class Distribution After Oversampling [9810 2452 2452]\n"
          ]
        }
      ]
    },
    {
      "cell_type": "code",
      "source": [
        "tokenizer = AutoTokenizer.from_pretrained(\"xlm-roberta-base\", do_lower_case=True)"
      ],
      "metadata": {
        "id": "lCUWfe8-n0i8",
        "execution": {
          "iopub.status.busy": "2023-06-12T05:18:51.507889Z",
          "iopub.execute_input": "2023-06-12T05:18:51.508176Z",
          "iopub.status.idle": "2023-06-12T05:18:55.335122Z",
          "shell.execute_reply.started": "2023-06-12T05:18:51.508152Z",
          "shell.execute_reply": "2023-06-12T05:18:55.334108Z"
        },
        "trusted": true
      },
      "execution_count": 68,
      "outputs": []
    },
    {
      "cell_type": "code",
      "source": [
        "encoded_X_train = tokenizer(X_train_arr, truncation=True, padding=True, max_length=MAX_LEN)\n",
        "encoded_X_validation = tokenizer(X_validation_arr, truncation=True, padding=True, max_length=MAX_LEN)\n",
        "encoded_X_test = tokenizer(X_test_arr, truncation=True, padding=True, max_length=MAX_LEN)\n",
        "encoded_X_test_latin = tokenizer(X_test_latin, truncation=True, padding=True, max_length=MAX_LEN)\n",
        "encoded_X_test_Sinhala = tokenizer(X_test_Sinhala, truncation=True, padding=True, max_length=MAX_LEN)\n",
        "encoded_X_test_Mixed = tokenizer(X_test_Mixed, truncation=True, padding=True, max_length=MAX_LEN)\n",
        "\n"
      ],
      "metadata": {
        "id": "TqXJtJe8oObQ",
        "execution": {
          "iopub.status.busy": "2023-06-12T05:18:55.336709Z",
          "iopub.execute_input": "2023-06-12T05:18:55.337332Z",
          "iopub.status.idle": "2023-06-12T05:18:56.345656Z",
          "shell.execute_reply.started": "2023-06-12T05:18:55.337296Z",
          "shell.execute_reply": "2023-06-12T05:18:56.344773Z"
        },
        "trusted": true
      },
      "execution_count": 69,
      "outputs": []
    },
    {
      "cell_type": "code",
      "source": [
        "class DatasetObject(torch.utils.data.Dataset):\n",
        "    def __init__(self, encodings, labels):\n",
        "        self.encodings = encodings\n",
        "        self.labels = labels\n",
        "\n",
        "    def __getitem__(self, idx):\n",
        "        item = {key: torch.tensor(val[idx]) for key, val in self.encodings.items()}\n",
        "        item['labels'] = torch.tensor(self.labels[idx])\n",
        "        return item\n",
        "\n",
        "    def __len__(self):\n",
        "        return len(self.labels)\n",
        "\n",
        "train_dataset = DatasetObject(encoded_X_train, y_train_arr)\n",
        "validation_dataset = DatasetObject(encoded_X_validation, y_validation_arr)\n",
        "test_dataset = DatasetObject(encoded_X_test, y_test_arr)\n",
        "test_dataset_latin = DatasetObject(encoded_X_test_latin, y_test_latin)\n",
        "test_dataset_Sinhala = DatasetObject(encoded_X_test_Sinhala, y_test_Sinhala)\n",
        "test_dataset_Mixed = DatasetObject(encoded_X_test_Mixed, y_test_Mixed)\n"
      ],
      "metadata": {
        "id": "6581Al-K_Nyf",
        "execution": {
          "iopub.status.busy": "2023-06-12T05:18:56.347302Z",
          "iopub.execute_input": "2023-06-12T05:18:56.347660Z",
          "iopub.status.idle": "2023-06-12T05:18:56.357584Z",
          "shell.execute_reply.started": "2023-06-12T05:18:56.347627Z",
          "shell.execute_reply": "2023-06-12T05:18:56.356762Z"
        },
        "trusted": true
      },
      "execution_count": 70,
      "outputs": []
    },
    {
      "cell_type": "code",
      "source": [
        "train_sampler = RandomSampler(train_dataset)\n",
        "# train_sampler = SequentialSampler(train_dataset)\n",
        "validation_sampler = SequentialSampler(validation_dataset)\n",
        "test_sampler = SequentialSampler(test_dataset)\n",
        "validation_sampler_latin = SequentialSampler(test_dataset_latin)\n",
        "validation_sampler_sinhala= SequentialSampler(test_dataset_Sinhala)\n",
        "validation_sampler_mixed = SequentialSampler(test_dataset_Mixed)\n",
        "\n",
        "train_loader = DataLoader(train_dataset, sampler=train_sampler , batch_size=BATCH_SIZE)\n",
        "validation_loader = DataLoader(validation_dataset, sampler=validation_sampler , batch_size=BATCH_SIZE)\n",
        "test_loader = DataLoader(test_dataset, sampler=test_sampler , batch_size=BATCH_SIZE)\n",
        "test_loader_latin = DataLoader(test_dataset_latin, sampler=validation_sampler_latin , batch_size=BATCH_SIZE)\n",
        "test_loader_Sinhala = DataLoader(test_dataset_Sinhala, sampler=validation_sampler_sinhala , batch_size=BATCH_SIZE)\n",
        "test_loader_Mixed = DataLoader(test_dataset_Mixed, sampler=validation_sampler_mixed , batch_size=BATCH_SIZE)"
      ],
      "metadata": {
        "id": "Mol-S8fDIxVk",
        "execution": {
          "iopub.status.busy": "2023-06-12T05:18:56.359968Z",
          "iopub.execute_input": "2023-06-12T05:18:56.360673Z",
          "iopub.status.idle": "2023-06-12T05:18:56.371374Z",
          "shell.execute_reply.started": "2023-06-12T05:18:56.360636Z",
          "shell.execute_reply": "2023-06-12T05:18:56.370404Z"
        },
        "trusted": true
      },
      "execution_count": 71,
      "outputs": []
    },
    {
      "cell_type": "markdown",
      "source": [
        "### Training"
      ],
      "metadata": {
        "id": "cCwk6iQE_XZb"
      }
    },
    {
      "cell_type": "code",
      "source": [
        "config = AutoConfig.from_pretrained(\"xlm-roberta-base\", num_labels=NO_OUTPUT_LAYERS)\n",
        "model = AutoModelWithHeads.from_pretrained(\"xlm-roberta-base\", config=config)"
      ],
      "metadata": {
        "id": "KNyi1nFH_TOS",
        "outputId": "4493bbdb-fa45-4563-9d13-ac75b4ef98ff",
        "execution": {
          "iopub.status.busy": "2023-06-12T05:18:56.372928Z",
          "iopub.execute_input": "2023-06-12T05:18:56.373282Z",
          "iopub.status.idle": "2023-06-12T05:19:19.007030Z",
          "shell.execute_reply.started": "2023-06-12T05:18:56.373214Z",
          "shell.execute_reply": "2023-06-12T05:19:19.006114Z"
        },
        "trusted": true,
        "colab": {
          "base_uri": "https://localhost:8080/"
        }
      },
      "execution_count": 72,
      "outputs": [
        {
          "output_type": "stream",
          "name": "stderr",
          "text": [
            "/usr/local/lib/python3.10/dist-packages/transformers/adapters/models/roberta/adapter_model.py:255: FutureWarning: This class has been renamed to `RobertaModelWithHeads` in v3. Please use the new class instead as this class might be removed in a future version.\n",
            "  warnings.warn(\n",
            "/usr/local/lib/python3.10/dist-packages/transformers/adapters/models/roberta/adapter_model.py:233: FutureWarning: This class has been renamed to `RobertaModelWithHeads` in v3. Please use the new class instead as this class might be removed in a future version.\n",
            "  warnings.warn(\n",
            "Some weights of the model checkpoint at xlm-roberta-base were not used when initializing XLMRobertaModelWithHeads: ['lm_head.layer_norm.weight', 'lm_head.bias', 'lm_head.dense.bias', 'lm_head.decoder.weight', 'lm_head.dense.weight', 'lm_head.layer_norm.bias']\n",
            "- This IS expected if you are initializing XLMRobertaModelWithHeads from the checkpoint of a model trained on another task or with another architecture (e.g. initializing a BertForSequenceClassification model from a BertForPreTraining model).\n",
            "- This IS NOT expected if you are initializing XLMRobertaModelWithHeads from the checkpoint of a model that you expect to be exactly identical (initializing a BertForSequenceClassification model from a BertForSequenceClassification model).\n",
            "Some weights of XLMRobertaModelWithHeads were not initialized from the model checkpoint at xlm-roberta-base and are newly initialized: ['roberta.embeddings.position_ids']\n",
            "You should probably TRAIN this model on a down-stream task to be able to use it for predictions and inference.\n"
          ]
        }
      ]
    },
    {
      "cell_type": "code",
      "source": [
        "# Load an adapter\n",
        "if load_adapter:\n",
        "  print(\"loading adapter from\", pretrained_adapter_path)\n",
        "  model.load_adapter(pretrained_adapter_path, with_head=False)\n",
        "\n",
        "# Add a new adapter\n",
        "else:\n",
        "  print(\"adding new adapter\", adapter_config)\n",
        "  if adapter_config == \"pfeiffer\":\n",
        "    config = AdapterConfig.load(\"pfeiffer\", reduction_factor=12)\n",
        "  else:\n",
        "    config = AdapterConfig.load(\"houlsby\")\n",
        "  model.add_adapter(\"task_\"+technique, config=config)"
      ],
      "metadata": {
        "id": "7RPhSipb_diC",
        "outputId": "d0c42e2c-8d16-4ef5-d2a8-09729baf94f8",
        "execution": {
          "iopub.status.busy": "2023-06-12T05:19:19.008362Z",
          "iopub.execute_input": "2023-06-12T05:19:19.008957Z",
          "iopub.status.idle": "2023-06-12T05:19:19.108838Z",
          "shell.execute_reply.started": "2023-06-12T05:19:19.008921Z",
          "shell.execute_reply": "2023-06-12T05:19:19.107856Z"
        },
        "trusted": true,
        "colab": {
          "base_uri": "https://localhost:8080/"
        }
      },
      "execution_count": 73,
      "outputs": [
        {
          "output_type": "stream",
          "name": "stdout",
          "text": [
            "adding new adapter houlsby\n"
          ]
        }
      ]
    },
    {
      "cell_type": "code",
      "source": [
        "# Add a classification head\n",
        "model.add_classification_head(\n",
        "  \"task_\"+technique,\n",
        "  num_labels=NO_OUTPUT_LAYERS,\n",
        "  id2label=id2label\n",
        ")\n",
        "\n",
        "# Without Language Adapters\n",
        "if lang_adapter_setting == \"none\":\n",
        "  model.set_active_adapters(\"task_\"+technique)\n",
        "\n",
        "else:\n",
        "  # Load language adapters\n",
        "  lang_adapter_config = AdapterConfig.load(\"pfeiffer+inv\")\n",
        "  model.load_adapter(\"/kaggle/input/language-adapters/mlm\", config=lang_adapter_config, load_as=\"si-en\", with_head=False)\n",
        "  # model.load_adapter(\"/content/drive/Shareddrives/FYP/TrainedAdapters/si_mlm\", config=lang_adapter_config, load_as=\"si\", with_head=False)\n",
        "  model.load_adapter(\"/kaggle/input/language-adapters/si_mlm\", config=lang_adapter_config, load_as=\"si\", with_head=False)\n",
        "  config = AdapterConfig.load(\"pfeiffer\", non_linearity=\"relu\", reduction_factor=2)\n",
        "  model.load_adapter(\"en/wiki@ukp\", config=config)\n",
        "\n",
        "  # Stack Language Adapters\n",
        "  if lang_adapter_setting == \"stack\":\n",
        "    print(\"stacking language adapters\")\n",
        "    model.set_active_adapters(Stack(\"en\", \"si\", \"si-en\", \"task_\"+technique))\n",
        "\n",
        "  # Parallel Language Adapters\n",
        "  else:\n",
        "    print(\"stacking parallel language adapters set\")\n",
        "    model.set_active_adapters(Stack(Parallel(\"en\", \"si\", \"si-en\"), \"task_\"+technique))\n",
        "\n",
        "# Train Adapter\n",
        "model.train_adapter(\"task_\"+technique)"
      ],
      "metadata": {
        "id": "Zq1dG4sVcDX5",
        "execution": {
          "iopub.status.busy": "2023-06-12T05:19:19.110195Z",
          "iopub.execute_input": "2023-06-12T05:19:19.110621Z",
          "iopub.status.idle": "2023-06-12T05:19:24.752611Z",
          "shell.execute_reply.started": "2023-06-12T05:19:19.110587Z",
          "shell.execute_reply": "2023-06-12T05:19:24.751474Z"
        },
        "trusted": true
      },
      "execution_count": 74,
      "outputs": []
    },
    {
      "cell_type": "code",
      "source": [
        "# Unfreeze the model to train both the model and adapter\n",
        "if unfreeze_model:\n",
        "  model.freeze_model(False)"
      ],
      "metadata": {
        "id": "iVTWkQaiiuhZ",
        "execution": {
          "iopub.status.busy": "2023-06-12T05:19:24.757838Z",
          "iopub.execute_input": "2023-06-12T05:19:24.761084Z",
          "iopub.status.idle": "2023-06-12T05:19:24.770550Z",
          "shell.execute_reply.started": "2023-06-12T05:19:24.761040Z",
          "shell.execute_reply": "2023-06-12T05:19:24.767543Z"
        },
        "trusted": true
      },
      "execution_count": 75,
      "outputs": []
    },
    {
      "cell_type": "code",
      "source": [
        "# for n, p in model.named_parameters():\n",
        "#     print(n, p.requires_grad)"
      ],
      "metadata": {
        "execution": {
          "iopub.status.busy": "2023-06-12T05:24:31.394251Z",
          "iopub.execute_input": "2023-06-12T05:24:31.394604Z",
          "iopub.status.idle": "2023-06-12T05:24:31.408818Z",
          "shell.execute_reply.started": "2023-06-12T05:24:31.394576Z",
          "shell.execute_reply": "2023-06-12T05:24:31.407915Z"
        },
        "trusted": true,
        "id": "X_M81DDclDDE"
      },
      "execution_count": 76,
      "outputs": []
    },
    {
      "cell_type": "code",
      "source": [
        "model.cuda()\n",
        "print(\"Done\")"
      ],
      "metadata": {
        "id": "SBMtmX77IMlZ",
        "outputId": "4f1758ed-f90b-433a-adb1-20448189a2b6",
        "execution": {
          "iopub.status.busy": "2023-06-12T05:19:24.777193Z",
          "iopub.execute_input": "2023-06-12T05:19:24.778982Z",
          "iopub.status.idle": "2023-06-12T05:19:30.426981Z",
          "shell.execute_reply.started": "2023-06-12T05:19:24.778942Z",
          "shell.execute_reply": "2023-06-12T05:19:30.425887Z"
        },
        "trusted": true,
        "colab": {
          "base_uri": "https://localhost:8080/"
        }
      },
      "execution_count": 77,
      "outputs": [
        {
          "output_type": "stream",
          "name": "stdout",
          "text": [
            "Done\n"
          ]
        }
      ]
    },
    {
      "cell_type": "code",
      "source": [
        "device = torch.device(\"cuda\" if torch.cuda.is_available() else \"cpu\")\n",
        "n_gpu = torch.cuda.device_count()\n",
        "torch.cuda.get_device_name(0)"
      ],
      "metadata": {
        "id": "bny18Y2qHvf0",
        "outputId": "8b933b86-5cec-4149-e630-f95bb5cbfd04",
        "execution": {
          "iopub.status.busy": "2023-06-12T05:19:30.428321Z",
          "iopub.execute_input": "2023-06-12T05:19:30.428779Z",
          "iopub.status.idle": "2023-06-12T05:19:30.439256Z",
          "shell.execute_reply.started": "2023-06-12T05:19:30.428744Z",
          "shell.execute_reply": "2023-06-12T05:19:30.438332Z"
        },
        "trusted": true,
        "colab": {
          "base_uri": "https://localhost:8080/",
          "height": 35
        }
      },
      "execution_count": 78,
      "outputs": [
        {
          "output_type": "execute_result",
          "data": {
            "text/plain": [
              "'Tesla T4'"
            ],
            "application/vnd.google.colaboratory.intrinsic+json": {
              "type": "string"
            }
          },
          "metadata": {},
          "execution_count": 78
        }
      ]
    },
    {
      "cell_type": "code",
      "source": [
        "set_seed(training_seed)"
      ],
      "metadata": {
        "id": "Iu1hV1g3jAvS",
        "execution": {
          "iopub.status.busy": "2023-06-12T05:19:30.445588Z",
          "iopub.execute_input": "2023-06-12T05:19:30.445879Z",
          "iopub.status.idle": "2023-06-12T05:19:30.886819Z",
          "shell.execute_reply.started": "2023-06-12T05:19:30.445855Z",
          "shell.execute_reply": "2023-06-12T05:19:30.885752Z"
        },
        "trusted": true
      },
      "execution_count": 79,
      "outputs": []
    },
    {
      "cell_type": "code",
      "source": [
        "def compute_metrics(allpreds,alllabels):\n",
        "    metric1 = load_metric(\"precision\")\n",
        "    metric2 = load_metric(\"recall\")\n",
        "    metric3 = load_metric(\"f1\")\n",
        "    metric4 = load_metric(\"accuracy\")\n",
        "\n",
        "    predictions, labels = allpreds,alllabels\n",
        "    precision = metric1.compute(predictions=predictions, references=labels, average=\"weighted\")[\"precision\"]\n",
        "    recall = metric2.compute(predictions=predictions, references=labels, average=\"weighted\")[\"recall\"]\n",
        "    f1 = metric3.compute(predictions=predictions, references=labels, average=\"weighted\")[\"f1\"]\n",
        "    accuracy = metric4.compute(predictions=predictions, references=labels)[\"accuracy\"]\n",
        "    macro_precision = metric1.compute(predictions=predictions, references=labels, average=\"macro\")[\"precision\"]\n",
        "    macro_recall = metric2.compute(predictions=predictions, references=labels, average=\"macro\")[\"recall\"]\n",
        "    macro_f1 = metric3.compute(predictions=predictions, references=labels, average=\"macro\")[\"f1\"]\n",
        "    return {\"accuracy\":accuracy, \"precision\": precision, \"recall\": recall, \"f1\": f1, \"macro_precision\": macro_precision, \"macro_recall\": macro_recall, \"macro_f1\": macro_f1}\n"
      ],
      "metadata": {
        "id": "ZDiEfZumNwYA",
        "execution": {
          "iopub.status.busy": "2023-06-12T05:19:30.888648Z",
          "iopub.execute_input": "2023-06-12T05:19:30.889485Z",
          "iopub.status.idle": "2023-06-12T05:19:30.900689Z",
          "shell.execute_reply.started": "2023-06-12T05:19:30.889451Z",
          "shell.execute_reply": "2023-06-12T05:19:30.899797Z"
        },
        "trusted": true
      },
      "execution_count": 80,
      "outputs": []
    },
    {
      "cell_type": "code",
      "source": [
        "def evaluate(model, dataloader):\n",
        "    model.eval()\n",
        "    allpreds = []\n",
        "    alllabels = []\n",
        "\n",
        "    for step, batch in enumerate(dataloader):\n",
        "        batch = {k: v.to(device) for k, v in batch.items()}\n",
        "        with torch.no_grad():\n",
        "            outputs = model(**batch)\n",
        "        logits = outputs.logits\n",
        "        allpreds.extend(torch.argmax(logits, dim=-1))\n",
        "        alllabels.extend(batch[\"labels\"])\n",
        "    return compute_metrics(allpreds,alllabels)"
      ],
      "metadata": {
        "id": "ErqMNvyEGL07",
        "execution": {
          "iopub.status.busy": "2023-06-12T05:19:30.902227Z",
          "iopub.execute_input": "2023-06-12T05:19:30.902832Z",
          "iopub.status.idle": "2023-06-12T05:19:30.921300Z",
          "shell.execute_reply.started": "2023-06-12T05:19:30.902798Z",
          "shell.execute_reply": "2023-06-12T05:19:30.920364Z"
        },
        "trusted": true
      },
      "execution_count": 81,
      "outputs": []
    },
    {
      "cell_type": "code",
      "source": [
        "def calculate_loss_and_f1(model, dataloader):\n",
        "    model.eval()\n",
        "    allpreds = []\n",
        "    alllabels = []\n",
        "    total_loss = 0\n",
        "\n",
        "    for step, batch in enumerate(dataloader):\n",
        "        batch = {k: v.to(device) for k, v in batch.items()}\n",
        "        with torch.no_grad():\n",
        "            outputs = model(**batch)\n",
        "        logits = outputs.logits\n",
        "        loss = outputs.loss\n",
        "        total_loss += loss.item()\n",
        "        allpreds.extend(torch.argmax(logits, dim=-1))\n",
        "        alllabels.extend(batch[\"labels\"])\n",
        "\n",
        "    macro_f1 = load_metric(\"f1\").compute(predictions=allpreds, references=alllabels, average=\"macro\")[\"f1\"]\n",
        "    return macro_f1, (total_loss/len(dataloader))"
      ],
      "metadata": {
        "id": "_oEcPkiDGOjQ",
        "execution": {
          "iopub.status.busy": "2023-06-12T05:19:30.922766Z",
          "iopub.execute_input": "2023-06-12T05:19:30.923213Z",
          "iopub.status.idle": "2023-06-12T05:19:30.936779Z",
          "shell.execute_reply.started": "2023-06-12T05:19:30.923181Z",
          "shell.execute_reply": "2023-06-12T05:19:30.935943Z"
        },
        "trusted": true
      },
      "execution_count": 82,
      "outputs": []
    },
    {
      "cell_type": "code",
      "source": [
        "no_decay = ['bias', 'LayerNorm.weight']\n",
        "num_training_steps = EPOCHS * len(train_loader)\n",
        "betas = (0.9, 0.999)\n",
        "eps = 1e-08\n",
        "num_warmup_steps = 0\n",
        "param_optimizer = list(model.named_parameters())\n",
        "\n",
        "optimizer_grouped_parameters = [\n",
        "    {'params': [p for n, p in param_optimizer if not any(nd in n for nd in no_decay)],\n",
        "     'weight_decay_rate': 0.01},\n",
        "    {'params': [p for n, p in param_optimizer if any(nd in n for nd in no_decay)],\n",
        "     'weight_decay_rate': 0.0}\n",
        "]\n",
        "optimizer = AdamW(optimizer_grouped_parameters, lr=LEARNING_RATE,betas=betas,eps=eps)\n",
        "scheduler = get_linear_schedule_with_warmup(optimizer, num_warmup_steps=0, num_training_steps=num_training_steps)"
      ],
      "metadata": {
        "id": "oesjvk80GQZW",
        "outputId": "91f569cb-8504-43bd-97dc-d9178c9ffa7e",
        "execution": {
          "iopub.status.busy": "2023-06-12T05:19:30.938187Z",
          "iopub.execute_input": "2023-06-12T05:19:30.939110Z",
          "iopub.status.idle": "2023-06-12T05:19:30.961933Z",
          "shell.execute_reply.started": "2023-06-12T05:19:30.939078Z",
          "shell.execute_reply": "2023-06-12T05:19:30.961024Z"
        },
        "trusted": true,
        "colab": {
          "base_uri": "https://localhost:8080/"
        }
      },
      "execution_count": 83,
      "outputs": [
        {
          "output_type": "stream",
          "name": "stderr",
          "text": [
            "/usr/local/lib/python3.10/dist-packages/transformers/optimization.py:306: FutureWarning: This implementation of AdamW is deprecated and will be removed in a future version. Use the PyTorch implementation torch.optim.AdamW instead, or set `no_deprecation_warning=True` to disable this warning\n",
            "  warnings.warn(\n"
          ]
        }
      ]
    },
    {
      "cell_type": "code",
      "source": [
        "tot_loss = 0\n",
        "log_loss = 0\n",
        "best_val_acc = 0\n",
        "\n",
        "tot_train_time = 0\n",
        "pbar_update_freq = 10\n",
        "\n",
        "glb_step = 0\n",
        "actual_step = 0\n",
        "max_grad_norm = 1.0\n",
        "eval_every_steps = 100\n",
        "gradient_accumulation_steps = 1\n",
        "\n",
        "leave_training = False\n",
        "val_metric = \"macro_f1\"\n",
        "\n",
        "best_epoch = -1\n",
        "early_stop_epoch_thresh = 5\n",
        "\n",
        "epoch_traces = []\n",
        "acc_traces = []\n",
        "validation_loss_traces = []"
      ],
      "metadata": {
        "id": "5l6csY77GS8F",
        "execution": {
          "iopub.status.busy": "2023-06-12T05:19:30.963142Z",
          "iopub.execute_input": "2023-06-12T05:19:30.963858Z",
          "iopub.status.idle": "2023-06-12T05:19:30.973548Z",
          "shell.execute_reply.started": "2023-06-12T05:19:30.963817Z",
          "shell.execute_reply": "2023-06-12T05:19:30.972538Z"
        },
        "trusted": true
      },
      "execution_count": 84,
      "outputs": []
    },
    {
      "cell_type": "code",
      "source": [
        "pbar = tqdm(total=num_training_steps, desc=\"Train\")\n",
        "for epoch in range(EPOCHS):\n",
        "    print(f\"Begin Epoch {epoch}\")\n",
        "    epoch_start_time = time.time()\n",
        "    for step, batch in enumerate(train_loader):\n",
        "        batch = {k: v.to(device) for k, v in batch.items()}\n",
        "        outputs = model(**batch)\n",
        "        loss = outputs.loss\n",
        "        loss = loss / gradient_accumulation_steps\n",
        "        loss.backward()\n",
        "        tot_loss += loss.item()\n",
        "        actual_step += 1\n",
        "\n",
        "        if actual_step % gradient_accumulation_steps == 0:\n",
        "            torch.nn.utils.clip_grad_norm_(model.parameters(), max_grad_norm)\n",
        "            glb_step += 1\n",
        "\n",
        "            if glb_step % pbar_update_freq == 0:\n",
        "                aveloss = (tot_loss - log_loss)/pbar_update_freq\n",
        "                pbar.update(pbar_update_freq)\n",
        "                pbar.set_postfix({'Average Loss': aveloss, \"Epoch\": epoch})\n",
        "                log_loss = tot_loss\n",
        "\n",
        "            if optimizer is not None:\n",
        "                optimizer.step()\n",
        "                optimizer.zero_grad()\n",
        "            if scheduler is not None:\n",
        "                scheduler.step()\n",
        "\n",
        "        if glb_step > num_training_steps:\n",
        "            leave_training = True\n",
        "            break\n",
        "\n",
        "    val_acc, val_loss = calculate_loss_and_f1(model, validation_loader)\n",
        "    epoch_traces.append(epoch)\n",
        "    acc_traces.append(val_acc)\n",
        "    validation_loss_traces.append(val_loss)\n",
        "    print(\"Validation: [Epoch: {}, Macro F1: {}, Validation Loss: {}, Time per Epoch: {}]\".format(epoch, val_acc, val_loss, time.time()-epoch_start_time), flush=True)\n",
        "\n",
        "    if val_acc > best_val_acc:\n",
        "        torch.save(model.state_dict(),f\"best_model.ckpt\")\n",
        "        best_val_acc = val_acc\n",
        "        best_epoch = epoch\n",
        "\n",
        "    elif (epoch - best_epoch) >= early_stop_epoch_thresh:\n",
        "        print(\"Training stopped early at Epoch: %d\" % epoch)\n",
        "        break  # Terminate the training loop\n",
        "\n",
        "    if leave_training:\n",
        "        break"
      ],
      "metadata": {
        "id": "dkv8HsFgGVGY",
        "outputId": "8817b886-d2c1-4a6b-cc9e-dd3e60f723ef",
        "execution": {
          "iopub.status.busy": "2023-06-12T05:19:30.975003Z",
          "iopub.execute_input": "2023-06-12T05:19:30.975544Z",
          "iopub.status.idle": "2023-06-12T05:19:39.534607Z",
          "shell.execute_reply.started": "2023-06-12T05:19:30.975512Z",
          "shell.execute_reply": "2023-06-12T05:19:39.533123Z"
        },
        "trusted": true,
        "colab": {
          "base_uri": "https://localhost:8080/"
        }
      },
      "execution_count": 85,
      "outputs": [
        {
          "output_type": "stream",
          "name": "stderr",
          "text": [
            "\n",
            "Train:  40%|████      | 3680/9200 [40:27<1:00:40,  1.52it/s, Average Loss=0.000124, Epoch=7]\n"
          ]
        },
        {
          "output_type": "stream",
          "name": "stdout",
          "text": [
            "Begin Epoch 0\n"
          ]
        },
        {
          "output_type": "stream",
          "name": "stderr",
          "text": [
            "\n",
            "Train:   0%|          | 10/9200 [00:04<1:06:59,  2.29it/s]\u001b[A\n",
            "Train:   0%|          | 10/9200 [00:04<1:06:59,  2.29it/s, Average Loss=1.06, Epoch=0]\u001b[A\n",
            "Train:   0%|          | 20/9200 [00:08<1:08:17,  2.24it/s, Average Loss=1.06, Epoch=0]\u001b[A\n",
            "Train:   0%|          | 20/9200 [00:08<1:08:17,  2.24it/s, Average Loss=0.869, Epoch=0]\u001b[A\n",
            "Train:   0%|          | 30/9200 [00:13<1:08:37,  2.23it/s, Average Loss=0.869, Epoch=0]\u001b[A\n",
            "Train:   0%|          | 30/9200 [00:13<1:08:37,  2.23it/s, Average Loss=0.866, Epoch=0]\u001b[A\n",
            "Train:   0%|          | 40/9200 [00:17<1:08:24,  2.23it/s, Average Loss=0.866, Epoch=0]\u001b[A\n",
            "Train:   0%|          | 40/9200 [00:17<1:08:24,  2.23it/s, Average Loss=0.86, Epoch=0] \u001b[A\n",
            "Train:   1%|          | 50/9200 [00:22<1:08:19,  2.23it/s, Average Loss=0.86, Epoch=0]\u001b[A\n",
            "Train:   1%|          | 50/9200 [00:22<1:08:19,  2.23it/s, Average Loss=0.811, Epoch=0]\u001b[A\n",
            "Train:   1%|          | 60/9200 [00:27<1:09:06,  2.20it/s, Average Loss=0.811, Epoch=0]\u001b[A\n",
            "Train:   1%|          | 60/9200 [00:27<1:09:06,  2.20it/s, Average Loss=0.84, Epoch=0] \u001b[A\n",
            "Train:   1%|          | 70/9200 [00:31<1:08:52,  2.21it/s, Average Loss=0.84, Epoch=0]\u001b[A\n",
            "Train:   1%|          | 70/9200 [00:31<1:08:52,  2.21it/s, Average Loss=0.745, Epoch=0]\u001b[A\n",
            "Train:   1%|          | 80/9200 [00:35<1:07:42,  2.24it/s, Average Loss=0.745, Epoch=0]\u001b[A\n",
            "Train:   1%|          | 80/9200 [00:35<1:07:42,  2.24it/s, Average Loss=0.797, Epoch=0]\u001b[A\n",
            "Train:   1%|          | 90/9200 [00:40<1:07:03,  2.26it/s, Average Loss=0.797, Epoch=0]\u001b[A\n",
            "Train:   1%|          | 90/9200 [00:40<1:07:03,  2.26it/s, Average Loss=0.838, Epoch=0]\u001b[A\n",
            "Train:   1%|          | 100/9200 [00:44<1:06:43,  2.27it/s, Average Loss=0.838, Epoch=0]\u001b[A\n",
            "Train:   1%|          | 100/9200 [00:44<1:06:43,  2.27it/s, Average Loss=0.808, Epoch=0]\u001b[A\n",
            "Train:   1%|          | 110/9200 [00:48<1:06:22,  2.28it/s, Average Loss=0.808, Epoch=0]\u001b[A\n",
            "Train:   1%|          | 110/9200 [00:48<1:06:22,  2.28it/s, Average Loss=0.763, Epoch=0]\u001b[A\n",
            "Train:   1%|▏         | 120/9200 [00:53<1:06:15,  2.28it/s, Average Loss=0.763, Epoch=0]\u001b[A\n",
            "Train:   1%|▏         | 120/9200 [00:53<1:06:15,  2.28it/s, Average Loss=0.747, Epoch=0]\u001b[A\n",
            "Train:   1%|▏         | 130/9200 [00:57<1:06:24,  2.28it/s, Average Loss=0.747, Epoch=0]\u001b[A\n",
            "Train:   1%|▏         | 130/9200 [00:57<1:06:24,  2.28it/s, Average Loss=0.76, Epoch=0] \u001b[A\n",
            "Train:   2%|▏         | 140/9200 [01:02<1:06:22,  2.27it/s, Average Loss=0.76, Epoch=0]\u001b[A\n",
            "Train:   2%|▏         | 140/9200 [01:02<1:06:22,  2.27it/s, Average Loss=0.731, Epoch=0]\u001b[A\n",
            "Train:   2%|▏         | 150/9200 [01:06<1:06:26,  2.27it/s, Average Loss=0.731, Epoch=0]\u001b[A\n",
            "Train:   2%|▏         | 150/9200 [01:06<1:06:26,  2.27it/s, Average Loss=0.584, Epoch=0]\u001b[A\n",
            "Train:   2%|▏         | 160/9200 [01:10<1:06:44,  2.26it/s, Average Loss=0.584, Epoch=0]\u001b[A\n",
            "Train:   2%|▏         | 160/9200 [01:10<1:06:44,  2.26it/s, Average Loss=0.701, Epoch=0]\u001b[A\n",
            "Train:   2%|▏         | 170/9200 [01:15<1:06:56,  2.25it/s, Average Loss=0.701, Epoch=0]\u001b[A\n",
            "Train:   2%|▏         | 170/9200 [01:15<1:06:56,  2.25it/s, Average Loss=0.617, Epoch=0]\u001b[A\n",
            "Train:   2%|▏         | 180/9200 [01:19<1:07:02,  2.24it/s, Average Loss=0.617, Epoch=0]\u001b[A\n",
            "Train:   2%|▏         | 180/9200 [01:19<1:07:02,  2.24it/s, Average Loss=0.708, Epoch=0]\u001b[A\n",
            "Train:   2%|▏         | 190/9200 [01:24<1:07:18,  2.23it/s, Average Loss=0.708, Epoch=0]\u001b[A\n",
            "Train:   2%|▏         | 190/9200 [01:24<1:07:18,  2.23it/s, Average Loss=0.681, Epoch=0]\u001b[A\n",
            "Train:   2%|▏         | 200/9200 [01:29<1:07:41,  2.22it/s, Average Loss=0.681, Epoch=0]\u001b[A\n",
            "Train:   2%|▏         | 200/9200 [01:29<1:07:41,  2.22it/s, Average Loss=0.605, Epoch=0]\u001b[A\n",
            "Train:   2%|▏         | 210/9200 [01:33<1:07:45,  2.21it/s, Average Loss=0.605, Epoch=0]\u001b[A\n",
            "Train:   2%|▏         | 210/9200 [01:33<1:07:45,  2.21it/s, Average Loss=0.645, Epoch=0]\u001b[A\n",
            "Train:   2%|▏         | 220/9200 [01:38<1:08:55,  2.17it/s, Average Loss=0.645, Epoch=0]\u001b[A\n",
            "Train:   2%|▏         | 220/9200 [01:38<1:08:55,  2.17it/s, Average Loss=0.67, Epoch=0] \u001b[A\n",
            "Train:   2%|▎         | 230/9200 [01:43<1:09:42,  2.14it/s, Average Loss=0.67, Epoch=0]\u001b[A\n",
            "Train:   2%|▎         | 230/9200 [01:43<1:09:42,  2.14it/s, Average Loss=0.661, Epoch=0]\u001b[A\n",
            "Train:   3%|▎         | 240/9200 [01:47<1:08:51,  2.17it/s, Average Loss=0.661, Epoch=0]\u001b[A\n",
            "Train:   3%|▎         | 240/9200 [01:47<1:08:51,  2.17it/s, Average Loss=0.56, Epoch=0] \u001b[A\n",
            "Train:   3%|▎         | 250/9200 [01:52<1:08:10,  2.19it/s, Average Loss=0.56, Epoch=0]\u001b[A\n",
            "Train:   3%|▎         | 250/9200 [01:52<1:08:10,  2.19it/s, Average Loss=0.6, Epoch=0] \u001b[A\n",
            "Train:   3%|▎         | 260/9200 [01:56<1:07:51,  2.20it/s, Average Loss=0.6, Epoch=0]\u001b[A\n",
            "Train:   3%|▎         | 260/9200 [01:56<1:07:51,  2.20it/s, Average Loss=0.708, Epoch=0]\u001b[A\n",
            "Train:   3%|▎         | 270/9200 [02:01<1:07:26,  2.21it/s, Average Loss=0.708, Epoch=0]\u001b[A\n",
            "Train:   3%|▎         | 270/9200 [02:01<1:07:26,  2.21it/s, Average Loss=0.676, Epoch=0]\u001b[A\n",
            "Train:   3%|▎         | 280/9200 [02:05<1:06:58,  2.22it/s, Average Loss=0.676, Epoch=0]\u001b[A\n",
            "Train:   3%|▎         | 280/9200 [02:05<1:06:58,  2.22it/s, Average Loss=0.682, Epoch=0]\u001b[A\n",
            "Train:   3%|▎         | 290/9200 [02:10<1:06:45,  2.22it/s, Average Loss=0.682, Epoch=0]\u001b[A\n",
            "Train:   3%|▎         | 290/9200 [02:10<1:06:45,  2.22it/s, Average Loss=0.569, Epoch=0]\u001b[A\n",
            "Train:   3%|▎         | 300/9200 [02:14<1:06:38,  2.23it/s, Average Loss=0.569, Epoch=0]\u001b[A\n",
            "Train:   3%|▎         | 300/9200 [02:14<1:06:38,  2.23it/s, Average Loss=0.618, Epoch=0]\u001b[A\n",
            "Train:   3%|▎         | 310/9200 [02:19<1:06:27,  2.23it/s, Average Loss=0.618, Epoch=0]\u001b[A\n",
            "Train:   3%|▎         | 310/9200 [02:19<1:06:27,  2.23it/s, Average Loss=0.657, Epoch=0]\u001b[A\n",
            "Train:   3%|▎         | 320/9200 [02:23<1:06:17,  2.23it/s, Average Loss=0.657, Epoch=0]\u001b[A\n",
            "Train:   3%|▎         | 320/9200 [02:23<1:06:17,  2.23it/s, Average Loss=0.537, Epoch=0]\u001b[A\n",
            "Train:   4%|▎         | 330/9200 [02:28<1:06:26,  2.23it/s, Average Loss=0.537, Epoch=0]\u001b[A\n",
            "Train:   4%|▎         | 330/9200 [02:28<1:06:26,  2.23it/s, Average Loss=0.595, Epoch=0]\u001b[A\n",
            "Train:   4%|▎         | 340/9200 [02:32<1:06:19,  2.23it/s, Average Loss=0.595, Epoch=0]\u001b[A\n",
            "Train:   4%|▎         | 340/9200 [02:32<1:06:19,  2.23it/s, Average Loss=0.611, Epoch=0]\u001b[A\n",
            "Train:   4%|▍         | 350/9200 [02:37<1:06:12,  2.23it/s, Average Loss=0.611, Epoch=0]\u001b[A\n",
            "Train:   4%|▍         | 350/9200 [02:37<1:06:12,  2.23it/s, Average Loss=0.53, Epoch=0] \u001b[A\n",
            "Train:   4%|▍         | 360/9200 [02:41<1:06:15,  2.22it/s, Average Loss=0.53, Epoch=0]\u001b[A\n",
            "Train:   4%|▍         | 360/9200 [02:41<1:06:15,  2.22it/s, Average Loss=0.627, Epoch=0]\u001b[A\n",
            "Train:   4%|▍         | 370/9200 [02:46<1:06:14,  2.22it/s, Average Loss=0.627, Epoch=0]\u001b[A\n",
            "Train:   4%|▍         | 370/9200 [02:46<1:06:14,  2.22it/s, Average Loss=0.574, Epoch=0]\u001b[A\n",
            "Train:   4%|▍         | 380/9200 [02:50<1:06:05,  2.22it/s, Average Loss=0.574, Epoch=0]\u001b[A\n",
            "Train:   4%|▍         | 380/9200 [02:50<1:06:05,  2.22it/s, Average Loss=0.554, Epoch=0]\u001b[A\n",
            "Train:   4%|▍         | 390/9200 [02:55<1:06:07,  2.22it/s, Average Loss=0.554, Epoch=0]\u001b[A\n",
            "Train:   4%|▍         | 390/9200 [02:55<1:06:07,  2.22it/s, Average Loss=0.549, Epoch=0]\u001b[A\n",
            "Train:   4%|▍         | 400/9200 [02:59<1:06:11,  2.22it/s, Average Loss=0.549, Epoch=0]\u001b[A\n",
            "Train:   4%|▍         | 400/9200 [02:59<1:06:11,  2.22it/s, Average Loss=0.555, Epoch=0]\u001b[A\n",
            "Train:   4%|▍         | 410/9200 [03:04<1:05:59,  2.22it/s, Average Loss=0.555, Epoch=0]\u001b[A\n",
            "Train:   4%|▍         | 410/9200 [03:04<1:05:59,  2.22it/s, Average Loss=0.51, Epoch=0] \u001b[A\n",
            "Train:   5%|▍         | 420/9200 [03:08<1:05:49,  2.22it/s, Average Loss=0.51, Epoch=0]\u001b[A\n",
            "Train:   5%|▍         | 420/9200 [03:08<1:05:49,  2.22it/s, Average Loss=0.526, Epoch=0]\u001b[A\n",
            "Train:   5%|▍         | 430/9200 [03:13<1:05:55,  2.22it/s, Average Loss=0.526, Epoch=0]\u001b[A\n",
            "Train:   5%|▍         | 430/9200 [03:13<1:05:55,  2.22it/s, Average Loss=0.476, Epoch=0]\u001b[A\n",
            "Train:   5%|▍         | 440/9200 [03:17<1:06:14,  2.20it/s, Average Loss=0.476, Epoch=0]\u001b[A\n",
            "Train:   5%|▍         | 440/9200 [03:17<1:06:14,  2.20it/s, Average Loss=0.482, Epoch=0]\u001b[A\n",
            "Train:   5%|▍         | 450/9200 [03:22<1:06:47,  2.18it/s, Average Loss=0.482, Epoch=0]\u001b[A\n",
            "Train:   5%|▍         | 450/9200 [03:22<1:06:47,  2.18it/s, Average Loss=0.547, Epoch=0]\u001b[A\n",
            "Train:   5%|▌         | 460/9200 [03:27<1:07:49,  2.15it/s, Average Loss=0.547, Epoch=0]\u001b[A\n",
            "Train:   5%|▌         | 460/9200 [03:27<1:07:49,  2.15it/s, Average Loss=0.553, Epoch=0]\u001b[A"
          ]
        },
        {
          "output_type": "stream",
          "name": "stdout",
          "text": [
            "Validation: [Epoch: 0, Macro F1: 0.5471248628227218, Validation Loss: 0.42144988269306893, Time per Epoch: 216.8807897567749]\n",
            "Begin Epoch 1\n"
          ]
        },
        {
          "output_type": "stream",
          "name": "stderr",
          "text": [
            "\n",
            "Train:   5%|▌         | 470/9200 [03:45<2:09:08,  1.13it/s, Average Loss=0.553, Epoch=0]\u001b[A\n",
            "Train:   5%|▌         | 470/9200 [03:45<2:09:08,  1.13it/s, Average Loss=0.43, Epoch=1] \u001b[A\n",
            "Train:   5%|▌         | 480/9200 [03:50<1:48:26,  1.34it/s, Average Loss=0.43, Epoch=1]\u001b[A\n",
            "Train:   5%|▌         | 480/9200 [03:50<1:48:26,  1.34it/s, Average Loss=0.387, Epoch=1]\u001b[A\n",
            "Train:   5%|▌         | 490/9200 [03:54<1:33:59,  1.54it/s, Average Loss=0.387, Epoch=1]\u001b[A\n",
            "Train:   5%|▌         | 490/9200 [03:54<1:33:59,  1.54it/s, Average Loss=0.348, Epoch=1]\u001b[A\n",
            "Train:   5%|▌         | 500/9200 [03:58<1:24:12,  1.72it/s, Average Loss=0.348, Epoch=1]\u001b[A\n",
            "Train:   5%|▌         | 500/9200 [03:58<1:24:12,  1.72it/s, Average Loss=0.402, Epoch=1]\u001b[A\n",
            "Train:   6%|▌         | 510/9200 [04:02<1:17:17,  1.87it/s, Average Loss=0.402, Epoch=1]\u001b[A\n",
            "Train:   6%|▌         | 510/9200 [04:02<1:17:17,  1.87it/s, Average Loss=0.345, Epoch=1]\u001b[A\n",
            "Train:   6%|▌         | 520/9200 [04:06<1:12:26,  2.00it/s, Average Loss=0.345, Epoch=1]\u001b[A\n",
            "Train:   6%|▌         | 520/9200 [04:06<1:12:26,  2.00it/s, Average Loss=0.364, Epoch=1]\u001b[A\n",
            "Train:   6%|▌         | 530/9200 [04:11<1:09:13,  2.09it/s, Average Loss=0.364, Epoch=1]\u001b[A\n",
            "Train:   6%|▌         | 530/9200 [04:11<1:09:13,  2.09it/s, Average Loss=0.384, Epoch=1]\u001b[A\n",
            "Train:   6%|▌         | 540/9200 [04:15<1:06:58,  2.16it/s, Average Loss=0.384, Epoch=1]\u001b[A\n",
            "Train:   6%|▌         | 540/9200 [04:15<1:06:58,  2.16it/s, Average Loss=0.265, Epoch=1]\u001b[A\n",
            "Train:   6%|▌         | 550/9200 [04:19<1:05:06,  2.21it/s, Average Loss=0.265, Epoch=1]\u001b[A\n",
            "Train:   6%|▌         | 550/9200 [04:19<1:05:06,  2.21it/s, Average Loss=0.393, Epoch=1]\u001b[A\n",
            "Train:   6%|▌         | 560/9200 [04:23<1:03:40,  2.26it/s, Average Loss=0.393, Epoch=1]\u001b[A\n",
            "Train:   6%|▌         | 560/9200 [04:23<1:03:40,  2.26it/s, Average Loss=0.288, Epoch=1]\u001b[A\n",
            "Train:   6%|▌         | 570/9200 [04:28<1:02:52,  2.29it/s, Average Loss=0.288, Epoch=1]\u001b[A\n",
            "Train:   6%|▌         | 570/9200 [04:28<1:02:52,  2.29it/s, Average Loss=0.338, Epoch=1]\u001b[A\n",
            "Train:   6%|▋         | 580/9200 [04:32<1:02:02,  2.32it/s, Average Loss=0.338, Epoch=1]\u001b[A\n",
            "Train:   6%|▋         | 580/9200 [04:32<1:02:02,  2.32it/s, Average Loss=0.31, Epoch=1] \u001b[A\n",
            "Train:   6%|▋         | 590/9200 [04:36<1:01:23,  2.34it/s, Average Loss=0.31, Epoch=1]\u001b[A\n",
            "Train:   6%|▋         | 590/9200 [04:36<1:01:23,  2.34it/s, Average Loss=0.33, Epoch=1]\u001b[A\n",
            "Train:   7%|▋         | 600/9200 [04:40<1:00:57,  2.35it/s, Average Loss=0.33, Epoch=1]\u001b[A\n",
            "Train:   7%|▋         | 600/9200 [04:40<1:00:57,  2.35it/s, Average Loss=0.298, Epoch=1]\u001b[A\n",
            "Train:   7%|▋         | 610/9200 [04:45<1:00:47,  2.36it/s, Average Loss=0.298, Epoch=1]\u001b[A\n",
            "Train:   7%|▋         | 610/9200 [04:45<1:00:47,  2.36it/s, Average Loss=0.272, Epoch=1]\u001b[A\n",
            "Train:   7%|▋         | 620/9200 [04:49<1:00:22,  2.37it/s, Average Loss=0.272, Epoch=1]\u001b[A\n",
            "Train:   7%|▋         | 620/9200 [04:49<1:00:22,  2.37it/s, Average Loss=0.294, Epoch=1]\u001b[A\n",
            "Train:   7%|▋         | 630/9200 [04:53<1:00:04,  2.38it/s, Average Loss=0.294, Epoch=1]\u001b[A\n",
            "Train:   7%|▋         | 630/9200 [04:53<1:00:04,  2.38it/s, Average Loss=0.28, Epoch=1] \u001b[A\n",
            "Train:   7%|▋         | 640/9200 [04:57<1:00:00,  2.38it/s, Average Loss=0.28, Epoch=1]\u001b[A\n",
            "Train:   7%|▋         | 640/9200 [04:57<1:00:00,  2.38it/s, Average Loss=0.295, Epoch=1]\u001b[A\n",
            "Train:   7%|▋         | 650/9200 [05:01<1:00:07,  2.37it/s, Average Loss=0.295, Epoch=1]\u001b[A\n",
            "Train:   7%|▋         | 650/9200 [05:01<1:00:07,  2.37it/s, Average Loss=0.254, Epoch=1]\u001b[A\n",
            "Train:   7%|▋         | 660/9200 [05:05<59:52,  2.38it/s, Average Loss=0.254, Epoch=1]  \u001b[A\n",
            "Train:   7%|▋         | 660/9200 [05:06<59:52,  2.38it/s, Average Loss=0.253, Epoch=1]\u001b[A\n",
            "Train:   7%|▋         | 670/9200 [05:10<59:43,  2.38it/s, Average Loss=0.253, Epoch=1]\u001b[A\n",
            "Train:   7%|▋         | 670/9200 [05:10<59:43,  2.38it/s, Average Loss=0.298, Epoch=1]\u001b[A\n",
            "Train:   7%|▋         | 680/9200 [05:14<59:52,  2.37it/s, Average Loss=0.298, Epoch=1]\u001b[A\n",
            "Train:   7%|▋         | 680/9200 [05:14<59:52,  2.37it/s, Average Loss=0.278, Epoch=1]\u001b[A\n",
            "Train:   8%|▊         | 690/9200 [05:18<59:42,  2.38it/s, Average Loss=0.278, Epoch=1]\u001b[A\n",
            "Train:   8%|▊         | 690/9200 [05:18<59:42,  2.38it/s, Average Loss=0.218, Epoch=1]\u001b[A\n",
            "Train:   8%|▊         | 700/9200 [05:22<59:32,  2.38it/s, Average Loss=0.218, Epoch=1]\u001b[A\n",
            "Train:   8%|▊         | 700/9200 [05:22<59:32,  2.38it/s, Average Loss=0.262, Epoch=1]\u001b[A\n",
            "Train:   8%|▊         | 710/9200 [05:27<59:35,  2.37it/s, Average Loss=0.262, Epoch=1]\u001b[A\n",
            "Train:   8%|▊         | 710/9200 [05:27<59:35,  2.37it/s, Average Loss=0.218, Epoch=1]\u001b[A\n",
            "Train:   8%|▊         | 720/9200 [05:31<59:37,  2.37it/s, Average Loss=0.218, Epoch=1]\u001b[A\n",
            "Train:   8%|▊         | 720/9200 [05:31<59:37,  2.37it/s, Average Loss=0.17, Epoch=1] \u001b[A\n",
            "Train:   8%|▊         | 730/9200 [05:35<59:28,  2.37it/s, Average Loss=0.17, Epoch=1]\u001b[A\n",
            "Train:   8%|▊         | 730/9200 [05:35<59:28,  2.37it/s, Average Loss=0.249, Epoch=1]\u001b[A\n",
            "Train:   8%|▊         | 740/9200 [05:39<59:23,  2.37it/s, Average Loss=0.249, Epoch=1]\u001b[A\n",
            "Train:   8%|▊         | 740/9200 [05:39<59:23,  2.37it/s, Average Loss=0.223, Epoch=1]\u001b[A\n",
            "Train:   8%|▊         | 750/9200 [05:43<59:30,  2.37it/s, Average Loss=0.223, Epoch=1]\u001b[A\n",
            "Train:   8%|▊         | 750/9200 [05:43<59:30,  2.37it/s, Average Loss=0.25, Epoch=1] \u001b[A\n",
            "Train:   8%|▊         | 760/9200 [05:48<59:18,  2.37it/s, Average Loss=0.25, Epoch=1]\u001b[A\n",
            "Train:   8%|▊         | 760/9200 [05:48<59:18,  2.37it/s, Average Loss=0.214, Epoch=1]\u001b[A\n",
            "Train:   8%|▊         | 770/9200 [05:52<59:08,  2.38it/s, Average Loss=0.214, Epoch=1]\u001b[A\n",
            "Train:   8%|▊         | 770/9200 [05:52<59:08,  2.38it/s, Average Loss=0.166, Epoch=1]\u001b[A\n",
            "Train:   8%|▊         | 780/9200 [05:56<59:12,  2.37it/s, Average Loss=0.166, Epoch=1]\u001b[A\n",
            "Train:   8%|▊         | 780/9200 [05:56<59:12,  2.37it/s, Average Loss=0.149, Epoch=1]\u001b[A\n",
            "Train:   9%|▊         | 790/9200 [06:00<59:13,  2.37it/s, Average Loss=0.149, Epoch=1]\u001b[A\n",
            "Train:   9%|▊         | 790/9200 [06:00<59:13,  2.37it/s, Average Loss=0.188, Epoch=1]\u001b[A\n",
            "Train:   9%|▊         | 800/9200 [06:05<59:01,  2.37it/s, Average Loss=0.188, Epoch=1]\u001b[A\n",
            "Train:   9%|▊         | 800/9200 [06:05<59:01,  2.37it/s, Average Loss=0.231, Epoch=1]\u001b[A\n",
            "Train:   9%|▉         | 810/9200 [06:09<58:52,  2.38it/s, Average Loss=0.231, Epoch=1]\u001b[A\n",
            "Train:   9%|▉         | 810/9200 [06:09<58:52,  2.38it/s, Average Loss=0.218, Epoch=1]\u001b[A\n",
            "Train:   9%|▉         | 820/9200 [06:13<58:57,  2.37it/s, Average Loss=0.218, Epoch=1]\u001b[A\n",
            "Train:   9%|▉         | 820/9200 [06:13<58:57,  2.37it/s, Average Loss=0.166, Epoch=1]\u001b[A\n",
            "Train:   9%|▉         | 830/9200 [06:17<58:48,  2.37it/s, Average Loss=0.166, Epoch=1]\u001b[A\n",
            "Train:   9%|▉         | 830/9200 [06:17<58:48,  2.37it/s, Average Loss=0.257, Epoch=1]\u001b[A\n",
            "Train:   9%|▉         | 840/9200 [06:21<58:37,  2.38it/s, Average Loss=0.257, Epoch=1]\u001b[A\n",
            "Train:   9%|▉         | 840/9200 [06:21<58:37,  2.38it/s, Average Loss=0.253, Epoch=1]\u001b[A\n",
            "Train:   9%|▉         | 850/9200 [06:26<58:33,  2.38it/s, Average Loss=0.253, Epoch=1]\u001b[A\n",
            "Train:   9%|▉         | 850/9200 [06:26<58:33,  2.38it/s, Average Loss=0.212, Epoch=1]\u001b[A\n",
            "Train:   9%|▉         | 860/9200 [06:30<58:34,  2.37it/s, Average Loss=0.212, Epoch=1]\u001b[A\n",
            "Train:   9%|▉         | 860/9200 [06:30<58:34,  2.37it/s, Average Loss=0.137, Epoch=1]\u001b[A\n",
            "Train:   9%|▉         | 870/9200 [06:34<58:21,  2.38it/s, Average Loss=0.137, Epoch=1]\u001b[A\n",
            "Train:   9%|▉         | 870/9200 [06:34<58:21,  2.38it/s, Average Loss=0.151, Epoch=1]\u001b[A\n",
            "Train:  10%|▉         | 880/9200 [06:38<58:12,  2.38it/s, Average Loss=0.151, Epoch=1]\u001b[A\n",
            "Train:  10%|▉         | 880/9200 [06:38<58:12,  2.38it/s, Average Loss=0.186, Epoch=1]\u001b[A\n",
            "Train:  10%|▉         | 890/9200 [06:42<58:11,  2.38it/s, Average Loss=0.186, Epoch=1]\u001b[A\n",
            "Train:  10%|▉         | 890/9200 [06:42<58:11,  2.38it/s, Average Loss=0.118, Epoch=1]\u001b[A\n",
            "Train:  10%|▉         | 900/9200 [06:47<58:17,  2.37it/s, Average Loss=0.118, Epoch=1]\u001b[A\n",
            "Train:  10%|▉         | 900/9200 [06:47<58:17,  2.37it/s, Average Loss=0.146, Epoch=1]\u001b[A\n",
            "Train:  10%|▉         | 910/9200 [06:51<58:15,  2.37it/s, Average Loss=0.146, Epoch=1]\u001b[A\n",
            "Train:  10%|▉         | 910/9200 [06:51<58:15,  2.37it/s, Average Loss=0.168, Epoch=1]\u001b[A\n",
            "Train:  10%|█         | 920/9200 [06:55<57:49,  2.39it/s, Average Loss=0.168, Epoch=1]\u001b[A\n",
            "Train:  10%|█         | 920/9200 [06:55<57:49,  2.39it/s, Average Loss=0.11, Epoch=1] \u001b[A"
          ]
        },
        {
          "output_type": "stream",
          "name": "stdout",
          "text": [
            "Validation: [Epoch: 1, Macro F1: 0.5892647412382591, Validation Loss: 0.3378231091164919, Time per Epoch: 203.30493450164795]\n",
            "Begin Epoch 2\n"
          ]
        },
        {
          "output_type": "stream",
          "name": "stderr",
          "text": [
            "\n",
            "Train:  10%|█         | 930/9200 [07:13<1:56:57,  1.18it/s, Average Loss=0.11, Epoch=1]\u001b[A\n",
            "Train:  10%|█         | 930/9200 [07:13<1:56:57,  1.18it/s, Average Loss=0.136, Epoch=2]\u001b[A\n",
            "Train:  10%|█         | 940/9200 [07:18<1:39:04,  1.39it/s, Average Loss=0.136, Epoch=2]\u001b[A\n",
            "Train:  10%|█         | 940/9200 [07:18<1:39:04,  1.39it/s, Average Loss=0.0499, Epoch=2]\u001b[A\n",
            "Train:  10%|█         | 950/9200 [07:22<1:26:29,  1.59it/s, Average Loss=0.0499, Epoch=2]\u001b[A\n",
            "Train:  10%|█         | 950/9200 [07:22<1:26:29,  1.59it/s, Average Loss=0.0978, Epoch=2]\u001b[A\n",
            "Train:  10%|█         | 960/9200 [07:26<1:17:51,  1.76it/s, Average Loss=0.0978, Epoch=2]\u001b[A\n",
            "Train:  10%|█         | 960/9200 [07:26<1:17:51,  1.76it/s, Average Loss=0.0475, Epoch=2]\u001b[A\n",
            "Train:  11%|█         | 970/9200 [07:30<1:12:00,  1.90it/s, Average Loss=0.0475, Epoch=2]\u001b[A\n",
            "Train:  11%|█         | 970/9200 [07:30<1:12:00,  1.90it/s, Average Loss=0.139, Epoch=2] \u001b[A\n",
            "Train:  11%|█         | 980/9200 [07:35<1:07:48,  2.02it/s, Average Loss=0.139, Epoch=2]\u001b[A\n",
            "Train:  11%|█         | 980/9200 [07:35<1:07:48,  2.02it/s, Average Loss=0.107, Epoch=2]\u001b[A\n",
            "Train:  11%|█         | 990/9200 [07:39<1:04:51,  2.11it/s, Average Loss=0.107, Epoch=2]\u001b[A\n",
            "Train:  11%|█         | 990/9200 [07:39<1:04:51,  2.11it/s, Average Loss=0.122, Epoch=2]\u001b[A\n",
            "Train:  11%|█         | 1000/9200 [07:43<1:02:57,  2.17it/s, Average Loss=0.122, Epoch=2]\u001b[A\n",
            "Train:  11%|█         | 1000/9200 [07:43<1:02:57,  2.17it/s, Average Loss=0.134, Epoch=2]\u001b[A\n",
            "Train:  11%|█         | 1010/9200 [07:47<1:01:22,  2.22it/s, Average Loss=0.134, Epoch=2]\u001b[A\n",
            "Train:  11%|█         | 1010/9200 [07:47<1:01:22,  2.22it/s, Average Loss=0.0767, Epoch=2]\u001b[A\n",
            "Train:  11%|█         | 1020/9200 [07:52<1:00:08,  2.27it/s, Average Loss=0.0767, Epoch=2]\u001b[A\n",
            "Train:  11%|█         | 1020/9200 [07:52<1:00:08,  2.27it/s, Average Loss=0.128, Epoch=2] \u001b[A\n",
            "Train:  11%|█         | 1030/9200 [07:56<59:17,  2.30it/s, Average Loss=0.128, Epoch=2]  \u001b[A\n",
            "Train:  11%|█         | 1030/9200 [07:56<59:17,  2.30it/s, Average Loss=0.122, Epoch=2]\u001b[A\n",
            "Train:  11%|█▏        | 1040/9200 [08:00<58:45,  2.31it/s, Average Loss=0.122, Epoch=2]\u001b[A\n",
            "Train:  11%|█▏        | 1040/9200 [08:00<58:45,  2.31it/s, Average Loss=0.133, Epoch=2]\u001b[A\n",
            "Train:  11%|█▏        | 1050/9200 [08:04<58:07,  2.34it/s, Average Loss=0.133, Epoch=2]\u001b[A\n",
            "Train:  11%|█▏        | 1050/9200 [08:04<58:07,  2.34it/s, Average Loss=0.0596, Epoch=2]\u001b[A\n",
            "Train:  12%|█▏        | 1060/9200 [08:08<57:37,  2.35it/s, Average Loss=0.0596, Epoch=2]\u001b[A\n",
            "Train:  12%|█▏        | 1060/9200 [08:08<57:37,  2.35it/s, Average Loss=0.104, Epoch=2] \u001b[A\n",
            "Train:  12%|█▏        | 1070/9200 [08:13<57:23,  2.36it/s, Average Loss=0.104, Epoch=2]\u001b[A\n",
            "Train:  12%|█▏        | 1070/9200 [08:13<57:23,  2.36it/s, Average Loss=0.136, Epoch=2]\u001b[A\n",
            "Train:  12%|█▏        | 1080/9200 [08:17<57:11,  2.37it/s, Average Loss=0.136, Epoch=2]\u001b[A\n",
            "Train:  12%|█▏        | 1080/9200 [08:17<57:11,  2.37it/s, Average Loss=0.11, Epoch=2] \u001b[A\n",
            "Train:  12%|█▏        | 1090/9200 [08:21<56:54,  2.38it/s, Average Loss=0.11, Epoch=2]\u001b[A\n",
            "Train:  12%|█▏        | 1090/9200 [08:21<56:54,  2.38it/s, Average Loss=0.0973, Epoch=2]\u001b[A\n",
            "Train:  12%|█▏        | 1100/9200 [08:25<56:41,  2.38it/s, Average Loss=0.0973, Epoch=2]\u001b[A\n",
            "Train:  12%|█▏        | 1100/9200 [08:25<56:41,  2.38it/s, Average Loss=0.101, Epoch=2] \u001b[A\n",
            "Train:  12%|█▏        | 1110/9200 [08:29<56:48,  2.37it/s, Average Loss=0.101, Epoch=2]\u001b[A\n",
            "Train:  12%|█▏        | 1110/9200 [08:29<56:48,  2.37it/s, Average Loss=0.0882, Epoch=2]\u001b[A\n",
            "Train:  12%|█▏        | 1120/9200 [08:34<56:37,  2.38it/s, Average Loss=0.0882, Epoch=2]\u001b[A\n",
            "Train:  12%|█▏        | 1120/9200 [08:34<56:37,  2.38it/s, Average Loss=0.0998, Epoch=2]\u001b[A\n",
            "Train:  12%|█▏        | 1130/9200 [08:38<56:27,  2.38it/s, Average Loss=0.0998, Epoch=2]\u001b[A\n",
            "Train:  12%|█▏        | 1130/9200 [08:38<56:27,  2.38it/s, Average Loss=0.0411, Epoch=2]\u001b[A\n",
            "Train:  12%|█▏        | 1140/9200 [08:42<56:30,  2.38it/s, Average Loss=0.0411, Epoch=2]\u001b[A\n",
            "Train:  12%|█▏        | 1140/9200 [08:42<56:30,  2.38it/s, Average Loss=0.102, Epoch=2] \u001b[A\n",
            "Train:  12%|█▎        | 1150/9200 [08:46<56:30,  2.37it/s, Average Loss=0.102, Epoch=2]\u001b[A\n",
            "Train:  12%|█▎        | 1150/9200 [08:46<56:30,  2.37it/s, Average Loss=0.0625, Epoch=2]\u001b[A\n",
            "Train:  13%|█▎        | 1160/9200 [08:50<56:21,  2.38it/s, Average Loss=0.0625, Epoch=2]\u001b[A\n",
            "Train:  13%|█▎        | 1160/9200 [08:50<56:21,  2.38it/s, Average Loss=0.121, Epoch=2] \u001b[A\n",
            "Train:  13%|█▎        | 1170/9200 [08:55<56:14,  2.38it/s, Average Loss=0.121, Epoch=2]\u001b[A\n",
            "Train:  13%|█▎        | 1170/9200 [08:55<56:14,  2.38it/s, Average Loss=0.0552, Epoch=2]\u001b[A\n",
            "Train:  13%|█▎        | 1180/9200 [08:59<56:24,  2.37it/s, Average Loss=0.0552, Epoch=2]\u001b[A\n",
            "Train:  13%|█▎        | 1180/9200 [08:59<56:24,  2.37it/s, Average Loss=0.127, Epoch=2] \u001b[A\n",
            "Train:  13%|█▎        | 1190/9200 [09:03<56:21,  2.37it/s, Average Loss=0.127, Epoch=2]\u001b[A\n",
            "Train:  13%|█▎        | 1190/9200 [09:03<56:21,  2.37it/s, Average Loss=0.0627, Epoch=2]\u001b[A\n",
            "Train:  13%|█▎        | 1200/9200 [09:07<56:12,  2.37it/s, Average Loss=0.0627, Epoch=2]\u001b[A\n",
            "Train:  13%|█▎        | 1200/9200 [09:07<56:12,  2.37it/s, Average Loss=0.0429, Epoch=2]\u001b[A\n",
            "Train:  13%|█▎        | 1210/9200 [09:12<56:09,  2.37it/s, Average Loss=0.0429, Epoch=2]\u001b[A\n",
            "Train:  13%|█▎        | 1210/9200 [09:12<56:09,  2.37it/s, Average Loss=0.0684, Epoch=2]\u001b[A\n",
            "Train:  13%|█▎        | 1220/9200 [09:16<56:12,  2.37it/s, Average Loss=0.0684, Epoch=2]\u001b[A\n",
            "Train:  13%|█▎        | 1220/9200 [09:16<56:12,  2.37it/s, Average Loss=0.146, Epoch=2] \u001b[A\n",
            "Train:  13%|█▎        | 1230/9200 [09:20<56:01,  2.37it/s, Average Loss=0.146, Epoch=2]\u001b[A\n",
            "Train:  13%|█▎        | 1230/9200 [09:20<56:01,  2.37it/s, Average Loss=0.0467, Epoch=2]\u001b[A\n",
            "Train:  13%|█▎        | 1240/9200 [09:24<55:51,  2.38it/s, Average Loss=0.0467, Epoch=2]\u001b[A\n",
            "Train:  13%|█▎        | 1240/9200 [09:24<55:51,  2.38it/s, Average Loss=0.0595, Epoch=2]\u001b[A\n",
            "Train:  14%|█▎        | 1250/9200 [09:28<55:52,  2.37it/s, Average Loss=0.0595, Epoch=2]\u001b[A\n",
            "Train:  14%|█▎        | 1250/9200 [09:28<55:52,  2.37it/s, Average Loss=0.0654, Epoch=2]\u001b[A\n",
            "Train:  14%|█▎        | 1260/9200 [09:33<55:48,  2.37it/s, Average Loss=0.0654, Epoch=2]\u001b[A\n",
            "Train:  14%|█▎        | 1260/9200 [09:33<55:48,  2.37it/s, Average Loss=0.048, Epoch=2] \u001b[A\n",
            "Train:  14%|█▍        | 1270/9200 [09:37<55:36,  2.38it/s, Average Loss=0.048, Epoch=2]\u001b[A\n",
            "Train:  14%|█▍        | 1270/9200 [09:37<55:36,  2.38it/s, Average Loss=0.0776, Epoch=2]\u001b[A\n",
            "Train:  14%|█▍        | 1280/9200 [09:41<55:30,  2.38it/s, Average Loss=0.0776, Epoch=2]\u001b[A\n",
            "Train:  14%|█▍        | 1280/9200 [09:41<55:30,  2.38it/s, Average Loss=0.121, Epoch=2] \u001b[A\n",
            "Train:  14%|█▍        | 1290/9200 [09:45<55:35,  2.37it/s, Average Loss=0.121, Epoch=2]\u001b[A\n",
            "Train:  14%|█▍        | 1290/9200 [09:45<55:35,  2.37it/s, Average Loss=0.0943, Epoch=2]\u001b[A\n",
            "Train:  14%|█▍        | 1300/9200 [09:49<55:23,  2.38it/s, Average Loss=0.0943, Epoch=2]\u001b[A\n",
            "Train:  14%|█▍        | 1300/9200 [09:49<55:23,  2.38it/s, Average Loss=0.104, Epoch=2] \u001b[A\n",
            "Train:  14%|█▍        | 1310/9200 [09:54<55:15,  2.38it/s, Average Loss=0.104, Epoch=2]\u001b[A\n",
            "Train:  14%|█▍        | 1310/9200 [09:54<55:15,  2.38it/s, Average Loss=0.0933, Epoch=2]\u001b[A\n",
            "Train:  14%|█▍        | 1320/9200 [09:58<55:15,  2.38it/s, Average Loss=0.0933, Epoch=2]\u001b[A\n",
            "Train:  14%|█▍        | 1320/9200 [09:58<55:15,  2.38it/s, Average Loss=0.0581, Epoch=2]\u001b[A\n",
            "Train:  14%|█▍        | 1330/9200 [10:02<55:10,  2.38it/s, Average Loss=0.0581, Epoch=2]\u001b[A\n",
            "Train:  14%|█▍        | 1330/9200 [10:02<55:10,  2.38it/s, Average Loss=0.12, Epoch=2]  \u001b[A\n",
            "Train:  15%|█▍        | 1340/9200 [10:06<55:02,  2.38it/s, Average Loss=0.12, Epoch=2]\u001b[A\n",
            "Train:  15%|█▍        | 1340/9200 [10:06<55:02,  2.38it/s, Average Loss=0.103, Epoch=2]\u001b[A\n",
            "Train:  15%|█▍        | 1350/9200 [10:10<54:55,  2.38it/s, Average Loss=0.103, Epoch=2]\u001b[A\n",
            "Train:  15%|█▍        | 1350/9200 [10:10<54:55,  2.38it/s, Average Loss=0.137, Epoch=2]\u001b[A\n",
            "Train:  15%|█▍        | 1360/9200 [10:15<54:58,  2.38it/s, Average Loss=0.137, Epoch=2]\u001b[A\n",
            "Train:  15%|█▍        | 1360/9200 [10:15<54:58,  2.38it/s, Average Loss=0.0518, Epoch=2]\u001b[A\n",
            "Train:  15%|█▍        | 1370/9200 [10:19<54:49,  2.38it/s, Average Loss=0.0518, Epoch=2]\u001b[A\n",
            "Train:  15%|█▍        | 1370/9200 [10:19<54:49,  2.38it/s, Average Loss=0.131, Epoch=2] \u001b[A\n",
            "Train:  15%|█▌        | 1380/9200 [10:23<54:24,  2.40it/s, Average Loss=0.131, Epoch=2]\u001b[A\n",
            "Train:  15%|█▌        | 1380/9200 [10:23<54:24,  2.40it/s, Average Loss=0.0833, Epoch=2]\u001b[A"
          ]
        },
        {
          "output_type": "stream",
          "name": "stdout",
          "text": [
            "Validation: [Epoch: 2, Macro F1: 0.5932731056828074, Validation Loss: 0.3784156855802203, Time per Epoch: 203.34395742416382]\n",
            "Begin Epoch 3\n"
          ]
        },
        {
          "output_type": "stream",
          "name": "stderr",
          "text": [
            "\n",
            "Train:  15%|█▌        | 1390/9200 [10:42<1:50:39,  1.18it/s, Average Loss=0.0833, Epoch=2]\u001b[A\n",
            "Train:  15%|█▌        | 1390/9200 [10:42<1:50:39,  1.18it/s, Average Loss=0.0689, Epoch=3]\u001b[A\n",
            "Train:  15%|█▌        | 1400/9200 [10:46<1:33:50,  1.39it/s, Average Loss=0.0689, Epoch=3]\u001b[A\n",
            "Train:  15%|█▌        | 1400/9200 [10:46<1:33:50,  1.39it/s, Average Loss=0.0307, Epoch=3]\u001b[A\n",
            "Train:  15%|█▌        | 1410/9200 [10:50<1:21:53,  1.59it/s, Average Loss=0.0307, Epoch=3]\u001b[A\n",
            "Train:  15%|█▌        | 1410/9200 [10:50<1:21:53,  1.59it/s, Average Loss=0.0195, Epoch=3]\u001b[A\n",
            "Train:  15%|█▌        | 1420/9200 [10:54<1:13:37,  1.76it/s, Average Loss=0.0195, Epoch=3]\u001b[A\n",
            "Train:  15%|█▌        | 1420/9200 [10:54<1:13:37,  1.76it/s, Average Loss=0.0238, Epoch=3]\u001b[A\n",
            "Train:  16%|█▌        | 1430/9200 [10:58<1:08:05,  1.90it/s, Average Loss=0.0238, Epoch=3]\u001b[A\n",
            "Train:  16%|█▌        | 1430/9200 [10:58<1:08:05,  1.90it/s, Average Loss=0.0388, Epoch=3]\u001b[A\n",
            "Train:  16%|█▌        | 1440/9200 [11:03<1:04:15,  2.01it/s, Average Loss=0.0388, Epoch=3]\u001b[A\n",
            "Train:  16%|█▌        | 1440/9200 [11:03<1:04:15,  2.01it/s, Average Loss=0.0568, Epoch=3]\u001b[A\n",
            "Train:  16%|█▌        | 1450/9200 [11:07<1:01:24,  2.10it/s, Average Loss=0.0568, Epoch=3]\u001b[A\n",
            "Train:  16%|█▌        | 1450/9200 [11:07<1:01:24,  2.10it/s, Average Loss=0.0435, Epoch=3]\u001b[A\n",
            "Train:  16%|█▌        | 1460/9200 [11:11<59:24,  2.17it/s, Average Loss=0.0435, Epoch=3]  \u001b[A\n",
            "Train:  16%|█▌        | 1460/9200 [11:11<59:24,  2.17it/s, Average Loss=0.0819, Epoch=3]\u001b[A\n",
            "Train:  16%|█▌        | 1470/9200 [11:15<58:01,  2.22it/s, Average Loss=0.0819, Epoch=3]\u001b[A\n",
            "Train:  16%|█▌        | 1470/9200 [11:16<58:01,  2.22it/s, Average Loss=0.0391, Epoch=3]\u001b[A\n",
            "Train:  16%|█▌        | 1480/9200 [11:20<56:43,  2.27it/s, Average Loss=0.0391, Epoch=3]\u001b[A\n",
            "Train:  16%|█▌        | 1480/9200 [11:20<56:43,  2.27it/s, Average Loss=0.0694, Epoch=3]\u001b[A\n",
            "Train:  16%|█▌        | 1490/9200 [11:24<55:47,  2.30it/s, Average Loss=0.0694, Epoch=3]\u001b[A\n",
            "Train:  16%|█▌        | 1490/9200 [11:24<55:47,  2.30it/s, Average Loss=0.0359, Epoch=3]\u001b[A\n",
            "Train:  16%|█▋        | 1500/9200 [11:28<55:17,  2.32it/s, Average Loss=0.0359, Epoch=3]\u001b[A\n",
            "Train:  16%|█▋        | 1500/9200 [11:28<55:17,  2.32it/s, Average Loss=0.0214, Epoch=3]\u001b[A\n",
            "Train:  16%|█▋        | 1510/9200 [11:32<54:50,  2.34it/s, Average Loss=0.0214, Epoch=3]\u001b[A\n",
            "Train:  16%|█▋        | 1510/9200 [11:32<54:50,  2.34it/s, Average Loss=0.0437, Epoch=3]\u001b[A\n",
            "Train:  17%|█▋        | 1520/9200 [11:36<54:22,  2.35it/s, Average Loss=0.0437, Epoch=3]\u001b[A\n",
            "Train:  17%|█▋        | 1520/9200 [11:36<54:22,  2.35it/s, Average Loss=0.0407, Epoch=3]\u001b[A\n",
            "Train:  17%|█▋        | 1530/9200 [11:41<54:00,  2.37it/s, Average Loss=0.0407, Epoch=3]\u001b[A\n",
            "Train:  17%|█▋        | 1530/9200 [11:41<54:00,  2.37it/s, Average Loss=0.0404, Epoch=3]\u001b[A\n",
            "Train:  17%|█▋        | 1540/9200 [11:45<53:58,  2.36it/s, Average Loss=0.0404, Epoch=3]\u001b[A\n",
            "Train:  17%|█▋        | 1540/9200 [11:45<53:58,  2.36it/s, Average Loss=0.0781, Epoch=3]\u001b[A\n",
            "Train:  17%|█▋        | 1550/9200 [11:49<53:41,  2.37it/s, Average Loss=0.0781, Epoch=3]\u001b[A\n",
            "Train:  17%|█▋        | 1550/9200 [11:49<53:41,  2.37it/s, Average Loss=0.04, Epoch=3]  \u001b[A\n",
            "Train:  17%|█▋        | 1560/9200 [11:53<53:31,  2.38it/s, Average Loss=0.04, Epoch=3]\u001b[A\n",
            "Train:  17%|█▋        | 1560/9200 [11:53<53:31,  2.38it/s, Average Loss=0.068, Epoch=3]\u001b[A\n",
            "Train:  17%|█▋        | 1570/9200 [11:57<53:31,  2.38it/s, Average Loss=0.068, Epoch=3]\u001b[A\n",
            "Train:  17%|█▋        | 1570/9200 [11:57<53:31,  2.38it/s, Average Loss=0.0434, Epoch=3]\u001b[A\n",
            "Train:  17%|█▋        | 1580/9200 [12:02<53:34,  2.37it/s, Average Loss=0.0434, Epoch=3]\u001b[A\n",
            "Train:  17%|█▋        | 1580/9200 [12:02<53:34,  2.37it/s, Average Loss=0.0367, Epoch=3]\u001b[A\n",
            "Train:  17%|█▋        | 1590/9200 [12:06<53:27,  2.37it/s, Average Loss=0.0367, Epoch=3]\u001b[A\n",
            "Train:  17%|█▋        | 1590/9200 [12:06<53:27,  2.37it/s, Average Loss=0.0286, Epoch=3]\u001b[A\n",
            "Train:  17%|█▋        | 1600/9200 [12:10<53:19,  2.38it/s, Average Loss=0.0286, Epoch=3]\u001b[A\n",
            "Train:  17%|█▋        | 1600/9200 [12:10<53:19,  2.38it/s, Average Loss=0.0208, Epoch=3]\u001b[A\n",
            "Train:  18%|█▊        | 1610/9200 [12:14<53:23,  2.37it/s, Average Loss=0.0208, Epoch=3]\u001b[A\n",
            "Train:  18%|█▊        | 1610/9200 [12:14<53:23,  2.37it/s, Average Loss=0.0108, Epoch=3]\u001b[A\n",
            "Train:  18%|█▊        | 1620/9200 [12:19<53:16,  2.37it/s, Average Loss=0.0108, Epoch=3]\u001b[A\n",
            "Train:  18%|█▊        | 1620/9200 [12:19<53:16,  2.37it/s, Average Loss=0.0273, Epoch=3]\u001b[A\n",
            "Train:  18%|█▊        | 1630/9200 [12:23<53:07,  2.38it/s, Average Loss=0.0273, Epoch=3]\u001b[A\n",
            "Train:  18%|█▊        | 1630/9200 [12:23<53:07,  2.38it/s, Average Loss=0.0507, Epoch=3]\u001b[A\n",
            "Train:  18%|█▊        | 1640/9200 [12:27<53:06,  2.37it/s, Average Loss=0.0507, Epoch=3]\u001b[A\n",
            "Train:  18%|█▊        | 1640/9200 [12:27<53:06,  2.37it/s, Average Loss=0.116, Epoch=3] \u001b[A\n",
            "Train:  18%|█▊        | 1650/9200 [12:31<53:08,  2.37it/s, Average Loss=0.116, Epoch=3]\u001b[A\n",
            "Train:  18%|█▊        | 1650/9200 [12:31<53:08,  2.37it/s, Average Loss=0.0189, Epoch=3]\u001b[A\n",
            "Train:  18%|█▊        | 1660/9200 [12:35<52:56,  2.37it/s, Average Loss=0.0189, Epoch=3]\u001b[A\n",
            "Train:  18%|█▊        | 1660/9200 [12:35<52:56,  2.37it/s, Average Loss=0.0466, Epoch=3]\u001b[A\n",
            "Train:  18%|█▊        | 1670/9200 [12:40<52:46,  2.38it/s, Average Loss=0.0466, Epoch=3]\u001b[A\n",
            "Train:  18%|█▊        | 1670/9200 [12:40<52:46,  2.38it/s, Average Loss=0.0599, Epoch=3]\u001b[A\n",
            "Train:  18%|█▊        | 1680/9200 [12:44<52:48,  2.37it/s, Average Loss=0.0599, Epoch=3]\u001b[A\n",
            "Train:  18%|█▊        | 1680/9200 [12:44<52:48,  2.37it/s, Average Loss=0.0427, Epoch=3]\u001b[A\n",
            "Train:  18%|█▊        | 1690/9200 [12:48<52:46,  2.37it/s, Average Loss=0.0427, Epoch=3]\u001b[A\n",
            "Train:  18%|█▊        | 1690/9200 [12:48<52:46,  2.37it/s, Average Loss=0.0117, Epoch=3]\u001b[A\n",
            "Train:  18%|█▊        | 1700/9200 [12:52<52:34,  2.38it/s, Average Loss=0.0117, Epoch=3]\u001b[A\n",
            "Train:  18%|█▊        | 1700/9200 [12:52<52:34,  2.38it/s, Average Loss=0.096, Epoch=3] \u001b[A\n",
            "Train:  19%|█▊        | 1710/9200 [12:56<52:28,  2.38it/s, Average Loss=0.096, Epoch=3]\u001b[A\n",
            "Train:  19%|█▊        | 1710/9200 [12:56<52:28,  2.38it/s, Average Loss=0.111, Epoch=3]\u001b[A\n",
            "Train:  19%|█▊        | 1720/9200 [13:01<52:31,  2.37it/s, Average Loss=0.111, Epoch=3]\u001b[A\n",
            "Train:  19%|█▊        | 1720/9200 [13:01<52:31,  2.37it/s, Average Loss=0.00762, Epoch=3]\u001b[A\n",
            "Train:  19%|█▉        | 1730/9200 [13:05<52:19,  2.38it/s, Average Loss=0.00762, Epoch=3]\u001b[A\n",
            "Train:  19%|█▉        | 1730/9200 [13:05<52:19,  2.38it/s, Average Loss=0.0384, Epoch=3] \u001b[A\n",
            "Train:  19%|█▉        | 1740/9200 [13:09<52:11,  2.38it/s, Average Loss=0.0384, Epoch=3]\u001b[A\n",
            "Train:  19%|█▉        | 1740/9200 [13:09<52:11,  2.38it/s, Average Loss=0.00189, Epoch=3]\u001b[A\n",
            "Train:  19%|█▉        | 1750/9200 [13:13<52:09,  2.38it/s, Average Loss=0.00189, Epoch=3]\u001b[A\n",
            "Train:  19%|█▉        | 1750/9200 [13:13<52:09,  2.38it/s, Average Loss=0.0214, Epoch=3] \u001b[A\n",
            "Train:  19%|█▉        | 1760/9200 [13:17<52:07,  2.38it/s, Average Loss=0.0214, Epoch=3]\u001b[A\n",
            "Train:  19%|█▉        | 1760/9200 [13:17<52:07,  2.38it/s, Average Loss=0.0245, Epoch=3]\u001b[A\n",
            "Train:  19%|█▉        | 1770/9200 [13:22<51:58,  2.38it/s, Average Loss=0.0245, Epoch=3]\u001b[A\n",
            "Train:  19%|█▉        | 1770/9200 [13:22<51:58,  2.38it/s, Average Loss=0.0388, Epoch=3]\u001b[A\n",
            "Train:  19%|█▉        | 1780/9200 [13:26<51:52,  2.38it/s, Average Loss=0.0388, Epoch=3]\u001b[A\n",
            "Train:  19%|█▉        | 1780/9200 [13:26<51:52,  2.38it/s, Average Loss=0.0682, Epoch=3]\u001b[A\n",
            "Train:  19%|█▉        | 1790/9200 [13:30<52:00,  2.37it/s, Average Loss=0.0682, Epoch=3]\u001b[A\n",
            "Train:  19%|█▉        | 1790/9200 [13:30<52:00,  2.37it/s, Average Loss=0.0379, Epoch=3]\u001b[A\n",
            "Train:  20%|█▉        | 1800/9200 [13:34<51:50,  2.38it/s, Average Loss=0.0379, Epoch=3]\u001b[A\n",
            "Train:  20%|█▉        | 1800/9200 [13:34<51:50,  2.38it/s, Average Loss=0.00556, Epoch=3]\u001b[A\n",
            "Train:  20%|█▉        | 1810/9200 [13:38<51:41,  2.38it/s, Average Loss=0.00556, Epoch=3]\u001b[A\n",
            "Train:  20%|█▉        | 1810/9200 [13:38<51:41,  2.38it/s, Average Loss=0.026, Epoch=3]  \u001b[A\n",
            "Train:  20%|█▉        | 1820/9200 [13:43<51:42,  2.38it/s, Average Loss=0.026, Epoch=3]\u001b[A\n",
            "Train:  20%|█▉        | 1820/9200 [13:43<51:42,  2.38it/s, Average Loss=0.0175, Epoch=3]\u001b[A\n",
            "Train:  20%|█▉        | 1830/9200 [13:47<51:44,  2.37it/s, Average Loss=0.0175, Epoch=3]\u001b[A\n",
            "Train:  20%|█▉        | 1830/9200 [13:47<51:44,  2.37it/s, Average Loss=0.0287, Epoch=3]\u001b[A\n",
            "Train:  20%|██        | 1840/9200 [13:51<51:17,  2.39it/s, Average Loss=0.0287, Epoch=3]\u001b[A\n",
            "Train:  20%|██        | 1840/9200 [13:51<51:17,  2.39it/s, Average Loss=0.028, Epoch=3] \u001b[A"
          ]
        },
        {
          "output_type": "stream",
          "name": "stdout",
          "text": [
            "Validation: [Epoch: 3, Macro F1: 0.6268846321613085, Validation Loss: 0.47058769135985, Time per Epoch: 203.23832440376282]\n",
            "Begin Epoch 4\n"
          ]
        },
        {
          "output_type": "stream",
          "name": "stderr",
          "text": [
            "\n",
            "Train:  20%|██        | 1850/9200 [14:09<1:43:42,  1.18it/s, Average Loss=0.028, Epoch=3]\u001b[A\n",
            "Train:  20%|██        | 1850/9200 [14:09<1:43:42,  1.18it/s, Average Loss=0.0128, Epoch=4]\u001b[A\n",
            "Train:  20%|██        | 1860/9200 [14:14<1:27:57,  1.39it/s, Average Loss=0.0128, Epoch=4]\u001b[A\n",
            "Train:  20%|██        | 1860/9200 [14:14<1:27:57,  1.39it/s, Average Loss=0.0487, Epoch=4]\u001b[A\n",
            "Train:  20%|██        | 1870/9200 [14:18<1:16:56,  1.59it/s, Average Loss=0.0487, Epoch=4]\u001b[A\n",
            "Train:  20%|██        | 1870/9200 [14:18<1:16:56,  1.59it/s, Average Loss=0.0272, Epoch=4]\u001b[A\n",
            "Train:  20%|██        | 1880/9200 [14:22<1:09:12,  1.76it/s, Average Loss=0.0272, Epoch=4]\u001b[A\n",
            "Train:  20%|██        | 1880/9200 [14:22<1:09:12,  1.76it/s, Average Loss=0.0203, Epoch=4]\u001b[A\n",
            "Train:  21%|██        | 1890/9200 [14:26<1:03:54,  1.91it/s, Average Loss=0.0203, Epoch=4]\u001b[A\n",
            "Train:  21%|██        | 1890/9200 [14:26<1:03:54,  1.91it/s, Average Loss=0.0421, Epoch=4]\u001b[A\n",
            "Train:  21%|██        | 1900/9200 [14:31<1:00:23,  2.01it/s, Average Loss=0.0421, Epoch=4]\u001b[A\n",
            "Train:  21%|██        | 1900/9200 [14:31<1:00:23,  2.01it/s, Average Loss=0.0554, Epoch=4]\u001b[A\n",
            "Train:  21%|██        | 1910/9200 [14:35<57:45,  2.10it/s, Average Loss=0.0554, Epoch=4]  \u001b[A\n",
            "Train:  21%|██        | 1910/9200 [14:35<57:45,  2.10it/s, Average Loss=0.00167, Epoch=4]\u001b[A\n",
            "Train:  21%|██        | 1920/9200 [14:39<55:44,  2.18it/s, Average Loss=0.00167, Epoch=4]\u001b[A\n",
            "Train:  21%|██        | 1920/9200 [14:39<55:44,  2.18it/s, Average Loss=0.0277, Epoch=4] \u001b[A\n",
            "Train:  21%|██        | 1930/9200 [14:43<54:22,  2.23it/s, Average Loss=0.0277, Epoch=4]\u001b[A\n",
            "Train:  21%|██        | 1930/9200 [14:43<54:22,  2.23it/s, Average Loss=0.0134, Epoch=4]\u001b[A\n",
            "Train:  21%|██        | 1940/9200 [14:48<53:19,  2.27it/s, Average Loss=0.0134, Epoch=4]\u001b[A\n",
            "Train:  21%|██        | 1940/9200 [14:48<53:19,  2.27it/s, Average Loss=0.0155, Epoch=4]\u001b[A\n",
            "Train:  21%|██        | 1950/9200 [14:52<52:26,  2.30it/s, Average Loss=0.0155, Epoch=4]\u001b[A\n",
            "Train:  21%|██        | 1950/9200 [14:52<52:26,  2.30it/s, Average Loss=0.00412, Epoch=4]\u001b[A\n",
            "Train:  21%|██▏       | 1960/9200 [14:56<51:52,  2.33it/s, Average Loss=0.00412, Epoch=4]\u001b[A\n",
            "Train:  21%|██▏       | 1960/9200 [14:56<51:52,  2.33it/s, Average Loss=0.00805, Epoch=4]\u001b[A\n",
            "Train:  21%|██▏       | 1970/9200 [15:00<51:34,  2.34it/s, Average Loss=0.00805, Epoch=4]\u001b[A\n",
            "Train:  21%|██▏       | 1970/9200 [15:00<51:34,  2.34it/s, Average Loss=0.0183, Epoch=4] \u001b[A\n",
            "Train:  22%|██▏       | 1980/9200 [15:04<51:08,  2.35it/s, Average Loss=0.0183, Epoch=4]\u001b[A\n",
            "Train:  22%|██▏       | 1980/9200 [15:04<51:08,  2.35it/s, Average Loss=0.00911, Epoch=4]\u001b[A\n",
            "Train:  22%|██▏       | 1990/9200 [15:09<50:44,  2.37it/s, Average Loss=0.00911, Epoch=4]\u001b[A\n",
            "Train:  22%|██▏       | 1990/9200 [15:09<50:44,  2.37it/s, Average Loss=0.0165, Epoch=4] \u001b[A\n",
            "Train:  22%|██▏       | 2000/9200 [15:13<50:37,  2.37it/s, Average Loss=0.0165, Epoch=4]\u001b[A\n",
            "Train:  22%|██▏       | 2000/9200 [15:13<50:37,  2.37it/s, Average Loss=0.0188, Epoch=4]\u001b[A\n",
            "Train:  22%|██▏       | 2010/9200 [15:17<50:29,  2.37it/s, Average Loss=0.0188, Epoch=4]\u001b[A\n",
            "Train:  22%|██▏       | 2010/9200 [15:17<50:29,  2.37it/s, Average Loss=0.0154, Epoch=4]\u001b[A\n",
            "Train:  22%|██▏       | 2020/9200 [15:21<50:17,  2.38it/s, Average Loss=0.0154, Epoch=4]\u001b[A\n",
            "Train:  22%|██▏       | 2020/9200 [15:21<50:17,  2.38it/s, Average Loss=0.0126, Epoch=4]\u001b[A\n",
            "Train:  22%|██▏       | 2030/9200 [15:25<50:12,  2.38it/s, Average Loss=0.0126, Epoch=4]\u001b[A\n",
            "Train:  22%|██▏       | 2030/9200 [15:25<50:12,  2.38it/s, Average Loss=0.0156, Epoch=4]\u001b[A\n",
            "Train:  22%|██▏       | 2040/9200 [15:30<50:17,  2.37it/s, Average Loss=0.0156, Epoch=4]\u001b[A\n",
            "Train:  22%|██▏       | 2040/9200 [15:30<50:17,  2.37it/s, Average Loss=0.0152, Epoch=4]\u001b[A\n",
            "Train:  22%|██▏       | 2050/9200 [15:34<50:11,  2.37it/s, Average Loss=0.0152, Epoch=4]\u001b[A\n",
            "Train:  22%|██▏       | 2050/9200 [15:34<50:11,  2.37it/s, Average Loss=0.0248, Epoch=4]\u001b[A\n",
            "Train:  22%|██▏       | 2060/9200 [15:38<50:02,  2.38it/s, Average Loss=0.0248, Epoch=4]\u001b[A\n",
            "Train:  22%|██▏       | 2060/9200 [15:38<50:02,  2.38it/s, Average Loss=0.00023, Epoch=4]\u001b[A\n",
            "Train:  22%|██▎       | 2070/9200 [15:42<50:05,  2.37it/s, Average Loss=0.00023, Epoch=4]\u001b[A\n",
            "Train:  22%|██▎       | 2070/9200 [15:42<50:05,  2.37it/s, Average Loss=0.03, Epoch=4]   \u001b[A\n",
            "Train:  23%|██▎       | 2080/9200 [15:46<50:08,  2.37it/s, Average Loss=0.03, Epoch=4]\u001b[A\n",
            "Train:  23%|██▎       | 2080/9200 [15:46<50:08,  2.37it/s, Average Loss=0.0152, Epoch=4]\u001b[A\n",
            "Train:  23%|██▎       | 2090/9200 [15:51<50:00,  2.37it/s, Average Loss=0.0152, Epoch=4]\u001b[A\n",
            "Train:  23%|██▎       | 2090/9200 [15:51<50:00,  2.37it/s, Average Loss=0.0473, Epoch=4]\u001b[A\n",
            "Train:  23%|██▎       | 2100/9200 [15:55<49:54,  2.37it/s, Average Loss=0.0473, Epoch=4]\u001b[A\n",
            "Train:  23%|██▎       | 2100/9200 [15:55<49:54,  2.37it/s, Average Loss=0.0117, Epoch=4]\u001b[A\n",
            "Train:  23%|██▎       | 2110/9200 [15:59<49:57,  2.37it/s, Average Loss=0.0117, Epoch=4]\u001b[A\n",
            "Train:  23%|██▎       | 2110/9200 [15:59<49:57,  2.37it/s, Average Loss=0.0153, Epoch=4]\u001b[A\n",
            "Train:  23%|██▎       | 2120/9200 [16:03<49:53,  2.37it/s, Average Loss=0.0153, Epoch=4]\u001b[A\n",
            "Train:  23%|██▎       | 2120/9200 [16:03<49:53,  2.37it/s, Average Loss=0.0347, Epoch=4]\u001b[A\n",
            "Train:  23%|██▎       | 2130/9200 [16:08<49:41,  2.37it/s, Average Loss=0.0347, Epoch=4]\u001b[A\n",
            "Train:  23%|██▎       | 2130/9200 [16:08<49:41,  2.37it/s, Average Loss=0.0327, Epoch=4]\u001b[A\n",
            "Train:  23%|██▎       | 2140/9200 [16:12<49:36,  2.37it/s, Average Loss=0.0327, Epoch=4]\u001b[A\n",
            "Train:  23%|██▎       | 2140/9200 [16:12<49:36,  2.37it/s, Average Loss=0.0371, Epoch=4]\u001b[A\n",
            "Train:  23%|██▎       | 2150/9200 [16:16<49:36,  2.37it/s, Average Loss=0.0371, Epoch=4]\u001b[A\n",
            "Train:  23%|██▎       | 2150/9200 [16:16<49:36,  2.37it/s, Average Loss=0.00674, Epoch=4]\u001b[A\n",
            "Train:  23%|██▎       | 2160/9200 [16:20<49:26,  2.37it/s, Average Loss=0.00674, Epoch=4]\u001b[A\n",
            "Train:  23%|██▎       | 2160/9200 [16:20<49:26,  2.37it/s, Average Loss=0.0121, Epoch=4] \u001b[A\n",
            "Train:  24%|██▎       | 2170/9200 [16:24<49:16,  2.38it/s, Average Loss=0.0121, Epoch=4]\u001b[A\n",
            "Train:  24%|██▎       | 2170/9200 [16:24<49:16,  2.38it/s, Average Loss=0.019, Epoch=4] \u001b[A\n",
            "Train:  24%|██▎       | 2180/9200 [16:29<49:20,  2.37it/s, Average Loss=0.019, Epoch=4]\u001b[A\n",
            "Train:  24%|██▎       | 2180/9200 [16:29<49:20,  2.37it/s, Average Loss=0.0228, Epoch=4]\u001b[A\n",
            "Train:  24%|██▍       | 2190/9200 [16:33<49:13,  2.37it/s, Average Loss=0.0228, Epoch=4]\u001b[A\n",
            "Train:  24%|██▍       | 2190/9200 [16:33<49:13,  2.37it/s, Average Loss=0.00464, Epoch=4]\u001b[A\n",
            "Train:  24%|██▍       | 2200/9200 [16:37<49:07,  2.38it/s, Average Loss=0.00464, Epoch=4]\u001b[A\n",
            "Train:  24%|██▍       | 2200/9200 [16:37<49:07,  2.38it/s, Average Loss=0.00741, Epoch=4]\u001b[A\n",
            "Train:  24%|██▍       | 2210/9200 [16:41<49:00,  2.38it/s, Average Loss=0.00741, Epoch=4]\u001b[A\n",
            "Train:  24%|██▍       | 2210/9200 [16:41<49:00,  2.38it/s, Average Loss=0.0221, Epoch=4] \u001b[A\n",
            "Train:  24%|██▍       | 2220/9200 [16:45<49:00,  2.37it/s, Average Loss=0.0221, Epoch=4]\u001b[A\n",
            "Train:  24%|██▍       | 2220/9200 [16:46<49:00,  2.37it/s, Average Loss=0.0425, Epoch=4]\u001b[A\n",
            "Train:  24%|██▍       | 2230/9200 [16:50<48:48,  2.38it/s, Average Loss=0.0425, Epoch=4]\u001b[A\n",
            "Train:  24%|██▍       | 2230/9200 [16:50<48:48,  2.38it/s, Average Loss=0.0403, Epoch=4]\u001b[A\n",
            "Train:  24%|██▍       | 2240/9200 [16:54<48:40,  2.38it/s, Average Loss=0.0403, Epoch=4]\u001b[A\n",
            "Train:  24%|██▍       | 2240/9200 [16:54<48:40,  2.38it/s, Average Loss=0.0218, Epoch=4]\u001b[A\n",
            "Train:  24%|██▍       | 2250/9200 [16:58<48:42,  2.38it/s, Average Loss=0.0218, Epoch=4]\u001b[A\n",
            "Train:  24%|██▍       | 2250/9200 [16:58<48:42,  2.38it/s, Average Loss=0.0223, Epoch=4]\u001b[A\n",
            "Train:  25%|██▍       | 2260/9200 [17:02<48:42,  2.37it/s, Average Loss=0.0223, Epoch=4]\u001b[A\n",
            "Train:  25%|██▍       | 2260/9200 [17:02<48:42,  2.37it/s, Average Loss=0.0272, Epoch=4]\u001b[A\n",
            "Train:  25%|██▍       | 2270/9200 [17:06<48:31,  2.38it/s, Average Loss=0.0272, Epoch=4]\u001b[A\n",
            "Train:  25%|██▍       | 2270/9200 [17:06<48:31,  2.38it/s, Average Loss=0.0196, Epoch=4]\u001b[A\n",
            "Train:  25%|██▍       | 2280/9200 [17:11<48:25,  2.38it/s, Average Loss=0.0196, Epoch=4]\u001b[A\n",
            "Train:  25%|██▍       | 2280/9200 [17:11<48:25,  2.38it/s, Average Loss=0.0418, Epoch=4]\u001b[A\n",
            "Train:  25%|██▍       | 2290/9200 [17:15<48:32,  2.37it/s, Average Loss=0.0418, Epoch=4]\u001b[A\n",
            "Train:  25%|██▍       | 2290/9200 [17:15<48:32,  2.37it/s, Average Loss=0.0114, Epoch=4]\u001b[A\n",
            "Train:  25%|██▌       | 2300/9200 [17:19<48:12,  2.39it/s, Average Loss=0.0114, Epoch=4]\u001b[A\n",
            "Train:  25%|██▌       | 2300/9200 [17:19<48:12,  2.39it/s, Average Loss=0.00396, Epoch=4]\u001b[A"
          ]
        },
        {
          "output_type": "stream",
          "name": "stdout",
          "text": [
            "Validation: [Epoch: 4, Macro F1: 0.6621032013007698, Validation Loss: 0.3958282575287401, Time per Epoch: 203.5732457637787]\n",
            "Begin Epoch 5\n"
          ]
        },
        {
          "output_type": "stream",
          "name": "stderr",
          "text": [
            "\n",
            "Train:  25%|██▌       | 2310/9200 [17:42<1:51:04,  1.03it/s, Average Loss=0.00396, Epoch=4]\u001b[A\n",
            "Train:  25%|██▌       | 2310/9200 [17:42<1:51:04,  1.03it/s, Average Loss=0.00304, Epoch=5]\u001b[A\n",
            "Train:  25%|██▌       | 2320/9200 [17:46<1:32:10,  1.24it/s, Average Loss=0.00304, Epoch=5]\u001b[A\n",
            "Train:  25%|██▌       | 2320/9200 [17:46<1:32:10,  1.24it/s, Average Loss=0.000885, Epoch=5]\u001b[A\n",
            "Train:  25%|██▌       | 2330/9200 [17:50<1:18:53,  1.45it/s, Average Loss=0.000885, Epoch=5]\u001b[A\n",
            "Train:  25%|██▌       | 2330/9200 [17:50<1:18:53,  1.45it/s, Average Loss=0.00341, Epoch=5] \u001b[A\n",
            "Train:  25%|██▌       | 2340/9200 [17:54<1:09:37,  1.64it/s, Average Loss=0.00341, Epoch=5]\u001b[A\n",
            "Train:  25%|██▌       | 2340/9200 [17:54<1:09:37,  1.64it/s, Average Loss=0.00209, Epoch=5]\u001b[A\n",
            "Train:  26%|██▌       | 2350/9200 [17:58<1:03:23,  1.80it/s, Average Loss=0.00209, Epoch=5]\u001b[A\n",
            "Train:  26%|██▌       | 2350/9200 [17:58<1:03:23,  1.80it/s, Average Loss=0.000331, Epoch=5]\u001b[A\n",
            "Train:  26%|██▌       | 2360/9200 [18:03<59:10,  1.93it/s, Average Loss=0.000331, Epoch=5]  \u001b[A\n",
            "Train:  26%|██▌       | 2360/9200 [18:03<59:10,  1.93it/s, Average Loss=0.00145, Epoch=5] \u001b[A\n",
            "Train:  26%|██▌       | 2370/9200 [18:07<56:03,  2.03it/s, Average Loss=0.00145, Epoch=5]\u001b[A\n",
            "Train:  26%|██▌       | 2370/9200 [18:07<56:03,  2.03it/s, Average Loss=0.034, Epoch=5]  \u001b[A\n",
            "Train:  26%|██▌       | 2380/9200 [18:11<53:45,  2.11it/s, Average Loss=0.034, Epoch=5]\u001b[A\n",
            "Train:  26%|██▌       | 2380/9200 [18:11<53:45,  2.11it/s, Average Loss=0.0213, Epoch=5]\u001b[A\n",
            "Train:  26%|██▌       | 2390/9200 [18:16<52:13,  2.17it/s, Average Loss=0.0213, Epoch=5]\u001b[A\n",
            "Train:  26%|██▌       | 2390/9200 [18:16<52:13,  2.17it/s, Average Loss=0.0471, Epoch=5]\u001b[A\n",
            "Train:  26%|██▌       | 2400/9200 [18:20<50:56,  2.22it/s, Average Loss=0.0471, Epoch=5]\u001b[A\n",
            "Train:  26%|██▌       | 2400/9200 [18:20<50:56,  2.22it/s, Average Loss=0.0136, Epoch=5]\u001b[A\n",
            "Train:  26%|██▌       | 2410/9200 [18:24<49:53,  2.27it/s, Average Loss=0.0136, Epoch=5]\u001b[A\n",
            "Train:  26%|██▌       | 2410/9200 [18:24<49:53,  2.27it/s, Average Loss=0.00159, Epoch=5]\u001b[A\n",
            "Train:  26%|██▋       | 2420/9200 [18:28<49:11,  2.30it/s, Average Loss=0.00159, Epoch=5]\u001b[A\n",
            "Train:  26%|██▋       | 2420/9200 [18:28<49:11,  2.30it/s, Average Loss=0.0223, Epoch=5] \u001b[A\n",
            "Train:  26%|██▋       | 2430/9200 [18:33<48:42,  2.32it/s, Average Loss=0.0223, Epoch=5]\u001b[A\n",
            "Train:  26%|██▋       | 2430/9200 [18:33<48:42,  2.32it/s, Average Loss=0.0103, Epoch=5]\u001b[A\n",
            "Train:  27%|██▋       | 2440/9200 [18:37<48:10,  2.34it/s, Average Loss=0.0103, Epoch=5]\u001b[A\n",
            "Train:  27%|██▋       | 2440/9200 [18:37<48:10,  2.34it/s, Average Loss=0.00272, Epoch=5]\u001b[A\n",
            "Train:  27%|██▋       | 2450/9200 [18:41<47:43,  2.36it/s, Average Loss=0.00272, Epoch=5]\u001b[A\n",
            "Train:  27%|██▋       | 2450/9200 [18:41<47:43,  2.36it/s, Average Loss=0.000555, Epoch=5]\u001b[A\n",
            "Train:  27%|██▋       | 2460/9200 [18:45<47:30,  2.36it/s, Average Loss=0.000555, Epoch=5]\u001b[A\n",
            "Train:  27%|██▋       | 2460/9200 [18:45<47:30,  2.36it/s, Average Loss=0.00168, Epoch=5] \u001b[A\n",
            "Train:  27%|██▋       | 2470/9200 [18:49<47:17,  2.37it/s, Average Loss=0.00168, Epoch=5]\u001b[A\n",
            "Train:  27%|██▋       | 2470/9200 [18:49<47:17,  2.37it/s, Average Loss=0.0268, Epoch=5] \u001b[A\n",
            "Train:  27%|██▋       | 2480/9200 [18:53<47:01,  2.38it/s, Average Loss=0.0268, Epoch=5]\u001b[A\n",
            "Train:  27%|██▋       | 2480/9200 [18:54<47:01,  2.38it/s, Average Loss=0.0133, Epoch=5]\u001b[A\n",
            "Train:  27%|██▋       | 2490/9200 [18:58<46:51,  2.39it/s, Average Loss=0.0133, Epoch=5]\u001b[A\n",
            "Train:  27%|██▋       | 2490/9200 [18:58<46:51,  2.39it/s, Average Loss=0.00616, Epoch=5]\u001b[A\n",
            "Train:  27%|██▋       | 2500/9200 [19:02<46:53,  2.38it/s, Average Loss=0.00616, Epoch=5]\u001b[A\n",
            "Train:  27%|██▋       | 2500/9200 [19:02<46:53,  2.38it/s, Average Loss=0.0194, Epoch=5] \u001b[A\n",
            "Train:  27%|██▋       | 2510/9200 [19:06<46:46,  2.38it/s, Average Loss=0.0194, Epoch=5]\u001b[A\n",
            "Train:  27%|██▋       | 2510/9200 [19:06<46:46,  2.38it/s, Average Loss=0.0199, Epoch=5]\u001b[A\n",
            "Train:  27%|██▋       | 2520/9200 [19:10<46:42,  2.38it/s, Average Loss=0.0199, Epoch=5]\u001b[A\n",
            "Train:  27%|██▋       | 2520/9200 [19:10<46:42,  2.38it/s, Average Loss=0.0123, Epoch=5]\u001b[A\n",
            "Train:  28%|██▊       | 2530/9200 [19:14<46:42,  2.38it/s, Average Loss=0.0123, Epoch=5]\u001b[A\n",
            "Train:  28%|██▊       | 2530/9200 [19:15<46:42,  2.38it/s, Average Loss=0.00263, Epoch=5]\u001b[A\n",
            "Train:  28%|██▊       | 2540/9200 [19:19<46:47,  2.37it/s, Average Loss=0.00263, Epoch=5]\u001b[A\n",
            "Train:  28%|██▊       | 2540/9200 [19:19<46:47,  2.37it/s, Average Loss=0.0106, Epoch=5] \u001b[A\n",
            "Train:  28%|██▊       | 2550/9200 [19:23<46:40,  2.37it/s, Average Loss=0.0106, Epoch=5]\u001b[A\n",
            "Train:  28%|██▊       | 2550/9200 [19:23<46:40,  2.37it/s, Average Loss=0.0245, Epoch=5]\u001b[A\n",
            "Train:  28%|██▊       | 2560/9200 [19:27<46:37,  2.37it/s, Average Loss=0.0245, Epoch=5]\u001b[A\n",
            "Train:  28%|██▊       | 2560/9200 [19:27<46:37,  2.37it/s, Average Loss=0.000398, Epoch=5]\u001b[A\n",
            "Train:  28%|██▊       | 2570/9200 [19:31<46:44,  2.36it/s, Average Loss=0.000398, Epoch=5]\u001b[A\n",
            "Train:  28%|██▊       | 2570/9200 [19:31<46:44,  2.36it/s, Average Loss=0.0266, Epoch=5]  \u001b[A\n",
            "Train:  28%|██▊       | 2580/9200 [19:36<46:38,  2.37it/s, Average Loss=0.0266, Epoch=5]\u001b[A\n",
            "Train:  28%|██▊       | 2580/9200 [19:36<46:38,  2.37it/s, Average Loss=0.0871, Epoch=5]\u001b[A\n",
            "Train:  28%|██▊       | 2590/9200 [19:40<46:28,  2.37it/s, Average Loss=0.0871, Epoch=5]\u001b[A\n",
            "Train:  28%|██▊       | 2590/9200 [19:40<46:28,  2.37it/s, Average Loss=0.0163, Epoch=5]\u001b[A\n",
            "Train:  28%|██▊       | 2600/9200 [19:44<46:25,  2.37it/s, Average Loss=0.0163, Epoch=5]\u001b[A\n",
            "Train:  28%|██▊       | 2600/9200 [19:44<46:25,  2.37it/s, Average Loss=0.0432, Epoch=5]\u001b[A\n",
            "Train:  28%|██▊       | 2610/9200 [19:48<46:24,  2.37it/s, Average Loss=0.0432, Epoch=5]\u001b[A\n",
            "Train:  28%|██▊       | 2610/9200 [19:48<46:24,  2.37it/s, Average Loss=0.0306, Epoch=5]\u001b[A\n",
            "Train:  28%|██▊       | 2620/9200 [19:52<46:14,  2.37it/s, Average Loss=0.0306, Epoch=5]\u001b[A\n",
            "Train:  28%|██▊       | 2620/9200 [19:53<46:14,  2.37it/s, Average Loss=0.00511, Epoch=5]\u001b[A\n",
            "Train:  29%|██▊       | 2630/9200 [19:57<46:04,  2.38it/s, Average Loss=0.00511, Epoch=5]\u001b[A\n",
            "Train:  29%|██▊       | 2630/9200 [19:57<46:04,  2.38it/s, Average Loss=0.0129, Epoch=5] \u001b[A\n",
            "Train:  29%|██▊       | 2640/9200 [20:01<46:06,  2.37it/s, Average Loss=0.0129, Epoch=5]\u001b[A\n",
            "Train:  29%|██▊       | 2640/9200 [20:01<46:06,  2.37it/s, Average Loss=0.00223, Epoch=5]\u001b[A\n",
            "Train:  29%|██▉       | 2650/9200 [20:05<46:00,  2.37it/s, Average Loss=0.00223, Epoch=5]\u001b[A\n",
            "Train:  29%|██▉       | 2650/9200 [20:05<46:00,  2.37it/s, Average Loss=0.0392, Epoch=5] \u001b[A\n",
            "Train:  29%|██▉       | 2660/9200 [20:09<45:48,  2.38it/s, Average Loss=0.0392, Epoch=5]\u001b[A\n",
            "Train:  29%|██▉       | 2660/9200 [20:09<45:48,  2.38it/s, Average Loss=0.0174, Epoch=5]\u001b[A\n",
            "Train:  29%|██▉       | 2670/9200 [20:13<45:40,  2.38it/s, Average Loss=0.0174, Epoch=5]\u001b[A\n",
            "Train:  29%|██▉       | 2670/9200 [20:14<45:40,  2.38it/s, Average Loss=0.00158, Epoch=5]\u001b[A\n",
            "Train:  29%|██▉       | 2680/9200 [20:18<45:46,  2.37it/s, Average Loss=0.00158, Epoch=5]\u001b[A\n",
            "Train:  29%|██▉       | 2680/9200 [20:18<45:46,  2.37it/s, Average Loss=0.01, Epoch=5]   \u001b[A\n",
            "Train:  29%|██▉       | 2690/9200 [20:22<45:39,  2.38it/s, Average Loss=0.01, Epoch=5]\u001b[A\n",
            "Train:  29%|██▉       | 2690/9200 [20:22<45:39,  2.38it/s, Average Loss=0.0175, Epoch=5]\u001b[A\n",
            "Train:  29%|██▉       | 2700/9200 [20:26<45:29,  2.38it/s, Average Loss=0.0175, Epoch=5]\u001b[A\n",
            "Train:  29%|██▉       | 2700/9200 [20:26<45:29,  2.38it/s, Average Loss=0.0157, Epoch=5]\u001b[A\n",
            "Train:  29%|██▉       | 2710/9200 [20:30<45:26,  2.38it/s, Average Loss=0.0157, Epoch=5]\u001b[A\n",
            "Train:  29%|██▉       | 2710/9200 [20:30<45:26,  2.38it/s, Average Loss=0.0186, Epoch=5]\u001b[A\n",
            "Train:  30%|██▉       | 2720/9200 [20:35<45:28,  2.38it/s, Average Loss=0.0186, Epoch=5]\u001b[A\n",
            "Train:  30%|██▉       | 2720/9200 [20:35<45:28,  2.38it/s, Average Loss=0.00503, Epoch=5]\u001b[A\n",
            "Train:  30%|██▉       | 2730/9200 [20:39<45:17,  2.38it/s, Average Loss=0.00503, Epoch=5]\u001b[A\n",
            "Train:  30%|██▉       | 2730/9200 [20:39<45:17,  2.38it/s, Average Loss=0.00043, Epoch=5]\u001b[A\n",
            "Train:  30%|██▉       | 2740/9200 [20:43<45:08,  2.39it/s, Average Loss=0.00043, Epoch=5]\u001b[A\n",
            "Train:  30%|██▉       | 2740/9200 [20:43<45:08,  2.39it/s, Average Loss=0.0153, Epoch=5] \u001b[A\n",
            "Train:  30%|██▉       | 2750/9200 [20:47<45:12,  2.38it/s, Average Loss=0.0153, Epoch=5]\u001b[A\n",
            "Train:  30%|██▉       | 2750/9200 [20:47<45:12,  2.38it/s, Average Loss=0.00427, Epoch=5]\u001b[A\n",
            "Train:  30%|███       | 2760/9200 [20:51<44:53,  2.39it/s, Average Loss=0.00427, Epoch=5]\u001b[A\n",
            "Train:  30%|███       | 2760/9200 [20:51<44:53,  2.39it/s, Average Loss=0.0387, Epoch=5] \u001b[A"
          ]
        },
        {
          "output_type": "stream",
          "name": "stdout",
          "text": [
            "Validation: [Epoch: 5, Macro F1: 0.660647694098823, Validation Loss: 0.49123652660671, Time per Epoch: 203.55997729301453]\n",
            "Begin Epoch 6\n"
          ]
        },
        {
          "output_type": "stream",
          "name": "stderr",
          "text": [
            "\n",
            "Train:  30%|███       | 2770/9200 [21:05<1:15:49,  1.41it/s, Average Loss=0.0387, Epoch=5]\u001b[A\n",
            "Train:  30%|███       | 2770/9200 [21:05<1:15:49,  1.41it/s, Average Loss=0.00827, Epoch=6]\u001b[A\n",
            "Train:  30%|███       | 2780/9200 [21:09<1:06:23,  1.61it/s, Average Loss=0.00827, Epoch=6]\u001b[A\n",
            "Train:  30%|███       | 2780/9200 [21:09<1:06:23,  1.61it/s, Average Loss=0.00427, Epoch=6]\u001b[A\n",
            "Train:  30%|███       | 2790/9200 [21:13<59:50,  1.79it/s, Average Loss=0.00427, Epoch=6]  \u001b[A\n",
            "Train:  30%|███       | 2790/9200 [21:13<59:50,  1.79it/s, Average Loss=0.0148, Epoch=6] \u001b[A\n",
            "Train:  30%|███       | 2800/9200 [21:18<55:26,  1.92it/s, Average Loss=0.0148, Epoch=6]\u001b[A\n",
            "Train:  30%|███       | 2800/9200 [21:18<55:26,  1.92it/s, Average Loss=0.0202, Epoch=6]\u001b[A\n",
            "Train:  31%|███       | 2810/9200 [21:22<52:08,  2.04it/s, Average Loss=0.0202, Epoch=6]\u001b[A\n",
            "Train:  31%|███       | 2810/9200 [21:22<52:08,  2.04it/s, Average Loss=0.00823, Epoch=6]\u001b[A\n",
            "Train:  31%|███       | 2820/9200 [21:26<49:49,  2.13it/s, Average Loss=0.00823, Epoch=6]\u001b[A\n",
            "Train:  31%|███       | 2820/9200 [21:26<49:49,  2.13it/s, Average Loss=0.00155, Epoch=6]\u001b[A\n",
            "Train:  31%|███       | 2830/9200 [21:30<48:16,  2.20it/s, Average Loss=0.00155, Epoch=6]\u001b[A\n",
            "Train:  31%|███       | 2830/9200 [21:30<48:16,  2.20it/s, Average Loss=0.00166, Epoch=6]\u001b[A\n",
            "Train:  31%|███       | 2840/9200 [21:35<47:12,  2.25it/s, Average Loss=0.00166, Epoch=6]\u001b[A\n",
            "Train:  31%|███       | 2840/9200 [21:35<47:12,  2.25it/s, Average Loss=0.00127, Epoch=6]\u001b[A\n",
            "Train:  31%|███       | 2850/9200 [21:39<46:16,  2.29it/s, Average Loss=0.00127, Epoch=6]\u001b[A\n",
            "Train:  31%|███       | 2850/9200 [21:39<46:16,  2.29it/s, Average Loss=0.00498, Epoch=6]\u001b[A\n",
            "Train:  31%|███       | 2860/9200 [21:43<45:36,  2.32it/s, Average Loss=0.00498, Epoch=6]\u001b[A\n",
            "Train:  31%|███       | 2860/9200 [21:43<45:36,  2.32it/s, Average Loss=0.002, Epoch=6]  \u001b[A\n",
            "Train:  31%|███       | 2870/9200 [21:47<45:18,  2.33it/s, Average Loss=0.002, Epoch=6]\u001b[A\n",
            "Train:  31%|███       | 2870/9200 [21:47<45:18,  2.33it/s, Average Loss=0.0532, Epoch=6]\u001b[A\n",
            "Train:  31%|███▏      | 2880/9200 [21:51<44:57,  2.34it/s, Average Loss=0.0532, Epoch=6]\u001b[A\n",
            "Train:  31%|███▏      | 2880/9200 [21:51<44:57,  2.34it/s, Average Loss=0.0111, Epoch=6]\u001b[A\n",
            "Train:  31%|███▏      | 2890/9200 [21:56<44:40,  2.35it/s, Average Loss=0.0111, Epoch=6]\u001b[A\n",
            "Train:  31%|███▏      | 2890/9200 [21:56<44:40,  2.35it/s, Average Loss=0.0166, Epoch=6]\u001b[A\n",
            "Train:  32%|███▏      | 2900/9200 [22:00<44:30,  2.36it/s, Average Loss=0.0166, Epoch=6]\u001b[A\n",
            "Train:  32%|███▏      | 2900/9200 [22:00<44:30,  2.36it/s, Average Loss=0.0219, Epoch=6]\u001b[A\n",
            "Train:  32%|███▏      | 2910/9200 [22:04<44:25,  2.36it/s, Average Loss=0.0219, Epoch=6]\u001b[A\n",
            "Train:  32%|███▏      | 2910/9200 [22:04<44:25,  2.36it/s, Average Loss=0.000516, Epoch=6]\u001b[A\n",
            "Train:  32%|███▏      | 2920/9200 [22:08<44:11,  2.37it/s, Average Loss=0.000516, Epoch=6]\u001b[A\n",
            "Train:  32%|███▏      | 2920/9200 [22:08<44:11,  2.37it/s, Average Loss=0.00781, Epoch=6] \u001b[A\n",
            "Train:  32%|███▏      | 2930/9200 [22:12<44:00,  2.37it/s, Average Loss=0.00781, Epoch=6]\u001b[A\n",
            "Train:  32%|███▏      | 2930/9200 [22:12<44:00,  2.37it/s, Average Loss=0.000383, Epoch=6]\u001b[A\n",
            "Train:  32%|███▏      | 2940/9200 [22:17<43:59,  2.37it/s, Average Loss=0.000383, Epoch=6]\u001b[A\n",
            "Train:  32%|███▏      | 2940/9200 [22:17<43:59,  2.37it/s, Average Loss=0.00467, Epoch=6] \u001b[A\n",
            "Train:  32%|███▏      | 2950/9200 [22:21<43:54,  2.37it/s, Average Loss=0.00467, Epoch=6]\u001b[A\n",
            "Train:  32%|███▏      | 2950/9200 [22:21<43:54,  2.37it/s, Average Loss=0.00706, Epoch=6]\u001b[A\n",
            "Train:  32%|███▏      | 2960/9200 [22:25<43:47,  2.38it/s, Average Loss=0.00706, Epoch=6]\u001b[A\n",
            "Train:  32%|███▏      | 2960/9200 [22:25<43:47,  2.38it/s, Average Loss=0.000783, Epoch=6]\u001b[A\n",
            "Train:  32%|███▏      | 2970/9200 [22:29<43:43,  2.37it/s, Average Loss=0.000783, Epoch=6]\u001b[A\n",
            "Train:  32%|███▏      | 2970/9200 [22:29<43:43,  2.37it/s, Average Loss=0.000184, Epoch=6]\u001b[A\n",
            "Train:  32%|███▏      | 2980/9200 [22:34<43:45,  2.37it/s, Average Loss=0.000184, Epoch=6]\u001b[A\n",
            "Train:  32%|███▏      | 2980/9200 [22:34<43:45,  2.37it/s, Average Loss=0.00117, Epoch=6] \u001b[A\n",
            "Train:  32%|███▎      | 2990/9200 [22:38<43:36,  2.37it/s, Average Loss=0.00117, Epoch=6]\u001b[A\n",
            "Train:  32%|███▎      | 2990/9200 [22:38<43:36,  2.37it/s, Average Loss=0.00468, Epoch=6]\u001b[A\n",
            "Train:  33%|███▎      | 3000/9200 [22:42<43:26,  2.38it/s, Average Loss=0.00468, Epoch=6]\u001b[A\n",
            "Train:  33%|███▎      | 3000/9200 [22:42<43:26,  2.38it/s, Average Loss=8.09e-5, Epoch=6]\u001b[A\n",
            "Train:  33%|███▎      | 3010/9200 [22:46<43:28,  2.37it/s, Average Loss=8.09e-5, Epoch=6]\u001b[A\n",
            "Train:  33%|███▎      | 3010/9200 [22:46<43:28,  2.37it/s, Average Loss=0.0134, Epoch=6] \u001b[A\n",
            "Train:  33%|███▎      | 3020/9200 [22:50<43:22,  2.37it/s, Average Loss=0.0134, Epoch=6]\u001b[A\n",
            "Train:  33%|███▎      | 3020/9200 [22:50<43:22,  2.37it/s, Average Loss=0.00572, Epoch=6]\u001b[A\n",
            "Train:  33%|███▎      | 3030/9200 [22:55<43:14,  2.38it/s, Average Loss=0.00572, Epoch=6]\u001b[A\n",
            "Train:  33%|███▎      | 3030/9200 [22:55<43:14,  2.38it/s, Average Loss=0.00757, Epoch=6]\u001b[A\n",
            "Train:  33%|███▎      | 3040/9200 [22:59<43:09,  2.38it/s, Average Loss=0.00757, Epoch=6]\u001b[A\n",
            "Train:  33%|███▎      | 3040/9200 [22:59<43:09,  2.38it/s, Average Loss=0.00588, Epoch=6]\u001b[A\n",
            "Train:  33%|███▎      | 3050/9200 [23:03<43:12,  2.37it/s, Average Loss=0.00588, Epoch=6]\u001b[A\n",
            "Train:  33%|███▎      | 3050/9200 [23:03<43:12,  2.37it/s, Average Loss=0.00919, Epoch=6]\u001b[A\n",
            "Train:  33%|███▎      | 3060/9200 [23:07<43:03,  2.38it/s, Average Loss=0.00919, Epoch=6]\u001b[A\n",
            "Train:  33%|███▎      | 3060/9200 [23:07<43:03,  2.38it/s, Average Loss=0.0248, Epoch=6] \u001b[A\n",
            "Train:  33%|███▎      | 3070/9200 [23:11<42:56,  2.38it/s, Average Loss=0.0248, Epoch=6]\u001b[A\n",
            "Train:  33%|███▎      | 3070/9200 [23:11<42:56,  2.38it/s, Average Loss=0.00553, Epoch=6]\u001b[A\n",
            "Train:  33%|███▎      | 3080/9200 [23:16<42:58,  2.37it/s, Average Loss=0.00553, Epoch=6]\u001b[A\n",
            "Train:  33%|███▎      | 3080/9200 [23:16<42:58,  2.37it/s, Average Loss=0.00207, Epoch=6]\u001b[A\n",
            "Train:  34%|███▎      | 3090/9200 [23:20<42:52,  2.38it/s, Average Loss=0.00207, Epoch=6]\u001b[A\n",
            "Train:  34%|███▎      | 3090/9200 [23:20<42:52,  2.38it/s, Average Loss=0.041, Epoch=6]  \u001b[A\n",
            "Train:  34%|███▎      | 3100/9200 [23:24<42:47,  2.38it/s, Average Loss=0.041, Epoch=6]\u001b[A\n",
            "Train:  34%|███▎      | 3100/9200 [23:24<42:47,  2.38it/s, Average Loss=0.0308, Epoch=6]\u001b[A\n",
            "Train:  34%|███▍      | 3110/9200 [23:28<42:42,  2.38it/s, Average Loss=0.0308, Epoch=6]\u001b[A\n",
            "Train:  34%|███▍      | 3110/9200 [23:28<42:42,  2.38it/s, Average Loss=0.000766, Epoch=6]\u001b[A\n",
            "Train:  34%|███▍      | 3120/9200 [23:32<42:45,  2.37it/s, Average Loss=0.000766, Epoch=6]\u001b[A\n",
            "Train:  34%|███▍      | 3120/9200 [23:32<42:45,  2.37it/s, Average Loss=0.0456, Epoch=6]  \u001b[A\n",
            "Train:  34%|███▍      | 3130/9200 [23:37<42:35,  2.37it/s, Average Loss=0.0456, Epoch=6]\u001b[A\n",
            "Train:  34%|███▍      | 3130/9200 [23:37<42:35,  2.37it/s, Average Loss=0.017, Epoch=6] \u001b[A\n",
            "Train:  34%|███▍      | 3140/9200 [23:41<42:27,  2.38it/s, Average Loss=0.017, Epoch=6]\u001b[A\n",
            "Train:  34%|███▍      | 3140/9200 [23:41<42:27,  2.38it/s, Average Loss=0.025, Epoch=6]\u001b[A\n",
            "Train:  34%|███▍      | 3150/9200 [23:45<42:26,  2.38it/s, Average Loss=0.025, Epoch=6]\u001b[A\n",
            "Train:  34%|███▍      | 3150/9200 [23:45<42:26,  2.38it/s, Average Loss=0.0424, Epoch=6]\u001b[A\n",
            "Train:  34%|███▍      | 3160/9200 [23:49<42:25,  2.37it/s, Average Loss=0.0424, Epoch=6]\u001b[A\n",
            "Train:  34%|███▍      | 3160/9200 [23:49<42:25,  2.37it/s, Average Loss=0.00041, Epoch=6]\u001b[A\n",
            "Train:  34%|███▍      | 3170/9200 [23:53<42:15,  2.38it/s, Average Loss=0.00041, Epoch=6]\u001b[A\n",
            "Train:  34%|███▍      | 3170/9200 [23:53<42:15,  2.38it/s, Average Loss=0.0232, Epoch=6] \u001b[A\n",
            "Train:  35%|███▍      | 3180/9200 [23:58<42:09,  2.38it/s, Average Loss=0.0232, Epoch=6]\u001b[A\n",
            "Train:  35%|███▍      | 3180/9200 [23:58<42:09,  2.38it/s, Average Loss=0.0276, Epoch=6]\u001b[A\n",
            "Train:  35%|███▍      | 3190/9200 [24:02<42:13,  2.37it/s, Average Loss=0.0276, Epoch=6]\u001b[A\n",
            "Train:  35%|███▍      | 3190/9200 [24:02<42:13,  2.37it/s, Average Loss=0.0208, Epoch=6]\u001b[A\n",
            "Train:  35%|███▍      | 3200/9200 [24:06<42:06,  2.37it/s, Average Loss=0.0208, Epoch=6]\u001b[A\n",
            "Train:  35%|███▍      | 3200/9200 [24:06<42:06,  2.37it/s, Average Loss=0.00177, Epoch=6]\u001b[A\n",
            "Train:  35%|███▍      | 3210/9200 [24:10<41:57,  2.38it/s, Average Loss=0.00177, Epoch=6]\u001b[A\n",
            "Train:  35%|███▍      | 3210/9200 [24:10<41:57,  2.38it/s, Average Loss=0.0148, Epoch=6] \u001b[A\n",
            "Train:  35%|███▌      | 3220/9200 [24:14<41:40,  2.39it/s, Average Loss=0.0148, Epoch=6]\u001b[A\n",
            "Train:  35%|███▌      | 3220/9200 [24:14<41:40,  2.39it/s, Average Loss=0.0019, Epoch=6]\u001b[A"
          ]
        },
        {
          "output_type": "stream",
          "name": "stdout",
          "text": [
            "Validation: [Epoch: 6, Macro F1: 0.7108489893506181, Validation Loss: 0.4322301432866668, Time per Epoch: 203.11307740211487]\n",
            "Begin Epoch 7\n"
          ]
        },
        {
          "output_type": "stream",
          "name": "stderr",
          "text": [
            "\n",
            "Train:  35%|███▌      | 3230/9200 [24:33<1:24:53,  1.17it/s, Average Loss=0.0019, Epoch=6]\u001b[A\n",
            "Train:  35%|███▌      | 3230/9200 [24:33<1:24:53,  1.17it/s, Average Loss=0.000369, Epoch=7]\u001b[A\n",
            "Train:  35%|███▌      | 3240/9200 [24:37<1:11:43,  1.38it/s, Average Loss=0.000369, Epoch=7]\u001b[A\n",
            "Train:  35%|███▌      | 3240/9200 [24:37<1:11:43,  1.38it/s, Average Loss=0.00119, Epoch=7] \u001b[A\n",
            "Train:  35%|███▌      | 3250/9200 [24:41<1:02:32,  1.59it/s, Average Loss=0.00119, Epoch=7]\u001b[A\n",
            "Train:  35%|███▌      | 3250/9200 [24:41<1:02:32,  1.59it/s, Average Loss=0.00157, Epoch=7]\u001b[A\n",
            "Train:  35%|███▌      | 3260/9200 [24:46<56:18,  1.76it/s, Average Loss=0.00157, Epoch=7]  \u001b[A\n",
            "Train:  35%|███▌      | 3260/9200 [24:46<56:18,  1.76it/s, Average Loss=0.0071, Epoch=7] \u001b[A\n",
            "Train:  36%|███▌      | 3270/9200 [24:50<51:57,  1.90it/s, Average Loss=0.0071, Epoch=7]\u001b[A\n",
            "Train:  36%|███▌      | 3270/9200 [24:50<51:57,  1.90it/s, Average Loss=0.000955, Epoch=7]\u001b[A\n",
            "Train:  36%|███▌      | 3280/9200 [24:54<48:55,  2.02it/s, Average Loss=0.000955, Epoch=7]\u001b[A\n",
            "Train:  36%|███▌      | 3280/9200 [24:54<48:55,  2.02it/s, Average Loss=0.00902, Epoch=7] \u001b[A\n",
            "Train:  36%|███▌      | 3290/9200 [24:58<46:45,  2.11it/s, Average Loss=0.00902, Epoch=7]\u001b[A\n",
            "Train:  36%|███▌      | 3290/9200 [24:58<46:45,  2.11it/s, Average Loss=0.0536, Epoch=7] \u001b[A\n",
            "Train:  36%|███▌      | 3300/9200 [25:03<45:18,  2.17it/s, Average Loss=0.0536, Epoch=7]\u001b[A\n",
            "Train:  36%|███▌      | 3300/9200 [25:03<45:18,  2.17it/s, Average Loss=0.000481, Epoch=7]\u001b[A\n",
            "Train:  36%|███▌      | 3310/9200 [25:07<44:05,  2.23it/s, Average Loss=0.000481, Epoch=7]\u001b[A\n",
            "Train:  36%|███▌      | 3310/9200 [25:07<44:05,  2.23it/s, Average Loss=0.00312, Epoch=7] \u001b[A\n",
            "Train:  36%|███▌      | 3320/9200 [25:11<43:10,  2.27it/s, Average Loss=0.00312, Epoch=7]\u001b[A\n",
            "Train:  36%|███▌      | 3320/9200 [25:11<43:10,  2.27it/s, Average Loss=0.000356, Epoch=7]\u001b[A\n",
            "Train:  36%|███▌      | 3330/9200 [25:15<42:33,  2.30it/s, Average Loss=0.000356, Epoch=7]\u001b[A\n",
            "Train:  36%|███▌      | 3330/9200 [25:15<42:33,  2.30it/s, Average Loss=0.0182, Epoch=7]  \u001b[A\n",
            "Train:  36%|███▋      | 3340/9200 [25:20<42:06,  2.32it/s, Average Loss=0.0182, Epoch=7]\u001b[A\n",
            "Train:  36%|███▋      | 3340/9200 [25:20<42:06,  2.32it/s, Average Loss=0.00416, Epoch=7]\u001b[A\n",
            "Train:  36%|███▋      | 3350/9200 [25:24<41:37,  2.34it/s, Average Loss=0.00416, Epoch=7]\u001b[A\n",
            "Train:  36%|███▋      | 3350/9200 [25:24<41:37,  2.34it/s, Average Loss=0.025, Epoch=7]  \u001b[A\n",
            "Train:  37%|███▋      | 3360/9200 [25:28<41:16,  2.36it/s, Average Loss=0.025, Epoch=7]\u001b[A\n",
            "Train:  37%|███▋      | 3360/9200 [25:28<41:16,  2.36it/s, Average Loss=0.00917, Epoch=7]\u001b[A\n",
            "Train:  37%|███▋      | 3370/9200 [25:32<41:10,  2.36it/s, Average Loss=0.00917, Epoch=7]\u001b[A\n",
            "Train:  37%|███▋      | 3370/9200 [25:32<41:10,  2.36it/s, Average Loss=0.00348, Epoch=7]\u001b[A\n",
            "Train:  37%|███▋      | 3380/9200 [25:36<40:57,  2.37it/s, Average Loss=0.00348, Epoch=7]\u001b[A\n",
            "Train:  37%|███▋      | 3380/9200 [25:36<40:57,  2.37it/s, Average Loss=0.00553, Epoch=7]\u001b[A\n",
            "Train:  37%|███▋      | 3390/9200 [25:41<40:43,  2.38it/s, Average Loss=0.00553, Epoch=7]\u001b[A\n",
            "Train:  37%|███▋      | 3390/9200 [25:41<40:43,  2.38it/s, Average Loss=0.00508, Epoch=7]\u001b[A\n",
            "Train:  37%|███▋      | 3400/9200 [25:45<40:37,  2.38it/s, Average Loss=0.00508, Epoch=7]\u001b[A\n",
            "Train:  37%|███▋      | 3400/9200 [25:45<40:37,  2.38it/s, Average Loss=0.0187, Epoch=7] \u001b[A\n",
            "Train:  37%|███▋      | 3410/9200 [25:49<40:37,  2.38it/s, Average Loss=0.0187, Epoch=7]\u001b[A\n",
            "Train:  37%|███▋      | 3410/9200 [25:49<40:37,  2.38it/s, Average Loss=0.000354, Epoch=7]\u001b[A\n",
            "Train:  37%|███▋      | 3420/9200 [25:53<40:26,  2.38it/s, Average Loss=0.000354, Epoch=7]\u001b[A\n",
            "Train:  37%|███▋      | 3420/9200 [25:53<40:26,  2.38it/s, Average Loss=0.00854, Epoch=7] \u001b[A\n",
            "Train:  37%|███▋      | 3430/9200 [25:57<40:21,  2.38it/s, Average Loss=0.00854, Epoch=7]\u001b[A\n",
            "Train:  37%|███▋      | 3430/9200 [25:57<40:21,  2.38it/s, Average Loss=0.0021, Epoch=7] \u001b[A\n",
            "Train:  37%|███▋      | 3440/9200 [26:02<40:24,  2.38it/s, Average Loss=0.0021, Epoch=7]\u001b[A\n",
            "Train:  37%|███▋      | 3440/9200 [26:02<40:24,  2.38it/s, Average Loss=0.000296, Epoch=7]\u001b[A\n",
            "Train:  38%|███▊      | 3450/9200 [26:06<40:21,  2.37it/s, Average Loss=0.000296, Epoch=7]\u001b[A\n",
            "Train:  38%|███▊      | 3450/9200 [26:06<40:21,  2.37it/s, Average Loss=0.016, Epoch=7]   \u001b[A\n",
            "Train:  38%|███▊      | 3460/9200 [26:10<40:13,  2.38it/s, Average Loss=0.016, Epoch=7]\u001b[A\n",
            "Train:  38%|███▊      | 3460/9200 [26:10<40:13,  2.38it/s, Average Loss=0.00133, Epoch=7]\u001b[A\n",
            "Train:  38%|███▊      | 3470/9200 [26:14<40:13,  2.37it/s, Average Loss=0.00133, Epoch=7]\u001b[A\n",
            "Train:  38%|███▊      | 3470/9200 [26:14<40:13,  2.37it/s, Average Loss=0.00597, Epoch=7]\u001b[A\n",
            "Train:  38%|███▊      | 3480/9200 [26:18<40:15,  2.37it/s, Average Loss=0.00597, Epoch=7]\u001b[A\n",
            "Train:  38%|███▊      | 3480/9200 [26:18<40:15,  2.37it/s, Average Loss=0.00732, Epoch=7]\u001b[A\n",
            "Train:  38%|███▊      | 3490/9200 [26:23<40:06,  2.37it/s, Average Loss=0.00732, Epoch=7]\u001b[A\n",
            "Train:  38%|███▊      | 3490/9200 [26:23<40:06,  2.37it/s, Average Loss=0.0303, Epoch=7] \u001b[A\n",
            "Train:  38%|███▊      | 3500/9200 [26:27<40:01,  2.37it/s, Average Loss=0.0303, Epoch=7]\u001b[A\n",
            "Train:  38%|███▊      | 3500/9200 [26:27<40:01,  2.37it/s, Average Loss=0.00899, Epoch=7]\u001b[A\n",
            "Train:  38%|███▊      | 3510/9200 [26:31<40:01,  2.37it/s, Average Loss=0.00899, Epoch=7]\u001b[A\n",
            "Train:  38%|███▊      | 3510/9200 [26:31<40:01,  2.37it/s, Average Loss=0.0148, Epoch=7] \u001b[A\n",
            "Train:  38%|███▊      | 3520/9200 [26:35<39:56,  2.37it/s, Average Loss=0.0148, Epoch=7]\u001b[A\n",
            "Train:  38%|███▊      | 3520/9200 [26:35<39:56,  2.37it/s, Average Loss=0.0696, Epoch=7]\u001b[A\n",
            "Train:  38%|███▊      | 3530/9200 [26:39<39:47,  2.37it/s, Average Loss=0.0696, Epoch=7]\u001b[A\n",
            "Train:  38%|███▊      | 3530/9200 [26:39<39:47,  2.37it/s, Average Loss=0.0223, Epoch=7]\u001b[A\n",
            "Train:  38%|███▊      | 3540/9200 [26:44<39:41,  2.38it/s, Average Loss=0.0223, Epoch=7]\u001b[A\n",
            "Train:  38%|███▊      | 3540/9200 [26:44<39:41,  2.38it/s, Average Loss=0.0151, Epoch=7]\u001b[A\n",
            "Train:  39%|███▊      | 3550/9200 [26:48<39:43,  2.37it/s, Average Loss=0.0151, Epoch=7]\u001b[A\n",
            "Train:  39%|███▊      | 3550/9200 [26:48<39:43,  2.37it/s, Average Loss=0.00158, Epoch=7]\u001b[A\n",
            "Train:  39%|███▊      | 3560/9200 [26:52<39:36,  2.37it/s, Average Loss=0.00158, Epoch=7]\u001b[A\n",
            "Train:  39%|███▊      | 3560/9200 [26:52<39:36,  2.37it/s, Average Loss=0.0196, Epoch=7] \u001b[A\n",
            "Train:  39%|███▉      | 3570/9200 [26:56<39:28,  2.38it/s, Average Loss=0.0196, Epoch=7]\u001b[A\n",
            "Train:  39%|███▉      | 3570/9200 [26:56<39:28,  2.38it/s, Average Loss=0.000994, Epoch=7]\u001b[A\n",
            "Train:  39%|███▉      | 3580/9200 [27:01<39:26,  2.38it/s, Average Loss=0.000994, Epoch=7]\u001b[A\n",
            "Train:  39%|███▉      | 3580/9200 [27:01<39:26,  2.38it/s, Average Loss=0.00418, Epoch=7] \u001b[A\n",
            "Train:  39%|███▉      | 3590/9200 [27:05<39:24,  2.37it/s, Average Loss=0.00418, Epoch=7]\u001b[A\n",
            "Train:  39%|███▉      | 3590/9200 [27:05<39:24,  2.37it/s, Average Loss=0.000637, Epoch=7]\u001b[A\n",
            "Train:  39%|███▉      | 3600/9200 [27:09<39:16,  2.38it/s, Average Loss=0.000637, Epoch=7]\u001b[A\n",
            "Train:  39%|███▉      | 3600/9200 [27:09<39:16,  2.38it/s, Average Loss=0.0201, Epoch=7]  \u001b[A\n",
            "Train:  39%|███▉      | 3610/9200 [27:13<39:10,  2.38it/s, Average Loss=0.0201, Epoch=7]\u001b[A\n",
            "Train:  39%|███▉      | 3610/9200 [27:13<39:10,  2.38it/s, Average Loss=0.00137, Epoch=7]\u001b[A\n",
            "Train:  39%|███▉      | 3620/9200 [27:17<39:11,  2.37it/s, Average Loss=0.00137, Epoch=7]\u001b[A\n",
            "Train:  39%|███▉      | 3620/9200 [27:17<39:11,  2.37it/s, Average Loss=0.000231, Epoch=7]\u001b[A\n",
            "Train:  39%|███▉      | 3630/9200 [27:22<39:06,  2.37it/s, Average Loss=0.000231, Epoch=7]\u001b[A\n",
            "Train:  39%|███▉      | 3630/9200 [27:22<39:06,  2.37it/s, Average Loss=0.00037, Epoch=7] \u001b[A\n",
            "Train:  40%|███▉      | 3640/9200 [27:26<38:58,  2.38it/s, Average Loss=0.00037, Epoch=7]\u001b[A\n",
            "Train:  40%|███▉      | 3640/9200 [27:26<38:58,  2.38it/s, Average Loss=0.000738, Epoch=7]\u001b[A\n",
            "Train:  40%|███▉      | 3650/9200 [27:30<38:55,  2.38it/s, Average Loss=0.000738, Epoch=7]\u001b[A\n",
            "Train:  40%|███▉      | 3650/9200 [27:30<38:55,  2.38it/s, Average Loss=0.00014, Epoch=7] \u001b[A\n",
            "Train:  40%|███▉      | 3660/9200 [27:34<38:56,  2.37it/s, Average Loss=0.00014, Epoch=7]\u001b[A\n",
            "Train:  40%|███▉      | 3660/9200 [27:34<38:56,  2.37it/s, Average Loss=6.73e-5, Epoch=7]\u001b[A\n",
            "Train:  40%|███▉      | 3670/9200 [27:38<38:46,  2.38it/s, Average Loss=6.73e-5, Epoch=7]\u001b[A\n",
            "Train:  40%|███▉      | 3670/9200 [27:38<38:46,  2.38it/s, Average Loss=0.0338, Epoch=7] \u001b[A\n",
            "Train:  40%|████      | 3680/9200 [27:43<38:26,  2.39it/s, Average Loss=0.0338, Epoch=7]\u001b[A\n",
            "Train:  40%|████      | 3680/9200 [27:43<38:26,  2.39it/s, Average Loss=0.0546, Epoch=7]\u001b[A"
          ]
        },
        {
          "output_type": "stream",
          "name": "stdout",
          "text": [
            "Validation: [Epoch: 7, Macro F1: 0.633056716216245, Validation Loss: 0.5334291520840178, Time per Epoch: 203.17141723632812]\n",
            "Begin Epoch 8\n"
          ]
        },
        {
          "output_type": "stream",
          "name": "stderr",
          "text": [
            "\n",
            "Train:  40%|████      | 3690/9200 [27:56<1:04:28,  1.42it/s, Average Loss=0.0546, Epoch=7]\u001b[A\n",
            "Train:  40%|████      | 3690/9200 [27:56<1:04:28,  1.42it/s, Average Loss=0.0225, Epoch=8]\u001b[A\n",
            "Train:  40%|████      | 3700/9200 [28:00<56:40,  1.62it/s, Average Loss=0.0225, Epoch=8]  \u001b[A\n",
            "Train:  40%|████      | 3700/9200 [28:00<56:40,  1.62it/s, Average Loss=0.0383, Epoch=8]\u001b[A\n",
            "Train:  40%|████      | 3710/9200 [28:05<51:10,  1.79it/s, Average Loss=0.0383, Epoch=8]\u001b[A\n",
            "Train:  40%|████      | 3710/9200 [28:05<51:10,  1.79it/s, Average Loss=0.00164, Epoch=8]\u001b[A\n",
            "Train:  40%|████      | 3720/9200 [28:09<47:15,  1.93it/s, Average Loss=0.00164, Epoch=8]\u001b[A\n",
            "Train:  40%|████      | 3720/9200 [28:09<47:15,  1.93it/s, Average Loss=0.00642, Epoch=8]\u001b[A\n",
            "Train:  41%|████      | 3730/9200 [28:13<44:27,  2.05it/s, Average Loss=0.00642, Epoch=8]\u001b[A\n",
            "Train:  41%|████      | 3730/9200 [28:13<44:27,  2.05it/s, Average Loss=0.0188, Epoch=8] \u001b[A\n",
            "Train:  41%|████      | 3740/9200 [28:17<42:39,  2.13it/s, Average Loss=0.0188, Epoch=8]\u001b[A\n",
            "Train:  41%|████      | 3740/9200 [28:17<42:39,  2.13it/s, Average Loss=0.0371, Epoch=8]\u001b[A\n",
            "Train:  41%|████      | 3750/9200 [28:21<41:16,  2.20it/s, Average Loss=0.0371, Epoch=8]\u001b[A\n",
            "Train:  41%|████      | 3750/9200 [28:21<41:16,  2.20it/s, Average Loss=0.00134, Epoch=8]\u001b[A\n",
            "Train:  41%|████      | 3760/9200 [28:26<40:14,  2.25it/s, Average Loss=0.00134, Epoch=8]\u001b[A\n",
            "Train:  41%|████      | 3760/9200 [28:26<40:14,  2.25it/s, Average Loss=0.0161, Epoch=8] \u001b[A\n",
            "Train:  41%|████      | 3770/9200 [28:30<39:33,  2.29it/s, Average Loss=0.0161, Epoch=8]\u001b[A\n",
            "Train:  41%|████      | 3770/9200 [28:30<39:33,  2.29it/s, Average Loss=0.0189, Epoch=8]\u001b[A\n",
            "Train:  41%|████      | 3780/9200 [28:34<39:07,  2.31it/s, Average Loss=0.0189, Epoch=8]\u001b[A\n",
            "Train:  41%|████      | 3780/9200 [28:34<39:07,  2.31it/s, Average Loss=0.00531, Epoch=8]\u001b[A\n",
            "Train:  41%|████      | 3790/9200 [28:38<38:39,  2.33it/s, Average Loss=0.00531, Epoch=8]\u001b[A\n",
            "Train:  41%|████      | 3790/9200 [28:38<38:39,  2.33it/s, Average Loss=0.0349, Epoch=8] \u001b[A\n",
            "Train:  41%|████▏     | 3800/9200 [28:42<38:21,  2.35it/s, Average Loss=0.0349, Epoch=8]\u001b[A\n",
            "Train:  41%|████▏     | 3800/9200 [28:43<38:21,  2.35it/s, Average Loss=0.0375, Epoch=8]\u001b[A\n",
            "Train:  41%|████▏     | 3810/9200 [28:47<38:15,  2.35it/s, Average Loss=0.0375, Epoch=8]\u001b[A\n",
            "Train:  41%|████▏     | 3810/9200 [28:47<38:15,  2.35it/s, Average Loss=0.0214, Epoch=8]\u001b[A\n",
            "Train:  42%|████▏     | 3820/9200 [28:51<38:03,  2.36it/s, Average Loss=0.0214, Epoch=8]\u001b[A\n",
            "Train:  42%|████▏     | 3820/9200 [28:51<38:03,  2.36it/s, Average Loss=0.00361, Epoch=8]\u001b[A\n",
            "Train:  42%|████▏     | 3830/9200 [28:55<37:51,  2.36it/s, Average Loss=0.00361, Epoch=8]\u001b[A\n",
            "Train:  42%|████▏     | 3830/9200 [28:55<37:51,  2.36it/s, Average Loss=0.0192, Epoch=8] \u001b[A\n",
            "Train:  42%|████▏     | 3840/9200 [28:59<37:43,  2.37it/s, Average Loss=0.0192, Epoch=8]\u001b[A\n",
            "Train:  42%|████▏     | 3840/9200 [28:59<37:43,  2.37it/s, Average Loss=0.000863, Epoch=8]\u001b[A\n",
            "Train:  42%|████▏     | 3850/9200 [29:04<37:42,  2.36it/s, Average Loss=0.000863, Epoch=8]\u001b[A\n",
            "Train:  42%|████▏     | 3850/9200 [29:04<37:42,  2.36it/s, Average Loss=0.00852, Epoch=8] \u001b[A\n",
            "Train:  42%|████▏     | 3860/9200 [29:08<37:31,  2.37it/s, Average Loss=0.00852, Epoch=8]\u001b[A\n",
            "Train:  42%|████▏     | 3860/9200 [29:08<37:31,  2.37it/s, Average Loss=0.000134, Epoch=8]\u001b[A\n",
            "Train:  42%|████▏     | 3870/9200 [29:12<37:23,  2.38it/s, Average Loss=0.000134, Epoch=8]\u001b[A\n",
            "Train:  42%|████▏     | 3870/9200 [29:12<37:23,  2.38it/s, Average Loss=0.000784, Epoch=8]\u001b[A\n",
            "Train:  42%|████▏     | 3880/9200 [29:16<37:24,  2.37it/s, Average Loss=0.000784, Epoch=8]\u001b[A\n",
            "Train:  42%|████▏     | 3880/9200 [29:16<37:24,  2.37it/s, Average Loss=0.0365, Epoch=8]  \u001b[A\n",
            "Train:  42%|████▏     | 3890/9200 [29:20<37:22,  2.37it/s, Average Loss=0.0365, Epoch=8]\u001b[A\n",
            "Train:  42%|████▏     | 3890/9200 [29:20<37:22,  2.37it/s, Average Loss=0.000972, Epoch=8]\u001b[A\n",
            "Train:  42%|████▏     | 3900/9200 [29:25<37:12,  2.37it/s, Average Loss=0.000972, Epoch=8]\u001b[A\n",
            "Train:  42%|████▏     | 3900/9200 [29:25<37:12,  2.37it/s, Average Loss=0.000479, Epoch=8]\u001b[A\n",
            "Train:  42%|████▎     | 3910/9200 [29:29<37:06,  2.38it/s, Average Loss=0.000479, Epoch=8]\u001b[A\n",
            "Train:  42%|████▎     | 3910/9200 [29:29<37:06,  2.38it/s, Average Loss=0.00102, Epoch=8] \u001b[A\n",
            "Train:  43%|████▎     | 3920/9200 [29:33<37:09,  2.37it/s, Average Loss=0.00102, Epoch=8]\u001b[A\n",
            "Train:  43%|████▎     | 3920/9200 [29:33<37:09,  2.37it/s, Average Loss=0.0493, Epoch=8] \u001b[A\n",
            "Train:  43%|████▎     | 3930/9200 [29:37<37:01,  2.37it/s, Average Loss=0.0493, Epoch=8]\u001b[A\n",
            "Train:  43%|████▎     | 3930/9200 [29:37<37:01,  2.37it/s, Average Loss=0.0142, Epoch=8]\u001b[A\n",
            "Train:  43%|████▎     | 3940/9200 [29:41<36:52,  2.38it/s, Average Loss=0.0142, Epoch=8]\u001b[A\n",
            "Train:  43%|████▎     | 3940/9200 [29:41<36:52,  2.38it/s, Average Loss=0.00131, Epoch=8]\u001b[A\n",
            "Train:  43%|████▎     | 3950/9200 [29:46<36:50,  2.38it/s, Average Loss=0.00131, Epoch=8]\u001b[A\n",
            "Train:  43%|████▎     | 3950/9200 [29:46<36:50,  2.38it/s, Average Loss=0.00231, Epoch=8]\u001b[A\n",
            "Train:  43%|████▎     | 3960/9200 [29:50<36:47,  2.37it/s, Average Loss=0.00231, Epoch=8]\u001b[A\n",
            "Train:  43%|████▎     | 3960/9200 [29:50<36:47,  2.37it/s, Average Loss=0.0209, Epoch=8] \u001b[A\n",
            "Train:  43%|████▎     | 3970/9200 [29:54<36:41,  2.38it/s, Average Loss=0.0209, Epoch=8]\u001b[A\n",
            "Train:  43%|████▎     | 3970/9200 [29:54<36:41,  2.38it/s, Average Loss=0.00726, Epoch=8]\u001b[A\n",
            "Train:  43%|████▎     | 3980/9200 [29:58<36:34,  2.38it/s, Average Loss=0.00726, Epoch=8]\u001b[A\n",
            "Train:  43%|████▎     | 3980/9200 [29:58<36:34,  2.38it/s, Average Loss=0.0126, Epoch=8] \u001b[A\n",
            "Train:  43%|████▎     | 3990/9200 [30:03<36:38,  2.37it/s, Average Loss=0.0126, Epoch=8]\u001b[A\n",
            "Train:  43%|████▎     | 3990/9200 [30:03<36:38,  2.37it/s, Average Loss=0.014, Epoch=8] \u001b[A\n",
            "Train:  43%|████▎     | 4000/9200 [30:07<36:32,  2.37it/s, Average Loss=0.014, Epoch=8]\u001b[A\n",
            "Train:  43%|████▎     | 4000/9200 [30:07<36:32,  2.37it/s, Average Loss=0.000844, Epoch=8]\u001b[A\n",
            "Train:  44%|████▎     | 4010/9200 [30:11<36:23,  2.38it/s, Average Loss=0.000844, Epoch=8]\u001b[A\n",
            "Train:  44%|████▎     | 4010/9200 [30:11<36:23,  2.38it/s, Average Loss=0.00371, Epoch=8] \u001b[A\n",
            "Train:  44%|████▎     | 4020/9200 [30:15<36:19,  2.38it/s, Average Loss=0.00371, Epoch=8]\u001b[A\n",
            "Train:  44%|████▎     | 4020/9200 [30:15<36:19,  2.38it/s, Average Loss=0.00356, Epoch=8]\u001b[A\n",
            "Train:  44%|████▍     | 4030/9200 [30:19<36:17,  2.37it/s, Average Loss=0.00356, Epoch=8]\u001b[A\n",
            "Train:  44%|████▍     | 4030/9200 [30:19<36:17,  2.37it/s, Average Loss=0.0342, Epoch=8] \u001b[A\n",
            "Train:  44%|████▍     | 4040/9200 [30:24<36:11,  2.38it/s, Average Loss=0.0342, Epoch=8]\u001b[A\n",
            "Train:  44%|████▍     | 4040/9200 [30:24<36:11,  2.38it/s, Average Loss=9.98e-5, Epoch=8]\u001b[A\n",
            "Train:  44%|████▍     | 4050/9200 [30:28<36:04,  2.38it/s, Average Loss=9.98e-5, Epoch=8]\u001b[A\n",
            "Train:  44%|████▍     | 4050/9200 [30:28<36:04,  2.38it/s, Average Loss=0.015, Epoch=8]  \u001b[A\n",
            "Train:  44%|████▍     | 4060/9200 [30:32<36:07,  2.37it/s, Average Loss=0.015, Epoch=8]\u001b[A\n",
            "Train:  44%|████▍     | 4060/9200 [30:32<36:07,  2.37it/s, Average Loss=0.000367, Epoch=8]\u001b[A\n",
            "Train:  44%|████▍     | 4070/9200 [30:36<36:02,  2.37it/s, Average Loss=0.000367, Epoch=8]\u001b[A\n",
            "Train:  44%|████▍     | 4070/9200 [30:36<36:02,  2.37it/s, Average Loss=0.000657, Epoch=8]\u001b[A\n",
            "Train:  44%|████▍     | 4080/9200 [30:40<35:53,  2.38it/s, Average Loss=0.000657, Epoch=8]\u001b[A\n",
            "Train:  44%|████▍     | 4080/9200 [30:40<35:53,  2.38it/s, Average Loss=0.0103, Epoch=8]  \u001b[A\n",
            "Train:  44%|████▍     | 4090/9200 [30:45<35:49,  2.38it/s, Average Loss=0.0103, Epoch=8]\u001b[A\n",
            "Train:  44%|████▍     | 4090/9200 [30:45<35:49,  2.38it/s, Average Loss=0.000296, Epoch=8]\u001b[A\n",
            "Train:  45%|████▍     | 4100/9200 [30:49<35:51,  2.37it/s, Average Loss=0.000296, Epoch=8]\u001b[A\n",
            "Train:  45%|████▍     | 4100/9200 [30:49<35:51,  2.37it/s, Average Loss=0.000156, Epoch=8]\u001b[A\n",
            "Train:  45%|████▍     | 4110/9200 [30:53<35:43,  2.37it/s, Average Loss=0.000156, Epoch=8]\u001b[A\n",
            "Train:  45%|████▍     | 4110/9200 [30:53<35:43,  2.37it/s, Average Loss=0.0107, Epoch=8]  \u001b[A\n",
            "Train:  45%|████▍     | 4120/9200 [30:57<35:36,  2.38it/s, Average Loss=0.0107, Epoch=8]\u001b[A\n",
            "Train:  45%|████▍     | 4120/9200 [30:57<35:36,  2.38it/s, Average Loss=0.000205, Epoch=8]\u001b[A\n",
            "Train:  45%|████▍     | 4130/9200 [31:02<35:36,  2.37it/s, Average Loss=0.000205, Epoch=8]\u001b[A\n",
            "Train:  45%|████▍     | 4130/9200 [31:02<35:36,  2.37it/s, Average Loss=0.000162, Epoch=8]\u001b[A\n",
            "Train:  45%|████▌     | 4140/9200 [31:06<35:20,  2.39it/s, Average Loss=0.000162, Epoch=8]\u001b[A\n",
            "Train:  45%|████▌     | 4140/9200 [31:06<35:20,  2.39it/s, Average Loss=9.02e-5, Epoch=8] \u001b[A"
          ]
        },
        {
          "output_type": "stream",
          "name": "stdout",
          "text": [
            "Validation: [Epoch: 8, Macro F1: 0.6118803123595457, Validation Loss: 0.5532740780971687, Time per Epoch: 203.34804725646973]\n",
            "Begin Epoch 9\n"
          ]
        },
        {
          "output_type": "stream",
          "name": "stderr",
          "text": [
            "\n",
            "Train:  45%|████▌     | 4150/9200 [31:20<59:53,  1.41it/s, Average Loss=9.02e-5, Epoch=8]\u001b[A\n",
            "Train:  45%|████▌     | 4150/9200 [31:20<59:53,  1.41it/s, Average Loss=0.000124, Epoch=9]\u001b[A\n",
            "Train:  45%|████▌     | 4160/9200 [31:24<52:21,  1.60it/s, Average Loss=0.000124, Epoch=9]\u001b[A\n",
            "Train:  45%|████▌     | 4160/9200 [31:24<52:21,  1.60it/s, Average Loss=0.00065, Epoch=9] \u001b[A\n",
            "Train:  45%|████▌     | 4170/9200 [31:28<47:08,  1.78it/s, Average Loss=0.00065, Epoch=9]\u001b[A\n",
            "Train:  45%|████▌     | 4170/9200 [31:28<47:08,  1.78it/s, Average Loss=0.011, Epoch=9]  \u001b[A\n",
            "Train:  45%|████▌     | 4180/9200 [31:32<43:33,  1.92it/s, Average Loss=0.011, Epoch=9]\u001b[A\n",
            "Train:  45%|████▌     | 4180/9200 [31:32<43:33,  1.92it/s, Average Loss=0.000536, Epoch=9]\u001b[A\n",
            "Train:  46%|████▌     | 4190/9200 [31:36<40:57,  2.04it/s, Average Loss=0.000536, Epoch=9]\u001b[A\n",
            "Train:  46%|████▌     | 4190/9200 [31:36<40:57,  2.04it/s, Average Loss=0.000705, Epoch=9]\u001b[A\n",
            "Train:  46%|████▌     | 4200/9200 [31:41<39:03,  2.13it/s, Average Loss=0.000705, Epoch=9]\u001b[A\n",
            "Train:  46%|████▌     | 4200/9200 [31:41<39:03,  2.13it/s, Average Loss=7.05e-5, Epoch=9] \u001b[A\n",
            "Train:  46%|████▌     | 4210/9200 [31:45<37:47,  2.20it/s, Average Loss=7.05e-5, Epoch=9]\u001b[A\n",
            "Train:  46%|████▌     | 4210/9200 [31:45<37:47,  2.20it/s, Average Loss=4.24e-5, Epoch=9]\u001b[A\n",
            "Train:  46%|████▌     | 4220/9200 [31:49<36:56,  2.25it/s, Average Loss=4.24e-5, Epoch=9]\u001b[A\n",
            "Train:  46%|████▌     | 4220/9200 [31:49<36:56,  2.25it/s, Average Loss=0.00469, Epoch=9]\u001b[A\n",
            "Train:  46%|████▌     | 4230/9200 [31:53<36:10,  2.29it/s, Average Loss=0.00469, Epoch=9]\u001b[A\n",
            "Train:  46%|████▌     | 4230/9200 [31:53<36:10,  2.29it/s, Average Loss=0.000108, Epoch=9]\u001b[A\n",
            "Train:  46%|████▌     | 4240/9200 [31:57<35:38,  2.32it/s, Average Loss=0.000108, Epoch=9]\u001b[A\n",
            "Train:  46%|████▌     | 4240/9200 [31:57<35:38,  2.32it/s, Average Loss=0.0112, Epoch=9]  \u001b[A\n",
            "Train:  46%|████▌     | 4250/9200 [32:02<35:21,  2.33it/s, Average Loss=0.0112, Epoch=9]\u001b[A\n",
            "Train:  46%|████▌     | 4250/9200 [32:02<35:21,  2.33it/s, Average Loss=0.00889, Epoch=9]\u001b[A\n",
            "Train:  46%|████▋     | 4260/9200 [32:06<35:05,  2.35it/s, Average Loss=0.00889, Epoch=9]\u001b[A\n",
            "Train:  46%|████▋     | 4260/9200 [32:06<35:05,  2.35it/s, Average Loss=0.0183, Epoch=9] \u001b[A\n",
            "Train:  46%|████▋     | 4270/9200 [32:10<34:49,  2.36it/s, Average Loss=0.0183, Epoch=9]\u001b[A\n",
            "Train:  46%|████▋     | 4270/9200 [32:10<34:49,  2.36it/s, Average Loss=0.000272, Epoch=9]\u001b[A\n",
            "Train:  47%|████▋     | 4280/9200 [32:14<34:40,  2.36it/s, Average Loss=0.000272, Epoch=9]\u001b[A\n",
            "Train:  47%|████▋     | 4280/9200 [32:14<34:40,  2.36it/s, Average Loss=8.84e-5, Epoch=9] \u001b[A\n",
            "Train:  47%|████▋     | 4290/9200 [32:18<34:37,  2.36it/s, Average Loss=8.84e-5, Epoch=9]\u001b[A\n",
            "Train:  47%|████▋     | 4290/9200 [32:18<34:37,  2.36it/s, Average Loss=8.13e-5, Epoch=9]\u001b[A\n",
            "Train:  47%|████▋     | 4300/9200 [32:23<34:25,  2.37it/s, Average Loss=8.13e-5, Epoch=9]\u001b[A\n",
            "Train:  47%|████▋     | 4300/9200 [32:23<34:25,  2.37it/s, Average Loss=3.63e-5, Epoch=9]\u001b[A\n",
            "Train:  47%|████▋     | 4310/9200 [32:27<34:16,  2.38it/s, Average Loss=3.63e-5, Epoch=9]\u001b[A\n",
            "Train:  47%|████▋     | 4310/9200 [32:27<34:16,  2.38it/s, Average Loss=0.0068, Epoch=9] \u001b[A\n",
            "Train:  47%|████▋     | 4320/9200 [32:31<34:15,  2.37it/s, Average Loss=0.0068, Epoch=9]\u001b[A\n",
            "Train:  47%|████▋     | 4320/9200 [32:31<34:15,  2.37it/s, Average Loss=0.00025, Epoch=9]\u001b[A\n",
            "Train:  47%|████▋     | 4330/9200 [32:35<34:10,  2.37it/s, Average Loss=0.00025, Epoch=9]\u001b[A\n",
            "Train:  47%|████▋     | 4330/9200 [32:35<34:10,  2.37it/s, Average Loss=3.06e-5, Epoch=9]\u001b[A\n",
            "Train:  47%|████▋     | 4340/9200 [32:39<34:03,  2.38it/s, Average Loss=3.06e-5, Epoch=9]\u001b[A\n",
            "Train:  47%|████▋     | 4340/9200 [32:39<34:03,  2.38it/s, Average Loss=0.000128, Epoch=9]\u001b[A\n",
            "Train:  47%|████▋     | 4350/9200 [32:44<33:56,  2.38it/s, Average Loss=0.000128, Epoch=9]\u001b[A\n",
            "Train:  47%|████▋     | 4350/9200 [32:44<33:56,  2.38it/s, Average Loss=3.16e-5, Epoch=9] \u001b[A\n",
            "Train:  47%|████▋     | 4360/9200 [32:48<33:59,  2.37it/s, Average Loss=3.16e-5, Epoch=9]\u001b[A\n",
            "Train:  47%|████▋     | 4360/9200 [32:48<33:59,  2.37it/s, Average Loss=3.8e-5, Epoch=9] \u001b[A\n",
            "Train:  48%|████▊     | 4370/9200 [32:52<33:51,  2.38it/s, Average Loss=3.8e-5, Epoch=9]\u001b[A\n",
            "Train:  48%|████▊     | 4370/9200 [32:52<33:51,  2.38it/s, Average Loss=4.01e-5, Epoch=9]\u001b[A\n",
            "Train:  48%|████▊     | 4380/9200 [32:56<33:44,  2.38it/s, Average Loss=4.01e-5, Epoch=9]\u001b[A\n",
            "Train:  48%|████▊     | 4380/9200 [32:56<33:44,  2.38it/s, Average Loss=0.00253, Epoch=9]\u001b[A\n",
            "Train:  48%|████▊     | 4390/9200 [33:00<33:40,  2.38it/s, Average Loss=0.00253, Epoch=9]\u001b[A\n",
            "Train:  48%|████▊     | 4390/9200 [33:00<33:40,  2.38it/s, Average Loss=0.000437, Epoch=9]\u001b[A\n",
            "Train:  48%|████▊     | 4400/9200 [33:05<33:37,  2.38it/s, Average Loss=0.000437, Epoch=9]\u001b[A\n",
            "Train:  48%|████▊     | 4400/9200 [33:05<33:37,  2.38it/s, Average Loss=0.0045, Epoch=9]  \u001b[A\n",
            "Train:  48%|████▊     | 4410/9200 [33:09<33:28,  2.39it/s, Average Loss=0.0045, Epoch=9]\u001b[A\n",
            "Train:  48%|████▊     | 4410/9200 [33:09<33:28,  2.39it/s, Average Loss=0.00486, Epoch=9]\u001b[A\n",
            "Train:  48%|████▊     | 4420/9200 [33:13<33:23,  2.39it/s, Average Loss=0.00486, Epoch=9]\u001b[A\n",
            "Train:  48%|████▊     | 4420/9200 [33:13<33:23,  2.39it/s, Average Loss=5.32e-5, Epoch=9]\u001b[A\n",
            "Train:  48%|████▊     | 4430/9200 [33:17<33:27,  2.38it/s, Average Loss=5.32e-5, Epoch=9]\u001b[A\n",
            "Train:  48%|████▊     | 4430/9200 [33:17<33:27,  2.38it/s, Average Loss=0.000165, Epoch=9]\u001b[A\n",
            "Train:  48%|████▊     | 4440/9200 [33:21<33:22,  2.38it/s, Average Loss=0.000165, Epoch=9]\u001b[A\n",
            "Train:  48%|████▊     | 4440/9200 [33:21<33:22,  2.38it/s, Average Loss=2.31e-5, Epoch=9] \u001b[A\n",
            "Train:  48%|████▊     | 4450/9200 [33:26<33:14,  2.38it/s, Average Loss=2.31e-5, Epoch=9]\u001b[A\n",
            "Train:  48%|████▊     | 4450/9200 [33:26<33:14,  2.38it/s, Average Loss=0.000288, Epoch=9]\u001b[A\n",
            "Train:  48%|████▊     | 4460/9200 [33:30<33:10,  2.38it/s, Average Loss=0.000288, Epoch=9]\u001b[A\n",
            "Train:  48%|████▊     | 4460/9200 [33:30<33:10,  2.38it/s, Average Loss=3.56e-5, Epoch=9] \u001b[A\n",
            "Train:  49%|████▊     | 4470/9200 [33:34<33:09,  2.38it/s, Average Loss=3.56e-5, Epoch=9]\u001b[A\n",
            "Train:  49%|████▊     | 4470/9200 [33:34<33:09,  2.38it/s, Average Loss=1.81e-5, Epoch=9]\u001b[A\n",
            "Train:  49%|████▊     | 4480/9200 [33:38<33:01,  2.38it/s, Average Loss=1.81e-5, Epoch=9]\u001b[A\n",
            "Train:  49%|████▊     | 4480/9200 [33:38<33:01,  2.38it/s, Average Loss=1.88e-5, Epoch=9]\u001b[A\n",
            "Train:  49%|████▉     | 4490/9200 [33:42<32:56,  2.38it/s, Average Loss=1.88e-5, Epoch=9]\u001b[A\n",
            "Train:  49%|████▉     | 4490/9200 [33:42<32:56,  2.38it/s, Average Loss=2.71e-5, Epoch=9]\u001b[A\n",
            "Train:  49%|████▉     | 4500/9200 [33:47<32:57,  2.38it/s, Average Loss=2.71e-5, Epoch=9]\u001b[A\n",
            "Train:  49%|████▉     | 4500/9200 [33:47<32:57,  2.38it/s, Average Loss=0.00518, Epoch=9]\u001b[A\n",
            "Train:  49%|████▉     | 4510/9200 [33:51<32:51,  2.38it/s, Average Loss=0.00518, Epoch=9]\u001b[A\n",
            "Train:  49%|████▉     | 4510/9200 [33:51<32:51,  2.38it/s, Average Loss=0.00242, Epoch=9]\u001b[A\n",
            "Train:  49%|████▉     | 4520/9200 [33:55<32:45,  2.38it/s, Average Loss=0.00242, Epoch=9]\u001b[A\n",
            "Train:  49%|████▉     | 4520/9200 [33:55<32:45,  2.38it/s, Average Loss=5.87e-5, Epoch=9]\u001b[A\n",
            "Train:  49%|████▉     | 4530/9200 [33:59<32:42,  2.38it/s, Average Loss=5.87e-5, Epoch=9]\u001b[A\n",
            "Train:  49%|████▉     | 4530/9200 [33:59<32:42,  2.38it/s, Average Loss=0.00356, Epoch=9]\u001b[A\n",
            "Train:  49%|████▉     | 4540/9200 [34:03<32:41,  2.38it/s, Average Loss=0.00356, Epoch=9]\u001b[A\n",
            "Train:  49%|████▉     | 4540/9200 [34:03<32:41,  2.38it/s, Average Loss=2.83e-5, Epoch=9]\u001b[A\n",
            "Train:  49%|████▉     | 4550/9200 [34:08<32:35,  2.38it/s, Average Loss=2.83e-5, Epoch=9]\u001b[A\n",
            "Train:  49%|████▉     | 4550/9200 [34:08<32:35,  2.38it/s, Average Loss=0.0255, Epoch=9] \u001b[A\n",
            "Train:  50%|████▉     | 4560/9200 [34:12<32:28,  2.38it/s, Average Loss=0.0255, Epoch=9]\u001b[A\n",
            "Train:  50%|████▉     | 4560/9200 [34:12<32:28,  2.38it/s, Average Loss=9.72e-5, Epoch=9]\u001b[A\n",
            "Train:  50%|████▉     | 4570/9200 [34:16<32:29,  2.38it/s, Average Loss=9.72e-5, Epoch=9]\u001b[A\n",
            "Train:  50%|████▉     | 4570/9200 [34:16<32:29,  2.38it/s, Average Loss=0.000798, Epoch=9]\u001b[A\n",
            "Train:  50%|████▉     | 4580/9200 [34:20<32:26,  2.37it/s, Average Loss=0.000798, Epoch=9]\u001b[A\n",
            "Train:  50%|████▉     | 4580/9200 [34:20<32:26,  2.37it/s, Average Loss=2.31e-5, Epoch=9] \u001b[A\n",
            "Train:  50%|████▉     | 4590/9200 [34:24<32:17,  2.38it/s, Average Loss=2.31e-5, Epoch=9]\u001b[A\n",
            "Train:  50%|████▉     | 4590/9200 [34:24<32:17,  2.38it/s, Average Loss=0.00511, Epoch=9]\u001b[A\n",
            "Train:  50%|█████     | 4600/9200 [34:29<32:04,  2.39it/s, Average Loss=0.00511, Epoch=9]\u001b[A\n",
            "Train:  50%|█████     | 4600/9200 [34:29<32:04,  2.39it/s, Average Loss=2.44e-5, Epoch=9]\u001b[A"
          ]
        },
        {
          "output_type": "stream",
          "name": "stdout",
          "text": [
            "Validation: [Epoch: 9, Macro F1: 0.6185641961110891, Validation Loss: 0.6698396470805333, Time per Epoch: 202.7252733707428]\n",
            "Begin Epoch 10\n"
          ]
        },
        {
          "output_type": "stream",
          "name": "stderr",
          "text": [
            "\n",
            "Train:  50%|█████     | 4610/9200 [34:42<53:41,  1.42it/s, Average Loss=2.44e-5, Epoch=9]\u001b[A\n",
            "Train:  50%|█████     | 4610/9200 [34:42<53:41,  1.42it/s, Average Loss=3.82e-5, Epoch=10]\u001b[A\n",
            "Train:  50%|█████     | 4620/9200 [34:46<47:13,  1.62it/s, Average Loss=3.82e-5, Epoch=10]\u001b[A\n",
            "Train:  50%|█████     | 4620/9200 [34:47<47:13,  1.62it/s, Average Loss=4.68e-5, Epoch=10]\u001b[A\n",
            "Train:  50%|█████     | 4630/9200 [34:51<42:36,  1.79it/s, Average Loss=4.68e-5, Epoch=10]\u001b[A\n",
            "Train:  50%|█████     | 4630/9200 [34:51<42:36,  1.79it/s, Average Loss=0.0149, Epoch=10] \u001b[A\n",
            "Train:  50%|█████     | 4640/9200 [34:55<39:18,  1.93it/s, Average Loss=0.0149, Epoch=10]\u001b[A\n",
            "Train:  50%|█████     | 4640/9200 [34:55<39:18,  1.93it/s, Average Loss=0.0195, Epoch=10]\u001b[A\n",
            "Train:  51%|█████     | 4650/9200 [34:59<37:01,  2.05it/s, Average Loss=0.0195, Epoch=10]\u001b[A\n",
            "Train:  51%|█████     | 4650/9200 [34:59<37:01,  2.05it/s, Average Loss=0.00248, Epoch=10]\u001b[A\n",
            "Train:  51%|█████     | 4660/9200 [35:03<35:31,  2.13it/s, Average Loss=0.00248, Epoch=10]\u001b[A\n",
            "Train:  51%|█████     | 4660/9200 [35:03<35:31,  2.13it/s, Average Loss=0.00293, Epoch=10]\u001b[A\n",
            "Train:  51%|█████     | 4670/9200 [35:08<34:19,  2.20it/s, Average Loss=0.00293, Epoch=10]\u001b[A\n",
            "Train:  51%|█████     | 4670/9200 [35:08<34:19,  2.20it/s, Average Loss=0.0236, Epoch=10] \u001b[A\n",
            "Train:  51%|█████     | 4680/9200 [35:12<33:26,  2.25it/s, Average Loss=0.0236, Epoch=10]\u001b[A\n",
            "Train:  51%|█████     | 4680/9200 [35:12<33:26,  2.25it/s, Average Loss=0.00172, Epoch=10]\u001b[A\n",
            "Train:  51%|█████     | 4690/9200 [35:16<32:54,  2.28it/s, Average Loss=0.00172, Epoch=10]\u001b[A\n",
            "Train:  51%|█████     | 4690/9200 [35:16<32:54,  2.28it/s, Average Loss=2.12e-5, Epoch=10]\u001b[A\n",
            "Train:  51%|█████     | 4700/9200 [35:20<32:28,  2.31it/s, Average Loss=2.12e-5, Epoch=10]\u001b[A\n",
            "Train:  51%|█████     | 4700/9200 [35:20<32:28,  2.31it/s, Average Loss=0.0186, Epoch=10] \u001b[A\n",
            "Train:  51%|█████     | 4710/9200 [35:24<32:06,  2.33it/s, Average Loss=0.0186, Epoch=10]\u001b[A\n",
            "Train:  51%|█████     | 4710/9200 [35:24<32:06,  2.33it/s, Average Loss=1.63e-5, Epoch=10]\u001b[A\n",
            "Train:  51%|█████▏    | 4720/9200 [35:29<31:50,  2.35it/s, Average Loss=1.63e-5, Epoch=10]\u001b[A\n",
            "Train:  51%|█████▏    | 4720/9200 [35:29<31:50,  2.35it/s, Average Loss=4.08e-5, Epoch=10]\u001b[A\n",
            "Train:  51%|█████▏    | 4730/9200 [35:33<31:44,  2.35it/s, Average Loss=4.08e-5, Epoch=10]\u001b[A\n",
            "Train:  51%|█████▏    | 4730/9200 [35:33<31:44,  2.35it/s, Average Loss=1.69e-5, Epoch=10]\u001b[A\n",
            "Train:  52%|█████▏    | 4740/9200 [35:37<31:31,  2.36it/s, Average Loss=1.69e-5, Epoch=10]\u001b[A\n",
            "Train:  52%|█████▏    | 4740/9200 [35:37<31:31,  2.36it/s, Average Loss=1.63e-5, Epoch=10]\u001b[A\n",
            "Train:  52%|█████▏    | 4750/9200 [35:41<31:20,  2.37it/s, Average Loss=1.63e-5, Epoch=10]\u001b[A\n",
            "Train:  52%|█████▏    | 4750/9200 [35:41<31:20,  2.37it/s, Average Loss=0.00488, Epoch=10]\u001b[A\n",
            "Train:  52%|█████▏    | 4760/9200 [35:45<31:16,  2.37it/s, Average Loss=0.00488, Epoch=10]\u001b[A\n",
            "Train:  52%|█████▏    | 4760/9200 [35:45<31:16,  2.37it/s, Average Loss=0.000204, Epoch=10]\u001b[A\n",
            "Train:  52%|█████▏    | 4770/9200 [35:50<31:11,  2.37it/s, Average Loss=0.000204, Epoch=10]\u001b[A\n",
            "Train:  52%|█████▏    | 4770/9200 [35:50<31:11,  2.37it/s, Average Loss=2.23e-5, Epoch=10] \u001b[A\n",
            "Train:  52%|█████▏    | 4780/9200 [35:54<31:04,  2.37it/s, Average Loss=2.23e-5, Epoch=10]\u001b[A\n",
            "Train:  52%|█████▏    | 4780/9200 [35:54<31:04,  2.37it/s, Average Loss=1.41e-5, Epoch=10]\u001b[A\n",
            "Train:  52%|█████▏    | 4790/9200 [35:58<30:57,  2.37it/s, Average Loss=1.41e-5, Epoch=10]\u001b[A\n",
            "Train:  52%|█████▏    | 4790/9200 [35:58<30:57,  2.37it/s, Average Loss=1.67e-5, Epoch=10]\u001b[A\n",
            "Train:  52%|█████▏    | 4800/9200 [36:02<30:59,  2.37it/s, Average Loss=1.67e-5, Epoch=10]\u001b[A\n",
            "Train:  52%|█████▏    | 4800/9200 [36:02<30:59,  2.37it/s, Average Loss=1.22e-5, Epoch=10]\u001b[A\n",
            "Train:  52%|█████▏    | 4810/9200 [36:07<30:52,  2.37it/s, Average Loss=1.22e-5, Epoch=10]\u001b[A\n",
            "Train:  52%|█████▏    | 4810/9200 [36:07<30:52,  2.37it/s, Average Loss=0.00112, Epoch=10]\u001b[A\n",
            "Train:  52%|█████▏    | 4820/9200 [36:11<30:42,  2.38it/s, Average Loss=0.00112, Epoch=10]\u001b[A\n",
            "Train:  52%|█████▏    | 4820/9200 [36:11<30:42,  2.38it/s, Average Loss=0.0024, Epoch=10] \u001b[A\n",
            "Train:  52%|█████▎    | 4830/9200 [36:15<30:40,  2.37it/s, Average Loss=0.0024, Epoch=10]\u001b[A\n",
            "Train:  52%|█████▎    | 4830/9200 [36:15<30:40,  2.37it/s, Average Loss=0.00945, Epoch=10]\u001b[A\n",
            "Train:  53%|█████▎    | 4840/9200 [36:19<30:39,  2.37it/s, Average Loss=0.00945, Epoch=10]\u001b[A\n",
            "Train:  53%|█████▎    | 4840/9200 [36:19<30:39,  2.37it/s, Average Loss=1.56e-5, Epoch=10]\u001b[A\n",
            "Train:  53%|█████▎    | 4850/9200 [36:23<30:31,  2.37it/s, Average Loss=1.56e-5, Epoch=10]\u001b[A\n",
            "Train:  53%|█████▎    | 4850/9200 [36:23<30:31,  2.37it/s, Average Loss=1.95e-5, Epoch=10]\u001b[A\n",
            "Train:  53%|█████▎    | 4860/9200 [36:28<30:24,  2.38it/s, Average Loss=1.95e-5, Epoch=10]\u001b[A\n",
            "Train:  53%|█████▎    | 4860/9200 [36:28<30:24,  2.38it/s, Average Loss=2.91e-5, Epoch=10]\u001b[A\n",
            "Train:  53%|█████▎    | 4870/9200 [36:32<30:23,  2.37it/s, Average Loss=2.91e-5, Epoch=10]\u001b[A\n",
            "Train:  53%|█████▎    | 4870/9200 [36:32<30:23,  2.37it/s, Average Loss=0.00117, Epoch=10]\u001b[A\n",
            "Train:  53%|█████▎    | 4880/9200 [36:36<30:17,  2.38it/s, Average Loss=0.00117, Epoch=10]\u001b[A\n",
            "Train:  53%|█████▎    | 4880/9200 [36:36<30:17,  2.38it/s, Average Loss=3.5e-5, Epoch=10] \u001b[A\n",
            "Train:  53%|█████▎    | 4890/9200 [36:40<30:09,  2.38it/s, Average Loss=3.5e-5, Epoch=10]\u001b[A\n",
            "Train:  53%|█████▎    | 4890/9200 [36:40<30:09,  2.38it/s, Average Loss=0.00872, Epoch=10]\u001b[A\n",
            "Train:  53%|█████▎    | 4900/9200 [36:44<30:08,  2.38it/s, Average Loss=0.00872, Epoch=10]\u001b[A\n",
            "Train:  53%|█████▎    | 4900/9200 [36:44<30:08,  2.38it/s, Average Loss=0.0156, Epoch=10] \u001b[A\n",
            "Train:  53%|█████▎    | 4910/9200 [36:49<30:06,  2.38it/s, Average Loss=0.0156, Epoch=10]\u001b[A\n",
            "Train:  53%|█████▎    | 4910/9200 [36:49<30:06,  2.38it/s, Average Loss=0.000769, Epoch=10]\u001b[A\n",
            "Train:  53%|█████▎    | 4920/9200 [36:53<29:58,  2.38it/s, Average Loss=0.000769, Epoch=10]\u001b[A\n",
            "Train:  53%|█████▎    | 4920/9200 [36:53<29:58,  2.38it/s, Average Loss=0.00106, Epoch=10] \u001b[A\n",
            "Train:  54%|█████▎    | 4930/9200 [36:57<29:52,  2.38it/s, Average Loss=0.00106, Epoch=10]\u001b[A\n",
            "Train:  54%|█████▎    | 4930/9200 [36:57<29:52,  2.38it/s, Average Loss=0.0205, Epoch=10] \u001b[A\n",
            "Train:  54%|█████▎    | 4940/9200 [37:01<29:51,  2.38it/s, Average Loss=0.0205, Epoch=10]\u001b[A\n",
            "Train:  54%|█████▎    | 4940/9200 [37:01<29:51,  2.38it/s, Average Loss=2.4e-5, Epoch=10]\u001b[A\n",
            "Train:  54%|█████▍    | 4950/9200 [37:05<29:47,  2.38it/s, Average Loss=2.4e-5, Epoch=10]\u001b[A\n",
            "Train:  54%|█████▍    | 4950/9200 [37:05<29:47,  2.38it/s, Average Loss=2.77e-5, Epoch=10]\u001b[A\n",
            "Train:  54%|█████▍    | 4960/9200 [37:10<29:39,  2.38it/s, Average Loss=2.77e-5, Epoch=10]\u001b[A\n",
            "Train:  54%|█████▍    | 4960/9200 [37:10<29:39,  2.38it/s, Average Loss=9.99e-5, Epoch=10]\u001b[A\n",
            "Train:  54%|█████▍    | 4970/9200 [37:14<29:35,  2.38it/s, Average Loss=9.99e-5, Epoch=10]\u001b[A\n",
            "Train:  54%|█████▍    | 4970/9200 [37:14<29:35,  2.38it/s, Average Loss=5.66e-5, Epoch=10]\u001b[A\n",
            "Train:  54%|█████▍    | 4980/9200 [37:18<29:36,  2.38it/s, Average Loss=5.66e-5, Epoch=10]\u001b[A\n",
            "Train:  54%|█████▍    | 4980/9200 [37:18<29:36,  2.38it/s, Average Loss=0.000223, Epoch=10]\u001b[A\n",
            "Train:  54%|█████▍    | 4990/9200 [37:22<29:29,  2.38it/s, Average Loss=0.000223, Epoch=10]\u001b[A\n",
            "Train:  54%|█████▍    | 4990/9200 [37:22<29:29,  2.38it/s, Average Loss=0.00028, Epoch=10] \u001b[A\n",
            "Train:  54%|█████▍    | 5000/9200 [37:26<29:22,  2.38it/s, Average Loss=0.00028, Epoch=10]\u001b[A\n",
            "Train:  54%|█████▍    | 5000/9200 [37:26<29:22,  2.38it/s, Average Loss=9.19e-5, Epoch=10]\u001b[A\n",
            "Train:  54%|█████▍    | 5010/9200 [37:31<29:22,  2.38it/s, Average Loss=9.19e-5, Epoch=10]\u001b[A\n",
            "Train:  54%|█████▍    | 5010/9200 [37:31<29:22,  2.38it/s, Average Loss=4.65e-5, Epoch=10]\u001b[A\n",
            "Train:  55%|█████▍    | 5020/9200 [37:35<29:20,  2.37it/s, Average Loss=4.65e-5, Epoch=10]\u001b[A\n",
            "Train:  55%|█████▍    | 5020/9200 [37:35<29:20,  2.37it/s, Average Loss=0.00665, Epoch=10]\u001b[A\n",
            "Train:  55%|█████▍    | 5030/9200 [37:39<29:12,  2.38it/s, Average Loss=0.00665, Epoch=10]\u001b[A\n",
            "Train:  55%|█████▍    | 5030/9200 [37:39<29:12,  2.38it/s, Average Loss=0.033, Epoch=10]  \u001b[A\n",
            "Train:  55%|█████▍    | 5040/9200 [37:43<29:08,  2.38it/s, Average Loss=0.033, Epoch=10]\u001b[A\n",
            "Train:  55%|█████▍    | 5040/9200 [37:43<29:08,  2.38it/s, Average Loss=0.0359, Epoch=10]\u001b[A\n",
            "Train:  55%|█████▍    | 5050/9200 [37:47<29:10,  2.37it/s, Average Loss=0.0359, Epoch=10]\u001b[A\n",
            "Train:  55%|█████▍    | 5050/9200 [37:48<29:10,  2.37it/s, Average Loss=6.07e-5, Epoch=10]\u001b[A\n",
            "Train:  55%|█████▌    | 5060/9200 [37:52<28:56,  2.38it/s, Average Loss=6.07e-5, Epoch=10]\u001b[A\n",
            "Train:  55%|█████▌    | 5060/9200 [37:52<28:56,  2.38it/s, Average Loss=0.0391, Epoch=10] \u001b[A"
          ]
        },
        {
          "output_type": "stream",
          "name": "stdout",
          "text": [
            "Validation: [Epoch: 10, Macro F1: 0.625240941227094, Validation Loss: 0.6355267750142619, Time per Epoch: 203.33682990074158]\n",
            "Begin Epoch 11\n"
          ]
        },
        {
          "output_type": "stream",
          "name": "stderr",
          "text": [
            "\n",
            "Train:  55%|█████▌    | 5070/9200 [38:06<49:03,  1.40it/s, Average Loss=0.0391, Epoch=10]\u001b[A\n",
            "Train:  55%|█████▌    | 5070/9200 [38:06<49:03,  1.40it/s, Average Loss=0.000306, Epoch=11]\u001b[A\n",
            "Train:  55%|█████▌    | 5080/9200 [38:10<42:51,  1.60it/s, Average Loss=0.000306, Epoch=11]\u001b[A\n",
            "Train:  55%|█████▌    | 5080/9200 [38:10<42:51,  1.60it/s, Average Loss=0.00269, Epoch=11] \u001b[A\n",
            "Train:  55%|█████▌    | 5090/9200 [38:14<38:33,  1.78it/s, Average Loss=0.00269, Epoch=11]\u001b[A\n",
            "Train:  55%|█████▌    | 5090/9200 [38:14<38:33,  1.78it/s, Average Loss=0.000392, Epoch=11]\u001b[A\n",
            "Train:  55%|█████▌    | 5100/9200 [38:18<35:37,  1.92it/s, Average Loss=0.000392, Epoch=11]\u001b[A\n",
            "Train:  55%|█████▌    | 5100/9200 [38:18<35:37,  1.92it/s, Average Loss=3.46e-5, Epoch=11] \u001b[A\n",
            "Train:  56%|█████▌    | 5110/9200 [38:22<33:26,  2.04it/s, Average Loss=3.46e-5, Epoch=11]\u001b[A\n",
            "Train:  56%|█████▌    | 5110/9200 [38:22<33:26,  2.04it/s, Average Loss=0.00022, Epoch=11]\u001b[A\n",
            "Train:  56%|█████▌    | 5120/9200 [38:27<31:54,  2.13it/s, Average Loss=0.00022, Epoch=11]\u001b[A\n",
            "Train:  56%|█████▌    | 5120/9200 [38:27<31:54,  2.13it/s, Average Loss=7.24e-5, Epoch=11]\u001b[A\n",
            "Train:  56%|█████▌    | 5130/9200 [38:31<30:52,  2.20it/s, Average Loss=7.24e-5, Epoch=11]\u001b[A\n",
            "Train:  56%|█████▌    | 5130/9200 [38:31<30:52,  2.20it/s, Average Loss=0.014, Epoch=11]  \u001b[A\n",
            "Train:  56%|█████▌    | 5140/9200 [38:35<30:06,  2.25it/s, Average Loss=0.014, Epoch=11]\u001b[A\n",
            "Train:  56%|█████▌    | 5140/9200 [38:35<30:06,  2.25it/s, Average Loss=4.51e-5, Epoch=11]\u001b[A\n",
            "Train:  56%|█████▌    | 5150/9200 [38:39<29:31,  2.29it/s, Average Loss=4.51e-5, Epoch=11]\u001b[A\n",
            "Train:  56%|█████▌    | 5150/9200 [38:39<29:31,  2.29it/s, Average Loss=4.53e-5, Epoch=11]\u001b[A\n",
            "Train:  56%|█████▌    | 5160/9200 [38:43<29:07,  2.31it/s, Average Loss=4.53e-5, Epoch=11]\u001b[A\n",
            "Train:  56%|█████▌    | 5160/9200 [38:43<29:07,  2.31it/s, Average Loss=6.35e-5, Epoch=11]\u001b[A\n",
            "Train:  56%|█████▌    | 5170/9200 [38:48<28:53,  2.32it/s, Average Loss=6.35e-5, Epoch=11]\u001b[A\n",
            "Train:  56%|█████▌    | 5170/9200 [38:48<28:53,  2.32it/s, Average Loss=6.05e-5, Epoch=11]\u001b[A\n",
            "Train:  56%|█████▋    | 5180/9200 [38:52<28:36,  2.34it/s, Average Loss=6.05e-5, Epoch=11]\u001b[A\n",
            "Train:  56%|█████▋    | 5180/9200 [38:52<28:36,  2.34it/s, Average Loss=3.59e-5, Epoch=11]\u001b[A\n",
            "Train:  56%|█████▋    | 5190/9200 [38:56<28:22,  2.36it/s, Average Loss=3.59e-5, Epoch=11]\u001b[A\n",
            "Train:  56%|█████▋    | 5190/9200 [38:56<28:22,  2.36it/s, Average Loss=5.13e-5, Epoch=11]\u001b[A\n",
            "Train:  57%|█████▋    | 5200/9200 [39:00<28:16,  2.36it/s, Average Loss=5.13e-5, Epoch=11]\u001b[A\n",
            "Train:  57%|█████▋    | 5200/9200 [39:00<28:16,  2.36it/s, Average Loss=0.00131, Epoch=11]\u001b[A\n",
            "Train:  57%|█████▋    | 5210/9200 [39:05<28:10,  2.36it/s, Average Loss=0.00131, Epoch=11]\u001b[A\n",
            "Train:  57%|█████▋    | 5210/9200 [39:05<28:10,  2.36it/s, Average Loss=0.0193, Epoch=11] \u001b[A\n",
            "Train:  57%|█████▋    | 5220/9200 [39:09<28:00,  2.37it/s, Average Loss=0.0193, Epoch=11]\u001b[A\n",
            "Train:  57%|█████▋    | 5220/9200 [39:09<28:00,  2.37it/s, Average Loss=2.57e-5, Epoch=11]\u001b[A\n",
            "Train:  57%|█████▋    | 5230/9200 [39:13<27:52,  2.37it/s, Average Loss=2.57e-5, Epoch=11]\u001b[A\n",
            "Train:  57%|█████▋    | 5230/9200 [39:13<27:52,  2.37it/s, Average Loss=0.000271, Epoch=11]\u001b[A\n",
            "Train:  57%|█████▋    | 5240/9200 [39:17<27:53,  2.37it/s, Average Loss=0.000271, Epoch=11]\u001b[A\n",
            "Train:  57%|█████▋    | 5240/9200 [39:17<27:53,  2.37it/s, Average Loss=1.97e-5, Epoch=11] \u001b[A\n",
            "Train:  57%|█████▋    | 5250/9200 [39:21<27:47,  2.37it/s, Average Loss=1.97e-5, Epoch=11]\u001b[A\n",
            "Train:  57%|█████▋    | 5250/9200 [39:21<27:47,  2.37it/s, Average Loss=0.00972, Epoch=11]\u001b[A\n",
            "Train:  57%|█████▋    | 5260/9200 [39:26<27:40,  2.37it/s, Average Loss=0.00972, Epoch=11]\u001b[A\n",
            "Train:  57%|█████▋    | 5260/9200 [39:26<27:40,  2.37it/s, Average Loss=0.0219, Epoch=11] \u001b[A\n",
            "Train:  57%|█████▋    | 5270/9200 [39:30<27:37,  2.37it/s, Average Loss=0.0219, Epoch=11]\u001b[A\n",
            "Train:  57%|█████▋    | 5270/9200 [39:30<27:37,  2.37it/s, Average Loss=0.000948, Epoch=11]\u001b[A\n",
            "Train:  57%|█████▋    | 5280/9200 [39:34<27:35,  2.37it/s, Average Loss=0.000948, Epoch=11]\u001b[A\n",
            "Train:  57%|█████▋    | 5280/9200 [39:34<27:35,  2.37it/s, Average Loss=3.02e-5, Epoch=11] \u001b[A\n",
            "Train:  57%|█████▊    | 5290/9200 [39:38<27:28,  2.37it/s, Average Loss=3.02e-5, Epoch=11]\u001b[A\n",
            "Train:  57%|█████▊    | 5290/9200 [39:38<27:28,  2.37it/s, Average Loss=0.00014, Epoch=11]\u001b[A\n",
            "Train:  58%|█████▊    | 5300/9200 [39:42<27:21,  2.38it/s, Average Loss=0.00014, Epoch=11]\u001b[A\n",
            "Train:  58%|█████▊    | 5300/9200 [39:42<27:21,  2.38it/s, Average Loss=2.14e-5, Epoch=11]\u001b[A\n",
            "Train:  58%|█████▊    | 5310/9200 [39:47<27:21,  2.37it/s, Average Loss=2.14e-5, Epoch=11]\u001b[A\n",
            "Train:  58%|█████▊    | 5310/9200 [39:47<27:21,  2.37it/s, Average Loss=0.000457, Epoch=11]\u001b[A\n",
            "Train:  58%|█████▊    | 5320/9200 [39:51<27:17,  2.37it/s, Average Loss=0.000457, Epoch=11]\u001b[A\n",
            "Train:  58%|█████▊    | 5320/9200 [39:51<27:17,  2.37it/s, Average Loss=0.000108, Epoch=11]\u001b[A\n",
            "Train:  58%|█████▊    | 5330/9200 [39:55<27:10,  2.37it/s, Average Loss=0.000108, Epoch=11]\u001b[A\n",
            "Train:  58%|█████▊    | 5330/9200 [39:55<27:10,  2.37it/s, Average Loss=0.00372, Epoch=11] \u001b[A\n",
            "Train:  58%|█████▊    | 5340/9200 [39:59<27:07,  2.37it/s, Average Loss=0.00372, Epoch=11]\u001b[A\n",
            "Train:  58%|█████▊    | 5340/9200 [39:59<27:07,  2.37it/s, Average Loss=0.0216, Epoch=11] \u001b[A\n",
            "Train:  58%|█████▊    | 5350/9200 [40:04<27:05,  2.37it/s, Average Loss=0.0216, Epoch=11]\u001b[A\n",
            "Train:  58%|█████▊    | 5350/9200 [40:04<27:05,  2.37it/s, Average Loss=0.000211, Epoch=11]\u001b[A\n",
            "Train:  58%|█████▊    | 5360/9200 [40:08<26:58,  2.37it/s, Average Loss=0.000211, Epoch=11]\u001b[A\n",
            "Train:  58%|█████▊    | 5360/9200 [40:08<26:58,  2.37it/s, Average Loss=0.00322, Epoch=11] \u001b[A\n",
            "Train:  58%|█████▊    | 5370/9200 [40:12<26:51,  2.38it/s, Average Loss=0.00322, Epoch=11]\u001b[A\n",
            "Train:  58%|█████▊    | 5370/9200 [40:12<26:51,  2.38it/s, Average Loss=0.025, Epoch=11]  \u001b[A\n",
            "Train:  58%|█████▊    | 5380/9200 [40:16<26:50,  2.37it/s, Average Loss=0.025, Epoch=11]\u001b[A\n",
            "Train:  58%|█████▊    | 5380/9200 [40:16<26:50,  2.37it/s, Average Loss=0.017, Epoch=11]\u001b[A\n",
            "Train:  59%|█████▊    | 5390/9200 [40:20<26:47,  2.37it/s, Average Loss=0.017, Epoch=11]\u001b[A\n",
            "Train:  59%|█████▊    | 5390/9200 [40:20<26:47,  2.37it/s, Average Loss=7.73e-5, Epoch=11]\u001b[A\n",
            "Train:  59%|█████▊    | 5400/9200 [40:25<26:39,  2.38it/s, Average Loss=7.73e-5, Epoch=11]\u001b[A\n",
            "Train:  59%|█████▊    | 5400/9200 [40:25<26:39,  2.38it/s, Average Loss=0.000534, Epoch=11]\u001b[A\n",
            "Train:  59%|█████▉    | 5410/9200 [40:29<26:36,  2.37it/s, Average Loss=0.000534, Epoch=11]\u001b[A\n",
            "Train:  59%|█████▉    | 5410/9200 [40:29<26:36,  2.37it/s, Average Loss=0.000581, Epoch=11]\u001b[A\n",
            "Train:  59%|█████▉    | 5420/9200 [40:33<26:34,  2.37it/s, Average Loss=0.000581, Epoch=11]\u001b[A\n",
            "Train:  59%|█████▉    | 5420/9200 [40:33<26:34,  2.37it/s, Average Loss=3.41e-5, Epoch=11] \u001b[A\n",
            "Train:  59%|█████▉    | 5430/9200 [40:37<26:28,  2.37it/s, Average Loss=3.41e-5, Epoch=11]\u001b[A\n",
            "Train:  59%|█████▉    | 5430/9200 [40:37<26:28,  2.37it/s, Average Loss=0.000153, Epoch=11]\u001b[A\n",
            "Train:  59%|█████▉    | 5440/9200 [40:41<26:21,  2.38it/s, Average Loss=0.000153, Epoch=11]\u001b[A\n",
            "Train:  59%|█████▉    | 5440/9200 [40:41<26:21,  2.38it/s, Average Loss=6.47e-5, Epoch=11] \u001b[A\n",
            "Train:  59%|█████▉    | 5450/9200 [40:46<26:20,  2.37it/s, Average Loss=6.47e-5, Epoch=11]\u001b[A\n",
            "Train:  59%|█████▉    | 5450/9200 [40:46<26:20,  2.37it/s, Average Loss=0.00564, Epoch=11]\u001b[A\n",
            "Train:  59%|█████▉    | 5460/9200 [40:50<26:16,  2.37it/s, Average Loss=0.00564, Epoch=11]\u001b[A\n",
            "Train:  59%|█████▉    | 5460/9200 [40:50<26:16,  2.37it/s, Average Loss=0.0027, Epoch=11] \u001b[A\n",
            "Train:  59%|█████▉    | 5470/9200 [40:54<26:09,  2.38it/s, Average Loss=0.0027, Epoch=11]\u001b[A\n",
            "Train:  59%|█████▉    | 5470/9200 [40:54<26:09,  2.38it/s, Average Loss=0.0338, Epoch=11]\u001b[A\n",
            "Train:  60%|█████▉    | 5480/9200 [40:58<26:05,  2.38it/s, Average Loss=0.0338, Epoch=11]\u001b[A\n",
            "Train:  60%|█████▉    | 5480/9200 [40:58<26:05,  2.38it/s, Average Loss=0.0242, Epoch=11]\u001b[A\n",
            "Train:  60%|█████▉    | 5490/9200 [41:03<26:06,  2.37it/s, Average Loss=0.0242, Epoch=11]\u001b[A\n",
            "Train:  60%|█████▉    | 5490/9200 [41:03<26:06,  2.37it/s, Average Loss=0.0462, Epoch=11]\u001b[A\n",
            "Train:  60%|█████▉    | 5500/9200 [41:07<25:57,  2.38it/s, Average Loss=0.0462, Epoch=11]\u001b[A\n",
            "Train:  60%|█████▉    | 5500/9200 [41:07<25:57,  2.38it/s, Average Loss=0.0068, Epoch=11]\u001b[A\n",
            "Train:  60%|█████▉    | 5510/9200 [41:11<25:51,  2.38it/s, Average Loss=0.0068, Epoch=11]\u001b[A\n",
            "Train:  60%|█████▉    | 5510/9200 [41:11<25:51,  2.38it/s, Average Loss=0.000417, Epoch=11]\u001b[A\n",
            "Train:  60%|██████    | 5520/9200 [41:15<25:40,  2.39it/s, Average Loss=0.000417, Epoch=11]\u001b[A\n",
            "Train:  60%|██████    | 5520/9200 [41:15<25:40,  2.39it/s, Average Loss=0.00298, Epoch=11] \u001b[A"
          ]
        },
        {
          "output_type": "stream",
          "name": "stdout",
          "text": [
            "Validation: [Epoch: 11, Macro F1: 0.653722134969624, Validation Loss: 0.4572947931321619, Time per Epoch: 203.09367775917053]\n",
            "Training stopped early at Epoch: 11\n"
          ]
        }
      ]
    },
    {
      "cell_type": "code",
      "source": [
        "model.load_state_dict(torch.load(f\"best_model.ckpt\"))\n",
        "model.cuda()\n",
        "print(\"Done\")"
      ],
      "metadata": {
        "id": "hzB2Rn4-GXSS",
        "outputId": "3887dc34-9ac0-432a-f5de-c03d1c48da2e",
        "execution": {
          "iopub.status.busy": "2023-06-12T05:19:39.535586Z",
          "iopub.status.idle": "2023-06-12T05:19:39.536182Z",
          "shell.execute_reply.started": "2023-06-12T05:19:39.535932Z",
          "shell.execute_reply": "2023-06-12T05:19:39.535959Z"
        },
        "trusted": true,
        "colab": {
          "base_uri": "https://localhost:8080/"
        }
      },
      "execution_count": 86,
      "outputs": [
        {
          "output_type": "stream",
          "name": "stdout",
          "text": [
            "Done\n"
          ]
        }
      ]
    },
    {
      "cell_type": "code",
      "source": [
        "evaluate(model, validation_loader)"
      ],
      "metadata": {
        "id": "9U5FrKYZGZnZ",
        "outputId": "9bb9f877-8bca-41c5-d9bf-19a3c90c74cc",
        "execution": {
          "iopub.status.busy": "2023-06-12T05:19:39.538171Z",
          "iopub.status.idle": "2023-06-12T05:19:39.538634Z",
          "shell.execute_reply.started": "2023-06-12T05:19:39.538401Z",
          "shell.execute_reply": "2023-06-12T05:19:39.538423Z"
        },
        "trusted": true,
        "colab": {
          "base_uri": "https://localhost:8080/"
        }
      },
      "execution_count": 87,
      "outputs": [
        {
          "output_type": "execute_result",
          "data": {
            "text/plain": [
              "{'accuracy': 0.9297337278106509,\n",
              " 'precision': 0.928907935764243,\n",
              " 'recall': 0.9297337278106509,\n",
              " 'f1': 0.9292593516550545,\n",
              " 'macro_precision': 0.7125410920245927,\n",
              " 'macro_recall': 0.7099205851245003,\n",
              " 'macro_f1': 0.7108489893506181}"
            ]
          },
          "metadata": {},
          "execution_count": 87
        }
      ]
    },
    {
      "cell_type": "code",
      "source": [
        "plt.plot(range(len(epoch_traces)), acc_traces)\n",
        "plt.xlabel('Epoch')\n",
        "plt.ylabel('Macro F1-Score')\n",
        "plt.title('Epoch vs Validation Macro F1-Score')\n",
        "plt.xticks(range(len(epoch_traces)), epoch_traces)\n",
        "plt.show()"
      ],
      "metadata": {
        "id": "zE3UzWNHGcnM",
        "outputId": "caf70d57-8d4d-47ae-8834-e0291ee60dfa",
        "execution": {
          "iopub.status.busy": "2023-06-12T05:19:39.540226Z",
          "iopub.status.idle": "2023-06-12T05:19:39.540707Z",
          "shell.execute_reply.started": "2023-06-12T05:19:39.540473Z",
          "shell.execute_reply": "2023-06-12T05:19:39.540497Z"
        },
        "trusted": true,
        "colab": {
          "base_uri": "https://localhost:8080/",
          "height": 472
        }
      },
      "execution_count": 88,
      "outputs": [
        {
          "output_type": "display_data",
          "data": {
            "text/plain": [
              "<Figure size 640x480 with 1 Axes>"
            ],
            "image/png": "[encoded data removed]"
          },
          "metadata": {}
        }
      ]
    },
    {
      "cell_type": "code",
      "source": [
        "plt.plot(range(len(epoch_traces)), validation_loss_traces)\n",
        "plt.xlabel('Epoch')\n",
        "plt.ylabel('Loss')\n",
        "plt.title('Epoch vs Validation Loss')\n",
        "plt.xticks(range(len(epoch_traces)), epoch_traces)\n",
        "plt.show()"
      ],
      "metadata": {
        "id": "y1y6enP6GewI",
        "outputId": "515deb59-8652-44ca-b052-3b8d3a449e74",
        "execution": {
          "iopub.status.busy": "2023-06-12T05:19:39.541937Z",
          "iopub.status.idle": "2023-06-12T05:19:39.542938Z",
          "shell.execute_reply.started": "2023-06-12T05:19:39.542673Z",
          "shell.execute_reply": "2023-06-12T05:19:39.542700Z"
        },
        "trusted": true,
        "colab": {
          "base_uri": "https://localhost:8080/",
          "height": 472
        }
      },
      "execution_count": 89,
      "outputs": [
        {
          "output_type": "display_data",
          "data": {
            "text/plain": [
              "<Figure size 640x480 with 1 Axes>"
            ],
            "image/png": "[encoded data removed]"
          },
          "metadata": {}
        }
      ]
    },
    {
      "cell_type": "code",
      "source": [
        "evaluate(model, test_loader)"
      ],
      "metadata": {
        "id": "q9Aw8Z2vGgyh",
        "outputId": "5be97333-35ac-4302-f910-b4f9f6c6dd27",
        "execution": {
          "iopub.status.busy": "2023-06-12T05:19:39.546187Z",
          "iopub.status.idle": "2023-06-12T05:19:39.546646Z",
          "shell.execute_reply.started": "2023-06-12T05:19:39.546414Z",
          "shell.execute_reply": "2023-06-12T05:19:39.546435Z"
        },
        "trusted": true,
        "colab": {
          "base_uri": "https://localhost:8080/"
        }
      },
      "execution_count": 90,
      "outputs": [
        {
          "output_type": "execute_result",
          "data": {
            "text/plain": [
              "{'accuracy': 0.9297337278106509,\n",
              " 'precision': 0.9233808139798733,\n",
              " 'recall': 0.9297337278106509,\n",
              " 'f1': 0.9258521187617258,\n",
              " 'macro_precision': 0.6960233614909873,\n",
              " 'macro_recall': 0.6257318537905813,\n",
              " 'macro_f1': 0.6564493437375565}"
            ]
          },
          "metadata": {},
          "execution_count": 90
        }
      ]
    },
    {
      "cell_type": "code",
      "source": [
        "evaluate(model, test_loader_latin)"
      ],
      "metadata": {
        "id": "dNMicbCTGi7_",
        "outputId": "9d6917ae-a9f8-43fb-b4bf-2f529194ca3b",
        "execution": {
          "iopub.status.busy": "2023-06-12T05:19:39.548230Z",
          "iopub.status.idle": "2023-06-12T05:19:39.548692Z",
          "shell.execute_reply.started": "2023-06-12T05:19:39.548458Z",
          "shell.execute_reply": "2023-06-12T05:19:39.548479Z"
        },
        "trusted": true,
        "colab": {
          "base_uri": "https://localhost:8080/"
        }
      },
      "execution_count": 91,
      "outputs": [
        {
          "output_type": "execute_result",
          "data": {
            "text/plain": [
              "{'accuracy': 0.9366420274551215,\n",
              " 'precision': 0.9351758032132486,\n",
              " 'recall': 0.9366420274551215,\n",
              " 'f1': 0.9349979657106733,\n",
              " 'macro_precision': 0.6450478568456096,\n",
              " 'macro_recall': 0.6234194097616345,\n",
              " 'macro_f1': 0.6270256310701203}"
            ]
          },
          "metadata": {},
          "execution_count": 91
        }
      ]
    },
    {
      "cell_type": "code",
      "source": [
        "evaluate(model, test_loader_Sinhala)"
      ],
      "metadata": {
        "id": "C0_4LABCGk91",
        "outputId": "32541b84-71bf-47bf-e292-515d6484e77a",
        "execution": {
          "iopub.status.busy": "2023-06-12T05:19:39.550060Z",
          "iopub.status.idle": "2023-06-12T05:19:39.550917Z",
          "shell.execute_reply.started": "2023-06-12T05:19:39.550657Z",
          "shell.execute_reply": "2023-06-12T05:19:39.550679Z"
        },
        "trusted": true,
        "colab": {
          "base_uri": "https://localhost:8080/"
        }
      },
      "execution_count": 92,
      "outputs": [
        {
          "output_type": "execute_result",
          "data": {
            "text/plain": [
              "{'accuracy': 0.8844221105527639,\n",
              " 'precision': 0.8469553650605971,\n",
              " 'recall': 0.8844221105527639,\n",
              " 'f1': 0.8650950730756661,\n",
              " 'macro_precision': 0.5539215686274509,\n",
              " 'macro_recall': 0.5622902834297138,\n",
              " 'macro_f1': 0.5577993321672762}"
            ]
          },
          "metadata": {},
          "execution_count": 92
        }
      ]
    },
    {
      "cell_type": "code",
      "source": [
        "evaluate(model, test_loader_Mixed)"
      ],
      "metadata": {
        "id": "5xfCBwDKGm9M",
        "outputId": "92f070e6-8457-492f-b603-9ae71f54a73a",
        "execution": {
          "iopub.status.busy": "2023-06-12T05:19:39.552385Z",
          "iopub.status.idle": "2023-06-12T05:19:39.552852Z",
          "shell.execute_reply.started": "2023-06-12T05:19:39.552603Z",
          "shell.execute_reply": "2023-06-12T05:19:39.552624Z"
        },
        "trusted": true,
        "colab": {
          "base_uri": "https://localhost:8080/"
        }
      },
      "execution_count": 93,
      "outputs": [
        {
          "output_type": "execute_result",
          "data": {
            "text/plain": [
              "{'accuracy': 0.941747572815534,\n",
              " 'precision': 0.9404361307375592,\n",
              " 'recall': 0.941747572815534,\n",
              " 'f1': 0.9364354221829948,\n",
              " 'macro_precision': 0.8842931937172774,\n",
              " 'macro_recall': 0.6908212560386473,\n",
              " 'macro_f1': 0.75789898989899}"
            ]
          },
          "metadata": {},
          "execution_count": 93
        }
      ]
    },
    {
      "cell_type": "code",
      "source": [],
      "metadata": {
        "id": "FZjKnNRK_dDo"
      },
      "execution_count": 93,
      "outputs": []
    }
  ]
}